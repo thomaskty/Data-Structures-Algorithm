{
 "cells": [
  {
   "cell_type": "code",
   "execution_count": 7,
   "id": "b887a5e9-7154-4951-9b00-40b3ffa1d759",
   "metadata": {},
   "outputs": [],
   "source": [
    "def palindrom(string):\n",
    "    # two pointers \n",
    "    i,j = 0,len(string)-1\n",
    "    while i<j:\n",
    "        if string[i] != string[j]:\n",
    "            return 'not a palindrome'\n",
    "            break\n",
    "        else:\n",
    "            i+=1\n",
    "            j-=1\n",
    "    return 'palindrome'"
   ]
  },
  {
   "cell_type": "code",
   "execution_count": 14,
   "id": "b0ed9a41-b279-42f4-a95b-8848bcf4734f",
   "metadata": {},
   "outputs": [
    {
     "name": "stdout",
     "output_type": "stream",
     "text": [
      "A man, a plan, a canal, Panama ------------ not a palindrome\n",
      "Was it a car or a cat I saw? ------------ not a palindrome\n",
      "No 'x' in Nixon ------------ not a palindrome\n",
      "Able was I, ere I saw Elba ------------ not a palindrome\n",
      "Eva, can I see bees in a cave? ------------ not a palindrome\n",
      "Mr. Owl ate my metal worm ------------ not a palindrome\n",
      "Madam, in Eden, I'm Adam ------------ not a palindrome\n",
      "A Toyota's a Toyota ------------ not a palindrome\n",
      "Rats live on no evil star ------------ palindrome\n",
      "Never a foot too far, even ------------ not a palindrome\n"
     ]
    }
   ],
   "source": [
    "palindromes = [\n",
    "    \"A man, a plan, a canal, Panama\",\n",
    "    \"Was it a car or a cat I saw?\",\n",
    "    \"No 'x' in Nixon\",\n",
    "    \"Able was I, ere I saw Elba\",\n",
    "    \"Eva, can I see bees in a cave?\",\n",
    "    \"Mr. Owl ate my metal worm\",\n",
    "    \"Madam, in Eden, I'm Adam\",\n",
    "    \"A Toyota's a Toyota\",\n",
    "    \"Rats live on no evil star\",\n",
    "    \"Never a foot too far, even\"\n",
    "]\n",
    "for word in palindromes:\n",
    "    print(word, '------------', palindrom(word.lower()))"
   ]
  },
  {
   "cell_type": "code",
   "execution_count": null,
   "id": "3549d619-9147-401c-87ed-9455e07ce999",
   "metadata": {},
   "outputs": [],
   "source": []
  },
  {
   "cell_type": "code",
   "execution_count": null,
   "id": "187cedde-b028-49e9-9dc0-f71de7c43994",
   "metadata": {},
   "outputs": [],
   "source": []
  },
  {
   "cell_type": "code",
   "execution_count": null,
   "id": "15abe26d-3c39-43d0-b3c5-0fbdf727dbf1",
   "metadata": {},
   "outputs": [],
   "source": []
  }
 ],
 "metadata": {
  "kernelspec": {
   "display_name": "Python 3 (ipykernel)",
   "language": "python",
   "name": "python3"
  },
  "language_info": {
   "codemirror_mode": {
    "name": "ipython",
    "version": 3
   },
   "file_extension": ".py",
   "mimetype": "text/x-python",
   "name": "python",
   "nbconvert_exporter": "python",
   "pygments_lexer": "ipython3",
   "version": "3.12.7"
  }
 },
 "nbformat": 4,
 "nbformat_minor": 5
}
