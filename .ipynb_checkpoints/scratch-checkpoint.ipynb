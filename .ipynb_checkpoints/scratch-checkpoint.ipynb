{
 "cells": [
  {
   "cell_type": "markdown",
   "id": "ee5cc252",
   "metadata": {},
   "source": [
    "## binary search "
   ]
  },
  {
   "cell_type": "code",
   "execution_count": 51,
   "id": "4ecd5145",
   "metadata": {},
   "outputs": [],
   "source": [
    "def binary_search(array,element,start,end):\n",
    "    if start<end:\n",
    "        middle_index = (start+end)//2\n",
    "        if element == array[middle_index]:\n",
    "            return middle_index \n",
    "        elif element > array[middle_index]:\n",
    "            return search(array,element,start=middle_index+1,end = end)\n",
    "        elif element <array[middle_index]:\n",
    "            return search(array,element,start=start,end=middle_index)\n",
    "    else:\n",
    "        return -1"
   ]
  },
  {
   "cell_type": "code",
   "execution_count": 52,
   "id": "416ac4fd",
   "metadata": {},
   "outputs": [
    {
     "data": {
      "text/plain": [
       "-1"
      ]
     },
     "execution_count": 52,
     "metadata": {},
     "output_type": "execute_result"
    }
   ],
   "source": [
    "test_array =[3,5,24,26,26,27,31,32,23,47,48,49,387,453]\n",
    "search(test_array,47,start = -1,end = 4-len(test_array))"
   ]
  },
  {
   "cell_type": "code",
   "execution_count": 53,
   "id": "99012280",
   "metadata": {},
   "outputs": [],
   "source": [
    "# first and last occurence of a sorted array \n",
    "def find_first_occurence(ar,value,first =True):\n",
    "    start,end = 0,len(ar)-1\n",
    "    result = -1 \n",
    "    while start<=end:\n",
    "        mid = int((start+end)/2)\n",
    "        if value == ar[mid]:\n",
    "            if first == True:\n",
    "                end = mid -1\n",
    "            else:\n",
    "                start = mid+1 \n",
    "            result = mid \n",
    "        elif value <ar[mid]:\n",
    "            end = mid -1 \n",
    "        elif value >ar[mid]:\n",
    "            start = mid+1 \n",
    "    return result"
   ]
  },
  {
   "cell_type": "code",
   "execution_count": 56,
   "id": "655111e5",
   "metadata": {},
   "outputs": [
    {
     "data": {
      "text/plain": [
       "4"
      ]
     },
     "execution_count": 56,
     "metadata": {},
     "output_type": "execute_result"
    }
   ],
   "source": [
    "find_first_occurence(test_array,26,first =False)"
   ]
  },
  {
   "cell_type": "code",
   "execution_count": 59,
   "id": "1d7a2c7f",
   "metadata": {},
   "outputs": [
    {
     "data": {
      "text/plain": [
       "3"
      ]
     },
     "execution_count": 59,
     "metadata": {},
     "output_type": "execute_result"
    }
   ],
   "source": [
    "find_first_occurence(test_array,26,first =True)"
   ]
  },
  {
   "cell_type": "code",
   "execution_count": 60,
   "id": "469773a3",
   "metadata": {},
   "outputs": [
    {
     "data": {
      "text/plain": [
       "-1"
      ]
     },
     "execution_count": 60,
     "metadata": {},
     "output_type": "execute_result"
    }
   ],
   "source": [
    "find_first_occurence(test_array,14,first =True)"
   ]
  },
  {
   "cell_type": "code",
   "execution_count": null,
   "id": "f1450d6c",
   "metadata": {},
   "outputs": [],
   "source": []
  },
  {
   "cell_type": "markdown",
   "id": "3bced118",
   "metadata": {},
   "source": [
    "## Rotating and reversing arrays"
   ]
  },
  {
   "cell_type": "code",
   "execution_count": 71,
   "id": "f2df16fc",
   "metadata": {},
   "outputs": [],
   "source": [
    "def reverse(ar):\n",
    "    l,r = 0,len(ar)-1\n",
    "    while l<r:\n",
    "        ar[r],ar[l] = ar[l],ar[r]\n",
    "        l+=1\n",
    "        r-=1\n",
    "    return ar\n",
    "    \n",
    "def rotate_array(ar,k):\n",
    "    si = len(ar)-k \n",
    "    right,left = ar[:si],ar[si:]\n",
    "    return left+right"
   ]
  },
  {
   "cell_type": "code",
   "execution_count": 74,
   "id": "4def46bc",
   "metadata": {},
   "outputs": [
    {
     "data": {
      "text/plain": [
       "[0, 0, 1, 2, 0, 1, 8, 13, 39, 12]"
      ]
     },
     "execution_count": 74,
     "metadata": {},
     "output_type": "execute_result"
    }
   ],
   "source": [
    "a = [12,39,13,8,1,0,2,1,0,0]\n",
    "reverse(a)"
   ]
  },
  {
   "cell_type": "code",
   "execution_count": 76,
   "id": "dbdf9854",
   "metadata": {},
   "outputs": [
    {
     "data": {
      "text/plain": [
       "[39, 12, 0, 0, 1, 2, 0, 1, 8, 13]"
      ]
     },
     "execution_count": 76,
     "metadata": {},
     "output_type": "execute_result"
    }
   ],
   "source": [
    "rotate_array(a,k = 2)"
   ]
  },
  {
   "cell_type": "code",
   "execution_count": 78,
   "id": "57fb3f3a",
   "metadata": {},
   "outputs": [],
   "source": [
    "def rotate_array_part2(ar,k):\n",
    "    # reversing the array first \n",
    "    ar = reverse(ar)\n",
    "    left,right = reverse(ar[:k]),reverse(ar[k:])\n",
    "    return left+right \n",
    "    "
   ]
  },
  {
   "cell_type": "code",
   "execution_count": 81,
   "id": "bca1141c",
   "metadata": {},
   "outputs": [
    {
     "data": {
      "text/plain": [
       "[39, 12, 0, 0, 1, 2, 0, 1, 8, 13]"
      ]
     },
     "execution_count": 81,
     "metadata": {},
     "output_type": "execute_result"
    }
   ],
   "source": [
    "ar = [0, 0, 1, 2, 0, 1, 8, 13, 39, 12]\n",
    "rotate_array_part2(ar,k=2)"
   ]
  },
  {
   "cell_type": "code",
   "execution_count": null,
   "id": "f2e96201",
   "metadata": {},
   "outputs": [],
   "source": [
    "def reverse_inplace(ar,l,r):\n",
    "    while l<r:\n",
    "        ar[r],ar[l] = ar[l],ar[r]\n",
    "        l+=1\n",
    "        r-=1"
   ]
  },
  {
   "cell_type": "code",
   "execution_count": 118,
   "id": "ea5c830e",
   "metadata": {},
   "outputs": [],
   "source": [
    " def rotate_array_inplace(ar,k):\n",
    "    reverse_inplace(ar,l=0,r = len(ar)-1)\n",
    "    reverse_inplace(ar,l=0,r = k-1)\n",
    "    reverse_inplace(ar,l=k,r = len(ar)-1)\n",
    "     "
   ]
  },
  {
   "cell_type": "code",
   "execution_count": 121,
   "id": "76b499ff",
   "metadata": {},
   "outputs": [
    {
     "data": {
      "text/plain": [
       "[7, 6, 2, 5, 4]"
      ]
     },
     "execution_count": 121,
     "metadata": {},
     "output_type": "execute_result"
    }
   ],
   "source": [
    "array = [4,5,2,6,7]\n",
    "reverse_inplace(array,0,len(array)-1)\n",
    "array"
   ]
  },
  {
   "cell_type": "code",
   "execution_count": 122,
   "id": "db974b6c",
   "metadata": {},
   "outputs": [
    {
     "data": {
      "text/plain": [
       "[54, 45, 32, 49, 86]"
      ]
     },
     "execution_count": 122,
     "metadata": {},
     "output_type": "execute_result"
    }
   ],
   "source": [
    "array = [45,32,49,86,54]\n",
    "rotate_array_inplace(array,k=1)\n",
    "array"
   ]
  },
  {
   "cell_type": "code",
   "execution_count": null,
   "id": "cfb0f160",
   "metadata": {},
   "outputs": [],
   "source": []
  },
  {
   "cell_type": "markdown",
   "id": "52392092",
   "metadata": {},
   "source": [
    "## Minimum and Maximum "
   ]
  },
  {
   "cell_type": "code",
   "execution_count": 11,
   "id": "1b751d04",
   "metadata": {},
   "outputs": [],
   "source": [
    "def minimum(ar):\n",
    "    min_value = ar[0]\n",
    "    max_value = ar[0]\n",
    "    for i in range(0,len(ar)):\n",
    "        if min_value>=ar[i]:\n",
    "            min_value = ar[i]\n",
    "        if max_value<=ar[i]:\n",
    "            max_value = ar[i]\n",
    "    return {'minimum':min_value,'maximum':max_value}"
   ]
  },
  {
   "cell_type": "code",
   "execution_count": 12,
   "id": "d4a6c360",
   "metadata": {},
   "outputs": [
    {
     "data": {
      "text/plain": [
       "{'minimum': 27, 'maximum': 913}"
      ]
     },
     "execution_count": 12,
     "metadata": {},
     "output_type": "execute_result"
    }
   ],
   "source": [
    "minimum([913,482,478,27,81,39])"
   ]
  },
  {
   "cell_type": "markdown",
   "id": "4f34fa0a",
   "metadata": {},
   "source": [
    "## Counter"
   ]
  },
  {
   "cell_type": "code",
   "execution_count": 14,
   "id": "891229e2",
   "metadata": {},
   "outputs": [],
   "source": [
    "def counter_list(ar):\n",
    "    output_dict = {}\n",
    "    for i in ar:\n",
    "        if i not in output_dict.keys():\n",
    "            output_dict[i]= 0\n",
    "        output_dict[i]+=1\n",
    "    return output_dict"
   ]
  },
  {
   "cell_type": "code",
   "execution_count": 16,
   "id": "4fb94ec2",
   "metadata": {},
   "outputs": [
    {
     "data": {
      "text/plain": [
       "{1: 2, 3: 2, 2: 2, 8: 4, 0: 1}"
      ]
     },
     "execution_count": 16,
     "metadata": {},
     "output_type": "execute_result"
    }
   ],
   "source": [
    "counter_list([1,3,3,2,8,8,8,8,2,1,0])"
   ]
  },
  {
   "cell_type": "markdown",
   "id": "161f880e",
   "metadata": {},
   "source": [
    "## Factorial "
   ]
  },
  {
   "cell_type": "code",
   "execution_count": 17,
   "id": "4bc28e31",
   "metadata": {},
   "outputs": [],
   "source": [
    "def factorial(n):\n",
    "    if n<=1:\n",
    "        return 1\n",
    "    else:\n",
    "        return factorial(n-1)*n"
   ]
  },
  {
   "cell_type": "code",
   "execution_count": 21,
   "id": "8abb628d",
   "metadata": {},
   "outputs": [
    {
     "name": "stdout",
     "output_type": "stream",
     "text": [
      "1  1  2  6  24  120  720  5040  40320  362880  "
     ]
    }
   ],
   "source": [
    "for i in range(10):\n",
    "    print(factorial(i),end='  ')"
   ]
  },
  {
   "cell_type": "markdown",
   "id": "e43c2bd2",
   "metadata": {},
   "source": [
    "## Fibanocci recursion and while"
   ]
  },
  {
   "cell_type": "code",
   "execution_count": 22,
   "id": "445c60ae",
   "metadata": {},
   "outputs": [],
   "source": [
    "# recursive implementation of fibanocci series \n",
    "def fibanocci_recursion(n):\n",
    "    if n==0:\n",
    "        return 0 \n",
    "    elif n==1:\n",
    "        return 1 \n",
    "    else:\n",
    "        return fibanocci_recursion(n-1)+fibanocci_recursion(n-2)"
   ]
  },
  {
   "cell_type": "code",
   "execution_count": 25,
   "id": "1820f1e4",
   "metadata": {},
   "outputs": [
    {
     "name": "stdout",
     "output_type": "stream",
     "text": [
      "0  1  1  2  3  5  8  13  21  34  "
     ]
    }
   ],
   "source": [
    "# testing the series \n",
    "for j in range(10):\n",
    "    print(fibanocci_recursion(j),end = '  ')"
   ]
  },
  {
   "cell_type": "code",
   "execution_count": 26,
   "id": "ee119304",
   "metadata": {},
   "outputs": [],
   "source": [
    "def fibanocci_while(n):\n",
    "    if n==0:\n",
    "        return 0 \n",
    "    elif n==1:\n",
    "        return 1 \n",
    "    else:\n",
    "        a,b = 0,1\n",
    "        i = 0\n",
    "        while i< n-1:\n",
    "            next_value = a+b \n",
    "            a,b = b,next_value\n",
    "            i+=1 \n",
    "        return b"
   ]
  },
  {
   "cell_type": "code",
   "execution_count": 27,
   "id": "1aadf791",
   "metadata": {},
   "outputs": [
    {
     "name": "stdout",
     "output_type": "stream",
     "text": [
      "0  1  1  2  3  5  8  13  21  34  "
     ]
    }
   ],
   "source": [
    "for j in range(10):\n",
    "    print(fibanocci_while(j),end = '  ')"
   ]
  },
  {
   "cell_type": "markdown",
   "id": "359d836e",
   "metadata": {},
   "source": [
    "## Prime Numbers"
   ]
  },
  {
   "cell_type": "code",
   "execution_count": 36,
   "id": "7e5db7f2",
   "metadata": {},
   "outputs": [],
   "source": [
    "def prime(value):\n",
    "    prime = True\n",
    "    check_list = list(range(2,value//2+1))\n",
    "    print(check_list)\n",
    "    for i in check_list:\n",
    "        if value%i==0:\n",
    "            prime = False\n",
    "            break\n",
    "    return prime"
   ]
  },
  {
   "cell_type": "code",
   "execution_count": 37,
   "id": "cac90f35",
   "metadata": {},
   "outputs": [],
   "source": [
    "def isprime(n):\n",
    "    prime = True\n",
    "    if n>1:\n",
    "        half_numbers = range(2,int(n/2)+1)\n",
    "        for i in half_numbers:\n",
    "            if n%i ==0:\n",
    "                prime = False\n",
    "                break\n",
    "        return prime\n",
    "    else:\n",
    "        return False"
   ]
  },
  {
   "cell_type": "code",
   "execution_count": 38,
   "id": "4c0f6c2d",
   "metadata": {},
   "outputs": [
    {
     "name": "stdout",
     "output_type": "stream",
     "text": [
      "first 100 prime numbers ... \n",
      "2,3,5,7,11,13,17,19,23,29,31,37,41,43,47,\n",
      "\n"
     ]
    }
   ],
   "source": [
    "print('first 100 prime numbers ... ')\n",
    "for i in range(1,50):\n",
    "    if isprime(i):\n",
    "        print(i,end=',')\n",
    "print('\\n') "
   ]
  },
  {
   "cell_type": "code",
   "execution_count": 39,
   "id": "d5d4cf01",
   "metadata": {},
   "outputs": [],
   "source": [
    "def is_prime(n, i):\n",
    "    if n <= 1:\n",
    "        return False\n",
    "    if i == 1:\n",
    "        return True\n",
    "    if n % i == 0:\n",
    "        return False\n",
    "    return is_prime(n, i - 1)"
   ]
  },
  {
   "cell_type": "code",
   "execution_count": 40,
   "id": "f42ace07",
   "metadata": {},
   "outputs": [
    {
     "name": "stdout",
     "output_type": "stream",
     "text": [
      "2,3,5,7,11,13,17,19,23,29,31,37,41,43,47,"
     ]
    }
   ],
   "source": [
    "for i in range(0,50):\n",
    "    if is_prime(i,i-1):\n",
    "        print(i,end=',')"
   ]
  },
  {
   "cell_type": "markdown",
   "id": "40471d3e",
   "metadata": {},
   "source": [
    "## Reversing and rotation "
   ]
  },
  {
   "cell_type": "code",
   "execution_count": 41,
   "id": "824eabb9",
   "metadata": {},
   "outputs": [],
   "source": [
    "# reversing an array using pointers \n",
    "def reverse(ar):\n",
    "    i = 0 \n",
    "    j = len(ar)-1\n",
    "    while i<=len(ar)//2:\n",
    "        ar[i],ar[j] = ar[j],ar[i]\n",
    "        i+=1\n",
    "        j+=1\n",
    "    return ar"
   ]
  },
  {
   "cell_type": "code",
   "execution_count": 42,
   "id": "8b05f3cf",
   "metadata": {},
   "outputs": [],
   "source": [
    "# reversing an array based on recursion \n",
    "def reverse_recur(ar):\n",
    "    if len(ar)<=1:\n",
    "        return ar \n",
    "    else:\n",
    "        return reverse_recur(ar[1:])+reverse_recur(ar[:1])"
   ]
  },
  {
   "cell_type": "code",
   "execution_count": 1,
   "id": "5bed3323",
   "metadata": {},
   "outputs": [],
   "source": [
    "# rotating an array forward by one step \n",
    "def rotate_forward(ar):\n",
    "    for i in range(len(ar)-1):\n",
    "        ar[0],ar[i+1] = ar[i+1],ar[0]\n",
    "        print(ar)\n",
    "    return ar"
   ]
  },
  {
   "cell_type": "code",
   "execution_count": 44,
   "id": "374e10ba",
   "metadata": {},
   "outputs": [],
   "source": [
    "# rotating an array backward by one step \n",
    "def rotate_backwards(ar):\n",
    "    j = len(ar)-1\n",
    "    i = len(ar)-2\n",
    "    while i>=0:\n",
    "        ar[i],ar[j] = ar[j],ar[i]\n",
    "        i -=1\n",
    "    return ar"
   ]
  },
  {
   "cell_type": "code",
   "execution_count": null,
   "id": "5781103a",
   "metadata": {},
   "outputs": [],
   "source": []
  },
  {
   "cell_type": "code",
   "execution_count": null,
   "id": "acdb7bcc",
   "metadata": {},
   "outputs": [],
   "source": []
  }
 ],
 "metadata": {
  "kernelspec": {
   "display_name": "Python 3 (ipykernel)",
   "language": "python",
   "name": "python3"
  },
  "language_info": {
   "codemirror_mode": {
    "name": "ipython",
    "version": 3
   },
   "file_extension": ".py",
   "mimetype": "text/x-python",
   "name": "python",
   "nbconvert_exporter": "python",
   "pygments_lexer": "ipython3",
   "version": "3.12.7"
  }
 },
 "nbformat": 4,
 "nbformat_minor": 5
}
