{
 "cells": [
  {
   "cell_type": "markdown",
   "id": "282c93f6-8492-42c8-97af-42a15b22e3b2",
   "metadata": {},
   "source": [
    "## Two Sum : Question 1 \n",
    "Write a Python function to find two numbers in an unsorted array that add up to a given target. Implement two different approaches:\n",
    " * Brute-force approach: Check all possible pairs (O(n²) complexity).\n",
    " * Hashmap-based approach: Use a dictionary to achieve an O(n) time complexity solution.\n",
    "```python\n",
    "ar = [4, 7, 1, -3, 2]\n",
    "target = 5\n",
    "print(two_sum_brute_force(ar, target))  # Output: [1, 4] (since 4 + 1 = 5)\n",
    "print(two_sum_hashmap(ar, target))      # Output: [1, 4]\n",
    "```\n",
    "Constraints:\n",
    "* The input list is unsorted and may contain positive and negative numbers.\n",
    "* There is exactly one solution, meaning only one unique pair exists.\n",
    "* The function should return 1-based indices (not zero-based).\n",
    "* Brute-force approach should check all possible pairs (O(n²) complexity).\n",
    "* Hashmap-based approach should use a dictionary to find the solution efficiently (O(n) complexity)."
   ]
  },
  {
   "cell_type": "code",
   "execution_count": 43,
   "id": "e88e4cdc-c75d-4965-a87a-d81e6ca65a79",
   "metadata": {},
   "outputs": [],
   "source": [
    "def two_sum(numbers, target): # o(n) \n",
    "    h = {}    \n",
    "    for i, num in enumerate(numbers):\n",
    "        desired = target - num\n",
    "        if desired in h: \n",
    "            return i,h[desired]\n",
    "        h[num] = i    "
   ]
  },
  {
   "cell_type": "code",
   "execution_count": 44,
   "id": "1dc679c3-54ec-4186-b20e-23ea6c0b660f",
   "metadata": {},
   "outputs": [
    {
     "data": {
      "text/plain": [
       "(3, 1)"
      ]
     },
     "execution_count": 44,
     "metadata": {},
     "output_type": "execute_result"
    }
   ],
   "source": [
    "ar = [2,1,5,3]\n",
    "two_sum(ar,4)"
   ]
  },
  {
   "cell_type": "code",
   "execution_count": 45,
   "id": "3598788a-7be9-43a8-a58f-6bf2cd772c4e",
   "metadata": {},
   "outputs": [],
   "source": [
    "def bruteforce_two_sum(ar,target): # o(n2) \n",
    "    length = len(ar)\n",
    "    for i in range(length):\n",
    "        for j in range(i+1,length):\n",
    "            if ar[i]+ar[j] ==target:\n",
    "                return i,j"
   ]
  },
  {
   "cell_type": "code",
   "execution_count": 46,
   "id": "d9a01685-9297-44ff-9258-a6fc87a2a865",
   "metadata": {},
   "outputs": [
    {
     "data": {
      "text/plain": [
       "(1, 3)"
      ]
     },
     "execution_count": 46,
     "metadata": {},
     "output_type": "execute_result"
    }
   ],
   "source": [
    "bruteforce_two_sum(ar,4)"
   ]
  },
  {
   "cell_type": "markdown",
   "id": "f98a3a41-e5bf-4093-8111-52e962ee303b",
   "metadata": {},
   "source": [
    "## Two sum : Question 2\n",
    "Question:\n",
    "Write a Python function to find two numbers in a sorted array that add up to a given target. The function should return the indices (1-based) of the two numbers. The solution should run in O(n) time complexity using the two-pointer technique.\n",
    "```python\n",
    "ar = [1, 2, 3, 4, 6, 8, 11]\n",
    "target = 10\n",
    "print(two_sum(ar, target))\n",
    "# Output: [3, 5]  (since 3 + 6 = 10)\n",
    "```\n",
    "Constraints:\n",
    "* The input list is sorted in ascending order.\n",
    "* There is exactly one solution, meaning only one unique pair exists.\n",
    "* The function should return 1-based indices (not zero-based).\n",
    "* The function should run in O(n) time complexity using two pointers."
   ]
  },
  {
   "cell_type": "code",
   "execution_count": 47,
   "id": "da9b4a43-cae9-4f56-a925-eb265d8248d9",
   "metadata": {},
   "outputs": [],
   "source": [
    "# array is sorted  :make use of this : two pointers\n",
    "def two_sum_sorted(ar,target):\n",
    "    start,end= 0,len(ar)-1\n",
    "    while start<end:\n",
    "        sum_value = ar[start]+ar[end]\n",
    "        if sum_value>target:\n",
    "            end=end-1\n",
    "        elif sum_value<target:\n",
    "            start=start+1\n",
    "        else:\n",
    "            return start+1,end+1"
   ]
  },
  {
   "cell_type": "code",
   "execution_count": 48,
   "id": "47409ea6-27c0-48bc-a8a7-1b039c297370",
   "metadata": {},
   "outputs": [
    {
     "data": {
      "text/plain": [
       "(3, 4)"
      ]
     },
     "execution_count": 48,
     "metadata": {},
     "output_type": "execute_result"
    }
   ],
   "source": [
    "ar = [1,3,4,5,7,10,11]\n",
    "two_sum_sorted(ar,target=9)"
   ]
  },
  {
   "cell_type": "markdown",
   "id": "fbe76c9d-4af8-41b7-9abd-5f33d8fb9864",
   "metadata": {},
   "source": [
    "## Three sum : Question 3\n",
    "Question:\n",
    "Write a Python function to find all unique triplets in a given list of integers that sum up to a given target value. Each triplet should be sorted in ascending order, and the function should ensure that no duplicate triplets appear in the output. The solution should run in O(n²) time complexity using sorting and the two-pointer technique.\n",
    "```python\n",
    "ar = [-3, -3, -3, -3, 6, 5, 5, 4, 3, 2, 1]\n",
    "target = 0\n",
    "print(three_sum(ar, target))\n",
    "# Output: [[-3, 1, 2], [-3, -3, 6]]\n",
    "```\n",
    "Constraints:\n",
    " * The input list may contain both positive and negative integers.\n",
    " * The function should return unique triplets (no duplicate sets).\n",
    " * The order of triplets in the result does not matter.\n",
    " * The function should handle cases where no triplets exist."
   ]
  },
  {
   "cell_type": "code",
   "execution_count": 49,
   "id": "baf23859-a224-412d-8a36-e05a64591b33",
   "metadata": {},
   "outputs": [],
   "source": [
    "ar = [-3,-3,-3,-3,6,5,5,4,3,2,1]\n",
    "target = 0 \n",
    "def three_sum(ar,target):\n",
    "    ar.sort()\n",
    "    res = [] \n",
    "    for i,num in enumerate(ar):\n",
    "        if i>0 and num==ar[i-1]:\n",
    "            continue \n",
    "        start,end = i+1,len(ar)-1\n",
    "        while start<end:\n",
    "            sum_value = num+ar[start]+ar[end]\n",
    "            if sum_value>target:\n",
    "                end = end-1 \n",
    "            elif sum_value<target:\n",
    "                start = start+1 \n",
    "            else:\n",
    "                res.append([num,ar[start],ar[end]])\n",
    "                start = start+1\n",
    "                while ar[start]==ar[start-1] and start<end:\n",
    "                    start = start+1\n",
    "    return res"
   ]
  },
  {
   "cell_type": "code",
   "execution_count": 50,
   "id": "b31c2dec-c557-438f-903c-7c344e51fd99",
   "metadata": {},
   "outputs": [
    {
     "data": {
      "text/plain": [
       "[[-3, -3, 6], [-3, 1, 2]]"
      ]
     },
     "execution_count": 50,
     "metadata": {},
     "output_type": "execute_result"
    }
   ],
   "source": [
    "three_sum(ar,target)"
   ]
  },
  {
   "cell_type": "markdown",
   "id": "bd62d419-2c69-4525-aacc-dfa68ec79b54",
   "metadata": {},
   "source": [
    "## Maximum sub-array - Question 4\n",
    "Question:\n",
    "Write a Python function to find the maximum sum of a contiguous subarray from a given list of integers. \n",
    "The function should implement an efficient algorithm with O(n) time complexity and return the maximum sum.\n",
    "```python\n",
    "nums = [-2, 1, -3, 4, -1, 2, 1, -5, 4]\n",
    "print(max_subarray_value(nums))  # Output: 6\n",
    "```\n",
    "Constraints:\n",
    "* The input list may contain both positive and negative integers.\n",
    "* The function should handle edge cases like single-element arrays or all-negative numbers efficiently."
   ]
  },
  {
   "cell_type": "code",
   "execution_count": 51,
   "id": "a87cd3db-431f-4de6-bbfe-5c2c79dc782e",
   "metadata": {},
   "outputs": [
    {
     "data": {
      "text/plain": [
       "6"
      ]
     },
     "execution_count": 51,
     "metadata": {},
     "output_type": "execute_result"
    }
   ],
   "source": [
    "array = [-2,1,-3,4,-1,2,1,-5,4]\n",
    "\n",
    "def max_subarray_value(nums):\n",
    "    maxSub = nums[0]\n",
    "    curSum = 0 \n",
    "    for n in nums:\n",
    "        if curSum<0:\n",
    "            curSum=0\n",
    "        curSum +=n \n",
    "        maxSub = max(maxSub,curSum)\n",
    "    return maxSub\n",
    "    \n",
    "max_subarray_value(array)"
   ]
  },
  {
   "cell_type": "markdown",
   "id": "b5caf9f6-c37b-4b6b-b191-45113b0d23d0",
   "metadata": {},
   "source": [
    "## Maximum Subarray - Question 5 \n",
    "Question:\n",
    "Modify the function from Part 1 to return the actual subarray that produces the maximum sum, in addition to the sum itself. The function should still run in O(n) time complexity and return both the maximum sum and the subarray responsible for it.\n",
    "```python\n",
    "nums = [-2, 1, -3, 4, -1, 2, 1, -5, 4]\n",
    "print(max_subarray_with_indices(nums))  \n",
    "# Output: (6, [4, -1, 2, 1])\n",
    "```\n",
    "Constraints:\n",
    "\n",
    "* The input list may contain both positive and negative integers.\n",
    "* If there are multiple subarrays with the same maximum sum, return the first one found.\n",
    "* The function should handle cases like a single-element list or all-negative numbers efficiently."
   ]
  },
  {
   "cell_type": "code",
   "execution_count": 52,
   "id": "d099118f-7550-4bf2-8487-51b7710f82e1",
   "metadata": {},
   "outputs": [
    {
     "name": "stdout",
     "output_type": "stream",
     "text": [
      "(6, [4, -1, 2, 1])\n"
     ]
    }
   ],
   "source": [
    "def max_subarray_with_indices(nums):\n",
    "    maxSub = nums[0]  # Stores the max sum found\n",
    "    curSum = 0  # Tracks current subarray sum\n",
    "    \n",
    "    start = 0  # Start index of the current subarray\n",
    "    best_start, best_end = 0, 0  # Best subarray indices\n",
    "    \n",
    "    for i, n in enumerate(nums):\n",
    "        if curSum < 0:\n",
    "            curSum = 0\n",
    "            start = i  # Reset the start index\n",
    "        \n",
    "        curSum += n\n",
    "        \n",
    "        if curSum > maxSub:\n",
    "            maxSub = curSum\n",
    "            best_start, best_end = start, i  # Update best indices\n",
    "    \n",
    "    return maxSub, nums[best_start:best_end+1]  # Return max sum and subarray\n",
    "\n",
    "# Example usage\n",
    "nums = [-2, 1, -3, 4, -1, 2, 1, -5, 4]\n",
    "result = max_subarray_with_indices(nums)\n",
    "print(result)  # Output: (6, [4, -1, 2, 1])"
   ]
  },
  {
   "cell_type": "markdown",
   "id": "0d342697-a874-4906-8d83-f42f2fb878a0",
   "metadata": {},
   "source": [
    "## Fibanocci series : Question 6 \n",
    "Question:\n",
    "\n",
    "Write a Python function to return the nth Fibonacci number, where:\n",
    "* The Fibonacci sequence starts with 1, 1, 2, 3, 5, 8, ....\n",
    "* The 0th Fibonacci number is 1 (i.e., fib(0) = 1 and fib(1) = 1).\n",
    "\n",
    "Implement the solution using five different approaches:\n",
    "* Iterative approach (O(n) time, O(1) space).\n",
    "* Memoization (Top-Down Dynamic Programming) (O(n) time, O(n) space).\n",
    "* Recursive approach (O(2ⁿ) time, inefficient for large n).\n",
    "\n",
    "```python\n",
    "print(fib_iterative(5))    # Output: 8\n",
    "print(fib_memoization(5))  # Output: 8\n",
    "print(fib_recursive(5))    # Output: 8\n",
    "```\n",
    "Constraints:\n",
    "* The function should handle n ≥ 0, where fib(0) = 1 and fib(1) = 1.\n",
    "* The iterative solution should run in O(n) time with O(1) space.\n",
    "* The memoized solution should run in O(n) time with O(n) space.\n",
    "* The recursive approach should be simple but inefficient for large n due to exponential complexity."
   ]
  },
  {
   "cell_type": "code",
   "execution_count": 55,
   "id": "87a7ccda-fb16-4b17-b3d8-67f704fc2a9b",
   "metadata": {},
   "outputs": [],
   "source": [
    "def fib_iterative(n):\n",
    "    if n == 0 or n == 1:\n",
    "        return 1\n",
    "    a, b = 1, 1\n",
    "    for _ in range(2, n + 1):\n",
    "        a, b = b, a + b\n",
    "    return b"
   ]
  },
  {
   "cell_type": "code",
   "execution_count": 56,
   "id": "86fa7f50-8893-47ff-96f7-defa4addbc0f",
   "metadata": {},
   "outputs": [],
   "source": [
    "def fib_memoization(n, memo={0: 1, 1: 1}):\n",
    "    if n in memo:\n",
    "        return memo[n]\n",
    "    memo[n] = fib_memoization(n - 1, memo) + fib_memoization(n - 2, memo)\n",
    "    return memo[n]"
   ]
  },
  {
   "cell_type": "code",
   "execution_count": 57,
   "id": "ac66ca30-460e-468b-b3e6-d3f7d47f2481",
   "metadata": {},
   "outputs": [],
   "source": [
    "def fib_recursive(n):\n",
    "    if n == 0 or n == 1:\n",
    "        return 1\n",
    "    return fib_recursive(n - 1) + fib_recursive(n - 2)"
   ]
  },
  {
   "cell_type": "markdown",
   "id": "3e354f05-2c1b-4407-a59a-ebf1f46a40d3",
   "metadata": {},
   "source": [
    "# Question 7 :  Merge two sorted array (first array can hold the values from the second array) : inplace operation\n",
    "You are given two integer arrays nums1 and nums2, sorted in non-decreasing order, and two integers m and n, representing the number of elements in nums1 and nums2 respectively.\n",
    "\n",
    "Merge nums1 and nums2 into a single array sorted in non-decreasing order.\n",
    "\n",
    "The final sorted array should not be returned by the function, but instead be stored inside the array nums1. \n",
    "To accommodate this, nums1 has a length of m + n, where the first m elements denote the elements that should be merged, and the last n elements are set to 0 and should be ignored. nums2 has a length of n."
   ]
  },
  {
   "cell_type": "code",
   "execution_count": 39,
   "id": "499ecee5-290e-4e89-880d-086b4c505ae4",
   "metadata": {},
   "outputs": [],
   "source": [
    "def merge_sorted_arrays(nums1,nums2,m,n):\n",
    "    mp, np = m - 1, n - 1  # Start from the last valid elements in both arrays\n",
    "    \n",
    "    # Iterate backward through nums1 to fill it with sorted elements\n",
    "    for main_pointer in range(len(nums1) - 1, -1, -1):\n",
    "        # If nums2 is exhausted (np < 0), just copy remaining nums1 elements\n",
    "        if np < 0:\n",
    "            break\n",
    "    \n",
    "        if mp >= 0 and nums1[mp] > nums2[np]:  # Compare elements from nums1 and nums2\n",
    "            nums1[main_pointer] = nums1[mp]\n",
    "            mp -= 1\n",
    "        else:\n",
    "            nums1[main_pointer] = nums2[np]\n",
    "            np -= 1\n",
    "    \n",
    "        print(nums1)  # Print after each placement (can be removed if you don't need debugging)\n",
    "    return nums1 "
   ]
  },
  {
   "cell_type": "code",
   "execution_count": 43,
   "id": "97a0a5e0-db74-4db2-bb25-28c26422b8bc",
   "metadata": {},
   "outputs": [
    {
     "name": "stdout",
     "output_type": "stream",
     "text": [
      "[3, 5, 10, 0, 0, 0, 10]\n",
      "[3, 5, 10, 0, 0, 9, 10]\n",
      "[3, 5, 10, 0, 6, 9, 10]\n",
      "[3, 5, 10, 5, 6, 9, 10]\n",
      "[3, 5, 5, 5, 6, 9, 10]\n",
      "[3, 3, 5, 5, 6, 9, 10]\n",
      "[2, 3, 5, 5, 6, 9, 10]\n"
     ]
    },
    {
     "data": {
      "text/plain": [
       "[2, 3, 5, 5, 6, 9, 10]"
      ]
     },
     "execution_count": 43,
     "metadata": {},
     "output_type": "execute_result"
    }
   ],
   "source": [
    "nums1 = [3,5,10,0,0,0,0]\n",
    "nums2 = [2,5,6,9]\n",
    "m = 3\n",
    "n = 4\n",
    "\n",
    "merge_sorted_arrays(nums1,nums2,m,n)"
   ]
  },
  {
   "cell_type": "code",
   "execution_count": 41,
   "id": "374576a9-260b-4e0a-b833-9b792f5f170e",
   "metadata": {},
   "outputs": [],
   "source": [
    "def merge_sorted_arrays(nums1, nums2, m, n):\n",
    "    mp, np = m - 1, n - 1  # Start from the last valid elements in both arrays\n",
    "    main_pointer = len(nums1) - 1  # Start from the last index of nums1\n",
    "\n",
    "    while main_pointer >= 0:\n",
    "        # If nums2 is exhausted (np < 0), just copy remaining nums1 elements\n",
    "        if np < 0:\n",
    "            break\n",
    "        \n",
    "        # If there are still elements in both arrays, compare them\n",
    "        if mp >= 0 and nums1[mp] > nums2[np]:\n",
    "            nums1[main_pointer] = nums1[mp]\n",
    "            mp -= 1\n",
    "        else:\n",
    "            nums1[main_pointer] = nums2[np]\n",
    "            np -= 1\n",
    "        \n",
    "        # Move the main_pointer backwards\n",
    "        main_pointer -= 1\n",
    "\n",
    "        print(nums1)  # Print after each placement (can be removed if you don't need debugging)\n",
    "    \n",
    "    return nums1\n"
   ]
  },
  {
   "cell_type": "code",
   "execution_count": 42,
   "id": "a9937ef7-80a7-4f0e-a658-3b49dd9ca952",
   "metadata": {},
   "outputs": [
    {
     "name": "stdout",
     "output_type": "stream",
     "text": [
      "[3, 5, 10, 0, 0, 0, 10]\n",
      "[3, 5, 10, 0, 0, 9, 10]\n",
      "[3, 5, 10, 0, 6, 9, 10]\n",
      "[3, 5, 10, 5, 6, 9, 10]\n",
      "[3, 5, 5, 5, 6, 9, 10]\n",
      "[3, 3, 5, 5, 6, 9, 10]\n",
      "[2, 3, 5, 5, 6, 9, 10]\n"
     ]
    },
    {
     "data": {
      "text/plain": [
       "[2, 3, 5, 5, 6, 9, 10]"
      ]
     },
     "execution_count": 42,
     "metadata": {},
     "output_type": "execute_result"
    }
   ],
   "source": [
    "nums1 = [3,5,10,0,0,0,0]\n",
    "nums2 = [2,5,6,9]\n",
    "m = 3\n",
    "n = 4\n",
    "\n",
    "merge_sorted_arrays(nums1,nums2,m,n)"
   ]
  },
  {
   "cell_type": "markdown",
   "id": "9df0d72a-0e36-4be9-8d43-5f0e37f37cbf",
   "metadata": {},
   "source": [
    "# question 8 : remove integer : \n",
    "\n",
    "def removeElement(nums, val):\n",
    "    k = 0  # Pointer for the new length of the array with elements that are not equal to val\n",
    "    \n",
    "    # Iterate through the array using the pointer i\n",
    "    for i in range(len(nums)):\n",
    "        if nums[i] != val:\n",
    "            nums[k] = nums[i]  # Move the valid element to the \"front\" of the array\n",
    "            k += 1  # Increment k to keep track of the next valid position\n",
    "    \n",
    "    return k  # The new length of the array where all elements are not equal to val\n"
   ]
  },
  {
   "cell_type": "code",
   "execution_count": 44,
   "id": "8b7811cf-61d3-443f-90c0-71cd95e38ace",
   "metadata": {},
   "outputs": [],
   "source": [
    "def removeElement(nums, val):\n",
    "    k = 0  # Pointer for the new length of the array with elements that are not equal to val\n",
    "    \n",
    "    # Iterate through the array using the pointer i\n",
    "    for i in range(len(nums)):\n",
    "        if nums[i] != val:\n",
    "            nums[k] = nums[i]  # Move the valid element to the \"front\" of the array\n",
    "            k += 1  # Increment k to keep track of the next valid position\n",
    "    \n",
    "    return k  # The new length of the array where all elements are not equal to val\n"
   ]
  },
  {
   "cell_type": "markdown",
   "id": "97873fb8-b514-4821-9d3c-c660e34fc823",
   "metadata": {},
   "source": [
    "# question 9 : remove duplicates and return the number of unique elements \n",
    "\n",
    "Given an integer array nums sorted in non-decreasing order, remove the duplicates in-place such that each unique element appears only once. The relative order of the elements should be kept the same. Then return the number of unique elements in nums.\n",
    "\n",
    "Consider the number of unique elements of nums to be k, to get accepted, you need to do the following things:\n",
    "\n",
    "Change the array nums such that the first k elements of nums contain the unique elements in the order they were present in nums initially. The remaining elements of nums are not important as well as the size of nums.\n",
    "Return k."
   ]
  },
  {
   "cell_type": "code",
   "execution_count": 49,
   "id": "fac7e10f-486f-48e6-8341-809568f92907",
   "metadata": {},
   "outputs": [],
   "source": [
    "def removeDuplicates(self,nums):\n",
    "    if not nums:\n",
    "        return 0  # If the list is empty, return 0\n",
    "    k = 1  # Initialize k as 1 because the first element is always unique\n",
    "    for i in range(1, len(nums)):\n",
    "        if nums[i] != nums[i - 1]:  \n",
    "            nums[k] = nums[i]  # Place it in the next unique position\n",
    "            k += 1  # Increment k for the next unique element\n",
    "    return k  # k is the number of unique elements in the array"
   ]
  },
  {
   "cell_type": "markdown",
   "id": "948a8f3e-7938-43b1-a3f9-546f5b950e8c",
   "metadata": {},
   "source": [
    "# question 10 : remove duplicates from array : II\n",
    "Given an integer array nums sorted in non-decreasing order, remove some duplicates in-place such that each unique element appears at most twice. The relative order of the elements should be kept the same.\n",
    "\n",
    "Since it is impossible to change the length of the array in some languages, you must instead have the result be placed in the first part of the array nums. More formally, if there are k elements after removing the duplicates, then the first k elements of nums should hold the final result. It does not matter what you leave beyond the first k elements.\n",
    "\n",
    "Return k after placing the final result in the first k slots of nums.\n",
    "\n",
    "Do not allocate extra space for another array. You must do this by modifying the input array in-place with O(1) extra memory."
   ]
  },
  {
   "cell_type": "code",
   "execution_count": 50,
   "id": "55ec025d-d887-4aa0-8fc2-1a08d27273cc",
   "metadata": {},
   "outputs": [],
   "source": [
    "def removeDuplicates(self,nums):\n",
    "    if len(nums)==1 or len(nums)==2:\n",
    "        return len(nums)\n",
    "    \n",
    "    k=2\n",
    "    for i in range(2,len(nums)):\n",
    "        if not(nums[i] == nums[k-2]):\n",
    "            nums[k] = nums[i]\n",
    "            k+=1\n",
    "    return k"
   ]
  },
  {
   "cell_type": "markdown",
   "id": "5531fcab-6445-4a7c-b819-8c2bb6ffc905",
   "metadata": {},
   "source": [
    "# question 11 : majority element 1 "
   ]
  },
  {
   "cell_type": "code",
   "execution_count": 53,
   "id": "e7cbd507-168e-44c6-991f-fecaceec15a6",
   "metadata": {},
   "outputs": [],
   "source": [
    "# using boyer moores algorithm \n",
    "def majorityElement(nums):\n",
    "    candidate = None\n",
    "    count = 0\n",
    "    for num in nums:\n",
    "        if count == 0:\n",
    "            candidate = num  # New candidate\n",
    "            count = 1\n",
    "            \n",
    "        elif num == candidate:\n",
    "            count += 1  # Same candidate, increment count\n",
    "        else:\n",
    "            count -= 1  # Different element, decrement count\n",
    "        print(num,candidate,count)\n",
    "    return candidate\n"
   ]
  },
  {
   "cell_type": "code",
   "execution_count": 59,
   "id": "92ed41fd-98ce-4985-bb59-534d39a6dd43",
   "metadata": {},
   "outputs": [
    {
     "name": "stdout",
     "output_type": "stream",
     "text": [
      "1 1 1\n",
      "3 1 0\n",
      "3 3 1\n",
      "2 3 0\n",
      "1 1 1\n",
      "2 1 0\n",
      "3 3 1\n",
      "3 3 2\n",
      "2 3 1\n",
      "1 3 0\n",
      "1 1 1\n",
      "3 1 0\n"
     ]
    },
    {
     "data": {
      "text/plain": [
       "1"
      ]
     },
     "execution_count": 59,
     "metadata": {},
     "output_type": "execute_result"
    }
   ],
   "source": [
    "array = [1,3,3,2,1,2,3,3,2,1,1,3]\n",
    "majorityElement(array)"
   ]
  },
  {
   "cell_type": "code",
   "execution_count": 65,
   "id": "bc1115e6-6f5f-47cf-99f5-6e39e332d28d",
   "metadata": {},
   "outputs": [],
   "source": [
    "# using extra memory and hash map \n",
    "def mode_count(array):\n",
    "    h = {}\n",
    "    mode_value,mode  =0,0 \n",
    "    for num in array:\n",
    "        if num in h:\n",
    "            h[num]+=1\n",
    "            if h[num]>mode:\n",
    "                mode_value,mode = num,h[num] \n",
    "        else:\n",
    "            h[num] = 1\n",
    "    return h,mode_value,mode"
   ]
  },
  {
   "cell_type": "code",
   "execution_count": 66,
   "id": "116acd93-a4d0-4477-891a-6d8cf23846b2",
   "metadata": {},
   "outputs": [
    {
     "data": {
      "text/plain": [
       "({1: 4, 3: 5, 2: 3}, 3, 5)"
      ]
     },
     "execution_count": 66,
     "metadata": {},
     "output_type": "execute_result"
    }
   ],
   "source": [
    "mode_count(array)"
   ]
  },
  {
   "cell_type": "markdown",
   "id": "b6027487-cfd2-48b5-88f4-151cc7036773",
   "metadata": {},
   "source": [
    "# question 12 : rotating array k times "
   ]
  },
  {
   "cell_type": "code",
   "execution_count": 94,
   "id": "91059360-fc7a-43ea-9179-a539eb6c8d1f",
   "metadata": {},
   "outputs": [],
   "source": [
    "def reverse(ar,k):\n",
    "    i,j = 0,len(ar)-1 \n",
    "    while i<j:\n",
    "        ar[i],ar[j] = ar[j],ar[i]\n",
    "        i+=1;j-=1\n",
    "        \n",
    "    i,j = 0,k-1 \n",
    "    while i<j:\n",
    "        ar[i],ar[j] = ar[j],ar[i]\n",
    "        i+=1;j-=1\n",
    "        \n",
    "    i,j = k,len(ar)-1 \n",
    "    while i<j:\n",
    "        ar[i],ar[j] = ar[j],ar[i]\n",
    "        i+=1;j-=1"
   ]
  },
  {
   "cell_type": "code",
   "execution_count": 103,
   "id": "ef656f4e-b1d5-4331-a1ae-33704c079ef8",
   "metadata": {},
   "outputs": [],
   "source": [
    "array = [2,3,4,2,1,84,94,85]"
   ]
  },
  {
   "cell_type": "code",
   "execution_count": 104,
   "id": "205dbf7e-3402-4003-9f0b-bc87f1847c1a",
   "metadata": {},
   "outputs": [],
   "source": [
    "reverse(array,len(array))"
   ]
  },
  {
   "cell_type": "code",
   "execution_count": 105,
   "id": "7c81773c-d974-444d-b4e7-60b8ca96f7c0",
   "metadata": {},
   "outputs": [
    {
     "data": {
      "text/plain": [
       "[2, 3, 4, 2, 1, 84, 94, 85]"
      ]
     },
     "execution_count": 105,
     "metadata": {},
     "output_type": "execute_result"
    }
   ],
   "source": [
    "array"
   ]
  },
  {
   "cell_type": "markdown",
   "id": "28962d80-16d1-439d-b24d-a2cb92f6b19d",
   "metadata": {},
   "source": [
    "# question 13 : check if array is sorted and rotated"
   ]
  },
  {
   "cell_type": "code",
   "execution_count": 106,
   "id": "fc62c329-be63-4144-a3ab-38e1c1f342bd",
   "metadata": {},
   "outputs": [],
   "source": [
    "def check(nums):\n",
    "    N = len(nums)\n",
    "    count = 1 \n",
    "\n",
    "    for i in range(1,2*N):\n",
    "        if nums[(i-1)%N] <=nums[i%N]:\n",
    "            count+=1 \n",
    "        else:\n",
    "            count = 1\n",
    "        if count ==N:\n",
    "            return True \n",
    "    return N==1"
   ]
  },
  {
   "cell_type": "code",
   "execution_count": 111,
   "id": "22a07ac2-355c-4f4a-bff8-a86a57ea348f",
   "metadata": {},
   "outputs": [
    {
     "data": {
      "text/plain": [
       "True"
      ]
     },
     "execution_count": 111,
     "metadata": {},
     "output_type": "execute_result"
    }
   ],
   "source": [
    "ar = [3,3,5,19,1,2]\n",
    "check(ar)"
   ]
  },
  {
   "cell_type": "markdown",
   "id": "2ec3f0f0-cca5-45a0-bf37-1941a4d76b97",
   "metadata": {},
   "source": [
    "# question 14 : max profit "
   ]
  },
  {
   "cell_type": "code",
   "execution_count": 124,
   "id": "e2b1b7ed-8974-48bc-b98c-ab7e94807c50",
   "metadata": {},
   "outputs": [],
   "source": [
    "def max_profit(nums):\n",
    "    B = nums[0] \n",
    "    maxprofit = 0\n",
    "    for i in range(0,len(nums)):\n",
    "        if nums[i]<B:\n",
    "            B = nums[i]\n",
    "\n",
    "        profit = nums[i]-B\n",
    "        if profit>maxprofit:\n",
    "            maxprofit = profit\n",
    "            \n",
    "        # print(i,B,profit,maxprofit) \n",
    "    return maxprofit      "
   ]
  },
  {
   "cell_type": "code",
   "execution_count": 125,
   "id": "2bc55eaf-a648-4683-bf28-c408394ec1c3",
   "metadata": {},
   "outputs": [
    {
     "data": {
      "text/plain": [
       "1"
      ]
     },
     "execution_count": 125,
     "metadata": {},
     "output_type": "execute_result"
    }
   ],
   "source": [
    "nums = [1,2]\n",
    "max_profit(nums)"
   ]
  },
  {
   "cell_type": "markdown",
   "id": "14ad4496-5a5d-4c4b-8651-f71f13366a46",
   "metadata": {},
   "source": [
    "## Question 15 : Valid paliendrom check "
   ]
  },
  {
   "cell_type": "code",
   "execution_count": 126,
   "id": "9baa603a-f7d3-4aec-825c-7ef0445c3ac8",
   "metadata": {},
   "outputs": [],
   "source": [
    "def isPalindrome(self, s: str) -> bool:\n",
    "    left, right = 0, len(s) - 1\n",
    "    s = s.lower()\n",
    "    while left < right:\n",
    "        while left < right and not s[left].isalnum():\n",
    "            left += 1\n",
    "        while left < right and not s[right].isalnum():\n",
    "            right -= 1\n",
    "        if s[left] != s[right]:\n",
    "            return False\n",
    "        left += 1\n",
    "        right -= 1\n",
    "    return True"
   ]
  },
  {
   "cell_type": "code",
   "execution_count": null,
   "id": "57fd73f3-9a82-4b22-b827-f087850b2db2",
   "metadata": {},
   "outputs": [],
   "source": []
  }
 ],
 "metadata": {
  "kernelspec": {
   "display_name": "Python 3 (ipykernel)",
   "language": "python",
   "name": "python3"
  },
  "language_info": {
   "codemirror_mode": {
    "name": "ipython",
    "version": 3
   },
   "file_extension": ".py",
   "mimetype": "text/x-python",
   "name": "python",
   "nbconvert_exporter": "python",
   "pygments_lexer": "ipython3",
   "version": "3.12.7"
  }
 },
 "nbformat": 4,
 "nbformat_minor": 5
}
