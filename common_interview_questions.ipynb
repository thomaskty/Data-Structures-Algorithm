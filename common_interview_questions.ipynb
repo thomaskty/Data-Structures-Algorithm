{
 "cells": [
  {
   "cell_type": "markdown",
   "id": "282c93f6-8492-42c8-97af-42a15b22e3b2",
   "metadata": {},
   "source": [
    "## Two Sum : Question 1 \n",
    "Write a Python function to find two numbers in an unsorted array that add up to a given target. Implement two different approaches:\n",
    " * Brute-force approach: Check all possible pairs (O(n²) complexity).\n",
    " * Hashmap-based approach: Use a dictionary to achieve an O(n) time complexity solution.\n",
    "```python\n",
    "ar = [4, 7, 1, -3, 2]\n",
    "target = 5\n",
    "print(two_sum_brute_force(ar, target))  # Output: [1, 4] (since 4 + 1 = 5)\n",
    "print(two_sum_hashmap(ar, target))      # Output: [1, 4]\n",
    "```\n",
    "Constraints:\n",
    "* The input list is unsorted and may contain positive and negative numbers.\n",
    "* There is exactly one solution, meaning only one unique pair exists.\n",
    "* The function should return 1-based indices (not zero-based).\n",
    "* Brute-force approach should check all possible pairs (O(n²) complexity).\n",
    "* Hashmap-based approach should use a dictionary to find the solution efficiently (O(n) complexity)."
   ]
  },
  {
   "cell_type": "code",
   "execution_count": 43,
   "id": "e88e4cdc-c75d-4965-a87a-d81e6ca65a79",
   "metadata": {},
   "outputs": [],
   "source": [
    "def two_sum(numbers, target): # o(n) \n",
    "    h = {}    \n",
    "    for i, num in enumerate(numbers):\n",
    "        desired = target - num\n",
    "        if desired in h: \n",
    "            return i,h[desired]\n",
    "        h[num] = i    "
   ]
  },
  {
   "cell_type": "code",
   "execution_count": 44,
   "id": "1dc679c3-54ec-4186-b20e-23ea6c0b660f",
   "metadata": {},
   "outputs": [
    {
     "data": {
      "text/plain": [
       "(3, 1)"
      ]
     },
     "execution_count": 44,
     "metadata": {},
     "output_type": "execute_result"
    }
   ],
   "source": [
    "ar = [2,1,5,3]\n",
    "two_sum(ar,4)"
   ]
  },
  {
   "cell_type": "code",
   "execution_count": 45,
   "id": "3598788a-7be9-43a8-a58f-6bf2cd772c4e",
   "metadata": {},
   "outputs": [],
   "source": [
    "def bruteforce_two_sum(ar,target): # o(n2) \n",
    "    length = len(ar)\n",
    "    for i in range(length):\n",
    "        for j in range(i+1,length):\n",
    "            if ar[i]+ar[j] ==target:\n",
    "                return i,j"
   ]
  },
  {
   "cell_type": "code",
   "execution_count": 46,
   "id": "d9a01685-9297-44ff-9258-a6fc87a2a865",
   "metadata": {},
   "outputs": [
    {
     "data": {
      "text/plain": [
       "(1, 3)"
      ]
     },
     "execution_count": 46,
     "metadata": {},
     "output_type": "execute_result"
    }
   ],
   "source": [
    "bruteforce_two_sum(ar,4)"
   ]
  },
  {
   "cell_type": "markdown",
   "id": "f98a3a41-e5bf-4093-8111-52e962ee303b",
   "metadata": {},
   "source": [
    "## Two sum : Question 2\n",
    "Question:\n",
    "Write a Python function to find two numbers in a sorted array that add up to a given target. The function should return the indices (1-based) of the two numbers. The solution should run in O(n) time complexity using the two-pointer technique.\n",
    "```python\n",
    "ar = [1, 2, 3, 4, 6, 8, 11]\n",
    "target = 10\n",
    "print(two_sum(ar, target))\n",
    "# Output: [3, 5]  (since 3 + 6 = 10)\n",
    "```\n",
    "Constraints:\n",
    "* The input list is sorted in ascending order.\n",
    "* There is exactly one solution, meaning only one unique pair exists.\n",
    "* The function should return 1-based indices (not zero-based).\n",
    "* The function should run in O(n) time complexity using two pointers."
   ]
  },
  {
   "cell_type": "code",
   "execution_count": 47,
   "id": "da9b4a43-cae9-4f56-a925-eb265d8248d9",
   "metadata": {},
   "outputs": [],
   "source": [
    "# array is sorted  :make use of this : two pointers\n",
    "def two_sum_sorted(ar,target):\n",
    "    start,end= 0,len(ar)-1\n",
    "    while start<end:\n",
    "        sum_value = ar[start]+ar[end]\n",
    "        if sum_value>target:\n",
    "            end=end-1\n",
    "        elif sum_value<target:\n",
    "            start=start+1\n",
    "        else:\n",
    "            return start+1,end+1"
   ]
  },
  {
   "cell_type": "code",
   "execution_count": 48,
   "id": "47409ea6-27c0-48bc-a8a7-1b039c297370",
   "metadata": {},
   "outputs": [
    {
     "data": {
      "text/plain": [
       "(3, 4)"
      ]
     },
     "execution_count": 48,
     "metadata": {},
     "output_type": "execute_result"
    }
   ],
   "source": [
    "ar = [1,3,4,5,7,10,11]\n",
    "two_sum_sorted(ar,target=9)"
   ]
  },
  {
   "cell_type": "markdown",
   "id": "fbe76c9d-4af8-41b7-9abd-5f33d8fb9864",
   "metadata": {},
   "source": [
    "## Three sum : Question 3\n",
    "Question:\n",
    "Write a Python function to find all unique triplets in a given list of integers that sum up to a given target value. Each triplet should be sorted in ascending order, and the function should ensure that no duplicate triplets appear in the output. The solution should run in O(n²) time complexity using sorting and the two-pointer technique.\n",
    "```python\n",
    "ar = [-3, -3, -3, -3, 6, 5, 5, 4, 3, 2, 1]\n",
    "target = 0\n",
    "print(three_sum(ar, target))\n",
    "# Output: [[-3, 1, 2], [-3, -3, 6]]\n",
    "```\n",
    "Constraints:\n",
    " * The input list may contain both positive and negative integers.\n",
    " * The function should return unique triplets (no duplicate sets).\n",
    " * The order of triplets in the result does not matter.\n",
    " * The function should handle cases where no triplets exist."
   ]
  },
  {
   "cell_type": "code",
   "execution_count": 49,
   "id": "baf23859-a224-412d-8a36-e05a64591b33",
   "metadata": {},
   "outputs": [],
   "source": [
    "ar = [-3,-3,-3,-3,6,5,5,4,3,2,1]\n",
    "target = 0 \n",
    "def three_sum(ar,target):\n",
    "    ar.sort()\n",
    "    res = [] \n",
    "    for i,num in enumerate(ar):\n",
    "        if i>0 and num==ar[i-1]:\n",
    "            continue \n",
    "        start,end = i+1,len(ar)-1\n",
    "        while start<end:\n",
    "            sum_value = num+ar[start]+ar[end]\n",
    "            if sum_value>target:\n",
    "                end = end-1 \n",
    "            elif sum_value<target:\n",
    "                start = start+1 \n",
    "            else:\n",
    "                res.append([num,ar[start],ar[end]])\n",
    "                start = start+1\n",
    "                while ar[start]==ar[start-1] and start<end:\n",
    "                    start = start+1\n",
    "    return res"
   ]
  },
  {
   "cell_type": "code",
   "execution_count": 50,
   "id": "b31c2dec-c557-438f-903c-7c344e51fd99",
   "metadata": {},
   "outputs": [
    {
     "data": {
      "text/plain": [
       "[[-3, -3, 6], [-3, 1, 2]]"
      ]
     },
     "execution_count": 50,
     "metadata": {},
     "output_type": "execute_result"
    }
   ],
   "source": [
    "three_sum(ar,target)"
   ]
  },
  {
   "cell_type": "markdown",
   "id": "bd62d419-2c69-4525-aacc-dfa68ec79b54",
   "metadata": {},
   "source": [
    "## Maximum sub-array - Question 4\n",
    "Question:\n",
    "Write a Python function to find the maximum sum of a contiguous subarray from a given list of integers. \n",
    "The function should implement an efficient algorithm with O(n) time complexity and return the maximum sum.\n",
    "```python\n",
    "nums = [-2, 1, -3, 4, -1, 2, 1, -5, 4]\n",
    "print(max_subarray_value(nums))  # Output: 6\n",
    "```\n",
    "Constraints:\n",
    "* The input list may contain both positive and negative integers.\n",
    "* The function should handle edge cases like single-element arrays or all-negative numbers efficiently."
   ]
  },
  {
   "cell_type": "code",
   "execution_count": 51,
   "id": "a87cd3db-431f-4de6-bbfe-5c2c79dc782e",
   "metadata": {},
   "outputs": [
    {
     "data": {
      "text/plain": [
       "6"
      ]
     },
     "execution_count": 51,
     "metadata": {},
     "output_type": "execute_result"
    }
   ],
   "source": [
    "array = [-2,1,-3,4,-1,2,1,-5,4]\n",
    "\n",
    "def max_subarray_value(nums):\n",
    "    maxSub = nums[0]\n",
    "    curSum = 0 \n",
    "    for n in nums:\n",
    "        if curSum<0:\n",
    "            curSum=0\n",
    "        curSum +=n \n",
    "        maxSub = max(maxSub,curSum)\n",
    "    return maxSub\n",
    "    \n",
    "max_subarray_value(array)"
   ]
  },
  {
   "cell_type": "markdown",
   "id": "b5caf9f6-c37b-4b6b-b191-45113b0d23d0",
   "metadata": {},
   "source": [
    "## Maximum Subarray - Question 5 \n",
    "Question:\n",
    "Modify the function from Part 1 to return the actual subarray that produces the maximum sum, in addition to the sum itself. The function should still run in O(n) time complexity and return both the maximum sum and the subarray responsible for it.\n",
    "```python\n",
    "nums = [-2, 1, -3, 4, -1, 2, 1, -5, 4]\n",
    "print(max_subarray_with_indices(nums))  \n",
    "# Output: (6, [4, -1, 2, 1])\n",
    "```\n",
    "Constraints:\n",
    "\n",
    "* The input list may contain both positive and negative integers.\n",
    "* If there are multiple subarrays with the same maximum sum, return the first one found.\n",
    "* The function should handle cases like a single-element list or all-negative numbers efficiently."
   ]
  },
  {
   "cell_type": "code",
   "execution_count": 52,
   "id": "d099118f-7550-4bf2-8487-51b7710f82e1",
   "metadata": {},
   "outputs": [
    {
     "name": "stdout",
     "output_type": "stream",
     "text": [
      "(6, [4, -1, 2, 1])\n"
     ]
    }
   ],
   "source": [
    "def max_subarray_with_indices(nums):\n",
    "    maxSub = nums[0]  # Stores the max sum found\n",
    "    curSum = 0  # Tracks current subarray sum\n",
    "    \n",
    "    start = 0  # Start index of the current subarray\n",
    "    best_start, best_end = 0, 0  # Best subarray indices\n",
    "    \n",
    "    for i, n in enumerate(nums):\n",
    "        if curSum < 0:\n",
    "            curSum = 0\n",
    "            start = i  # Reset the start index\n",
    "        \n",
    "        curSum += n\n",
    "        \n",
    "        if curSum > maxSub:\n",
    "            maxSub = curSum\n",
    "            best_start, best_end = start, i  # Update best indices\n",
    "    \n",
    "    return maxSub, nums[best_start:best_end+1]  # Return max sum and subarray\n",
    "\n",
    "# Example usage\n",
    "nums = [-2, 1, -3, 4, -1, 2, 1, -5, 4]\n",
    "result = max_subarray_with_indices(nums)\n",
    "print(result)  # Output: (6, [4, -1, 2, 1])"
   ]
  },
  {
   "cell_type": "markdown",
   "id": "0d342697-a874-4906-8d83-f42f2fb878a0",
   "metadata": {},
   "source": [
    "## Fibanocci series : Question 6 \n",
    "Question:\n",
    "\n",
    "Write a Python function to return the nth Fibonacci number, where:\n",
    "* The Fibonacci sequence starts with 1, 1, 2, 3, 5, 8, ....\n",
    "* The 0th Fibonacci number is 1 (i.e., fib(0) = 1 and fib(1) = 1).\n",
    "\n",
    "Implement the solution using five different approaches:\n",
    "* Iterative approach (O(n) time, O(1) space).\n",
    "* Memoization (Top-Down Dynamic Programming) (O(n) time, O(n) space).\n",
    "* Recursive approach (O(2ⁿ) time, inefficient for large n).\n",
    "\n",
    "```python\n",
    "print(fib_iterative(5))    # Output: 8\n",
    "print(fib_memoization(5))  # Output: 8\n",
    "print(fib_recursive(5))    # Output: 8\n",
    "```\n",
    "Constraints:\n",
    "* The function should handle n ≥ 0, where fib(0) = 1 and fib(1) = 1.\n",
    "* The iterative solution should run in O(n) time with O(1) space.\n",
    "* The memoized solution should run in O(n) time with O(n) space.\n",
    "* The recursive approach should be simple but inefficient for large n due to exponential complexity."
   ]
  },
  {
   "cell_type": "code",
   "execution_count": 55,
   "id": "87a7ccda-fb16-4b17-b3d8-67f704fc2a9b",
   "metadata": {},
   "outputs": [],
   "source": [
    "def fib_iterative(n):\n",
    "    if n == 0 or n == 1:\n",
    "        return 1\n",
    "    a, b = 1, 1\n",
    "    for _ in range(2, n + 1):\n",
    "        a, b = b, a + b\n",
    "    return b"
   ]
  },
  {
   "cell_type": "code",
   "execution_count": 56,
   "id": "86fa7f50-8893-47ff-96f7-defa4addbc0f",
   "metadata": {},
   "outputs": [],
   "source": [
    "def fib_memoization(n, memo={0: 1, 1: 1}):\n",
    "    if n in memo:\n",
    "        return memo[n]\n",
    "    memo[n] = fib_memoization(n - 1, memo) + fib_memoization(n - 2, memo)\n",
    "    return memo[n]"
   ]
  },
  {
   "cell_type": "code",
   "execution_count": 57,
   "id": "ac66ca30-460e-468b-b3e6-d3f7d47f2481",
   "metadata": {},
   "outputs": [],
   "source": [
    "def fib_recursive(n):\n",
    "    if n == 0 or n == 1:\n",
    "        return 1\n",
    "    return fib_recursive(n - 1) + fib_recursive(n - 2)"
   ]
  },
  {
   "cell_type": "markdown",
   "id": "3e354f05-2c1b-4407-a59a-ebf1f46a40d3",
   "metadata": {},
   "source": [
    "## Sorting : Question 7 "
   ]
  },
  {
   "cell_type": "code",
   "execution_count": null,
   "id": "499ecee5-290e-4e89-880d-086b4c505ae4",
   "metadata": {},
   "outputs": [],
   "source": []
  }
 ],
 "metadata": {
  "kernelspec": {
   "display_name": "Python 3 (ipykernel)",
   "language": "python",
   "name": "python3"
  },
  "language_info": {
   "codemirror_mode": {
    "name": "ipython",
    "version": 3
   },
   "file_extension": ".py",
   "mimetype": "text/x-python",
   "name": "python",
   "nbconvert_exporter": "python",
   "pygments_lexer": "ipython3",
   "version": "3.12.7"
  }
 },
 "nbformat": 4,
 "nbformat_minor": 5
}
