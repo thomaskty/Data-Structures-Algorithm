{
 "cells": [
  {
   "cell_type": "markdown",
   "metadata": {},
   "source": [
    "# Question 47 - LC 228. Summary Ranges\n",
    "\n",
    "You are given a sorted unique integer array nums.\n",
    "\n",
    "A range `[a,b]` is the set of all integers from `a` to `b` _(inclusive)_.\n",
    "\n",
    "Return the _smallest sorted list of ranges that cover all the numbers in the array exactly_. That is, each element of nums is covered by exactly one of the ranges, and there is no integer x such that x is in one of the ranges but not in nums.\n",
    "\n",
    "Each range [a,b] in the list should be output as:\n",
    "\n",
    "1. \"a->b\" if a != b\n",
    "2. \"a\" if a == b\n",
    "\n",
    "**Example 1:**\n",
    "\n",
    "    Input: nums = [0,1,2,4,5,7]\n",
    "    Output: [\"0->2\",\"4->5\",\"7\"]\n",
    "    Explanation: The ranges are:\n",
    "    [0,2] --> \"0->2\"\n",
    "    [4,5] --> \"4->5\"\n",
    "    [7,7] --> \"7\"\n",
    "\n",
    "**Example 2:**\n",
    "\n",
    "    Input: nums = [0,2,3,4,6,8,9]\n",
    "    Output: [\"0\",\"2->4\",\"6\",\"8->9\"]\n",
    "    Explanation: The ranges are:\n",
    "    [0,0] --> \"0\"\n",
    "    [2,4] --> \"2->4\"\n",
    "    [6,6] --> \"6\"\n",
    "    [8,9] --> \"8->9\"\n",
    "\n",
    "**Constraints:**\n",
    "\n",
    "- `0 <= nums.length <= 20`\n",
    "- `2^31 <= nums[i] <= 2^31 - 1`\n",
    "- All the values of `nums` are unique.\n",
    "- `nums` is sorted in ascending order.\n"
   ]
  },
  {
   "cell_type": "code",
   "execution_count": 3,
   "metadata": {},
   "outputs": [],
   "source": [
    "class Solution:\n",
    "    # O(n) time | O(n) space (for output list) - where n is the length of the input list\n",
    "    def summaryRanges(self, nums: list[int]) -> list[str]:\n",
    "        if not nums:\n",
    "            return []\n",
    "\n",
    "        ranges: list[str] = []\n",
    "\n",
    "        # start of the current range\n",
    "        start = nums[0]\n",
    "        for i in range(1, len(nums)):\n",
    "            # if the current number is not consecutive, add the range to the list\n",
    "            if nums[i] != nums[i - 1] + 1:\n",
    "                # 1. if the range has only one number, add it to the list\n",
    "                if start == nums[i - 1]:\n",
    "                    ranges.append(str(start))\n",
    "                else:\n",
    "                    # 2. if the range has more than one number, add the range to the list\n",
    "                    ranges.append(f\"{start}->{nums[i - 1]}\")\n",
    "\n",
    "                # update the start of the next range\n",
    "                start = nums[i]\n",
    "\n",
    "        # add the last range\n",
    "        # 1. if the range has only one number, add it to the list\n",
    "        if start == nums[-1]:\n",
    "            ranges.append(str(start))\n",
    "        else:\n",
    "            # 2. if the range has more than one number, add the range to the list\n",
    "            ranges.append(f\"{start}->{nums[-1]}\")\n",
    "\n",
    "        return ranges"
   ]
  },
  {
   "cell_type": "code",
   "execution_count": 4,
   "metadata": {},
   "outputs": [
    {
     "name": "stdout",
     "output_type": "stream",
     "text": [
      "['0->2', '4->5', '7']\n",
      "['0', '2->4', '6', '8->9']\n"
     ]
    }
   ],
   "source": [
    "# Test cases\n",
    "\n",
    "summary_ranges = Solution().summaryRanges\n",
    "\n",
    "# Expected: [\"0->2\",\"4->5\",\"7\"]\n",
    "print(summary_ranges([0, 1, 2, 4, 5, 7]))\n",
    "\n",
    "# Expected: [\"0\",\"2->4\",\"6\",\"8->9\"]\n",
    "print(summary_ranges([0, 2, 3, 4, 6, 8, 9]))"
   ]
  }
 ],
 "metadata": {
  "kernelspec": {
   "display_name": "Python 3",
   "language": "python",
   "name": "python3"
  },
  "language_info": {
   "codemirror_mode": {
    "name": "ipython",
    "version": 3
   },
   "file_extension": ".py",
   "mimetype": "text/x-python",
   "name": "python",
   "nbconvert_exporter": "python",
   "pygments_lexer": "ipython3",
   "version": "3.11.1"
  }
 },
 "nbformat": 4,
 "nbformat_minor": 2
}
