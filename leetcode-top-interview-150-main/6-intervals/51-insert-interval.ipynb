{
 "cells": [
  {
   "cell_type": "markdown",
   "metadata": {},
   "source": [
    "# Question 49 - LC 57. Insert Interval\n",
    "\n",
    "You are given an array of non-overlapping `intervals` intervals where `intervals[i] = [starti, endi]` represent the start and the end of the `ith` interval and `intervals` is **sorted** in **ascending** order by `starti`. You are also given an interval `newInterval = [start, end]` that represents the start and end of another interval.\n",
    "\n",
    "Insert `newInterval` into `intervals` such that `intervals` is still sorted in ascending order by `starti` and `intervals` still does not have any overlapping intervals (merge overlapping intervals if necessary).\n",
    "\n",
    "Return `intervals` _after the insertion_.\n",
    "\n",
    "**Example 1:**\n",
    "\n",
    "    Input: intervals = [[1,3],[6,9]], newInterval = [2,5]\n",
    "    Output: [[1,5],[6,9]]\n",
    "\n",
    "**Example 2:**\n",
    "\n",
    "    Input: intervals = [[1,2],[3,5],[6,7],[8,10],[12,16]], newInterval = [4,8]\n",
    "    Output: [[1,2],[3,10],[12,16]]\n",
    "    Explanation: Because the new interval [4,8] overlaps with [3,5],[6,7],[8,10].\n",
    "\n",
    "**Constraints:**\n",
    "\n",
    "- `0 <= intervals.length <= 10^4`\n",
    "- `intervals[i].length == 2`\n",
    "- `0 <= starti <= endi <= 10^5`\n",
    "- `intervals` is sorted by `starti` in ascending order.\n",
    "- `newInterval.length == 2`\n",
    "- `0 <= start <= end <= 10^5`\n"
   ]
  },
  {
   "cell_type": "code",
   "execution_count": 1,
   "metadata": {},
   "outputs": [],
   "source": [
    "class Solution:\n",
    "    # Overall time complexity is O(N) dominated by the merge function\n",
    "    # Space complexity is O(N) due to the merged list\n",
    "    def insert(self, intervals: list[list[int]], newInterval: list[int]) -> list[list[int]]:\n",
    "        # binary search to find the insertion point for the new interval - O(log N)\n",
    "        def find_insertion_point():\n",
    "            low, high = 0, len(intervals) - 1\n",
    "            while low <= high:\n",
    "                mid = (low + high) // 2\n",
    "                if intervals[mid][0] < newInterval[0]:\n",
    "                    low = mid + 1\n",
    "                else:\n",
    "                    high = mid - 1\n",
    "            return low\n",
    "\n",
    "        insertion_point = find_insertion_point()\n",
    "\n",
    "        # Insert the new interval into the list\n",
    "        intervals.insert(insertion_point, newInterval)\n",
    "\n",
    "        # Now, merge overlapping intervals starting from the insertion point\n",
    "        return self.merge(intervals)\n",
    "\n",
    "    def merge(self, intervals: list[list[int]]) -> list[list[int]]:\n",
    "        # sort the intervals by the start value\n",
    "        intervals.sort(key=lambda x: x[0])\n",
    "\n",
    "        merged = []\n",
    "        for interval in intervals:\n",
    "            # if the list of merged intervals is empty or if the current interval does not overlap with the previous, simply append it.\n",
    "            if not merged or merged[-1][1] < interval[0]:\n",
    "                merged.append(interval)\n",
    "            else:\n",
    "                # otherwise, there is overlap, so we merge the current and previous intervals.\n",
    "                merged[-1][1] = max(merged[-1][1], interval[1])\n",
    "\n",
    "        return merged"
   ]
  },
  {
   "cell_type": "code",
   "execution_count": 2,
   "metadata": {},
   "outputs": [
    {
     "name": "stdout",
     "output_type": "stream",
     "text": [
      "[[1, 5], [6, 9]]\n",
      "[[1, 2], [3, 10], [12, 16]]\n"
     ]
    }
   ],
   "source": [
    "# Example\n",
    "solution = Solution()\n",
    "\n",
    "# Example 1\n",
    "intervals1 = [[1, 3], [6, 9]]\n",
    "new_interval1 = [2, 5]\n",
    "print(solution.insert(intervals1, new_interval1))\n",
    "\n",
    "# Example 2\n",
    "intervals2 = [[1, 2], [3, 5], [6, 7], [8, 10], [12, 16]]\n",
    "new_interval2 = [4, 8]\n",
    "print(solution.insert(intervals2, new_interval2))"
   ]
  }
 ],
 "metadata": {
  "kernelspec": {
   "display_name": "Python 3",
   "language": "python",
   "name": "python3"
  },
  "language_info": {
   "codemirror_mode": {
    "name": "ipython",
    "version": 3
   },
   "file_extension": ".py",
   "mimetype": "text/x-python",
   "name": "python",
   "nbconvert_exporter": "python",
   "pygments_lexer": "ipython3",
   "version": "3.11.7"
  }
 },
 "nbformat": 4,
 "nbformat_minor": 2
}
