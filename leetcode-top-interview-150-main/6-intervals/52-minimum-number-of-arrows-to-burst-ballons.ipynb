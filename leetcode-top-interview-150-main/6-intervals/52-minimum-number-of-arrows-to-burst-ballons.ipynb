{
 "cells": [
  {
   "cell_type": "markdown",
   "metadata": {},
   "source": [
    "# Question 50 - LC 452. Minimum Number of Arrows to Burst Balloons\n",
    "\n",
    "There are some spherical balloons taped onto a flat wall that represents the XY-plane. The balloons are represented as a 2D integer array `points` where `points[i] = [xstart, xend]` denotes a balloon whose horizontal diameter stretches between `xstart` and `xend`. You do not know the exact y-coordinates of the balloons.\n",
    "\n",
    "Arrows can be shot up **directly vertically** (in the positive y-direction) from different points along the x-axis. A balloon with `xstart` and `xend` is burst by an arrow shot at x if xstart <= x <= xend. There is no limit to the number of arrows that can be shot. A shot arrow keeps traveling up infinitely, bursting any balloons in its path.\n",
    "\n",
    "Given the array points, return the minimum number of arrows that must be shot to burst all balloons.\n",
    "\n",
    "**Example 1:**\n",
    "\n",
    "    Input: points = [[10,16],[2,8],[1,6],[7,12]]\n",
    "    Output: 2\n",
    "    Explanation: The balloons can be burst by 2 arrows:\n",
    "    - Shoot an arrow at x = 6, bursting the balloons [2,8] and [1,6].\n",
    "    - Shoot an arrow at x = 11, bursting the balloons [10,16] and [7,12].\n",
    "\n",
    "**Example 2:**\n",
    "\n",
    "    Input: points = [[1,2],[3,4],[5,6],[7,8]]\n",
    "    Output: 4\n",
    "    Explanation: One arrow needs to be shot for each balloon for a total of 4 arrows.\n",
    "\n",
    "**Example 3:**\n",
    "\n",
    "    Input: points = [[1,2],[2,3],[3,4],[4,5]]\n",
    "    Output: 2\n",
    "    Explanation: The balloons can be burst by 2 arrows:\n",
    "    - Shoot an arrow at x = 2, bursting the balloons [1,2] and [2,3].\n",
    "    - Shoot an arrow at x = 4, bursting the balloons [3,4] and [4,5].\n",
    "\n",
    "**Constraints:**\n",
    "\n",
    "- `1 <= points.length <= 10^5`\n",
    "- `points[i].length == 2`\n",
    "- `-2^31 <= xstart < xend <= 2^31 - 1`\n"
   ]
  },
  {
   "cell_type": "code",
   "execution_count": 1,
   "metadata": {},
   "outputs": [],
   "source": [
    "class Solution:\n",
    "    # solve with greedy algorithm - sort by end point\n",
    "    def findMinArrowShots(self, points: list[list[int]]) -> int:\n",
    "        # sort the balloons by end point -\n",
    "        # ensure to place an arrow as far to the right as possible\n",
    "        points.sort(key=lambda x: x[1])\n",
    "\n",
    "        # initialize the arrow count and arrow position\n",
    "        arrows = 1\n",
    "        arrow_pos = points[0][1]\n",
    "\n",
    "        # iterate through the balloons\n",
    "        for x_start, x_end in points:\n",
    "            # if the balloon is not popped by the current arrow\n",
    "            if arrow_pos < x_start:\n",
    "                # move the arrow to the end of the current balloon\n",
    "                arrow_pos = x_end\n",
    "                # increment the arrow count\n",
    "                arrows += 1\n",
    "\n",
    "        return arrows"
   ]
  },
  {
   "cell_type": "code",
   "execution_count": 2,
   "metadata": {},
   "outputs": [
    {
     "data": {
      "text/plain": [
       "[([[1, 6], [2, 8], [7, 12], [10, 16]], True, 2, 2),\n",
       " ([[1, 2], [3, 4], [5, 6], [7, 8]], True, 4, 4),\n",
       " ([[1, 2], [2, 3], [3, 4], [4, 5]], True, 2, 2)]"
      ]
     },
     "execution_count": 2,
     "metadata": {},
     "output_type": "execute_result"
    }
   ],
   "source": [
    "# Example\n",
    "findMinArrowShots = Solution().findMinArrowShots\n",
    "\n",
    "# Test cases\n",
    "test_cases = [\n",
    "    ([[10, 16], [2, 8], [1, 6], [7, 12]], 2),\n",
    "    ([[1, 2], [3, 4], [5, 6], [7, 8]], 4),\n",
    "    ([[1, 2], [2, 3], [3, 4], [4, 5]], 2),\n",
    "]\n",
    "\n",
    "# Execute test cases\n",
    "results = []\n",
    "for points, expected in test_cases:\n",
    "    result = findMinArrowShots(points)\n",
    "    results.append((points, result == expected, expected, result))\n",
    "\n",
    "results"
   ]
  },
  {
   "cell_type": "markdown",
   "metadata": {},
   "source": [
    "The complexity of the \"Minimum Number of Arrows to Burst Balloons\" algorithm can be analyzed in terms of time complexity and space complexity:\n",
    "\n",
    "### Time Complexity\n",
    "\n",
    "1. **Sorting the Balloons**: The initial step of the algorithm involves sorting the `points` array based on the ending coordinates of the balloons. The time complexity of sorting is \\(O(n \\log n)\\), where \\(n\\) is the number of balloons (intervals).\n",
    "\n",
    "2. **Iterating through the Sorted Balloons**: After sorting, the algorithm iterates through the sorted balloons exactly once to determine the minimum number of arrows needed. This iteration is linear, contributing a time complexity of \\(O(n)\\).\n",
    "\n",
    "Combining these steps, the dominant factor is the sorting step, making the overall time complexity of the algorithm \\(O(n \\log n)\\).\n",
    "\n",
    "### Space Complexity\n",
    "\n",
    "1. **Sorting the Balloons**: The space complexity of sorting depends on the implementation of the sort algorithm. In many languages, sorting is implemented in a way that requires \\(O(\\log n)\\) space for the recursion stack (in case of algorithms like quicksort or mergesort). However, if a sorting algorithm that requires \\(O(1)\\) auxiliary space (such as heapsort) is used, the space complexity could be considered constant relative to the input.\n",
    "\n",
    "2. **No Additional Significant Space**: The algorithm uses a few variables to keep track of the current arrow position and the count of arrows, which only requires \\(O(1)\\) space.\n",
    "\n",
    "Therefore, the overall space complexity is \\(O(\\log n)\\) due to the sorting step, assuming a sorting algorithm that uses \\(O(\\log n)\\) space is used. If a more space-efficient sorting algorithm is used, the space complexity could be considered \\(O(1)\\) in terms of extra space required beyond the input.\n"
   ]
  }
 ],
 "metadata": {
  "kernelspec": {
   "display_name": "Python 3",
   "language": "python",
   "name": "python3"
  },
  "language_info": {
   "codemirror_mode": {
    "name": "ipython",
    "version": 3
   },
   "file_extension": ".py",
   "mimetype": "text/x-python",
   "name": "python",
   "nbconvert_exporter": "python",
   "pygments_lexer": "ipython3",
   "version": "3.11.7"
  }
 },
 "nbformat": 4,
 "nbformat_minor": 2
}
