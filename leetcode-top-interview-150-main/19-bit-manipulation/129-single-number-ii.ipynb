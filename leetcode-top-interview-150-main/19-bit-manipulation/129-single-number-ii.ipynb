{
 "cells": [
  {
   "cell_type": "markdown",
   "metadata": {},
   "source": [
    "# Question 127 - LC 137. Single Number II\n",
    "\n",
    "Given an integer array nums where every element appears **three times** except for one, which appears exactly once. Find the single element and return it.\n",
    "\n",
    "You must implement a solution with a `linear` runtime complexity and use only `constant` extra space.\n",
    "\n",
    "## Example 1:\n",
    "\n",
    "    Input: nums = [2,2,3,2]\n",
    "    Output: 3\n",
    "\n",
    "## Example 2:\n",
    "\n",
    "    Input: nums = [0,1,0,1,0,1,99]\n",
    "    Output: 99\n",
    "\n",
    "## Constraints:\n",
    "\n",
    "- `1 <= nums.length <= 3 * 10^4`\n",
    "- -`2^31 <= nums[i] <= 2^31 - 1`\n",
    "- Each element in nums appears exactly three times except for one element which appears once.\n"
   ]
  },
  {
   "cell_type": "code",
   "execution_count": 2,
   "metadata": {},
   "outputs": [],
   "source": [
    "class Solution:\n",
    "    def singleNumber(self, nums: list[int]) -> int:\n",
    "        ones, twos, threes = 0, 0, 0\n",
    "        for num in nums:\n",
    "            # Update `twos` by adding bits that have appeared twice\n",
    "            twos |= ones & num\n",
    "            # Update `ones` by adding current number\n",
    "            ones ^= num\n",
    "            # `threes` gets bits that have appeared three times\n",
    "            threes = ones & twos\n",
    "            # Remove bits that have appeared three times from `ones` and `twos`\n",
    "            ones &= ~threes\n",
    "            twos &= ~threes\n",
    "        # The single element is stored in `ones` because it appears exactly once\n",
    "        return ones"
   ]
  },
  {
   "cell_type": "code",
   "execution_count": 3,
   "metadata": {},
   "outputs": [],
   "source": [
    "# Examples\n",
    "s = Solution()\n",
    "\n",
    "# Example 1\n",
    "assert s.singleNumber([2, 2, 3, 2]) == 3\n",
    "\n",
    "# Example 2\n",
    "assert s.singleNumber([0, 1, 0, 1, 0, 1, 99]) == 99"
   ]
  }
 ],
 "metadata": {
  "kernelspec": {
   "display_name": "Python 3",
   "language": "python",
   "name": "python3"
  },
  "language_info": {
   "codemirror_mode": {
    "name": "ipython",
    "version": 3
   },
   "file_extension": ".py",
   "mimetype": "text/x-python",
   "name": "python",
   "nbconvert_exporter": "python",
   "pygments_lexer": "ipython3",
   "version": "3.9.13"
  }
 },
 "nbformat": 4,
 "nbformat_minor": 2
}
