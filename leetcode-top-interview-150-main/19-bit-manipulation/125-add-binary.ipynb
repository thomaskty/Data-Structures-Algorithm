{
 "cells": [
  {
   "cell_type": "markdown",
   "metadata": {},
   "source": [
    "# Question 123 - LC 67. Add Binary\n",
    "\n",
    "Given two binary strings `a` and `b`, return _their sum as a binary string_.\n",
    "\n",
    "## Example 1:\n",
    "\n",
    "    Input: a = \"11\", b = \"1\"\n",
    "    Output: \"100\"\n",
    "\n",
    "## Example 2:\n",
    "\n",
    "    Input: a = \"1010\", b = \"1011\"\n",
    "    Output: \"10101\"\n",
    "\n",
    "## Constraints:\n",
    "\n",
    "- `1 <= a.length, b.length <= 104`\n",
    "- `a` and `b` consist only of `'0'` or `'1'` characters.\n",
    "- Each string does not contain leading zeros except for the zero itself.\n"
   ]
  },
  {
   "cell_type": "code",
   "execution_count": 1,
   "metadata": {},
   "outputs": [],
   "source": [
    "class Solution:\n",
    "    def addBinary(self, a: str, b: str) -> str:\n",
    "        result = []\n",
    "        carry = 0\n",
    "\n",
    "        # pointer for a and b\n",
    "        i, j = len(a) - 1, len(b) - 1\n",
    "\n",
    "        while i >= 0 or j >= 0 or carry:\n",
    "            # Convert char to int if index is valid, else take 0\n",
    "            bit_a = int(a[i]) if i >= 0 else 0\n",
    "            bit_b = int(b[j]) if j >= 0 else 0\n",
    "\n",
    "            # Calculate the sum and carry\n",
    "            total = bit_a + bit_b + carry\n",
    "            result.append(str(total % 2))  # Append the remainder (0 or 1)\n",
    "            carry = total // 2  # Update the carry\n",
    "\n",
    "            # Move to the next digits\n",
    "            i -= 1\n",
    "            j -= 1\n",
    "\n",
    "        # The result is in reverse order\n",
    "        return ''.join(reversed(result))"
   ]
  },
  {
   "cell_type": "code",
   "execution_count": 2,
   "metadata": {},
   "outputs": [
    {
     "name": "stdout",
     "output_type": "stream",
     "text": [
      "100\n",
      "10101\n"
     ]
    }
   ],
   "source": [
    "# Example usage\n",
    "s = Solution()\n",
    "\n",
    "a = \"11\"\n",
    "b = \"1\"\n",
    "print(s.addBinary(a, b))  # Output: \"100\"\n",
    "\n",
    "a = \"1010\"\n",
    "b = \"1011\"\n",
    "print(s.addBinary(a, b))  # Output: \"10101\""
   ]
  }
 ],
 "metadata": {
  "kernelspec": {
   "display_name": "Python 3",
   "language": "python",
   "name": "python3"
  },
  "language_info": {
   "codemirror_mode": {
    "name": "ipython",
    "version": 3
   },
   "file_extension": ".py",
   "mimetype": "text/x-python",
   "name": "python",
   "nbconvert_exporter": "python",
   "pygments_lexer": "ipython3",
   "version": "3.9.13"
  }
 },
 "nbformat": 4,
 "nbformat_minor": 2
}
