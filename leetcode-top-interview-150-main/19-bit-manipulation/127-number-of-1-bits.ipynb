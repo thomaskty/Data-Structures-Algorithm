{
 "cells": [
  {
   "cell_type": "markdown",
   "metadata": {},
   "source": [
    "# Question 125 - LC 191. Number of 1 Bits\n",
    "\n",
    "Write a function that takes the binary representation of a positive integer and returns the number of set bits it has (also known as the Hamming weight).\n",
    "\n",
    "## Example 1:\n",
    "\n",
    "    Input: n = 11\n",
    "\n",
    "    Output: 3\n",
    "\n",
    "    Explanation:\n",
    "\n",
    "    The input binary string 1011 has a total of three set bits.\n",
    "\n",
    "## Example 2:\n",
    "\n",
    "    Input: n = 128\n",
    "\n",
    "    Output: 1\n",
    "\n",
    "    Explanation:\n",
    "\n",
    "    The input binary string 10000000 has a total of one set bit.\n",
    "\n",
    "## Example 3:\n",
    "\n",
    "    Input: n = 2147483645\n",
    "\n",
    "    Output: 30\n",
    "\n",
    "    Explanation:\n",
    "\n",
    "    The input binary string 1111111111111111111111111111101 has a total of thirty set bits.\n",
    "\n",
    "## Constraints:\n",
    "\n",
    "`1 <= n <= 2^31 - 1`\n",
    "\n",
    "**Follow up**: If this function is called many times, how would you optimize it?\n"
   ]
  },
  {
   "cell_type": "code",
   "execution_count": 1,
   "metadata": {},
   "outputs": [],
   "source": [
    "class Solution:\n",
    "    def hammingWeight(self, n: int) -> int:\n",
    "        return bin(n).count('1')\n",
    "\n",
    "    def hamming_weight(self, n: int) -> int:\n",
    "        count = 0\n",
    "        while n:\n",
    "            count += n & 1  # Adds 1 to count if the least significant bit is 1\n",
    "            n >>= 1  # Shifts bits to the right by 1, effectively dividing n by 2\n",
    "        return count"
   ]
  },
  {
   "cell_type": "code",
   "execution_count": 2,
   "metadata": {},
   "outputs": [
    {
     "name": "stdout",
     "output_type": "stream",
     "text": [
      "30\n",
      "30\n"
     ]
    }
   ],
   "source": [
    "s = Solution()\n",
    "\n",
    "n = 2147483645\n",
    "print(s.hammingWeight(n))  # 30\n",
    "print(s.hamming_weight(n))  # 30"
   ]
  }
 ],
 "metadata": {
  "kernelspec": {
   "display_name": "Python 3",
   "language": "python",
   "name": "python3"
  },
  "language_info": {
   "codemirror_mode": {
    "name": "ipython",
    "version": 3
   },
   "file_extension": ".py",
   "mimetype": "text/x-python",
   "name": "python",
   "nbconvert_exporter": "python",
   "pygments_lexer": "ipython3",
   "version": "3.9.13"
  }
 },
 "nbformat": 4,
 "nbformat_minor": 2
}
