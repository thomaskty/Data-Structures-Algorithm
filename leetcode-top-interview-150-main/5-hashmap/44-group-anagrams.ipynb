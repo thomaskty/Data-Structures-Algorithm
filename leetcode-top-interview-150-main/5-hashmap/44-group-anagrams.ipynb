{
 "cells": [
  {
   "cell_type": "markdown",
   "metadata": {},
   "source": [
    "# Question 42 - LC 49. Group Anagrams\n",
    "\n",
    "Given an array of strings `strs`, group **the anagrams** together. You can return the answer in any order.\n",
    "\n",
    "An **Anagram** is a word or phrase formed by rearranging the letters of a different word or phrase, typically using all the original letters exactly once.\n",
    "\n",
    "**Example 1:**\n",
    "\n",
    "    Input: strs = [\"eat\",\"tea\",\"tan\",\"ate\",\"nat\",\"bat\"]\n",
    "    Output: [[\"bat\"],[\"nat\",\"tan\"],[\"ate\",\"eat\",\"tea\"]]\n",
    "\n",
    "**Example 2:**\n",
    "\n",
    "    Input: strs = [\"\"]\n",
    "    Output: [[\"\"]]\n",
    "\n",
    "**Example 3:**\n",
    "\n",
    "    Input: strs = [\"a\"]\n",
    "    Output: [[\"a\"]]\n",
    "\n",
    "**Constraints:**\n",
    "\n",
    "- `1 <= strs.length <= 10^4`\n",
    "- `0 <= strs[i].length <= 100`\n",
    "- `strs[i]` consists of lowercase English letters.\n"
   ]
  },
  {
   "cell_type": "code",
   "execution_count": 3,
   "metadata": {},
   "outputs": [],
   "source": [
    "class Solution:\n",
    "    def groupAnagrams(self, strs: list[str]) -> list[list[str]]:\n",
    "        # Dictionary to hold sorted string as key and list of anagrams as value\n",
    "        anagrams: dict[str, list[str]] = {}\n",
    "        \n",
    "        # Iterate through each string in strs\n",
    "        for s in strs:\n",
    "            # Sort the string\n",
    "            sorted_s = ''.join(sorted(s))\n",
    "            \n",
    "            # If sorted string is not in dictionary, add it with empty list as value\n",
    "            if sorted_s not in anagrams:\n",
    "                anagrams[sorted_s] = []\n",
    "            \n",
    "            # Append the string to the list of anagrams\n",
    "            anagrams[sorted_s].append(s)\n",
    "            \n",
    "        # Return the values of the dictionary\n",
    "        return list(anagrams.values())"
   ]
  },
  {
   "cell_type": "code",
   "execution_count": 4,
   "metadata": {},
   "outputs": [
    {
     "data": {
      "text/plain": [
       "([['eat', 'tea', 'ate'], ['tan', 'nat'], ['bat']], [['']], [['a']])"
      ]
     },
     "execution_count": 4,
     "metadata": {},
     "output_type": "execute_result"
    }
   ],
   "source": [
    "# Test the function with the provided examples\n",
    "\n",
    "group_anagrams = Solution().groupAnagrams\n",
    "\n",
    "example1 = [\"eat\", \"tea\", \"tan\", \"ate\", \"nat\", \"bat\"]\n",
    "example2 = [\"\"]\n",
    "example3 = [\"a\"]\n",
    "\n",
    "result1 = group_anagrams(example1)\n",
    "result2 = group_anagrams(example2)\n",
    "result3 = group_anagrams(example3)\n",
    "\n",
    "result1, result2, result3"
   ]
  },
  {
   "cell_type": "markdown",
   "metadata": {},
   "source": [
    "### Time Complexity\n",
    "\n",
    "1. **Sorting Each String**: The time complexity of sorting each string is \\(O(K \\log K)\\), where \\(K\\) is the maximum length of a string in the input list. Since each string is sorted individually, this operation is performed \\(N\\) times where \\(N\\) is the number of strings in the input list. Thus, the overall time complexity for sorting is \\(O(NK \\log K)\\).\n",
    "\n",
    "2. **Grouping Anagrams**: After sorting, the algorithm iterates through the list of strings once and performs insertions into a hash table (dictionary in Python). The insertion operation in a hash table can be considered \\(O(1)\\) on average. However, since we are considering the operation of constructing the key (which involves joining sorted characters of a string) and then inserting, the overall time for this step is dominated by the sorting step mentioned above.\n",
    "\n",
    "Therefore, the **total time complexity** of the algorithm is \\(O(NK \\log K)\\), dominated by the sorting of strings.\n",
    "\n",
    "### Space Complexity\n",
    "\n",
    "1. **Hash Table Storage**: The algorithm uses a hash table to group anagrams, where the keys are sorted strings, and the values are lists of anagrams. In the worst case, if all strings are unique (no anagrams), the space required to store these keys and values would be \\(O(NK)\\), where \\(N\\) is the number of strings and \\(K\\) is the maximum length of a string.\n",
    "\n",
    "2. **Output List**: Since the output is a list of lists containing all input strings grouped as anagrams, the space required for the output is \\(O(NK)\\), the same as the input size.\n",
    "\n",
    "Thus, the **total space complexity** of the algorithm is \\(O(NK)\\) for storing the hash table and the output. However, it's important to note that this does not consider the space for the input itself; it only considers the additional space required by the algorithm.\n"
   ]
  }
 ],
 "metadata": {
  "kernelspec": {
   "display_name": "Python 3",
   "language": "python",
   "name": "python3"
  },
  "language_info": {
   "codemirror_mode": {
    "name": "ipython",
    "version": 3
   },
   "file_extension": ".py",
   "mimetype": "text/x-python",
   "name": "python",
   "nbconvert_exporter": "python",
   "pygments_lexer": "ipython3",
   "version": "3.11.7"
  }
 },
 "nbformat": 4,
 "nbformat_minor": 2
}
