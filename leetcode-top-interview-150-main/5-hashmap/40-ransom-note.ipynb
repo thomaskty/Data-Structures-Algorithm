{
 "cells": [
  {
   "cell_type": "markdown",
   "metadata": {},
   "source": [
    "# Question 38 - LC 383. Ransom Note\n",
    "\n",
    "Given two strings `ransomNote` and `magazine`, return `true` if `ransomNote` _can be constructed by using the letters from_ `magazine` and `false` otherwise.\n",
    "\n",
    "Each letter in `magazine` can only be used once in `ransomNote`.\n",
    "\n",
    "**Example 1:**\n",
    "\n",
    "    Input: ransomNote = \"a\", magazine = \"b\"\n",
    "    Output: false\n",
    "\n",
    "**Example 2:**\n",
    "\n",
    "    Input: ransomNote = \"aa\", magazine = \"ab\"\n",
    "    Output: false\n",
    "\n",
    "**Example 3:**\n",
    "\n",
    "    Input: ransomNote = \"aa\", magazine = \"aab\"\n",
    "    Output: true\n",
    "\n",
    "**Constraints:**\n",
    "\n",
    "- `1 <= ransomNote.length, magazine.length <= 10^5`\n",
    "- `ransomNote` and `magazine` consist of lowercase English letters.\n"
   ]
  },
  {
   "cell_type": "code",
   "execution_count": 7,
   "metadata": {},
   "outputs": [],
   "source": [
    "class Solution:\n",
    "    # O(n) time complexity: iterate over both strings once\n",
    "    # O(n) space complexity: store all chars of magazine in dict\n",
    "    def canConstruct(self, ransomNote: str, magazine: str) -> bool:\n",
    "        # create a dictionary to store the freq of each char in the magazine\n",
    "        magazine_chars = {}\n",
    "\n",
    "        for char in magazine:\n",
    "            if char in magazine_chars:\n",
    "                # Increment the count if the character is already in the dictionary\n",
    "                magazine_chars[char] += 1\n",
    "            else:\n",
    "                # Initialize the count to 1 for new characters\n",
    "                magazine_chars[char] = 1\n",
    "\n",
    "        # check if the ransom note can be constructed\n",
    "        for char in ransomNote:\n",
    "            # Return False if the character is not in the magazine or has been used up\n",
    "            if char not in magazine_chars or magazine_chars[char] == 0:\n",
    "                return False\n",
    "            # Decrement the count of the character used\n",
    "            magazine_chars[char] -= 1\n",
    "\n",
    "         # Return True if all characters in ransomNote can be constructed from the magazine\n",
    "        return True"
   ]
  },
  {
   "cell_type": "code",
   "execution_count": 8,
   "metadata": {},
   "outputs": [
    {
     "data": {
      "text/plain": [
       "(False, False, True)"
      ]
     },
     "execution_count": 8,
     "metadata": {},
     "output_type": "execute_result"
    }
   ],
   "source": [
    "# Testing the function with the provided examples\n",
    "\n",
    "can_construct = Solution().canConstruct\n",
    "\n",
    "example1 = can_construct(\"a\", \"b\")  # Expected: False\n",
    "example2 = can_construct(\"aa\", \"ab\")  # Expected: False\n",
    "example3 = can_construct(\"aa\", \"aab\")  # Expected: True\n",
    "\n",
    "example1, example2, example3"
   ]
  }
 ],
 "metadata": {
  "kernelspec": {
   "display_name": "Python 3",
   "language": "python",
   "name": "python3"
  },
  "language_info": {
   "codemirror_mode": {
    "name": "ipython",
    "version": 3
   },
   "file_extension": ".py",
   "mimetype": "text/x-python",
   "name": "python",
   "nbconvert_exporter": "python",
   "pygments_lexer": "ipython3",
   "version": "3.11.7"
  }
 },
 "nbformat": 4,
 "nbformat_minor": 2
}
