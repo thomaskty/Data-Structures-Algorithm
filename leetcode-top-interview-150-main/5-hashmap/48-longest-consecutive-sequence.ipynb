{
 "cells": [
  {
   "cell_type": "markdown",
   "metadata": {},
   "source": [
    "# Question - LC 128. Longest Consecutive Sequence\n",
    "\n",
    "Given an unsorted array of integers `nums`, return _the length of the longest consecutive elements sequence_.\n",
    "\n",
    "You must write an algorithm that runs in `O(n)` time.\n",
    "\n",
    "**Example 1:**\n",
    "\n",
    "    Input: nums = [100,4,200,1,3,2]\n",
    "    Output: 4\n",
    "    Explanation: The longest consecutive elements sequence is [1, 2, 3, 4]. Therefore its length is 4.\n",
    "\n",
    "Example 2:\n",
    "\n",
    "    Input: nums = [0,3,7,2,5,8,4,6,0,1]\n",
    "    Output: 9\n",
    "\n",
    "**Constraints:**\n",
    "\n",
    "- `0 <= nums.length <= 10^5`\n",
    "- `-10^9 <= nums[i] <= 10^9`\n"
   ]
  },
  {
   "cell_type": "code",
   "execution_count": 1,
   "metadata": {},
   "outputs": [],
   "source": [
    "class Solution:\n",
    "    # O(n) time complexity: iterate through nums once\n",
    "    # O(n) space complexity: set of nums\n",
    "    def longestConsecutive(self, nums: list[int]) -> int:\n",
    "        if not nums:\n",
    "            return 0\n",
    "\n",
    "        # insert all numbers into a set\n",
    "        # Convert nums into a set (nums_set) to remove duplicates and allow for O(1) existence checks.\n",
    "        nums_set = set(nums)\n",
    "\n",
    "        # initialize longest_streak\n",
    "        longest_streak = 0\n",
    "\n",
    "        # iterate through the set\n",
    "        for num in nums_set:\n",
    "            # for each number, check if it is the start of a sequence\n",
    "            if num - 1 not in nums_set:\n",
    "                current_num = num\n",
    "                current_streak = 1\n",
    "                # explore the sequence - keep checking an incrementing the current number\n",
    "                while current_num + 1 in nums_set:\n",
    "                    current_num += 1\n",
    "                    current_streak += 1\n",
    "\n",
    "                # update the longest_streak\n",
    "                longest_streak = max(longest_streak, current_streak)\n",
    "\n",
    "        return longest_streak"
   ]
  },
  {
   "cell_type": "code",
   "execution_count": 2,
   "metadata": {},
   "outputs": [
    {
     "name": "stdout",
     "output_type": "stream",
     "text": [
      "4\n",
      "9\n"
     ]
    }
   ],
   "source": [
    "# Testing\n",
    "longestConsecutive = Solution().longestConsecutive\n",
    "\n",
    "# Example 1\n",
    "\n",
    "nums1 = [100, 4, 200, 1, 3, 2]\n",
    "print(longestConsecutive(nums1))  # Output: 4\n",
    "\n",
    "# Example 2\n",
    "nums2 = [0, 3, 7, 2, 5, 8, 4, 6, 0, 1]\n",
    "print(longestConsecutive(nums2))  # Output: 9"
   ]
  }
 ],
 "metadata": {
  "kernelspec": {
   "display_name": "Python 3",
   "language": "python",
   "name": "python3"
  },
  "language_info": {
   "codemirror_mode": {
    "name": "ipython",
    "version": 3
   },
   "file_extension": ".py",
   "mimetype": "text/x-python",
   "name": "python",
   "nbconvert_exporter": "python",
   "pygments_lexer": "ipython3",
   "version": "3.11.7"
  }
 },
 "nbformat": 4,
 "nbformat_minor": 2
}
