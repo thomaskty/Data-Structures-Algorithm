{
 "cells": [
  {
   "cell_type": "markdown",
   "metadata": {},
   "source": [
    "# Question 40 - 290. Word Pattern\n",
    "\n",
    "Given a `pattern` and a string s, find if s follows the same pattern.\n",
    "\n",
    "Here follow means a full match, such that there is a bijection between a letter in `pattern` and a **non-empty** word in `s`.\n",
    "\n",
    "**Example 1:**\n",
    "\n",
    "    Input: pattern = \"abba\", s = \"dog cat cat dog\"\n",
    "    Output: true\n",
    "\n",
    "**Example 2:**\n",
    "\n",
    "    Input: pattern = \"abba\", s = \"dog cat cat fish\"\n",
    "    Output: false\n",
    "\n",
    "**Example 3:**\n",
    "\n",
    "    Input: pattern = \"aaaa\", s = \"dog cat cat dog\"\n",
    "    Output: false\n",
    "\n",
    "**Constraints:**\n",
    "\n",
    "- `1 <= pattern.length <= 300`\n",
    "- `pattern` contains only lower-case English letters.\n",
    "- `1 <= s.length <= 3000`\n",
    "- `s` contains only lowercase English letters and spaces `' '`.\n",
    "- `s` **does not contain** any leading or trailing spaces.\n",
    "- All the words in `s` are separated by **a single space**.\n"
   ]
  },
  {
   "cell_type": "code",
   "execution_count": 1,
   "metadata": {},
   "outputs": [],
   "source": [
    "class Solution:\n",
    "    def wordPattern(self, pattern: str, s: str) -> bool:\n",
    "        # Split the string into words\n",
    "        words = s.split()\n",
    "\n",
    "        # If the number of elements in pattern and words don't match, return False\n",
    "        if len(pattern) != len(words):\n",
    "            return False\n",
    "\n",
    "        # Dictionary to store the mapping of pattern characters to words\n",
    "        mapping = {}\n",
    "\n",
    "        # Iterate over the pattern characters and corresponding words\n",
    "        for char, word in zip(pattern, words):\n",
    "            # Check if the character is already mapped to a different word,\n",
    "            # or if the word is mapped to a different character\n",
    "            if (char in mapping and mapping[char] != word) or \\\n",
    "                    (word in mapping.values() and char not in mapping):\n",
    "                return False\n",
    "\n",
    "            # Map the character to the word\n",
    "            mapping[char] = word\n",
    "\n",
    "        # If all checks pass, return True\n",
    "        return True"
   ]
  },
  {
   "cell_type": "code",
   "execution_count": 2,
   "metadata": {},
   "outputs": [
    {
     "data": {
      "text/plain": [
       "[True, False, False]"
      ]
     },
     "execution_count": 2,
     "metadata": {},
     "output_type": "execute_result"
    }
   ],
   "source": [
    "# Test the function with the provided examples\n",
    "word_pattern = Solution().wordPattern\n",
    "\n",
    "test_cases = [\n",
    "    (\"abba\", \"dog cat cat dog\"),  # Example 1\n",
    "    (\"abba\", \"dog cat cat fish\"),  # Example 2\n",
    "    (\"aaaa\", \"dog cat cat dog\")   # Example 3\n",
    "]\n",
    "\n",
    "results = [word_pattern(pattern, s) for pattern, s in test_cases]\n",
    "results"
   ]
  }
 ],
 "metadata": {
  "kernelspec": {
   "display_name": "Python 3",
   "language": "python",
   "name": "python3"
  },
  "language_info": {
   "codemirror_mode": {
    "name": "ipython",
    "version": 3
   },
   "file_extension": ".py",
   "mimetype": "text/x-python",
   "name": "python",
   "nbconvert_exporter": "python",
   "pygments_lexer": "ipython3",
   "version": "3.11.7"
  }
 },
 "nbformat": 4,
 "nbformat_minor": 2
}
