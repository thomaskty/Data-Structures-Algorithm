{
 "cells": [
  {
   "cell_type": "markdown",
   "metadata": {},
   "source": [
    "# Question 45 - 219. Contains Duplicate II\n",
    "\n",
    "Given an integer array `nums` and an integer `k`, return `true` _if there are two distinct indices_ `i` and `j` in the array such that `nums[i] == nums[j]` and `abs(i - j) <= k`.\n",
    "\n",
    "**Example 1:**\n",
    "\n",
    "    Input: nums = [1,2,3,1], k = 3\n",
    "    Output: true\n",
    "\n",
    "**Example 2:**\n",
    "\n",
    "    Input: nums = [1,0,1,1], k = 1\n",
    "    Output: true\n",
    "\n",
    "**Example 3:**\n",
    "\n",
    "    Input: nums = [1,2,3,1,2,3], k = 2\n",
    "    Output: false\n",
    "\n",
    "**Constraints:**\n",
    "\n",
    "- `1 <= nums.length <= 10^5`\n",
    "- `-10^9 <= nums[i] <= 10^9`\n",
    "- `0 <= k <= 10^5`\n"
   ]
  },
  {
   "cell_type": "code",
   "execution_count": 1,
   "metadata": {},
   "outputs": [],
   "source": [
    "class Solution:\n",
    "    def containsNearbyDuplicate(self, nums: list[int], k: int) -> bool:\n",
    "        # init a dict to store the index of each number encountered\n",
    "        num_to_index = {}\n",
    "\n",
    "        # iterate through the list\n",
    "        for i, num in enumerate(nums):\n",
    "            # if the number is already in the dict and the difference between the current index and the previous index is less than or equal to k\n",
    "            if num in num_to_index and i - num_to_index[num] <= k:\n",
    "                return True\n",
    "            # update the index of the number\n",
    "            num_to_index[num] = i\n",
    "\n",
    "        # if no such pair of numbers found\n",
    "        return False"
   ]
  },
  {
   "cell_type": "code",
   "execution_count": 2,
   "metadata": {},
   "outputs": [
    {
     "data": {
      "text/plain": [
       "[True, True, False]"
      ]
     },
     "execution_count": 2,
     "metadata": {},
     "output_type": "execute_result"
    }
   ],
   "source": [
    "# Test the function with the provided examples\n",
    "\n",
    "contains_nearby_duplicate = Solution().containsNearbyDuplicate\n",
    "\n",
    "test_cases = [\n",
    "    ([1, 2, 3, 1], 3),  # Example 1\n",
    "    ([1, 0, 1, 1], 1),  # Example 2\n",
    "    ([1, 2, 3, 1, 2, 3], 2)  # Example 3\n",
    "]\n",
    "\n",
    "# Execute test cases\n",
    "results = [contains_nearby_duplicate(nums, k) for nums, k in test_cases]\n",
    "results"
   ]
  },
  {
   "cell_type": "markdown",
   "metadata": {},
   "source": [
    "Let's analyze the time and space complexity of the solution to the \"Contains Duplicate II\" problem:\n",
    "\n",
    "### Time Complexity\n",
    "\n",
    "- **O(n)**: The algorithm iterates through the list `nums` exactly once, where `n` is the length of `nums`. During each iteration, it performs constant time operations, including checking if an element is in the dictionary, comparing indices, and updating the dictionary. Since dictionary operations such as checking for a key and updating a key-value pair are generally considered O(1) on average due to the hash table implementation, the overall time complexity is linear with respect to the size of the input array.\n",
    "\n",
    "### Space Complexity\n",
    "\n",
    "- **O(min(n, k))**: The space complexity depends on the size of the dictionary that the algorithm maintains during its execution. In the worst case, the dictionary could store an entry for each unique element in `nums`. However, because the algorithm updates the dictionary to only keep the most recent index for each number, and we're only interested in duplicates within `k` indices of each other, the actual space used is bounded by the smaller of `n` (the total number of elements) and `k` (the maximum distance between duplicate values we're checking for). In cases where `k` is less than the number of unique values in `nums`, the dictionary's size will be limited to `k` entries at most. Therefore, the space complexity can be considered O(min(n, k)).\n",
    "\n",
    "This analysis shows that the algorithm is efficient both in terms of time and space for solving the problem, making it suitable for large datasets."
   ]
  }
 ],
 "metadata": {
  "kernelspec": {
   "display_name": "Python 3",
   "language": "python",
   "name": "python3"
  },
  "language_info": {
   "codemirror_mode": {
    "name": "ipython",
    "version": 3
   },
   "file_extension": ".py",
   "mimetype": "text/x-python",
   "name": "python",
   "nbconvert_exporter": "python",
   "pygments_lexer": "ipython3",
   "version": "3.11.7"
  }
 },
 "nbformat": 4,
 "nbformat_minor": 2
}
