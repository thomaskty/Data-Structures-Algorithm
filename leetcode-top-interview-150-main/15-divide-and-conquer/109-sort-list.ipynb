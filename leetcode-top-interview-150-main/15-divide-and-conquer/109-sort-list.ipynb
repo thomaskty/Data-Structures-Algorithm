{
 "cells": [
  {
   "cell_type": "markdown",
   "metadata": {},
   "source": [
    "# Question 107 - LC 148. Sort List\n",
    "\n",
    "Given the `head` of a linked list, return the list after sorting it in _ascending order_.\n",
    "\n",
    "## Example 1:\n",
    "\n",
    "Input: head = [4,2,1,3]\n",
    "Output: [1,2,3,4]\n",
    "\n",
    "## Example 2:\n",
    "\n",
    "Input: head = [-1,5,3,4,0]\n",
    "Output: [-1,0,3,4,5]\n",
    "\n",
    "## Example 3:\n",
    "\n",
    "Input: head = []\n",
    "Output: []\n",
    "\n",
    "## Constraints:\n",
    "\n",
    "- The number of nodes in the list is in the range `[0, 5 * 104]`.\n",
    "- `-10^5 <= Node.val <= 10^5`\n",
    "\n",
    "Follow up: Can you sort the linked list in `O(n logn) time and O(1) memory` (i.e. constant space)?\n"
   ]
  },
  {
   "cell_type": "code",
   "execution_count": 5,
   "metadata": {},
   "outputs": [],
   "source": [
    "from __future__ import annotations\n",
    "from typing import Optional"
   ]
  },
  {
   "cell_type": "code",
   "execution_count": 6,
   "metadata": {},
   "outputs": [],
   "source": [
    "# Definition for singly-linked list.\n",
    "class ListNode:\n",
    "    def __init__(self, val: int = 0, next: Optional[ListNode] = None):\n",
    "        self.val = val\n",
    "        self.next = next\n",
    "\n",
    "    @staticmethod\n",
    "    def from_list(l: list[int]) -> ListNode | None:\n",
    "        if not l:  # Check if the list is empty\n",
    "            return None  # Return None if the list is empty\n",
    "        head = ListNode(l[0])\n",
    "        current = head\n",
    "        for i in l[1:]:\n",
    "            current.next = ListNode(i)\n",
    "            current = current.next\n",
    "        return head\n",
    "\n",
    "    def to_list(self) -> list[int]:\n",
    "        l = [self.val]\n",
    "        current = self\n",
    "        while current.next:\n",
    "            current = current.next\n",
    "            l.append(current.val)\n",
    "        return l\n",
    "\n",
    "    def print(self) -> None:\n",
    "        print(self.to_list())"
   ]
  },
  {
   "cell_type": "code",
   "execution_count": 7,
   "metadata": {},
   "outputs": [],
   "source": [
    "class Solution:\n",
    "    def sortList(self, head: Optional[ListNode]) -> Optional[ListNode]:\n",
    "        if not head or not head.next:\n",
    "            return head\n",
    "\n",
    "        # split the list into two halves\n",
    "        prev, slow, fast = None, head, head\n",
    "\n",
    "        while fast and fast.next:\n",
    "            prev = slow\n",
    "            slow = slow.next\n",
    "            fast = fast.next.next\n",
    "\n",
    "        # cut the list into two halves by setting the previous node of the first half to None\n",
    "        prev.next = None\n",
    "\n",
    "        # sort the two halves\n",
    "        left = self.sortList(head)\n",
    "        right = self.sortList(slow)\n",
    "\n",
    "        return self.merge(left, right)\n",
    "\n",
    "    def merge(\n",
    "        self, left: Optional[ListNode], right: Optional[ListNode]\n",
    "    ) -> Optional[ListNode]:\n",
    "        dummy = ListNode()\n",
    "        current = dummy\n",
    "\n",
    "        while left and right:\n",
    "            if left.val < right.val:\n",
    "                current.next = left\n",
    "                left = left.next\n",
    "            else:\n",
    "                current.next = right\n",
    "                right = right.next\n",
    "            current = current.next\n",
    "\n",
    "        current.next = left or right\n",
    "\n",
    "        return dummy.next"
   ]
  },
  {
   "cell_type": "code",
   "execution_count": 8,
   "metadata": {},
   "outputs": [
    {
     "name": "stdout",
     "output_type": "stream",
     "text": [
      "[1, 2, 3, 4]\n",
      "[-1, 0, 3, 4, 5]\n",
      "[]\n"
     ]
    }
   ],
   "source": [
    "# Test cases\n",
    "s = Solution()\n",
    "\n",
    "head = ListNode.from_list([4, 2, 1, 3])\n",
    "sorted_head = s.sortList(head)\n",
    "print(sorted_head.to_list() if sorted_head else [])  # Output: [1, 2, 3, 4]\n",
    "\n",
    "head = ListNode.from_list([-1, 5, 3, 4, 0])\n",
    "sorted_head = s.sortList(head)\n",
    "print(sorted_head.to_list() if sorted_head else [])  # Output: [-1, 0, 3, 4, 5]\n",
    "\n",
    "head = ListNode.from_list([])\n",
    "sorted_head = s.sortList(head)\n",
    "print(sorted_head.to_list() if sorted_head else [])  # Output: []"
   ]
  },
  {
   "cell_type": "markdown",
   "metadata": {},
   "source": [
    "The complexity analysis for the merge sort algorithm on a linked list mainly focuses on time complexity and space complexity:\n",
    "\n",
    "### Time Complexity\n",
    "\n",
    "1. **Dividing the List**: The process of splitting the linked list into two halves uses a fast and slow pointer approach. The fast pointer moves twice as fast as the slow pointer. When the fast pointer reaches the end of the list, the slow pointer is at the midpoint. This operation takes O(n) time where n is the number of nodes in the list.\n",
    "\n",
    "2. **Recursive Sorting**: The merge sort is a divide and conquer algorithm that divides the list into halves recursively until each sublist contains a single element. Each division reduces the problem size by half, leading to a total of \\( \\log n \\) levels of division (since each split cuts the list size by half).\n",
    "\n",
    "3. **Merging**: Each level of recursion involves merging back the divided lists. The merging of two lists of size n requires O(n) time because each element is processed once.\n",
    "\n",
    "Combining these factors, the total time taken for each level of recursion is O(n), and there are \\( \\log n \\) levels. Therefore, the total time complexity of merge sort for linked lists is O(n log n).\n",
    "\n",
    "### Space Complexity\n",
    "\n",
    "1. **Stack Space**: The space complexity for the recursive merge sort primarily comes from the stack space used by the recursive calls. Since merge sort is a divide and conquer algorithm, it uses space on the call stack proportional to the height of the recursion tree, which is \\( \\log n \\).\n",
    "\n",
    "2. **No Additional Space for Merging**: Unlike array merge sort, linked list merge sort does not require additional space for a temporary array for merging. The merging is done by rearranging the links rather than copying the elements to an auxiliary array.\n",
    "\n",
    "Thus, the space complexity is O(1) in terms of extra space used (disregarding the stack space). If we consider the stack space used in the recursive calls, the space complexity would be O(log n).\n",
    "\n",
    "### Summary\n",
    "\n",
    "- **Time Complexity**: O(n log n)\n",
    "- **Space Complexity**:\n",
    "  - O(1) ignoring the recursion stack.\n",
    "  - O(log n) including the recursion stack.\n",
    "\n",
    "This analysis confirms that merge sort is an efficient and suitable algorithm for sorting linked lists, especially when the requirement is to sort in-place with minimal extra space usage.\n"
   ]
  }
 ],
 "metadata": {
  "kernelspec": {
   "display_name": "Python 3",
   "language": "python",
   "name": "python3"
  },
  "language_info": {
   "codemirror_mode": {
    "name": "ipython",
    "version": 3
   },
   "file_extension": ".py",
   "mimetype": "text/x-python",
   "name": "python",
   "nbconvert_exporter": "python",
   "pygments_lexer": "ipython3",
   "version": "3.9.13"
  }
 },
 "nbformat": 4,
 "nbformat_minor": 2
}
