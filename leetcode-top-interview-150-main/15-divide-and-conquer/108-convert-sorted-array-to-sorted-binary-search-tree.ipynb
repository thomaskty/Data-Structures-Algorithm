{
 "cells": [
  {
   "cell_type": "markdown",
   "metadata": {},
   "source": [
    "# Question 106 - LC 108. Convert Sorted Array to Binary Search Tree\n",
    "\n",
    "Given an integer array `nums` where the elements are sorted in _ascending order_, convert it to a _height-balanced binary search tree_.\n",
    "\n",
    "A height-balanced binary tree is a binary tree in which the depth of the two subtrees of every node never differs by more than one.\n",
    "\n",
    "## Example 1:\n",
    "\n",
    "- Input: nums = [-10,-3,0,5,9]\n",
    "- Output: [0,-3,9,-10,null,5]\n",
    "- Explanation: [0,-10,5,null,-3,null,9] is also accepted:\n",
    "\n",
    "## Example 2:\n",
    "\n",
    "- Input: nums = [1,3]\n",
    "- Output: [3,1]\n",
    "- Explanation: [1,null,3] and [3,1] are both height-balanced BSTs.\n",
    "\n",
    "## Constraints:\n",
    "\n",
    "- 1 <= nums.length <= 104\n",
    "- -104 <= nums[i] <= 104\n",
    "- nums is sorted in a strictly increasing order.\n"
   ]
  },
  {
   "cell_type": "code",
   "execution_count": 1,
   "metadata": {},
   "outputs": [],
   "source": [
    "from __future__ import annotations\n",
    "from typing import Optional\n",
    "from collections import deque"
   ]
  },
  {
   "cell_type": "code",
   "execution_count": 2,
   "metadata": {},
   "outputs": [],
   "source": [
    "class TreeNode:\n",
    "    def __init__(\n",
    "        self,\n",
    "        val: Optional[int] = 0,\n",
    "        left: Optional[\"TreeNode\"] = None,\n",
    "        right: Optional[\"TreeNode\"] = None,\n",
    "    ):\n",
    "        self.val = val\n",
    "        self.left = left\n",
    "        self.right = right\n",
    "\n",
    "    @staticmethod\n",
    "    def from_list(values: list[Optional[int]]) -> Optional[\"TreeNode\"]:\n",
    "        if not values:\n",
    "            return None\n",
    "\n",
    "        root = TreeNode(val=values[0])\n",
    "        queue: deque[TreeNode] = deque([root])\n",
    "        i = 1\n",
    "\n",
    "        while queue and i < len(values):\n",
    "            current_node = queue.popleft()\n",
    "\n",
    "            if values[i] is not None:\n",
    "                current_node.left = TreeNode(val=values[i])\n",
    "                queue.append(current_node.left)\n",
    "            i += 1\n",
    "\n",
    "            if i < len(values) and values[i] is not None:\n",
    "                current_node.right = TreeNode(val=values[i])\n",
    "                queue.append(current_node.right)\n",
    "            i += 1\n",
    "\n",
    "        return root\n",
    "\n",
    "    def print_level_order(self) -> list[list[Optional[int]]]:\n",
    "        queue: deque[tuple[TreeNode, int]] = deque([(self, 0)])\n",
    "        result = []\n",
    "        current_level = []\n",
    "        level_number = 0\n",
    "\n",
    "        while queue:\n",
    "            current_node, node_level = queue.popleft()\n",
    "\n",
    "            if node_level > level_number:\n",
    "                result.append(current_level)\n",
    "                current_level = []\n",
    "                level_number = node_level\n",
    "\n",
    "            current_level.append(current_node.val)\n",
    "            if current_node.left is not None:\n",
    "                queue.append((current_node.left, node_level + 1))\n",
    "            if current_node.right is not None:\n",
    "                queue.append((current_node.right, node_level + 1))\n",
    "\n",
    "        if current_level:\n",
    "            result.append(current_level)\n",
    "\n",
    "        return result\n",
    "    \n",
    "    def inorder_traversal(self) -> list[int]:\n",
    "        result = []\n",
    "        stack = []\n",
    "        current = self\n",
    "\n",
    "        while current or stack:\n",
    "            while current:\n",
    "                stack.append(current)\n",
    "                current = current.left\n",
    "\n",
    "            current = stack.pop()\n",
    "            result.append(current.val)\n",
    "            current = current.right\n",
    "\n",
    "        return result"
   ]
  },
  {
   "cell_type": "code",
   "execution_count": 3,
   "metadata": {},
   "outputs": [],
   "source": [
    "class Solution:\n",
    "    def sortedArrayToBST(self, nums: list[int]) -> Optional[TreeNode]:\n",
    "        if not nums:\n",
    "            return None\n",
    "\n",
    "        mid = len(nums) // 2\n",
    "\n",
    "        root = TreeNode(nums[mid])\n",
    "        root.left = self.sortedArrayToBST(nums[:mid])\n",
    "        root.right = self.sortedArrayToBST(nums[mid + 1:])\n",
    "\n",
    "        return root"
   ]
  },
  {
   "cell_type": "code",
   "execution_count": 4,
   "metadata": {},
   "outputs": [
    {
     "name": "stdout",
     "output_type": "stream",
     "text": [
      "Example 1 Output: [-10, -3, 0, 5, 9]\n",
      "Example 2 Output: [1, 3]\n"
     ]
    }
   ],
   "source": [
    "s = Solution()\n",
    "\n",
    "nums1 = [-10, -3, 0, 5, 9]\n",
    "nums2 = [1, 3]\n",
    "\n",
    "root1 = s.sortedArrayToBST(nums1)\n",
    "root2 = s.sortedArrayToBST(nums2)\n",
    "\n",
    "print(\"Example 1 Output:\", root1.inorder_traversal() if root1 else None)\n",
    "print(\"Example 2 Output:\", root2.inorder_traversal() if root2 else None)"
   ]
  }
 ],
 "metadata": {
  "kernelspec": {
   "display_name": "Python 3",
   "language": "python",
   "name": "python3"
  },
  "language_info": {
   "codemirror_mode": {
    "name": "ipython",
    "version": 3
   },
   "file_extension": ".py",
   "mimetype": "text/x-python",
   "name": "python",
   "nbconvert_exporter": "python",
   "pygments_lexer": "ipython3",
   "version": "3.11.1"
  }
 },
 "nbformat": 4,
 "nbformat_minor": 2
}
