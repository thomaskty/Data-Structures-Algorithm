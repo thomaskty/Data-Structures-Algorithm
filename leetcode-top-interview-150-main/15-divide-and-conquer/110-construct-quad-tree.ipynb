{
 "cells": [
  {
   "cell_type": "markdown",
   "metadata": {},
   "source": [
    "# Question 108 - LC 427. Construct Quad Tree\n",
    "\n",
    "Given a `n * n` matrix `grid` of `0's` and `1's` only. We want to represent `grid` with a Quad-Tree.\n",
    "\n",
    "_Return the root of the Quad-Tree representing_ `grid`.\n",
    "\n",
    "A Quad-Tree is a tree data structure in which each internal node has exactly four children. Besides, each node has two attributes:\n",
    "\n",
    "- `val`: `True` if the node represents a grid of `1's` or `False` if the node represents a grid of `0's`. Notice that you can assign the val to True or False when isLeaf is False, and both are accepted in the answer.\n",
    "- isLeaf: True if the node is a leaf node on the tree or False if the node has four children.\n",
    "\n",
    "```java\n",
    "class Node {\n",
    "    public boolean val;\n",
    "    public boolean isLeaf;\n",
    "    public Node topLeft;\n",
    "    public Node topRight;\n",
    "    public Node bottomLeft;\n",
    "    public Node bottomRight;\n",
    "}\n",
    "```\n",
    "\n",
    "We can construct a Quad-Tree from a two-dimensional area using the following steps:\n",
    "\n",
    "- If the current grid has the same value (i.e all 1's or all 0's) set isLeaf True and set val to the value of the grid and set the four children to `Null` and stop.\n",
    "- If the current grid has different values, set isLeaf to False and set val to any value and divide the current grid into four sub-grids as shown in the photo.\n",
    "\n",
    "Recurse for each of the children with the proper sub-grid.\n",
    "\n",
    "If you want to know more about the Quad-Tree, you can refer to the wiki.\n",
    "\n",
    "### Quad-Tree format:\n",
    "\n",
    "You don't need to read this section for solving the problem. This is only if you want to understand the output format here. The output represents the serialized format of a Quad-Tree using level order traversal, where null signifies a path terminator where no node exists below.\n",
    "\n",
    "It is very similar to the serialization of the binary tree. The only difference is that the node is represented as a list `[isLeaf, val]`.\n",
    "\n",
    "If the value of isLeaf or val is True we represent it as 1 in the list `[isLeaf, val]` and if the value of isLeaf or val is False we represent it as 0.\n",
    "\n",
    "### Example 1:\n",
    "\n",
    "    Input: grid = [[0,1],[1,0]]\n",
    "    Output: [[0,1],[1,0],[1,1],[1,1],[1,0]]\n",
    "    Explanation: The explanation of this example is shown below:\n",
    "    Notice that 0 represents False and 1 represents True in the photo representing the Quad-Tree.\n",
    "\n",
    "### Example 2:\n",
    "\n",
    "    Input: grid = [[1,1,1,1,0,0,0,0],[1,1,1,1,0,0,0,0],[1,1,1,1,1,1,1,1],[1,1,1,1,1,1,1,1],[1,1,1,1,0,0,0,0],[1,1,1,1,0,0,0,0],[1,1,1,1,0,0,0,0],[1,1,1,1,0,0,0,0]]\n",
    "    Output: [[0,1],[1,1],[0,1],[1,1],[1,0],null,null,null,null,[1,0],[1,0],[1,1],[1,1]]\n",
    "    Explanation: All values in the grid are not the same. We divide the grid into four sub-grids.\n",
    "    The topLeft, bottomLeft and bottomRight each has the same value.\n",
    "    The topRight have different values so we divide it into 4 sub-grids where each has the same value.\n",
    "\n",
    "### Constraints:\n",
    "\n",
    "`n == grid.length == grid[i].length`\n",
    "`n == 2x` where `0 <= x <= 6`\n"
   ]
  },
  {
   "cell_type": "code",
   "execution_count": 1,
   "metadata": {},
   "outputs": [],
   "source": [
    "class Node:\n",
    "    def __init__(self, val, isLeaf, topLeft, topRight, bottomLeft, bottomRight):\n",
    "        self.val = val\n",
    "        self.isLeaf = isLeaf\n",
    "        self.topLeft = topLeft\n",
    "        self.topRight = topRight\n",
    "        self.bottomLeft = bottomLeft\n",
    "        self.bottomRight = bottomRight"
   ]
  },
  {
   "cell_type": "code",
   "execution_count": 2,
   "metadata": {},
   "outputs": [],
   "source": [
    "class Solution:\n",
    "    def construct(self, grid: list[list[int]]) -> \"Node\":\n",
    "        def build_tree(x, y, size):\n",
    "            if size == 1:\n",
    "                return Node(grid[x][y] == 1, True, None, None, None, None)\n",
    "            half = size // 2\n",
    "            topLeft = build_tree(x, y, half)\n",
    "            topRight = build_tree(x, y + half, half)\n",
    "            bottomLeft = build_tree(x + half, y, half)\n",
    "            bottomRight = build_tree(x + half, y + half, half)\n",
    "            \n",
    "            if (\n",
    "                topLeft.isLeaf\n",
    "                and topRight.isLeaf\n",
    "                and bottomLeft.isLeaf\n",
    "                and bottomRight.isLeaf\n",
    "                and topLeft.val == topRight.val == bottomLeft.val == bottomRight.val\n",
    "            ):\n",
    "                return Node(topLeft.val, True, None, None, None, None)\n",
    "            \n",
    "            return Node(True, False, topLeft, topRight, bottomLeft, bottomRight)\n",
    "        \n",
    "        return build_tree(0, 0, len(grid))"
   ]
  },
  {
   "cell_type": "code",
   "execution_count": 3,
   "metadata": {},
   "outputs": [],
   "source": [
    "def serialize(node):\n",
    "    \"\"\"Serialize the quad-tree into a list format for easier visualization.\"\"\"\n",
    "    if not node:\n",
    "        return [\"null\"]\n",
    "    if node.isLeaf:\n",
    "        return [[1 if node.isLeaf else 0, 1 if node.val else 0]]\n",
    "    result = [[1 if node.isLeaf else 0, 1 if node.val else 0]]\n",
    "    children = (\n",
    "        serialize(node.topLeft)\n",
    "        + serialize(node.topRight)\n",
    "        + serialize(node.bottomLeft)\n",
    "        + serialize(node.bottomRight)\n",
    "    )\n",
    "    result.extend(children)\n",
    "    return result\n",
    "\n",
    "\n",
    "def print_tree(node):\n",
    "    \"\"\"Print the serialized quad-tree.\"\"\"\n",
    "    serialized = serialize(node)\n",
    "    print(serialized)"
   ]
  },
  {
   "cell_type": "code",
   "execution_count": 4,
   "metadata": {},
   "outputs": [
    {
     "name": "stdout",
     "output_type": "stream",
     "text": [
      "[[0, 1], [1, 1], [0, 1], [1, 0], [1, 0], [1, 1], [1, 1], [1, 1], [1, 0]]\n"
     ]
    }
   ],
   "source": [
    "# Use the same tree from earlier example to print results\n",
    "\n",
    "s = Solution()\n",
    "\n",
    "grid = [[1, 1, 1, 1, 0, 0, 0, 0], [1, 1, 1, 1, 0, 0, 0, 0], [1, 1, 1, 1, 1, 1, 1, 1], [1, 1, 1, 1, 1, 1, 1, 1],\n",
    "        [1, 1, 1, 1, 0, 0, 0, 0], [1, 1, 1, 1, 0, 0, 0, 0], [1, 1, 1, 1, 0, 0, 0, 0], [1, 1, 1, 1, 0, 0, 0, 0]]\n",
    "tree = s.construct(grid)\n",
    "print_tree(tree)"
   ]
  }
 ],
 "metadata": {
  "kernelspec": {
   "display_name": "Python 3",
   "language": "python",
   "name": "python3"
  },
  "language_info": {
   "codemirror_mode": {
    "name": "ipython",
    "version": 3
   },
   "file_extension": ".py",
   "mimetype": "text/x-python",
   "name": "python",
   "nbconvert_exporter": "python",
   "pygments_lexer": "ipython3",
   "version": "3.9.13"
  }
 },
 "nbformat": 4,
 "nbformat_minor": 2
}
