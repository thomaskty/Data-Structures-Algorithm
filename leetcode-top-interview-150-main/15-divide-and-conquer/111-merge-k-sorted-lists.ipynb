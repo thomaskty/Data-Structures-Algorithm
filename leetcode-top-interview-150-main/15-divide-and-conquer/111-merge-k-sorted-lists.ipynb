{
 "cells": [
  {
   "cell_type": "markdown",
   "metadata": {},
   "source": [
    "# Question 109 - LC 23. Merge k Sorted Lists\n",
    "\n",
    "You are given an array of `k` linked-lists `lists`, each linked-list is sorted in ascending order.\n",
    "\n",
    "_Merge all the linked-lists into one sorted linked-list and return it._\n",
    "\n",
    "## Example 1:\n",
    "\n",
    "    Input: lists = [[1,4,5],[1,3,4],[2,6]]\n",
    "    Output: [1,1,2,3,4,4,5,6]\n",
    "    Explanation: The linked-lists are:\n",
    "    [\n",
    "        1->4->5,\n",
    "        1->3->4,\n",
    "        2->6\n",
    "    ]\n",
    "    merging them into one sorted list:\n",
    "    1->1->2->3->4->4->5->6\n",
    "\n",
    "## Example 2:\n",
    "\n",
    "    Input: lists = []\n",
    "    Output: []\n",
    "\n",
    "## Example 3:\n",
    "\n",
    "    Input: lists = [[]]\n",
    "    Output: []\n",
    "\n",
    "### Constraints:\n",
    "\n",
    "- `k == lists.length`\n",
    "- `0 <= k <= 10^4`\n",
    "- `0 <= lists[i].length <= 500`\n",
    "- `-10^4 <= lists[i][j] <= 10^4`\n",
    "- `lists[i]` is sorted in _ascending order_.\n",
    "- The sum of `lists[i].length` will not exceed `10^4`.\n"
   ]
  },
  {
   "cell_type": "code",
   "execution_count": 1,
   "metadata": {},
   "outputs": [],
   "source": [
    "from __future__ import annotations\n",
    "from typing import Optional"
   ]
  },
  {
   "cell_type": "code",
   "execution_count": 2,
   "metadata": {},
   "outputs": [],
   "source": [
    "# Definition for singly-linked list.\n",
    "class ListNode:\n",
    "    def __init__(self, val: int = 0, next: Optional[ListNode] = None):\n",
    "        self.val = val\n",
    "        self.next = next\n",
    "\n",
    "    @staticmethod\n",
    "    def from_list(l: list[int]) -> ListNode | None:\n",
    "        if not l:  # Check if the list is empty\n",
    "            return None  # Return None if the list is empty\n",
    "        head = ListNode(l[0])\n",
    "        current = head\n",
    "        for i in l[1:]:\n",
    "            current.next = ListNode(i)\n",
    "            current = current.next\n",
    "        return head\n",
    "\n",
    "    def to_list(self) -> list[int]:\n",
    "        l = [self.val]\n",
    "        current = self\n",
    "        while current.next:\n",
    "            current = current.next\n",
    "            l.append(current.val)\n",
    "        return l\n",
    "\n",
    "    def print(self) -> None:\n",
    "        print(self.to_list())"
   ]
  },
  {
   "cell_type": "code",
   "execution_count": 3,
   "metadata": {},
   "outputs": [],
   "source": [
    "from heapq import heappop, heappush\n",
    "\n",
    "\n",
    "class Solution:\n",
    "    def mergeKLists(self, lists: list[Optional[ListNode]]) -> Optional[ListNode]:\n",
    "        #  Initialize a heap\n",
    "        heap = []\n",
    "\n",
    "        for index, node in enumerate(lists):\n",
    "            if node:\n",
    "                heappush(heap, (node.val, index, node))\n",
    "\n",
    "        # Initialize a dummy node\n",
    "        dummy = ListNode(None)\n",
    "        current = dummy\n",
    "\n",
    "        while heap:\n",
    "            val, index, node = heappop(heap)\n",
    "            # Add the smallest element to the merged list\n",
    "            current.next = ListNode(val)\n",
    "            current = current.next\n",
    "\n",
    "            if node.next:\n",
    "                # Move to the next node in the list\n",
    "                heappush(heap, (node.next.val, index, node.next))\n",
    "\n",
    "        return dummy.next"
   ]
  },
  {
   "cell_type": "code",
   "execution_count": 4,
   "metadata": {},
   "outputs": [
    {
     "name": "stdout",
     "output_type": "stream",
     "text": [
      "[1, 1, 2, 3, 4, 4, 5, 6]\n"
     ]
    }
   ],
   "source": [
    "# Test case\n",
    "l1 = ListNode.from_list([1, 4, 5])\n",
    "l2 = ListNode.from_list([1, 3, 4])\n",
    "l3 = ListNode.from_list([2, 6])\n",
    "sol = Solution()\n",
    "\n",
    "sol.mergeKLists([l1, l2, l3]).print()  # [1, 1, 2, 3, 4, 4, 5, 6]"
   ]
  },
  {
   "cell_type": "markdown",
   "metadata": {},
   "source": [
    "To analyze the complexity of the solution that merges k sorted linked lists using a min-heap, let's look at both the time complexity and space complexity:\n",
    "\n",
    "### Time Complexity\n",
    "\n",
    "1. **Heap Initialization**: The initial step where we add the first element of each non-empty list to the heap takes O(k) time, where k is the number of linked lists, assuming k lists each have at least one element. This is because adding an element to a heap is typically O(log n), but here each addition is O(1) since we're adding them one by one from an empty state.\n",
    "\n",
    "2. **Rebuilding the Heap**: Each element of every linked list eventually gets pushed and popped from the heap exactly once. The number of push and pop operations will thus equal the total number of elements across all lists, let's denote this number as n.\n",
    "\n",
    "   - **Push Operation**: Each push operation on a heap (where the heap has at most k elements at any given time) costs O(log k).\n",
    "   - **Pop Operation**: Similarly, each pop operation also costs O(log k).\n",
    "\n",
    "Given that each of the n elements is pushed to and popped from the heap once, the total cost for all heap operations is O(n log k).\n",
    "\n",
    "### Space Complexity\n",
    "\n",
    "1. **Heap Storage**: The heap needs to store an entry for each linked list that is currently being merged. In the worst case, this will be k entries, each storing a tuple of three items (value, index, and a pointer to a node). Therefore, the space complexity for the heap is O(k).\n",
    "\n",
    "2. **Output List**: This solution creates a new linked list to return the result. This list will contain n elements if we count all elements in all linked lists. However, this does not count towards auxiliary space usage as it is required for the output of the function. If considering only auxiliary space, it would be the heap storage.\n",
    "\n",
    "### Summary\n",
    "\n",
    "- **Time Complexity**: O(n log k), where n is the total number of elements across all lists, and k is the number of linked lists.\n",
    "- **Space Complexity**: O(k) for the heap storage, as it needs to store information for each linked list head that is currently considered for merging.\n",
    "\n",
    "This analysis shows that using a heap is efficient when k is significantly smaller than n, as the log factor in the time complexity refers to the number of lists rather than the total number of elements, making it suitable for scenarios where we have a lot of lists with potentially many elements in each.\n"
   ]
  }
 ],
 "metadata": {
  "kernelspec": {
   "display_name": "Python 3",
   "language": "python",
   "name": "python3"
  },
  "language_info": {
   "codemirror_mode": {
    "name": "ipython",
    "version": 3
   },
   "file_extension": ".py",
   "mimetype": "text/x-python",
   "name": "python",
   "nbconvert_exporter": "python",
   "pygments_lexer": "ipython3",
   "version": "3.9.13"
  }
 },
 "nbformat": 4,
 "nbformat_minor": 2
}
