{
 "cells": [
  {
   "cell_type": "markdown",
   "metadata": {},
   "source": [
    "# Question 64 - LC 61. Rotate List\n",
    "\n",
    "Given the `head` of a linked list, rotate the list to the right by `k` places.\n",
    "\n",
    "**Example 1:**\n",
    "\n",
    "    Input: head = [1,2,3,4,5], k = 2\n",
    "    Output: [4,5,1,2,3]\n",
    "\n",
    "**Example 2:**\n",
    "\n",
    "    Input: head = [0,1,2], k = 4\n",
    "    Output: [2,0,1]\n",
    "\n",
    "**Constraints:**\n",
    "\n",
    "- The number of nodes in the list is in the range `[0, 500]`.\n",
    "- `-100 <= Node.val <= 100`\n",
    "- `0 <= k <= 2 * 10^9`\n"
   ]
  },
  {
   "cell_type": "code",
   "execution_count": 1,
   "metadata": {},
   "outputs": [],
   "source": [
    "from __future__ import annotations\n",
    "from typing import Optional"
   ]
  },
  {
   "cell_type": "code",
   "execution_count": 2,
   "metadata": {},
   "outputs": [],
   "source": [
    "# Definition for singly-linked list.\n",
    "class ListNode:\n",
    "    def __init__(self, val: int = 0, next: Optional[ListNode] = None):\n",
    "        self.val = val\n",
    "        self.next = next\n",
    "\n",
    "    @staticmethod\n",
    "    def from_list(l: list[int]) -> ListNode | None:\n",
    "        if not l:  # Check if the list is empty\n",
    "            return None  # Return None if the list is empty\n",
    "        head = ListNode(l[0])\n",
    "        current = head\n",
    "        for i in l[1:]:\n",
    "            current.next = ListNode(i)\n",
    "            current = current.next\n",
    "        return head\n",
    "\n",
    "    def to_list(self) -> list[int]:\n",
    "        l = [self.val]\n",
    "        current = self\n",
    "        while current.next:\n",
    "            current = current.next\n",
    "            l.append(current.val)\n",
    "        return l\n",
    "\n",
    "    def print(self) -> None:\n",
    "        print(self.to_list())"
   ]
  },
  {
   "cell_type": "code",
   "execution_count": 3,
   "metadata": {},
   "outputs": [],
   "source": [
    "class Solution:\n",
    "    def rotateRight(self, head: Optional[ListNode], k: int) -> Optional[ListNode]:\n",
    "        # handle edge cases\n",
    "        if not head or k == 0:\n",
    "            return head\n",
    "\n",
    "        # step 1: find the length of the list\n",
    "        length = 1\n",
    "        current = head\n",
    "        while current.next:\n",
    "            current = current.next\n",
    "            length += 1\n",
    "\n",
    "        # step 2: make the list circular\n",
    "        current.next = head\n",
    "\n",
    "        # step 3: find the point of rotation\n",
    "        k = k % length\n",
    "        steps_to_new_head = length - k\n",
    "        while steps_to_new_head > 0:\n",
    "            if current.next:\n",
    "                current = current.next\n",
    "                steps_to_new_head -= 1\n",
    "\n",
    "        # step 4: break the circle and return the new head\n",
    "        new_head = current.next\n",
    "        current.next = None\n",
    "\n",
    "        return new_head"
   ]
  },
  {
   "cell_type": "markdown",
   "metadata": {},
   "source": [
    "To solve the problem of rotating a linked list to the right by \\(k\\) places, we can follow these steps:\n",
    "\n",
    "1. **Handle edge cases**: If the list is empty (`head` is `None`) or `k` is 0, we return the head as it is since no rotation is needed.\n",
    "2. **Get the length of the list**: We traverse the list once to count the number of nodes (let's call this count `length`).\n",
    "3. **Calculate the effective rotations needed**: Since rotating a list by its length doesn't change the list, we only need to perform `k mod length` rotations. If this value is 0, it means no rotation is needed, and we can return the list as it is.\n",
    "4. **Link the list into a circle**: We traverse the list again to reach its end and connect it to the head, making it circular. This way, we can easily rotate the list.\n",
    "5. **Find the new head after rotation**: The new head of the list will be at position `length - (k mod length)` from the beginning. We traverse the list to reach this node.\n",
    "6. **Break the circle**: Once we reach the new head, we need to break the circle we created earlier by setting the previous node's `next` pointer to `None`.\n"
   ]
  },
  {
   "cell_type": "code",
   "execution_count": 4,
   "metadata": {},
   "outputs": [
    {
     "name": "stdout",
     "output_type": "stream",
     "text": [
      "[4, 5, 1, 2, 3]\n",
      "[2, 0, 1]\n"
     ]
    }
   ],
   "source": [
    "s = Solution()\n",
    "\n",
    "# Test case 1\n",
    "head = ListNode.from_list([1, 2, 3, 4, 5])\n",
    "rotated_head = s.rotateRight(head, 2)\n",
    "if rotated_head:\n",
    "    rotated_head.print()  # Expected: 4 -> 5 -> 1 -> 2 -> 3\n",
    "\n",
    "# Test case 2\n",
    "head = ListNode.from_list([0, 1, 2])\n",
    "rotated_head = s.rotateRight(head, 4)\n",
    "if rotated_head:\n",
    "    rotated_head.print()  # Expected: 2 -> 0 -> 1"
   ]
  }
 ],
 "metadata": {
  "kernelspec": {
   "display_name": "Python 3",
   "language": "python",
   "name": "python3"
  },
  "language_info": {
   "codemirror_mode": {
    "name": "ipython",
    "version": 3
   },
   "file_extension": ".py",
   "mimetype": "text/x-python",
   "name": "python",
   "nbconvert_exporter": "python",
   "pygments_lexer": "ipython3",
   "version": "3.11.1"
  }
 },
 "nbformat": 4,
 "nbformat_minor": 2
}
