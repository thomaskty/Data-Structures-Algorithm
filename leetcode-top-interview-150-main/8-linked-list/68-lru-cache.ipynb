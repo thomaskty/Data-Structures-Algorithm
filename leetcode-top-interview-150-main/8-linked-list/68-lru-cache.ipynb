{
 "cells": [
  {
   "cell_type": "markdown",
   "metadata": {},
   "source": [
    "# Question 66 - LC 146. LRU Cache\n",
    "\n",
    "Design a data structure that follows the constraints of a **Least Recently Used (LRU) cache**.\n",
    "\n",
    "Implement the `LRUCache` class:\n",
    "\n",
    "- `LRUCache(int capacity)` Initialize the LRU cache with positive size `capacity`.\n",
    "- `int get(int key)` Return the _value_ of the `key` if the key exists, otherwise return `-1`.\n",
    "- `void put(int key, int value)` Update the value of the `key` if the `key` exists. Otherwise, add the `key-value` pair to the cache. If the number of keys exceeds the capacity from this operation, evict the least recently used key.\n",
    "\n",
    "The functions `get` and `put` must each run in `O(1)` average time complexity.\n",
    "\n",
    "**Example 1:**\n",
    "\n",
    "**Input**\n",
    "\n",
    "```python\n",
    "[\"LRUCache\", \"put\", \"put\", \"get\", \"put\", \"get\", \"put\", \"get\", \"get\", \"get\"]\n",
    "[[2], [1, 1], [2, 2], [1], [3, 3], [2], [4, 4], [1], [3], [4]]\n",
    "```\n",
    "\n",
    "**Output**\n",
    "\n",
    "`[null, null, null, 1, null, -1, null, -1, 3, 4]`\n",
    "\n",
    "**Explanation**\n",
    "\n",
    "```java\n",
    "LRUCache lRUCache = new LRUCache(2);\n",
    "lRUCache.put(1, 1); // cache is {1=1}\n",
    "lRUCache.put(2, 2); // cache is {1=1, 2=2}\n",
    "lRUCache.get(1); // return 1\n",
    "lRUCache.put(3, 3); // LRU key was 2, evicts key 2, cache is {1=1, 3=3}\n",
    "lRUCache.get(2); // returns -1 (not found)\n",
    "lRUCache.put(4, 4); // LRU key was 1, evicts key 1, cache is {4=4, 3=3}\n",
    "lRUCache.get(1); // return -1 (not found)\n",
    "lRUCache.get(3); // return 3\n",
    "lRUCache.get(4); // return 4\n",
    "```\n",
    "\n",
    "**Constraints:**\n",
    "\n",
    "- `1 <= capacity <= 3000`\n",
    "- `0 <= key <= 10^4`\n",
    "- `0 <= value <= 10^5`\n",
    "- At most `2 * 10^5` calls will be made to `get` and `put`.\n"
   ]
  },
  {
   "cell_type": "code",
   "execution_count": 1,
   "metadata": {},
   "outputs": [],
   "source": [
    "from collections import OrderedDict\n",
    "\n",
    "\n",
    "class LRUCache:\n",
    "\n",
    "    def __init__(self, capacity: int):\n",
    "        self.capacity = capacity\n",
    "        self.cache = {}\n",
    "        self.order = OrderedDict()\n",
    "\n",
    "    def get(self, key: int) -> int:\n",
    "        if key in self.cache:\n",
    "            # move the key to the end to indicate it's the most recently used\n",
    "            self.order.move_to_end(key)\n",
    "            return self.cache[key]\n",
    "        return -1\n",
    "\n",
    "    def put(self, key: int, value: int) -> None:\n",
    "        if key in self.cache:\n",
    "            self.cache[key] = value\n",
    "            self.order.move_to_end(key)\n",
    "        else:\n",
    "            self.cache[key] = value\n",
    "            self.order[key] = None\n",
    "        if len(self.cache) > self.capacity:\n",
    "            oldest_key = next(iter(self.order))\n",
    "            del self.cache[oldest_key]\n",
    "            del self.order[oldest_key]"
   ]
  },
  {
   "cell_type": "code",
   "execution_count": 2,
   "metadata": {},
   "outputs": [
    {
     "data": {
      "text/plain": [
       "[None, None, None, 1, None, -1, None, -1, 3, 4]"
      ]
     },
     "execution_count": 2,
     "metadata": {},
     "output_type": "execute_result"
    }
   ],
   "source": [
    "# Example Usage\n",
    "lRUCache = LRUCache(2)\n",
    "operations = [\"put\", \"put\", \"get\", \"put\", \"get\", \"put\", \"get\", \"get\", \"get\"]\n",
    "values = [[1, 1], [2, 2], [1], [3, 3], [2], [4, 4], [1], [3], [4]]\n",
    "output = [None]\n",
    "\n",
    "for op, val in zip(operations, values):\n",
    "    if op == \"put\":\n",
    "        lRUCache.put(val[0], val[1])\n",
    "        output.append(None)\n",
    "    elif op == \"get\":\n",
    "        output.append(lRUCache.get(val[0]))\n",
    "\n",
    "output"
   ]
  }
 ],
 "metadata": {
  "kernelspec": {
   "display_name": "Python 3",
   "language": "python",
   "name": "python3"
  },
  "language_info": {
   "codemirror_mode": {
    "name": "ipython",
    "version": 3
   },
   "file_extension": ".py",
   "mimetype": "text/x-python",
   "name": "python",
   "nbconvert_exporter": "python",
   "pygments_lexer": "ipython3",
   "version": "3.12.0"
  }
 },
 "nbformat": 4,
 "nbformat_minor": 2
}
