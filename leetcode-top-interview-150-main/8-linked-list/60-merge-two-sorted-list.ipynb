{
 "cells": [
  {
   "cell_type": "markdown",
   "metadata": {},
   "source": [
    "# Question 58 - LC 21. Merge Two Sorted Lists\n",
    "\n",
    "You are given the heads of two sorted linked lists `list1` and `list2`.\n",
    "\n",
    "Merge the two lists into one **sorted** list. The list should be made by splicing together the nodes of the first two lists.\n",
    "\n",
    "_Return the head of the merged linked list._\n",
    "\n",
    "**Example 1:**\n",
    "\n",
    "    Input: list1 = [1,2,4], list2 = [1,3,4]\n",
    "    Output: [1,1,2,3,4,4]\n",
    "\n",
    "**Example 2:**\n",
    "\n",
    "    Input: list1 = [], list2 = []\n",
    "    Output: []\n",
    "\n",
    "**Example 3:**\n",
    "\n",
    "    Input: list1 = [], list2 = [0]\n",
    "    Output: [0]\n",
    "\n",
    "**Constraints:**\n",
    "\n",
    "- The number of nodes in both lists is in the range `[0, 50]`.\n",
    "- `-100 <= Node.val <= 100`\n",
    "- Both `list1` and `list2` are sorted in non-decreasing order.\n"
   ]
  },
  {
   "cell_type": "code",
   "execution_count": 21,
   "metadata": {},
   "outputs": [],
   "source": [
    "from typing import Optional\n",
    "from __future__ import annotations\n",
    "\n",
    "# Definition for singly-linked list.\n",
    "class ListNode:\n",
    "    def __init__(self, val: int = 0, next: Optional[ListNode] = None):\n",
    "        self.val = val\n",
    "        self.next = next\n",
    "        \n",
    "    @staticmethod\n",
    "    def from_list(l: list[int]) -> ListNode | None:\n",
    "        if not l:  # Check if the list is empty\n",
    "            return None  # Return None if the list is empty\n",
    "        head = ListNode(l[0])\n",
    "        current = head\n",
    "        for i in l[1:]:\n",
    "            current.next = ListNode(i)\n",
    "            current = current.next\n",
    "        return head\n",
    "\n",
    "    def to_list(self) -> list[int]:\n",
    "        l = [self.val]\n",
    "        current = self\n",
    "        while current.next:\n",
    "            current = current.next\n",
    "            l.append(current.val)\n",
    "        return l\n",
    "\n",
    "    def print(self) -> None:\n",
    "        print(self.to_list())"
   ]
  },
  {
   "cell_type": "code",
   "execution_count": 22,
   "metadata": {},
   "outputs": [],
   "source": [
    "class Solution:\n",
    "    def mergeTwoLists(self, list1: Optional[ListNode], list2: Optional[ListNode]) -> Optional[ListNode]:\n",
    "        # create a dummy node to hold the result\n",
    "        dummy = ListNode(-1)\n",
    "        prev = dummy\n",
    "\n",
    "        # while both lists are not empty\n",
    "        while list1 and list2:\n",
    "            if list1.val <= list2.val:\n",
    "                prev.next = list1\n",
    "                list1 = list1.next\n",
    "            else:\n",
    "                prev.next = list2\n",
    "                list2 = list2.next\n",
    "            prev = prev.next\n",
    "\n",
    "        # if one of the lists is empty, append the other\n",
    "        prev.next = list1 if list1 is not None else list2\n",
    "\n",
    "        return dummy.next"
   ]
  },
  {
   "cell_type": "code",
   "execution_count": 23,
   "metadata": {},
   "outputs": [
    {
     "data": {
      "text/plain": [
       "[[1, 1, 2, 3, 4, 4], [], [0]]"
      ]
     },
     "execution_count": 23,
     "metadata": {},
     "output_type": "execute_result"
    }
   ],
   "source": [
    "solution = Solution()\n",
    "\n",
    "results = []\n",
    "\n",
    "test_cases = [\n",
    "    ([1, 2, 4], [1, 3, 4]),\n",
    "    ([], []),\n",
    "    ([], [0])\n",
    "]\n",
    "\n",
    "for list1, list2 in test_cases:\n",
    "    l1 = ListNode.from_list(list1)\n",
    "    l2 = ListNode.from_list(list2)\n",
    "    merged_list_head = solution.mergeTwoLists(l1, l2)\n",
    "    if merged_list_head:  # added a simple case handle if None\n",
    "        results.append(merged_list_head.to_list())\n",
    "    else:\n",
    "        results.append([])\n",
    "\n",
    "results"
   ]
  }
 ],
 "metadata": {
  "kernelspec": {
   "display_name": "Python 3",
   "language": "python",
   "name": "python3"
  },
  "language_info": {
   "codemirror_mode": {
    "name": "ipython",
    "version": 3
   },
   "file_extension": ".py",
   "mimetype": "text/x-python",
   "name": "python",
   "nbconvert_exporter": "python",
   "pygments_lexer": "ipython3",
   "version": "3.11.8"
  }
 },
 "nbformat": 4,
 "nbformat_minor": 2
}
