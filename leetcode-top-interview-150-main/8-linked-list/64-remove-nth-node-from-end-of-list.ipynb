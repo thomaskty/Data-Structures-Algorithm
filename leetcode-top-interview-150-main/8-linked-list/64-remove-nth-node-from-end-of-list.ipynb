{
 "cells": [
  {
   "cell_type": "markdown",
   "metadata": {},
   "source": [
    "# Question 62 - LC 19. Remove Nth Node From End of List\n",
    "\n",
    "Given the `head` of a linked list, remove the `nth` node from the end of the list and return its head.\n",
    "\n",
    "**Example 1:**\n",
    "\n",
    "    Input: head = [1,2,3,4,5], n = 2\n",
    "    Output: [1,2,3,5]\n",
    "\n",
    "**Example 2:**\n",
    "\n",
    "    Input: head = [1], n = 1\n",
    "    Output: []\n",
    "\n",
    "**Example 3:**\n",
    "\n",
    "    Input: head = [1,2], n = 1\n",
    "    Output: [1]\n",
    "\n",
    "**Constraints:**\n",
    "\n",
    "The number of nodes in the list is `sz`.\n",
    "\n",
    "- `1 <= sz <= 30`\n",
    "- `0 <= Node.val <= 100`\n",
    "- `1 <= n <= sz`\n",
    "\n",
    "**Follow up:** Could you do this in one pass?\n"
   ]
  },
  {
   "cell_type": "code",
   "execution_count": 1,
   "metadata": {},
   "outputs": [],
   "source": [
    "from __future__ import annotations\n",
    "from typing import Optional"
   ]
  },
  {
   "cell_type": "code",
   "execution_count": 2,
   "metadata": {},
   "outputs": [],
   "source": [
    "# Definition for singly-linked list.\n",
    "class ListNode:\n",
    "    def __init__(self, val: int = 0, next: Optional[ListNode] = None):\n",
    "        self.val = val\n",
    "        self.next = next\n",
    "\n",
    "    @staticmethod\n",
    "    def from_list(l: list[int]) -> ListNode | None:\n",
    "        if not l:  # Check if the list is empty\n",
    "            return None  # Return None if the list is empty\n",
    "        head = ListNode(l[0])\n",
    "        current = head\n",
    "        for i in l[1:]:\n",
    "            current.next = ListNode(i)\n",
    "            current = current.next\n",
    "        return head\n",
    "\n",
    "    def to_list(self) -> list[int]:\n",
    "        l = [self.val]\n",
    "        current = self\n",
    "        while current.next:\n",
    "            current = current.next\n",
    "            l.append(current.val)\n",
    "        return l\n",
    "\n",
    "    def print(self) -> None:\n",
    "        print(self.to_list())"
   ]
  },
  {
   "cell_type": "code",
   "execution_count": 3,
   "metadata": {},
   "outputs": [],
   "source": [
    "class Solution:\n",
    "    def removeNthFromEnd(self, head: Optional[ListNode], n: int) -> Optional[ListNode]:\n",
    "        dummy = ListNode(0)\n",
    "        dummy.next = head\n",
    "        fast = slow = dummy\n",
    "\n",
    "        # advance fast pointer so that the gap between fast and slow is n nodes apart\n",
    "        for _ in range(n + 1):\n",
    "            fast = fast.next\n",
    "\n",
    "        # move fast to the end, maintaining the gap\n",
    "        while fast:\n",
    "            fast = fast.next\n",
    "            slow = slow.next\n",
    "\n",
    "        # remove the nth node from the end\n",
    "        slow.next = slow.next.next\n",
    "\n",
    "        return dummy.next"
   ]
  },
  {
   "cell_type": "code",
   "execution_count": 4,
   "metadata": {},
   "outputs": [
    {
     "name": "stdout",
     "output_type": "stream",
     "text": [
      "[1, 2, 3, 5]\n"
     ]
    }
   ],
   "source": [
    "# Example usage\n",
    "s = Solution()\n",
    "\n",
    "head = ListNode.from_list([1, 2, 3, 4, 5])\n",
    "n = 2\n",
    "new_head = s.removeNthFromEnd(head, n)\n",
    "print(new_head.to_list())"
   ]
  }
 ],
 "metadata": {
  "kernelspec": {
   "display_name": "Python 3",
   "language": "python",
   "name": "python3"
  },
  "language_info": {
   "codemirror_mode": {
    "name": "ipython",
    "version": 3
   },
   "file_extension": ".py",
   "mimetype": "text/x-python",
   "name": "python",
   "nbconvert_exporter": "python",
   "pygments_lexer": "ipython3",
   "version": "3.12.0"
  }
 },
 "nbformat": 4,
 "nbformat_minor": 2
}
