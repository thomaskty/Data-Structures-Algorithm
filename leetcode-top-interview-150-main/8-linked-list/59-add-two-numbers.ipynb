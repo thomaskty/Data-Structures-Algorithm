{
 "cells": [
  {
   "cell_type": "markdown",
   "metadata": {},
   "source": [
    "# Question 57 - LC 2. Add Two Numbers\n",
    "\n",
    "You are given two **non-empty** linked lists representing two non-negative integers. The digits are stored in **reverse order**, and each of their nodes contains a single digit. Add the two numbers and return **the sum as a linked list**.\n",
    "\n",
    "You may assume the two numbers do not contain any leading zero, except the number 0 itself.\n",
    "\n",
    "**Example 1:**\n",
    "\n",
    "    Input: l1 = [2,4,3], l2 = [5,6,4]\n",
    "    Output: [7,0,8]\n",
    "    Explanation: 342 + 465 = 807.\n",
    "\n",
    "**Example 2:**\n",
    "\n",
    "    Input: l1 = [0], l2 = [0]\n",
    "    Output: [0]\n",
    "\n",
    "**Example 3:**\n",
    "\n",
    "    Input: l1 = [9,9,9,9,9,9,9], l2 = [9,9,9,9]\n",
    "    Output: [8,9,9,9,0,0,0,1]\n",
    "\n",
    "**Constraints:**\n",
    "\n",
    "- The number of nodes in each linked list is in the range `[1, 100]`.\n",
    "- `0 <= Node.val <= 9`\n",
    "- It is guaranteed that the list represents a number that does not have leading zeros.\n"
   ]
  },
  {
   "cell_type": "code",
   "execution_count": 1,
   "metadata": {},
   "outputs": [],
   "source": [
    "from typing import Optional\n",
    "from __future__ import annotations\n",
    "\n",
    "\n",
    "# Definition for singly-linked list.\n",
    "class ListNode:\n",
    "    def __init__(self, val: int):\n",
    "        self.val = val\n",
    "        self.next: ListNode | None = None\n",
    "\n",
    "    @staticmethod\n",
    "    def from_list(l: list[int]) -> ListNode | None:\n",
    "        if not l:  # Check if the list is empty\n",
    "            return None  # Return None if the list is empty\n",
    "        head = ListNode(l[0])\n",
    "        current = head\n",
    "        for i in l[1:]:\n",
    "            current.next = ListNode(i)\n",
    "            current = current.next\n",
    "        return head\n",
    "\n",
    "    def to_list(self) -> list[int]:\n",
    "        l = [self.val]\n",
    "        current = self\n",
    "        while current.next:\n",
    "            current = current.next\n",
    "            l.append(current.val)\n",
    "        return l\n",
    "\n",
    "    def print(self) -> None:\n",
    "        print(self.to_list())"
   ]
  },
  {
   "cell_type": "code",
   "execution_count": 2,
   "metadata": {},
   "outputs": [],
   "source": [
    "class Solution:\n",
    "    def addTwoNumbers(self, l1: Optional[ListNode], l2: Optional[ListNode]) -> Optional[ListNode]:\n",
    "        # create a dummy head to simplify the code\n",
    "        dummy_head = ListNode(0)\n",
    "        current = dummy_head\n",
    "        carry = 0\n",
    "        \n",
    "        p, q = l1, l2\n",
    "        \n",
    "        while p or q:\n",
    "            # traverse both lists at the same time, if one list is shorter than the other, use 0\n",
    "            x = p.val if p else 0\n",
    "            y = q.val if q else 0\n",
    "            \n",
    "            # calculate the sum of the two digits and the carry\n",
    "            sum = carry + x + y\n",
    "            \n",
    "            # calculate the carry for the next iteration\n",
    "            carry = sum // 10\n",
    "            \n",
    "            # add a new node with the sum value\n",
    "            current.next = ListNode(sum % 10)\n",
    "            \n",
    "            # move to the next node in the result list\n",
    "            current = current.next\n",
    "            \n",
    "            # move to the next node in both lists\n",
    "            if p:\n",
    "                p = p.next\n",
    "            if q:\n",
    "                q = q.next\n",
    "        \n",
    "        # if there is a carry left, add a new node with the carry value\n",
    "        if carry > 0:\n",
    "            current.next = ListNode(carry)\n",
    "        \n",
    "        return dummy_head.next"
   ]
  },
  {
   "cell_type": "code",
   "execution_count": 3,
   "metadata": {},
   "outputs": [
    {
     "name": "stdout",
     "output_type": "stream",
     "text": [
      "[7, 0, 8]\n",
      "[0]\n",
      "[8, 9, 9, 9, 0, 0, 0, 1]\n"
     ]
    }
   ],
   "source": [
    "# Example usage\n",
    "\n",
    "add_two_numbers = Solution().addTwoNumbers\n",
    "\n",
    "l1 = ListNode.from_list([2, 4, 3])\n",
    "l2 = ListNode.from_list([5, 6, 4])\n",
    "result = add_two_numbers(l1, l2)\n",
    "result.print()  # Expected output: 7 -> 0 -> 8\n",
    "\n",
    "l1 = ListNode.from_list([0])\n",
    "l2 = ListNode.from_list([0])\n",
    "result = add_two_numbers(l1, l2)\n",
    "result.print()  # Expected output: 0\n",
    "\n",
    "l1 = ListNode.from_list([9, 9, 9, 9, 9, 9, 9])\n",
    "l2 = ListNode.from_list([9, 9, 9, 9])\n",
    "result = add_two_numbers(l1, l2)\n",
    "result.print()  # Expected output: 8 -> 9 -> 9 -> 9 -> 0 -> 0 -> 0 -> 1"
   ]
  }
 ],
 "metadata": {
  "kernelspec": {
   "display_name": "Python 3",
   "language": "python",
   "name": "python3"
  },
  "language_info": {
   "codemirror_mode": {
    "name": "ipython",
    "version": 3
   },
   "file_extension": ".py",
   "mimetype": "text/x-python",
   "name": "python",
   "nbconvert_exporter": "python",
   "pygments_lexer": "ipython3",
   "version": "3.11.8"
  }
 },
 "nbformat": 4,
 "nbformat_minor": 2
}
