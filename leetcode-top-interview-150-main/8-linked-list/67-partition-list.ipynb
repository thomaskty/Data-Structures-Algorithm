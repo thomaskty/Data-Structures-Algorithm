{
 "cells": [
  {
   "cell_type": "markdown",
   "metadata": {},
   "source": [
    "# Question 65 - LC 86. Partition List\n",
    "\n",
    "Given the `head` of a linked list and a value `x`, partition it such that all nodes **less than** `x` come before nodes **greater than or equal** to `x`.\n",
    "\n",
    "You should **preserve** the original relative order of the nodes in each of the two partitions.\n",
    "\n",
    "**Example 1:**\n",
    "\n",
    "    Input: head = [1,4,3,2,5,2], x = 3\n",
    "    Output: [1,2,2,4,3,5]\n",
    "\n",
    "**Example 2:**\n",
    "\n",
    "    Input: head = [2,1], x = 2\n",
    "    Output: [1,2]\n",
    "\n",
    "**Constraints:**\n",
    "\n",
    "- The number of nodes in the list is in the range `[0, 200]`.\n",
    "- `-100 <= Node.val <= 100`\n",
    "- `-200 <= x <= 200`\n"
   ]
  },
  {
   "cell_type": "code",
   "execution_count": 1,
   "metadata": {},
   "outputs": [],
   "source": [
    "from __future__ import annotations\n",
    "from typing import Optional"
   ]
  },
  {
   "cell_type": "code",
   "execution_count": 2,
   "metadata": {},
   "outputs": [],
   "source": [
    "# Definition for singly-linked list.\n",
    "class ListNode:\n",
    "    def __init__(self, val: int = 0, next: Optional[ListNode] = None):\n",
    "        self.val = val\n",
    "        self.next = next\n",
    "\n",
    "    @staticmethod\n",
    "    def from_list(l: list[int]) -> ListNode | None:\n",
    "        if not l:  # Check if the list is empty\n",
    "            return None  # Return None if the list is empty\n",
    "        head = ListNode(l[0])\n",
    "        current = head\n",
    "        for i in l[1:]:\n",
    "            current.next = ListNode(i)\n",
    "            current = current.next\n",
    "        return head\n",
    "\n",
    "    def to_list(self) -> list[int]:\n",
    "        l = [self.val]\n",
    "        current = self\n",
    "        while current.next:\n",
    "            current = current.next\n",
    "            l.append(current.val)\n",
    "        return l\n",
    "\n",
    "    def print(self) -> None:\n",
    "        print(self.to_list())"
   ]
  },
  {
   "cell_type": "code",
   "execution_count": 3,
   "metadata": {},
   "outputs": [],
   "source": [
    "class Solution:\n",
    "    def partition(self, head: Optional[ListNode], x: int) -> Optional[ListNode]:\n",
    "        less_head = ListNode(0)  # Dummy head for the 'less' list\n",
    "        greater_head = ListNode(0)  # Dummy head for the 'greater' list\n",
    "        less = less_head  # Pointer for the 'less' list\n",
    "        greater = greater_head  # Pointer for the 'greater' list\n",
    "\n",
    "        while head:\n",
    "            if head.val < x:\n",
    "                less.next = head\n",
    "                less = less.next\n",
    "            else:\n",
    "                greater.next = head\n",
    "                greater = greater.next\n",
    "            head = head.next\n",
    "\n",
    "        greater.next = None  # Important to avoid cycle in linked list\n",
    "        less.next = greater_head.next  # Connect 'less' list with 'greater' list\n",
    "\n",
    "        return less_head.next  # Return the next of dummy head as it is the real head"
   ]
  },
  {
   "cell_type": "code",
   "execution_count": 4,
   "metadata": {},
   "outputs": [
    {
     "data": {
      "text/plain": [
       "[[1, 2, 2, 4, 3, 5], [1, 2]]"
      ]
     },
     "execution_count": 4,
     "metadata": {},
     "output_type": "execute_result"
    }
   ],
   "source": [
    "# Test cases\n",
    "\n",
    "s = Solution()\n",
    "\n",
    "test_cases = [([1, 4, 3, 2, 5, 2], 3), ([2, 1], 2)]\n",
    "results = []\n",
    "\n",
    "for arr, x in test_cases:\n",
    "    head = ListNode.from_list(arr)\n",
    "    partitioned_head = s.partition(head, x)\n",
    "    result = partitioned_head.to_list()\n",
    "    results.append(result)\n",
    "\n",
    "results"
   ]
  },
  {
   "cell_type": "markdown",
   "metadata": {},
   "source": [
    "To analyze the complexity of the partitioning algorithm for a linked list, we'll look at both the time complexity and the space complexity.\n",
    "\n",
    "### Time Complexity\n",
    "\n",
    "1. **Traversal and Partitioning:** The algorithm involves traversing each node of the linked list exactly once to determine if it belongs in the \"less\" sublist or the \"greater or equal\" sublist based on the partition value `x`. Since each node is visited exactly once, the time complexity for this operation is \\(O(n)\\), where \\(n\\) is the number of nodes in the linked list.\n",
    "\n",
    "2. **Combining Lists:** After partitioning, the algorithm combines the \"less\" sublist with the \"greater or equal\" sublist. This operation is done in constant time, \\(O(1)\\), because it only involves adjusting a couple of pointers (specifically, linking the last node of the \"less\" sublist to the first node of the \"greater or equal\" sublist).\n",
    "\n",
    "Therefore, the overall time complexity of the algorithm is \\(O(n)\\).\n",
    "\n",
    "### Space Complexity\n",
    "\n",
    "1. **Auxiliary Space:** The algorithm creates two dummy nodes (one for the \"less\" sublist and one for the \"greater or equal\" sublist) and uses a few pointers (`less`, `greater`, `less_head`, `greater_head`). However, it does not create any new nodes; it merely rearranges the existing nodes of the input list. Thus, the additional space used by the algorithm is constant, \\(O(1)\\).\n",
    "\n",
    "2. **Output Space:** While technically the output list is the same size as the input list, this space is not considered additional space used by the algorithm because the problem statement implies the need to return the modified list. Therefore, we do not count the space occupied by the input or output lists in the space complexity analysis for this algorithm.\n",
    "\n",
    "In summary, the space complexity of the algorithm is \\(O(1)\\) because it uses a constant amount of additional space, regardless of the input size."
   ]
  }
 ],
 "metadata": {
  "kernelspec": {
   "display_name": "Python 3",
   "language": "python",
   "name": "python3"
  },
  "language_info": {
   "codemirror_mode": {
    "name": "ipython",
    "version": 3
   },
   "file_extension": ".py",
   "mimetype": "text/x-python",
   "name": "python",
   "nbconvert_exporter": "python",
   "pygments_lexer": "ipython3",
   "version": "3.12.0"
  }
 },
 "nbformat": 4,
 "nbformat_minor": 2
}
