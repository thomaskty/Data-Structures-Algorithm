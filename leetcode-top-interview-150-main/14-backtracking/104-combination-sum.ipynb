{
 "cells": [
  {
   "cell_type": "markdown",
   "metadata": {},
   "source": [
    "# Question 102 - LC 39. Combination Sum\n",
    "\n",
    "Given an array of distinct integers `candidates` and a target integer `target`, return a list of _all unique combinations_ of `candidates` where the chosen numbers sum to `target`. You may return the combinations in any order.\n",
    "\n",
    "_The same number may be chosen from candidates an unlimited number of times._\n",
    "\n",
    "Two combinations are unique if the frequency of at least one of the chosen numbers is different.\n",
    "\n",
    "The test cases are generated such that the number of unique combinations that sum up to `target` is less than 150 combinations for the given input.\n",
    "\n",
    "## Example 1:\n",
    "\n",
    "**Input:** candidates = [2,3,6,7], target = 7\n",
    "**Output:** [[2,2,3],[7]]\n",
    "\n",
    "**Explanation:**\n",
    "\n",
    "    2 and 3 are candidates, and 2 + 2 + 3 = 7. Note that 2 can be used multiple times.\n",
    "    7 is a candidate, and 7 = 7.\n",
    "    These are the only two combinations.\n",
    "\n",
    "## Example 2:\n",
    "\n",
    "**Input:** candidates = [2,3,5], target = 8\n",
    "**Output:** [[2,2,2,2],[2,3,3],[3,5]]\n",
    "\n",
    "## Example 3:\n",
    "\n",
    "**Input:** candidates = [2], target = 1\n",
    "**Output:** []\n",
    "\n",
    "## Constraints:\n",
    "\n",
    "- `1 <= candidates.length <= 30`\n",
    "- `2 <= candidates[i] <= 40`\n",
    "- All elements of `candidates` are distinct.\n",
    "- `1 <= target <= 40`\n"
   ]
  },
  {
   "cell_type": "code",
   "execution_count": 1,
   "metadata": {
    "metadata": {}
   },
   "outputs": [],
   "source": [
    "class Solution:\n",
    "    def combinationSum(self, candidates: list[int], target: int) -> list[list[int]]:\n",
    "        res: list[list[int]] = []\n",
    "\n",
    "        def backtrack(start: int, target: int, path: list[int]):\n",
    "            if target == 0:\n",
    "                res.append(path[:])\n",
    "                return\n",
    "\n",
    "            if target < 0:\n",
    "                return\n",
    "\n",
    "            for i in range(start, len(candidates)):\n",
    "                path.append(candidates[i])\n",
    "                backtrack(i, target - candidates[i], path)\n",
    "                path.pop()\n",
    "\n",
    "        backtrack(0, target, [])\n",
    "        return res"
   ]
  },
  {
   "cell_type": "code",
   "execution_count": 2,
   "metadata": {
    "metadata": {}
   },
   "outputs": [
    {
     "name": "stdout",
     "output_type": "stream",
     "text": [
      "[[2, 2, 3], [7]]\n",
      "[[2, 2, 2, 2], [2, 3, 3], [3, 5]]\n",
      "[]\n"
     ]
    }
   ],
   "source": [
    "# Test cases\n",
    "\n",
    "s = Solution()\n",
    "\n",
    "candidates1 = [2, 3, 6, 7]\n",
    "target1 = 7\n",
    "print(s.combinationSum(candidates1, target1))  # Output: [[2,2,3],[7]]\n",
    "\n",
    "candidates2 = [2, 3, 5]\n",
    "target2 = 8\n",
    "print(s.combinationSum(candidates2, target2))  # Output: [[2,2,2,2],[2,3,3],[3,5]]\n",
    "\n",
    "candidates3 = [2]\n",
    "target3 = 1\n",
    "print(s.combinationSum(candidates3, target3))  # Output: []"
   ]
  }
 ],
 "metadata": {
  "kernelspec": {
   "display_name": "Python 3",
   "language": "python",
   "name": "python3"
  },
  "language_info": {
   "codemirror_mode": {
    "name": "ipython",
    "version": 3
   },
   "file_extension": ".py",
   "mimetype": "text/x-python",
   "name": "python",
   "nbconvert_exporter": "python",
   "pygments_lexer": "ipython3",
   "version": "3.12.0"
  }
 },
 "nbformat": 4,
 "nbformat_minor": 2
}
