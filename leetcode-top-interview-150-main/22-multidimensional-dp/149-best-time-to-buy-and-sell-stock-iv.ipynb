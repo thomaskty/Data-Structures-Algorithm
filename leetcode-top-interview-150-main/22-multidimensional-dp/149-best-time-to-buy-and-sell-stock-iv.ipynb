{
 "cells": [
  {
   "cell_type": "markdown",
   "metadata": {},
   "source": [
    "# Question 147 - LC 188. Best Time to Buy and Sell Stock IV\n",
    "\n",
    "You are given an integer array `prices` where `prices[i]` is the price of a given stock on the `ith` day, and an integer `k`.\n",
    "\n",
    "Find the maximum profit you can achieve. You may complete at most `k` transactions: i.e. you may buy at most `k` times and sell at most `k` times.\n",
    "\n",
    "**Note**: You may not engage in multiple transactions simultaneously (i.e., you must sell the stock before you buy again).\n",
    "\n",
    "## Example 1:\n",
    "\n",
    "    Input: k = 2, prices = [2,4,1]\n",
    "    Output: 2\n",
    "    Explanation: Buy on day 1 (price = 2) and sell on day 2 (price = 4), profit = 4-2 = 2.\n",
    "\n",
    "## Example 2:\n",
    "\n",
    "    Input: k = 2, prices = [3,2,6,5,0,3]\n",
    "    Output: 7\n",
    "    Explanation: Buy on day 2 (price = 2) and sell on day 3 (price = 6), profit = 6-2 = 4. Then buy on day 5 (price = 0) and sell on day 6 (price = 3), profit = 3-0 = 3.\n",
    "\n",
    "## Constraints:\n",
    "\n",
    "- `1 <= k <= 100`\n",
    "- `1 <= prices.length <= 1000`\n",
    "- `0 <= prices[i] <= 1000`"
   ]
  },
  {
   "cell_type": "code",
   "execution_count": 1,
   "metadata": {},
   "outputs": [],
   "source": [
    "class Solution:\n",
    "    # O(min(kn, n)) time | O(n) space\n",
    "    def maxProfit(self, k: int, prices: list[int]) -> int:\n",
    "        if not prices:\n",
    "            return 0\n",
    "\n",
    "        n = len(prices)\n",
    "\n",
    "        if k >= n // 2:\n",
    "            # k is large enough to cover all transactions\n",
    "            return sum(max(prices[i + 1] - prices[i], 0) for i in range(n - 1))\n",
    "\n",
    "        # dp[i] is the maximum profit with at most i transactions\n",
    "        dp = [0] * n\n",
    "\n",
    "        for i in range(1, k + 1):\n",
    "            max_diff = -prices[0]\n",
    "            new_dp = [0] * n\n",
    "            for j in range(1, n):\n",
    "                new_dp[j] = max(new_dp[j - 1], prices[j] + max_diff)\n",
    "                max_diff = max(max_diff, dp[j] - prices[j])\n",
    "\n",
    "            dp = new_dp\n",
    "\n",
    "        return dp[-1]"
   ]
  },
  {
   "cell_type": "code",
   "execution_count": 2,
   "metadata": {},
   "outputs": [
    {
     "name": "stdout",
     "output_type": "stream",
     "text": [
      "2\n",
      "7\n"
     ]
    }
   ],
   "source": [
    "# Test cases\n",
    "s = Solution()\n",
    "\n",
    "print(s.maxProfit(2, [2, 4, 1]))  # Output: 2\n",
    "print(s.maxProfit(2, [3, 2, 6, 5, 0, 3]))  # Output: 7"
   ]
  }
 ],
 "metadata": {
  "kernelspec": {
   "display_name": "Python 3",
   "language": "python",
   "name": "python3"
  },
  "language_info": {
   "codemirror_mode": {
    "name": "ipython",
    "version": 3
   },
   "file_extension": ".py",
   "mimetype": "text/x-python",
   "name": "python",
   "nbconvert_exporter": "python",
   "pygments_lexer": "ipython3",
   "version": "3.11.1"
  }
 },
 "nbformat": 4,
 "nbformat_minor": 2
}
