{
 "cells": [
  {
   "cell_type": "markdown",
   "metadata": {},
   "source": [
    "# Question 146 - LC 123. Best Time to Buy and Sell Stock III\n",
    "\n",
    "You are given an array `prices` where `prices[i]` is the price of a given stock on the `ith` day.\n",
    "\n",
    "Find the maximum profit you can achieve. You may complete **at most two transactions**.\n",
    "\n",
    "**Note**: You may not engage in multiple transactions simultaneously (i.e., you must sell the stock before you buy again).\n",
    "\n",
    "## Example 1:\n",
    "\n",
    "    Input: prices = [3,3,5,0,0,3,1,4]\n",
    "    Output: 6\n",
    "    Explanation: Buy on day 4 (price = 0) and sell on day 6 (price = 3), profit = 3-0 = 3.\n",
    "    Then buy on day 7 (price = 1) and sell on day 8 (price = 4), profit = 4-1 = 3.\n",
    "\n",
    "## Example 2:\n",
    "\n",
    "    Input: prices = [1,2,3,4,5]\n",
    "    Output: 4\n",
    "    Explanation: Buy on day 1 (price = 1) and sell on day 5 (price = 5), profit = 5-1 = 4.\n",
    "    Note that you cannot buy on day 1, buy on day 2 and sell them later, as you are engaging multiple transactions at the same time. You must sell before buying again.\n",
    "\n",
    "## Example 3:\n",
    "\n",
    "    Input: prices = [7,6,4,3,1]\n",
    "    Output: 0\n",
    "    Explanation: In this case, no transaction is done, i.e. max profit = 0.\n",
    "\n",
    "## Constraints:\n",
    "\n",
    "- `1 <= prices.length <= 10^5`\n",
    "- `0 <= prices[i] <= 10^5`\n"
   ]
  },
  {
   "cell_type": "code",
   "execution_count": 1,
   "metadata": {},
   "outputs": [],
   "source": [
    "class Solution:\n",
    "    # O(n) time | O(n) space\n",
    "    def maxProfit(self, prices: list[int]) -> int:\n",
    "        if not prices:\n",
    "            return 0\n",
    "\n",
    "        n = len(prices)\n",
    "\n",
    "        # profit1 holds the max profit achievable with one transaction up to day i\n",
    "        profit1 = [0] * n\n",
    "        # profit2 holds the max profit achievable with two transactions up to day i\n",
    "        profit2 = [0] * n\n",
    "\n",
    "        # for profit1, we need to keep track of the minimum price so far\n",
    "        min_price = prices[0]\n",
    "        for i in range(1, n):\n",
    "            min_price = min(min_price, prices[i])\n",
    "            profit1[i] = max(profit1[i - 1], prices[i] - min_price)\n",
    "\n",
    "        # for profit2, we need to keep track of the minimum price after the first sale\n",
    "        min_price_after_first_sale = prices[0] - profit1[0]\n",
    "        for i in range(1, n):\n",
    "            min_price_after_first_sale = min(\n",
    "                min_price_after_first_sale, prices[i] - profit1[i])\n",
    "            profit2[i] = max(profit2[i - 1], prices[i] -\n",
    "                             min_price_after_first_sale)\n",
    "\n",
    "        return profit2[-1]"
   ]
  },
  {
   "cell_type": "code",
   "execution_count": 2,
   "metadata": {},
   "outputs": [
    {
     "name": "stdout",
     "output_type": "stream",
     "text": [
      "6\n",
      "4\n",
      "0\n"
     ]
    }
   ],
   "source": [
    "# Test cases\n",
    "s = Solution()\n",
    "\n",
    "prices1 = [3, 3, 5, 0, 0, 3, 1, 4]\n",
    "prices2 = [1, 2, 3, 4, 5]\n",
    "prices3 = [7, 6, 4, 3, 1]\n",
    "\n",
    "print(s.maxProfit(prices1))  # Output: 6\n",
    "print(s.maxProfit(prices2))  # Output: 4\n",
    "print(s.maxProfit(prices3))  # Output: 0"
   ]
  }
 ],
 "metadata": {
  "kernelspec": {
   "display_name": "Python 3",
   "language": "python",
   "name": "python3"
  },
  "language_info": {
   "codemirror_mode": {
    "name": "ipython",
    "version": 3
   },
   "file_extension": ".py",
   "mimetype": "text/x-python",
   "name": "python",
   "nbconvert_exporter": "python",
   "pygments_lexer": "ipython3",
   "version": "3.9.13"
  }
 },
 "nbformat": 4,
 "nbformat_minor": 2
}
