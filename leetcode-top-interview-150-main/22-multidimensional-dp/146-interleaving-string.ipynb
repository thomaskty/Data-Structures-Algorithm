{
 "cells": [
  {
   "cell_type": "markdown",
   "metadata": {},
   "source": [
    "# Question 144 - LC 97. Interleaving String\n",
    "\n",
    "Given strings `s1`, `s2`, and `s3`, find whether `s3` is formed by an interleaving of `s1` and `s2`.\n",
    "\n",
    "An interleaving of two strings s and t is a configuration where s and t are divided into n and m substrings respectively, such that:\n",
    "\n",
    "1. s = s1 + s2 + ... + sn\n",
    "2. t = t1 + t2 + ... + tm\n",
    "3. |n - m| <= 1\n",
    "\n",
    "The interleaving is `s1 + t1 + s2 + t2 + s3 + t3 + ...` or `t1 + s1 + t2 + s2 + t3 + s3 + ...`\n",
    "\n",
    "Note: `a + b` is the concatenation of strings `a` and `b`.\n",
    "\n",
    "## Example 1:\n",
    "\n",
    "    Input: s1 = \"aabcc\", s2 = \"dbbca\", s3 = \"aadbbcbcac\"\n",
    "    Output: true\n",
    "    Explanation: One way to obtain s3 is:\n",
    "    Split s1 into s1 = \"aa\" + \"bc\" + \"c\", and s2 into s2 = \"dbbc\" + \"a\".\n",
    "    Interleaving the two splits, we get \"aa\" + \"dbbc\" + \"bc\" + \"a\" + \"c\" = \"aadbbcbcac\".\n",
    "    Since s3 can be obtained by interleaving s1 and s2, we return true.\n",
    "\n",
    "## Example 2:\n",
    "\n",
    "    Input: s1 = \"aabcc\", s2 = \"dbbca\", s3 = \"aadbbbaccc\"\n",
    "    Output: false\n",
    "    Explanation: Notice how it is impossible to interleave s2 with any other string to obtain s3.\n",
    "\n",
    "## Example 3:\n",
    "\n",
    "    Input: s1 = \"\", s2 = \"\", s3 = \"\"\n",
    "    Output: true\n",
    "\n",
    "## Constraints:\n",
    "\n",
    "`0 <= s1.length, s2.length <= 100`\n",
    "`0 <= s3.length <= 200`\n",
    "`s1`, `s2`, and `s3` consist of lowercase English letters.\n",
    "\n",
    "**Follow up**: Could you solve it using only `O(s2.length)` additional memory space?\n"
   ]
  },
  {
   "cell_type": "code",
   "execution_count": 1,
   "metadata": {},
   "outputs": [],
   "source": [
    "class Solution:\n",
    "    # time complexity: O(len(s1) * len(s2))\n",
    "    # space complexity: O(min(len(s1), len(s2)))\n",
    "    def isInterleave(self, s1: str, s2: str, s3: str) -> bool:\n",
    "        # inital check for the length of s3\n",
    "        if len(s1) + len(s2) != len(s3):\n",
    "            return False\n",
    "\n",
    "        # s1 is the longer string\n",
    "        if len(s1) < len(s2):\n",
    "            s1, s2 = s2, s1\n",
    "\n",
    "        # dp[j] means whether s1[:i] and s2[:j] can interleave to s3[:i+j]\n",
    "        dp = [True] + [False] * len(s2)\n",
    "\n",
    "        # fill the dp array for the first row\n",
    "        for j in range(1, len(s2) + 1):\n",
    "            # check if the first j characters of s2 match the first j characters of s3\n",
    "            dp[j] = dp[j - 1] and s2[j - 1] == s3[j - 1]\n",
    "\n",
    "        # main dp loop\n",
    "        for i in range(1, len(s1) + 1):\n",
    "            # check if the first i characters of s1 match the first i characters of s3\n",
    "            dp[0] = dp[0] and s1[i - 1] == s3[i - 1]\n",
    "            for j in range(1, len(s2) + 1):\n",
    "                # check if the first i + j characters of s1 and s2 match the first i + j characters of s3\n",
    "                dp[j] = (dp[j] and s1[i - 1] == s3[i + j - 1]\n",
    "                         ) or (dp[j - 1] and s2[j - 1] == s3[i + j - 1])\n",
    "\n",
    "        return dp[-1]"
   ]
  },
  {
   "cell_type": "code",
   "execution_count": 2,
   "metadata": {},
   "outputs": [
    {
     "name": "stdout",
     "output_type": "stream",
     "text": [
      "True\n",
      "False\n",
      "True\n"
     ]
    }
   ],
   "source": [
    "# Test cases\n",
    "s = Solution()\n",
    "\n",
    "print(s.isInterleave(\"aabcc\", \"dbbca\", \"aadbbcbcac\"))  # Output: true\n",
    "print(s.isInterleave(\"aabcc\", \"dbbca\", \"aadbbbaccc\"))  # Output: false\n",
    "print(s.isInterleave(\"\", \"\", \"\"))  # Output: true"
   ]
  }
 ],
 "metadata": {
  "kernelspec": {
   "display_name": "Python 3",
   "language": "python",
   "name": "python3"
  },
  "language_info": {
   "codemirror_mode": {
    "name": "ipython",
    "version": 3
   },
   "file_extension": ".py",
   "mimetype": "text/x-python",
   "name": "python",
   "nbconvert_exporter": "python",
   "pygments_lexer": "ipython3",
   "version": "3.9.13"
  }
 },
 "nbformat": 4,
 "nbformat_minor": 2
}
