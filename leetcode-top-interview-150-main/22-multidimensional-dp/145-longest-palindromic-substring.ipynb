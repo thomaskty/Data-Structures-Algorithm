{
 "cells": [
  {
   "cell_type": "markdown",
   "metadata": {},
   "source": [
    "# Question 143 - LC 5. Longest Palindromic Substring\n",
    "\n",
    "Given a string `s`, return the **longest palindromic substring** in `s`.\n",
    "\n",
    "## Example 1:\n",
    "\n",
    "    Input: s = \"babad\"\n",
    "    Output: \"bab\"\n",
    "    Explanation: \"aba\" is also a valid answer.\n",
    "\n",
    "## Example 2:\n",
    "\n",
    "    Input: s = \"cbbd\"\n",
    "    Output: \"bb\"\n",
    "\n",
    "## Constraints:\n",
    "\n",
    "- `1 <= s.length <= 1000`\n",
    "- `s` consist of only digits and English letters.\n"
   ]
  },
  {
   "cell_type": "code",
   "execution_count": 1,
   "metadata": {},
   "outputs": [],
   "source": [
    "class Solution:\n",
    "    # O(n^2) time complexity: two nested loops\n",
    "    # O(1) space complexity: only a few variables used\n",
    "    def longestPalindrome(self, s: str) -> str:\n",
    "        # Helper function to expand around a center.\n",
    "        def expand_around_center(left: int, right: int) -> str:\n",
    "            while left >= 0 and right < len(s) and s[left] == s[right]:\n",
    "                left -= 1\n",
    "                right += 1\n",
    "            # Return the palindrome found.\n",
    "            return s[left + 1:right]\n",
    "\n",
    "        # If the string is less than 2 characters, it's a palindrome by itself.\n",
    "        if len(s) < 2:\n",
    "            return s\n",
    "\n",
    "        # Keep track of the longest palindrome found so far.\n",
    "        longest = ''\n",
    "        for i in range(len(s)):\n",
    "            # Check for both odd and even length palindromes.\n",
    "            odd_palindrome = expand_around_center(i, i)\n",
    "            even_palindrome = expand_around_center(i, i + 1)\n",
    "            longest = max(longest, odd_palindrome, even_palindrome, key=len)\n",
    "\n",
    "        return longest"
   ]
  },
  {
   "cell_type": "code",
   "execution_count": 2,
   "metadata": {},
   "outputs": [
    {
     "name": "stdout",
     "output_type": "stream",
     "text": [
      "bab\n",
      "bb\n",
      "a\n",
      "a\n",
      "bb\n"
     ]
    }
   ],
   "source": [
    "s = Solution()\n",
    "\n",
    "print(s.longestPalindrome(\"babad\"))  # \"bab\" or \"aba\"\n",
    "print(s.longestPalindrome(\"cbbd\"))  # \"bb\"\n",
    "print(s.longestPalindrome(\"a\"))  # \"a\"\n",
    "print(s.longestPalindrome(\"ac\"))  # \"a\"\n",
    "print(s.longestPalindrome(\"bb\"))  # \"bb\""
   ]
  }
 ],
 "metadata": {
  "kernelspec": {
   "display_name": "Python 3",
   "language": "python",
   "name": "python3"
  },
  "language_info": {
   "codemirror_mode": {
    "name": "ipython",
    "version": 3
   },
   "file_extension": ".py",
   "mimetype": "text/x-python",
   "name": "python",
   "nbconvert_exporter": "python",
   "pygments_lexer": "ipython3",
   "version": "3.9.13"
  }
 },
 "nbformat": 4,
 "nbformat_minor": 2
}
