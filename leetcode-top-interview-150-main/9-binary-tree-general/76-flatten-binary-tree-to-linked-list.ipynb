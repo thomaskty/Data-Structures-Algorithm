{
 "cells": [
  {
   "cell_type": "markdown",
   "metadata": {},
   "source": [
    "# Question 74 - LC 114. Flatten Binary Tree to Linked List\n",
    "\n",
    "Given the `root` of a binary tree, flatten the tree into a \"linked list\":\n",
    "\n",
    "The \"linked list\" should use the same `TreeNode` class where the `right` child pointer points to the next node in the list and the `left` child pointer is always `null`.\n",
    "The \"linked list\" should be in the same order as a **pre-order traversal** of the binary tree.\n",
    "\n",
    "**Example 1:**\n",
    "\n",
    "    Input: root = [1,2,5,3,4,null,6]\n",
    "    Output: [1,null,2,null,3,null,4,null,5,null,6]\n",
    "\n",
    "**Example 2:**\n",
    "\n",
    "    Input: root = []\n",
    "    Output: []\n",
    "\n",
    "**Example 3:**\n",
    "\n",
    "    Input: root = [0]\n",
    "    Output: [0]\n",
    "\n",
    "**Constraints:**\n",
    "\n",
    "- The number of nodes in the tree is in the range `[0, 2000]`.\n",
    "- `-100 <= Node.val <= 100`\n",
    "\n",
    "**Follow up:** Can you flatten the tree in-place (with `O(1)` extra space)?\n"
   ]
  },
  {
   "cell_type": "code",
   "execution_count": 13,
   "metadata": {},
   "outputs": [],
   "source": [
    "from __future__ import annotations\n",
    "from typing import Optional\n",
    "from collections import deque"
   ]
  },
  {
   "cell_type": "code",
   "execution_count": 14,
   "metadata": {},
   "outputs": [],
   "source": [
    "# Definition for a binary tree node.\n",
    "class TreeNode:\n",
    "    def __init__(self, val=0, left=None, right=None):\n",
    "        self.val = val\n",
    "        self.left = left\n",
    "        self.right = right\n",
    "\n",
    "    @staticmethod\n",
    "    def from_list(values: list[Optional[int]]) -> Optional[TreeNode]:\n",
    "        \"\"\"\n",
    "        Constructs a binary tree from a list of values using level-order traversal (BFS).\n",
    "\n",
    "        Parameters:\n",
    "        - values (list): The list of values to construct the binary tree from.\n",
    "\n",
    "        Returns:\n",
    "        TreeNode: The root of the constructed binary tree.\n",
    "        \"\"\"\n",
    "        if not values:\n",
    "            return None\n",
    "\n",
    "        root = TreeNode(val=values[0])\n",
    "        queue = deque([root])\n",
    "        i = 1\n",
    "\n",
    "        while queue and i < len(values):\n",
    "            current_node = queue.popleft()\n",
    "\n",
    "            if values[i] is not None:\n",
    "                current_node.left = TreeNode(val=values[i])\n",
    "                queue.append(current_node.left)\n",
    "            i += 1\n",
    "\n",
    "            if i < len(values) and values[i] is not None:\n",
    "                current_node.right = TreeNode(val=values[i])\n",
    "                queue.append(current_node.right)\n",
    "            i += 1\n",
    "\n",
    "        return root\n",
    "\n",
    "    def print_level_order(self):\n",
    "        \"\"\"\n",
    "        Prints the level order traversal of the tree (BFS).\n",
    "\n",
    "        Returns:\n",
    "        list: A list of lists, where each sublist contains the values of the tree nodes\n",
    "              at that depth.\n",
    "        \"\"\"\n",
    "        queue = deque([(self, 0)])\n",
    "        result = []\n",
    "        current_level = []\n",
    "        level_number = 0\n",
    "\n",
    "        while queue:\n",
    "            current_node, node_level = queue.popleft()\n",
    "\n",
    "            if node_level > level_number:\n",
    "                result.append(current_level)\n",
    "                current_level = []\n",
    "                level_number = node_level\n",
    "\n",
    "            if current_node:\n",
    "                current_level.append(current_node.val)\n",
    "                queue.append((current_node.left, node_level + 1))\n",
    "                queue.append((current_node.right, node_level + 1))\n",
    "            else:\n",
    "                current_level.append(\"None\")\n",
    "\n",
    "        if current_level:\n",
    "            result.append(current_level)\n",
    "        \n",
    "        # Remove trailing \"None\" values\n",
    "        result = [level for level in result if any(elem != \"None\" for elem in level)]\n",
    "\n",
    "        return result"
   ]
  },
  {
   "cell_type": "code",
   "execution_count": 15,
   "metadata": {},
   "outputs": [],
   "source": [
    "class Solution:\n",
    "    def flatten(self, root: Optional[TreeNode]) -> None:\n",
    "        \"\"\"\n",
    "        Do not return anything, modify root in-place instead.\n",
    "        \"\"\"\n",
    "        current = root\n",
    "\n",
    "        while current:\n",
    "            if current.left:\n",
    "                # Find the rightmost node in the left subtree\n",
    "                rightmost = current.left\n",
    "                while rightmost.right:\n",
    "                    rightmost = rightmost.right\n",
    "\n",
    "                # Move the right subtree to the rightmost node\n",
    "                rightmost.right = current.right\n",
    "                current.right = current.left\n",
    "                current.left = None\n",
    "\n",
    "            # Move to the next node in the pre-order traversal\n",
    "            current = current.right"
   ]
  },
  {
   "cell_type": "code",
   "execution_count": 16,
   "metadata": {},
   "outputs": [
    {
     "data": {
      "text/plain": [
       "[[1], ['None', 2], ['None', 3], ['None', 4], ['None', 5], ['None', 6]]"
      ]
     },
     "execution_count": 16,
     "metadata": {},
     "output_type": "execute_result"
    }
   ],
   "source": [
    "# Test\n",
    "\n",
    "s = Solution()\n",
    "\n",
    "root = TreeNode.from_list([1, 2, 5, 3, 4, None, 6])\n",
    "s.flatten(root)\n",
    "root.print_level_order()"
   ]
  }
 ],
 "metadata": {
  "kernelspec": {
   "display_name": "Python 3",
   "language": "python",
   "name": "python3"
  },
  "language_info": {
   "codemirror_mode": {
    "name": "ipython",
    "version": 3
   },
   "file_extension": ".py",
   "mimetype": "text/x-python",
   "name": "python",
   "nbconvert_exporter": "python",
   "pygments_lexer": "ipython3",
   "version": "3.12.0"
  }
 },
 "nbformat": 4,
 "nbformat_minor": 2
}
