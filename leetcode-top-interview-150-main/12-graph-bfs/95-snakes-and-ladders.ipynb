{
 "cells": [
  {
   "cell_type": "markdown",
   "metadata": {},
   "source": [
    "# Question 93 - LC 909. Snakes and Ladders\n",
    "\n",
    "You are given an n x n integer matrix `board` where the cells are labeled from 1 to n^2 in a Boustrophedon style starting from the bottom left of the board (i.e., board[n - 1][0]) and alternating direction each row.\n",
    "\n",
    "You start on square 1 of the board. In each move, starting from square `curr`, do the following:\n",
    "\n",
    "- Choose a destination square `next` with a label in the range [curr + 1, min(curr + 6, n^2)].\n",
    "  This choice simulates the result of a standard 6-sided die roll: i.e., there are always at most 6 destinations, regardless of the size of the board.\n",
    "- If `next` has a snake or ladder, you must move to the destination of that snake or ladder. Otherwise, you move to `next`.\n",
    "  The game ends when you reach the square n^2.\n",
    "  A board square on row r and column c has a snake or ladder if `board[r][c]` != -1. The destination of that snake or ladder is `board[r][c]`. Squares 1 and n^2 do not have any ladders or snakes.\n",
    "\n",
    "Note that you only take a snake or ladder at most once per move. If the destination to a snake or ladder is the start of another snake or ladder, you do not follow the subsequent snake or ladder.\n",
    "\n",
    "**Example 1:**\n",
    "\n",
    "Input:\n",
    "\n",
    "```python\n",
    "board = [\n",
    "    [-1,-1,-1,-1,-1,-1],\n",
    "    [-1,-1,-1,-1,-1,-1],\n",
    "    [-1,-1,-1,-1,-1,-1],\n",
    "    [-1,35,-1,-1,13,-1],\n",
    "    [-1,-1,-1,-1,-1,-1],\n",
    "    [-1,15,-1,-1,-1,-1]\n",
    "]\n",
    "```\n",
    "\n",
    "Output: 4\n",
    "\n",
    "Explanation:\n",
    "\n",
    "In the beginning, you start at square 1 (at row 5, column 0).\n",
    "You decide to move to square 2 and must take the ladder to square 15.\n",
    "You then decide to move to square 17 and must take the snake to square 13.\n",
    "You then decide to move to square 14 and must take the ladder to square 35.\n",
    "You then decide to move to square 36, ending the game.\n",
    "This is the lowest possible number of moves to reach the last square, so return 4.\n",
    "\n",
    "**Example 2:**\n",
    "\n",
    "Input: board = [[-1,-1],[-1,3]]\n",
    "Output: 1\n",
    "\n",
    "**Constraints:**\n",
    "\n",
    "- `n == board.length == board[i].length`\n",
    "- `2 <= n <= 20`\n",
    "- `board[i][j]` is either `-1` or in the range `[1, n^2]`.\n",
    "- The squares labeled 1 and n2 do not have any ladders or snakes.\n"
   ]
  },
  {
   "cell_type": "code",
   "execution_count": 1,
   "metadata": {
    "metadata": {}
   },
   "outputs": [],
   "source": [
    "from collections import deque\n",
    "\n",
    "\n",
    "class Solution:\n",
    "    def snakesAndLadders(self, board: list[list[int]]) -> int:\n",
    "        n = len(board)\n",
    "\n",
    "        # Function to convert the square number to board indices\n",
    "        def get_position(square):\n",
    "            row = (square - 1) // n\n",
    "            col = (square - 1) % n\n",
    "            if row % 2 == 1:  # if the row is odd, reverse the order of columns\n",
    "                col = n - 1 - col\n",
    "            row = n - 1 - row  # reverse the row to start from the bottom\n",
    "            return row, col\n",
    "\n",
    "        # BFS setup\n",
    "        queue = deque([1])  # start BFS from square 1\n",
    "        visited = set([1])\n",
    "        moves: int = 0\n",
    "\n",
    "        # BFS loop\n",
    "        while queue:\n",
    "            size = len(queue)\n",
    "            for _ in range(size):\n",
    "                current = queue.popleft()\n",
    "                if current == n * n:  # reached the last square\n",
    "                    return moves\n",
    "                # Explore the next moves for dice rolls from 1 to 6\n",
    "                for dice_roll in range(1, 7):\n",
    "                    next_square = current + dice_roll\n",
    "                    if (\n",
    "                        next_square > n * n\n",
    "                    ):  # skip if next square is beyond board limits\n",
    "                        continue\n",
    "                    r, c = get_position(next_square)\n",
    "                    # If there is a snake or ladder, take it\n",
    "                    if board[r][c] != -1:\n",
    "                        next_square = board[r][c]\n",
    "\n",
    "                    if next_square not in visited:\n",
    "                        visited.add(next_square)\n",
    "                        queue.append(next_square)\n",
    "            moves += 1\n",
    "\n",
    "        # If it's not possible to reach the last square\n",
    "        return -1"
   ]
  },
  {
   "cell_type": "code",
   "execution_count": 2,
   "metadata": {
    "metadata": {}
   },
   "outputs": [
    {
     "data": {
      "text/plain": [
       "(4, 1)"
      ]
     },
     "execution_count": 2,
     "metadata": {},
     "output_type": "execute_result"
    }
   ],
   "source": [
    "# Test the implementation\n",
    "\n",
    "s = Solution()\n",
    "\n",
    "board_example1 = [\n",
    "    [-1, -1, -1, -1, -1, -1],\n",
    "    [-1, -1, -1, -1, -1, -1],\n",
    "    [-1, -1, -1, -1, -1, -1],\n",
    "    [-1, 35, -1, -1, 13, -1],\n",
    "    [-1, -1, -1, -1, -1, -1],\n",
    "    [-1, 15, -1, -1, -1, -1],\n",
    "]\n",
    "board_example2 = [[-1, -1], [-1, 3]]\n",
    "\n",
    "# Execute test cases\n",
    "output1 = s.snakesAndLadders(board_example1)  # Expected output: 4\n",
    "output2 = s.snakesAndLadders(board_example2)  # Expected output: 1\n",
    "\n",
    "output1, output2"
   ]
  }
 ],
 "metadata": {
  "kernelspec": {
   "display_name": "Python 3",
   "language": "python",
   "name": "python3"
  },
  "language_info": {
   "codemirror_mode": {
    "name": "ipython",
    "version": 3
   },
   "file_extension": ".py",
   "mimetype": "text/x-python",
   "name": "python",
   "nbconvert_exporter": "python",
   "pygments_lexer": "ipython3",
   "version": "3.12.0"
  }
 },
 "nbformat": 4,
 "nbformat_minor": 2
}
