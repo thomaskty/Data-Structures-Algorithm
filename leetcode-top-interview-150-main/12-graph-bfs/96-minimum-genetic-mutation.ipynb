{
 "cells": [
  {
   "cell_type": "markdown",
   "metadata": {},
   "source": [
    "# Question 94 - LC 433. Minimum Genetic Mutation\n",
    "\n",
    "A gene string can be represented by an 8-character long string, with choices from `'A'`, `'C'`, `'G'`, and `'T'`.\n",
    "\n",
    "Suppose we need to investigate a mutation from a gene string `startGene` to a gene string `endGene` where one mutation is defined as **one single character** changed in the gene string.\n",
    "\n",
    "For example, `\"AACCGGTT\" --> \"AACCGGTA\"` is one mutation.\n",
    "\n",
    "There is also a gene bank bank that records all the valid gene mutations. A gene **must be in bank** to make it a valid gene string.\n",
    "\n",
    "Given the two gene strings `startGene` and `endGene` and the gene bank `bank`, return the \\*minimum number of mutations needed to mutate from **startGene** to **endGene\\***. If there is no such a mutation, return `-1`.\n",
    "\n",
    "Note that the starting point is assumed to be valid, so it might not be included in the bank.\n",
    "\n",
    "**Example 1:**\n",
    "\n",
    "    Input: startGene = \"AACCGGTT\", endGene = \"AACCGGTA\", bank = [\"AACCGGTA\"]\n",
    "    Output: 1\n",
    "\n",
    "**Example 2:**\n",
    "\n",
    "    Input: startGene = \"AACCGGTT\", endGene = \"AAACGGTA\", bank = [\"AACCGGTA\",\"AACCGCTA\",\"AAACGGTA\"]\n",
    "    Output: 2\n",
    "\n",
    "**Constraints:**\n",
    "\n",
    "- `0 <= bank.length <= 10`\n",
    "- `startGene.length == endGene.length == bank[i].length == 8`\n",
    "- `startGene`, `endGene`, and `bank[i]` consist of only the characters `['A', 'C', 'G', 'T']`.\n"
   ]
  },
  {
   "cell_type": "markdown",
   "metadata": {},
   "source": [
    "To solve this problem, we can use a Breadth-First Search (BFS) approach. Here's how we can think about the problem and implement the solution:\n",
    "\n",
    "1. **Define Mutation:** A valid mutation is changing one character in the gene string to another allowed character ('A', 'C', 'G', 'T').\n",
    "\n",
    "2. **BFS Setup:** Each node in our BFS will represent a gene string. We start from `startGene` and look for valid mutations that move us closer to the `endGene`.\n",
    "\n",
    "3. **Queue for BFS:** We'll use a queue to explore the gene strings. Initially, it will have a tuple containing the `startGene` and a mutation count (starting at 0).\n",
    "\n",
    "4. **Visited Set:** To avoid re-processing the same gene string, we'll use a set to keep track of visited gene strings.\n",
    "\n",
    "5. **Validating Mutations:** For each gene string, we'll generate all possible valid mutations by changing each character to 'A', 'C', 'G', 'T' (excluding the character that is already there). If the mutated gene is in the `bank` and hasn't been visited yet, it's a valid mutation.\n",
    "\n",
    "6. **End Condition:** If at any point we mutate to the `endGene`, we return the mutation count. If the queue is exhausted without reaching `endGene`, return -1.\n",
    "\n",
    "7. **Handling Edge Cases:** If `startGene` is the same as `endGene`, the number of mutations needed is 0. If the `bank` is empty or doesn't contain pathways to `endGene`, no mutation is possible.\n"
   ]
  },
  {
   "cell_type": "code",
   "execution_count": 1,
   "metadata": {
    "metadata": {}
   },
   "outputs": [],
   "source": [
    "from collections import deque\n",
    "\n",
    "\n",
    "class Solution:\n",
    "    def minMutation(self, startGene: str, endGene: str, bank: list[str]) -> int:\n",
    "        # handle edge case\n",
    "        if startGene == endGene:\n",
    "            return 0\n",
    "        if endGene not in bank:\n",
    "            return -1\n",
    "\n",
    "        # convert bank to set for faster lookup\n",
    "        bank: set[str] = set(bank)\n",
    "        # create a queue to store the genes to be visited\n",
    "        # (current gene, number of mutations)\n",
    "        queue: deque[tuple[str, int]] = deque([(startGene, 0)])\n",
    "        # create a set to store the visited gene\n",
    "        visited = set([startGene])\n",
    "\n",
    "        while queue:\n",
    "            current_gene, mutation_count = queue.popleft()\n",
    "\n",
    "            # generate all possible mutations of the current gene\n",
    "            for i in range(len(current_gene)):\n",
    "                for c in \"ACGT\":\n",
    "                    if c != current_gene[i]:\n",
    "                        new_gene = current_gene[:i] + c + current_gene[i+1:]\n",
    "                        if new_gene == endGene:\n",
    "                            return mutation_count + 1\n",
    "                        if new_gene in bank and new_gene not in visited:\n",
    "                            queue.append((new_gene, mutation_count + 1))\n",
    "                            visited.add(new_gene)\n",
    "\n",
    "        # if no valid mutation sequence is found\n",
    "        return -1"
   ]
  },
  {
   "cell_type": "code",
   "execution_count": 2,
   "metadata": {
    "metadata": {}
   },
   "outputs": [
    {
     "data": {
      "text/plain": [
       "(1, 2)"
      ]
     },
     "execution_count": 2,
     "metadata": {},
     "output_type": "execute_result"
    }
   ],
   "source": [
    "# Testing the function with the given examples\n",
    "\n",
    "s = Solution()\n",
    "\n",
    "example1 = s.minMutation(\"AACCGGTT\", \"AACCGGTA\", [\"AACCGGTA\"])\n",
    "example2 = s.minMutation(\n",
    "    \"AACCGGTT\", \"AAACGGTA\", [\"AACCGGTA\", \"AACCGCTA\", \"AAACGGTA\"])\n",
    "\n",
    "example1, example2"
   ]
  },
  {
   "cell_type": "markdown",
   "metadata": {},
   "source": [
    "### Time Complexity\n",
    "\n",
    "1. **Generating Mutations:** For each gene string processed, we generate all possible valid mutations. Since each gene string has 8 characters, and for each character, we could change it to any of 3 other characters (excluding the original one), this leads to \\(8 \\times 3 = 24\\) possible mutations per gene string.\n",
    "\n",
    "2. **Processing Each Gene String:** We might potentially process every gene string in the gene bank plus the `startGene`. In the worst-case scenario, we would consider each gene string in the bank as a possible mutation of another. If the bank has \\(N\\) strings, we consider all \\(N\\) and potentially the starting point, thus we will have \\(N + 1\\) gene strings to consider in the worst case.\n",
    "\n",
    "3. **Checking and Enqueueing Mutations:** For each of these 24 mutations, we check if the mutation is in the bank (which, since we converted the bank into a set, is an O(1) operation due to hashing) and if it has not been visited yet.\n",
    "\n",
    "Therefore, in the worst case, the time complexity is proportional to the number of gene strings considered times the mutations generated per gene string. This gives a worst-case time complexity of \\(O(N \\times 24)\\) or simply \\(O(N)\\) where \\(N\\) is the size of the bank plus one for the start gene.\n",
    "\n",
    "### Space Complexity\n",
    "\n",
    "1. **Queue Storage:** The queue can hold at most \\(N + 1\\) elements in the worst case, if every possible gene string needs to be processed.\n",
    "\n",
    "2. **Visited Set:** Similarly, the visited set can also grow to contain \\(N + 1\\) elements in the worst case.\n",
    "\n",
    "3. **Gene Bank:** The conversion of the gene bank list to a set for faster access takes \\(O(N)\\) space.\n",
    "\n",
    "Thus, the total space complexity is also \\(O(N)\\), where \\(N\\) represents the total number of unique gene strings considered (including the `startGene` if not in the bank).\n",
    "\n",
    "In conclusion, the algorithm is efficient in terms of both time and space, especially considering that the maximum bank size is limited to 10 in the problem constraints. This results in a very feasible solution for all practical inputs as defined by the problem."
   ]
  }
 ],
 "metadata": {
  "kernelspec": {
   "display_name": "Python 3",
   "language": "python",
   "name": "python3"
  },
  "language_info": {
   "codemirror_mode": {
    "name": "ipython",
    "version": 3
   },
   "file_extension": ".py",
   "mimetype": "text/x-python",
   "name": "python",
   "nbconvert_exporter": "python",
   "pygments_lexer": "ipython3",
   "version": "3.12.0"
  }
 },
 "nbformat": 4,
 "nbformat_minor": 2
}
