{
 "cells": [
  {
   "cell_type": "markdown",
   "metadata": {},
   "source": [
    "# Question 93 - LC 210. Course Schedule II\n",
    "\n",
    "## Difficulty\n",
    "\n",
    "Medium\n",
    "\n",
    "## Topics\n",
    "\n",
    "- Graph Theory\n",
    "- Topological Sort\n",
    "- Depth-First Search (DFS)\n",
    "- Breadth-First Search (BFS)\n",
    "\n",
    "## Companies\n",
    "\n",
    "This problem is commonly asked by tech companies interested in testing knowledge of graph traversal techniques.\n",
    "\n",
    "## Problem Statement\n",
    "\n",
    "You are required to complete a total of `numCourses` courses, labeled from `0` to `numCourses - 1`. Each course may have one or more prerequisites which is represented by an array `prerequisites`, where `prerequisites[i] = [ai, bi]` indicates that you must take course `bi` before you can enroll in course `ai`.\n",
    "\n",
    "For example, `[0, 1]` means you must complete course `1` before starting course `0`. Your task is to find an ordering of courses that allows you to fulfill all prerequisites. Return the order of courses you should take to finish all courses. If there are multiple valid orders, any of them is acceptable. If it is impossible to complete all courses due to cycles in the prerequisite constraints, return an empty array.\n",
    "\n",
    "## Examples\n",
    "\n",
    "### Example 1:\n",
    "\n",
    "- **Input:** `numCourses = 2`, `prerequisites = [[1,0]]`\n",
    "- **Output:** `[0,1]`\n",
    "- **Explanation:** There are 2 courses to take. To take course 1 you must have finished course 0, so the correct course order is `[0,1]`.\n",
    "\n",
    "### Example 2:\n",
    "\n",
    "- **Input:** `numCourses = 4`, `prerequisites = [[1,0],[2,0],[3,1],[3,2]]`\n",
    "- **Output:** `[0,2,1,3]`\n",
    "- **Explanation:** To take course 3 you should have finished both courses 1 and 2, which both depend on course 0. So one correct course order is `[0,1,2,3]`. Another valid ordering is `[0,2,1,3]`.\n",
    "\n",
    "### Example 3:\n",
    "\n",
    "- **Input:** `numCourses = 1`, `prerequisites = []`\n",
    "- **Output:** `[0]`\n",
    "- **Explanation:** With only one course and no prerequisites, the order is straightforward.\n",
    "\n",
    "## Constraints\n",
    "\n",
    "- `1 <= numCourses <= 2000`\n",
    "- `0 <= prerequisites.length <= numCourses * (numCourses - 1)`\n",
    "- `prerequisites[i].length == 2`\n",
    "- `0 <= ai, bi < numCourses`\n",
    "- `ai != bi`\n",
    "- All the pairs `[ai, bi]` are distinct.\n",
    "\n",
    "## Hint\n",
    "\n",
    "To solve this problem, use graph representations and implement topological sorting. This can be approached either using Kahn's Algorithm (BFS) or by DFS to detect cycles and determine a valid topological order.\n"
   ]
  },
  {
   "cell_type": "code",
   "execution_count": 1,
   "metadata": {},
   "outputs": [],
   "source": [
    "from collections import deque\n",
    "\n",
    "\n",
    "class Solution:\n",
    "    def findOrder(self, numCourses: int, prerequisites: list[list[int]]) -> list[int]:\n",
    "        # create a list to store the number of prerequisites for each course\n",
    "        in_degree = [0] * numCourses\n",
    "        # create an adjacency list to store the courses that can be taken\n",
    "        graph = [[] for _ in range(numCourses)]\n",
    "\n",
    "        # build the graph and in_degree list\n",
    "        for course, pre in prerequisites:\n",
    "            graph[pre].append(course)\n",
    "            in_degree[course] += 1\n",
    "\n",
    "        # create a queue to store the courses that can be taken - starting with the courses that have no prerequisites (in_degree = 0)\n",
    "        queue = deque([i for i in range(numCourses) if in_degree[i] == 0])\n",
    "        # create a list to keep track of the order of the courses that can be taken\n",
    "        topological_order: list[int] = []\n",
    "\n",
    "        # process the graph\n",
    "        while queue:\n",
    "            course = queue.popleft()\n",
    "            topological_order.append(course)\n",
    "            # reduce the number of prerequisites for the courses that can be taken (reduce the in_degree of neighbors)\n",
    "            for c in graph[\n",
    "                course\n",
    "            ]:  # c is the course that can be taken - neighbors of the course\n",
    "                in_degree[c] -= 1\n",
    "                # add the course to the queue if it has no prerequisites (in_degree = 0)\n",
    "                if in_degree[c] == 0:\n",
    "                    queue.append(c)\n",
    "\n",
    "        # if all the courses can be taken => Check if topological sorting is possible (i.e., no cycle)\n",
    "        if len(topological_order) == numCourses:\n",
    "            return topological_order\n",
    "        else:\n",
    "            return []"
   ]
  },
  {
   "cell_type": "code",
   "execution_count": 2,
   "metadata": {},
   "outputs": [
    {
     "data": {
      "text/plain": [
       "[[0, 1], [0, 1, 2, 3], [0]]"
      ]
     },
     "execution_count": 2,
     "metadata": {},
     "output_type": "execute_result"
    }
   ],
   "source": [
    "# Test cases\n",
    "s = Solution()\n",
    "\n",
    "test_cases = [(2, [[1, 0]]), (4, [[1, 0], [2, 0], [3, 1], [3, 2]]), (1, [])]\n",
    "\n",
    "[s.findOrder(numCourses, prerequisites) for numCourses, prerequisites in test_cases]"
   ]
  }
 ],
 "metadata": {
  "kernelspec": {
   "display_name": "Python 3",
   "language": "python",
   "name": "python3"
  },
  "language_info": {
   "codemirror_mode": {
    "name": "ipython",
    "version": 3
   },
   "file_extension": ".py",
   "mimetype": "text/x-python",
   "name": "python",
   "nbconvert_exporter": "python",
   "pygments_lexer": "ipython3",
   "version": "3.11.1"
  }
 },
 "nbformat": 4,
 "nbformat_minor": 2
}
