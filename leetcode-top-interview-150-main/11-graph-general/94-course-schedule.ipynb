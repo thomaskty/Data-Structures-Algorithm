{
 "cells": [
  {
   "cell_type": "markdown",
   "metadata": {},
   "source": [
    "## Question 92 - LC 207. Course Schedule\n",
    "\n",
    "**Difficulty**: Medium\n",
    "\n",
    "### Topics:\n",
    "\n",
    "- Graphs\n",
    "- Depth-First Search\n",
    "- Breadth-First Search\n",
    "- Topological Sort\n",
    "\n",
    "### Companies:\n",
    "\n",
    "- Amazon\n",
    "- Facebook\n",
    "- Google\n",
    "- Microsoft\n",
    "\n",
    "### Hint:\n",
    "\n",
    "To solve this problem, consider using a topological sorting of the courses based on their prerequisites.\n",
    "\n",
    "### Description:\n",
    "\n",
    "You are required to complete `numCourses` courses, each labeled from `0` to `numCourses - 1`. You are provided with an array `prerequisites` where `prerequisites[i] = [ai, bi]` indicates that you must complete course `bi` before you can start course `ai`.\n",
    "\n",
    "For instance, the pair `[0, 1]` means that to take course `0`, you must first complete course `1`.\n",
    "\n",
    "**Objective**: Return `true` if you can finish all courses. Otherwise, return `false`.\n",
    "\n",
    "### Examples:\n",
    "\n",
    "#### Example 1:\n",
    "\n",
    "- **Input**: `numCourses = 2`, `prerequisites = [[1,0]]`\n",
    "- **Output**: `true`\n",
    "- **Explanation**: There are 2 courses to take. To take course 1, you must have completed course 0, making it possible to finish all courses.\n",
    "\n",
    "#### Example 2:\n",
    "\n",
    "- **Input**: `numCourses = 2`, `prerequisites = [[1,0],[0,1]]`\n",
    "- **Output**: `false`\n",
    "- **Explanation**: There are 2 courses to take. Each course requires the prior completion of the other, creating a cycle and making it impossible to finish all courses.\n",
    "\n",
    "### Constraints:\n",
    "\n",
    "- `1 <= numCourses <= 2000`\n",
    "- `0 <= prerequisites.length <= 5000`\n",
    "- `prerequisites[i].length == 2`\n",
    "- `0 <= ai, bi < numCourses`\n",
    "- All pairs in `prerequisites[i]` are unique.\n"
   ]
  },
  {
   "cell_type": "code",
   "execution_count": 1,
   "metadata": {
    "metadata": {}
   },
   "outputs": [],
   "source": [
    "from collections import deque\n",
    "\n",
    "\n",
    "class Solution:\n",
    "    def canFinish(self, numCourses: int, prerequisites: list[list[int]]) -> bool:\n",
    "        # create a list to store the number of prerequisites for each course\n",
    "        in_degree = [0] * numCourses\n",
    "        # create an adjacency list to store the courses that can be taken\n",
    "        graph = [[] for _ in range(numCourses)]\n",
    "\n",
    "        # build the graph and in_degree list\n",
    "        for course, pre in prerequisites:\n",
    "            graph[pre].append(course)\n",
    "            in_degree[course] += 1\n",
    "\n",
    "        # create a queue to store the courses that can be taken - starting with the courses that have no prerequisites\n",
    "        queue = deque([i for i in range(numCourses) if in_degree[i] == 0])\n",
    "        # create a counter to keep track of the number of courses processed\n",
    "        visited = 0\n",
    "\n",
    "        # process the graph\n",
    "        while queue:\n",
    "            course = queue.popleft()\n",
    "            visited += 1\n",
    "            # reduce the number of prerequisites for the courses that can be taken\n",
    "            for c in graph[\n",
    "                course\n",
    "            ]:  # c is the course that can be taken - neighbors of the course\n",
    "                in_degree[c] -= 1\n",
    "                # add the course to the queue if it has no prerequisites\n",
    "                if in_degree[c] == 0:\n",
    "                    queue.append(c)\n",
    "\n",
    "        # if all the courses can be taken, return True\n",
    "        return visited == numCourses"
   ]
  },
  {
   "cell_type": "code",
   "execution_count": 2,
   "metadata": {
    "metadata": {}
   },
   "outputs": [
    {
     "name": "stdout",
     "output_type": "stream",
     "text": [
      "True\n",
      "False\n"
     ]
    }
   ],
   "source": [
    "s = Solution()\n",
    "\n",
    "print(s.canFinish(2, [[1, 0]]))  # Output: True\n",
    "print(s.canFinish(2, [[1, 0], [0, 1]]))  # Output: False"
   ]
  }
 ],
 "metadata": {
  "kernelspec": {
   "display_name": "Python 3",
   "language": "python",
   "name": "python3"
  },
  "language_info": {
   "codemirror_mode": {
    "name": "ipython",
    "version": 3
   },
   "file_extension": ".py",
   "mimetype": "text/x-python",
   "name": "python",
   "nbconvert_exporter": "python",
   "pygments_lexer": "ipython3",
   "version": "3.12.0"
  }
 },
 "nbformat": 4,
 "nbformat_minor": 2
}
