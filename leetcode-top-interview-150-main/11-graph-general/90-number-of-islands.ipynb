{
 "cells": [
  {
   "cell_type": "markdown",
   "metadata": {},
   "source": [
    "# Question 88 - LC 200. Number of Islands\n",
    "\n",
    "Given an `m x n` 2D binary grid `grid` which represents a map of `'1's` (land) and `'0's` (water), return the number of islands.\n",
    "\n",
    "An island is surrounded by water and is formed by connecting adjacent lands horizontally or vertically. _You may assume all four edges of the grid are all surrounded by water_.\n",
    "\n",
    "## Example 1:\n",
    "\n",
    "Input:\n",
    "\n",
    "```python\n",
    "grid = [\n",
    "[\"1\",\"1\",\"1\",\"1\",\"0\"],\n",
    "[\"1\",\"1\",\"0\",\"1\",\"0\"],\n",
    "[\"1\",\"1\",\"0\",\"0\",\"0\"],\n",
    "[\"0\",\"0\",\"0\",\"0\",\"0\"]\n",
    "]\n",
    "```\n",
    "\n",
    "Output: 1\n",
    "\n",
    "## Example 2:\n",
    "\n",
    "Input:\n",
    "\n",
    "```python\n",
    "grid = [\n",
    "[\"1\",\"1\",\"0\",\"0\",\"0\"],\n",
    "[\"1\",\"1\",\"0\",\"0\",\"0\"],\n",
    "[\"0\",\"0\",\"1\",\"0\",\"0\"],\n",
    "[\"0\",\"0\",\"0\",\"1\",\"1\"]\n",
    "]\n",
    "```\n",
    "\n",
    "Output: 3\n",
    "\n",
    "## Constraints:\n",
    "\n",
    "- `m == grid.length`\n",
    "- `n == grid[i].length`\n",
    "- `1 <= m, n <= 300`\n",
    "- `grid[i][j]` is '`0`' or '`1`'.\n"
   ]
  },
  {
   "cell_type": "code",
   "execution_count": 1,
   "metadata": {},
   "outputs": [],
   "source": [
    "class Solution:\n",
    "    # Time complexity: O(M * N) - Space complexity: O(M * N) from the call stack\n",
    "    def numIslands(self, grid: list[list[str]]) -> int:\n",
    "        # edge case\n",
    "        if not grid:\n",
    "            return 0\n",
    "\n",
    "        # get the number of rows and columns\n",
    "        rows, cols = len(grid), len(grid[0])\n",
    "\n",
    "        # count the number of islands\n",
    "        num_islands = 0\n",
    "\n",
    "        # dfs function\n",
    "        def dfs(row: int, col: int) -> None:\n",
    "            # base case: if the current cell is out of the grid (water) or is water\n",
    "            if (\n",
    "                row < 0\n",
    "                or col < 0\n",
    "                or row >= rows\n",
    "                or col >= cols\n",
    "                or grid[row][col] == \"0\"\n",
    "            ):\n",
    "                return\n",
    "            # mark the current cell as visited\n",
    "            grid[row][col] = \"0\"\n",
    "            # visit the neighbors\n",
    "            dfs(row + 1, col)  # down\n",
    "            dfs(row - 1, col)  # up\n",
    "            dfs(row, col + 1)  # right\n",
    "            dfs(row, col - 1)  # left\n",
    "\n",
    "        for row in range(rows):\n",
    "            for col in range(cols):\n",
    "                if grid[row][col] == \"1\":  # Found an unvisited cell\n",
    "                    num_islands += 1\n",
    "                    dfs(row, col)\n",
    "\n",
    "        return num_islands"
   ]
  },
  {
   "cell_type": "code",
   "execution_count": 2,
   "metadata": {},
   "outputs": [
    {
     "data": {
      "text/plain": [
       "(1, 3)"
      ]
     },
     "execution_count": 2,
     "metadata": {},
     "output_type": "execute_result"
    }
   ],
   "source": [
    "# Example 1\n",
    "grid1 = [\n",
    "    [\"1\", \"1\", \"1\", \"1\", \"0\"],\n",
    "    [\"1\", \"1\", \"0\", \"1\", \"0\"],\n",
    "    [\"1\", \"1\", \"0\", \"0\", \"0\"],\n",
    "    [\"0\", \"0\", \"0\", \"0\", \"0\"],\n",
    "]\n",
    "\n",
    "# Example 2\n",
    "grid2 = [\n",
    "    [\"1\", \"1\", \"0\", \"0\", \"0\"],\n",
    "    [\"1\", \"1\", \"0\", \"0\", \"0\"],\n",
    "    [\"0\", \"0\", \"1\", \"0\", \"0\"],\n",
    "    [\"0\", \"0\", \"0\", \"1\", \"1\"],\n",
    "]\n",
    "\n",
    "s = Solution()\n",
    "\n",
    "output1 = s.numIslands(grid1)\n",
    "output2 = s.numIslands(grid2)\n",
    "\n",
    "output1, output2"
   ]
  }
 ],
 "metadata": {
  "kernelspec": {
   "display_name": "Python 3",
   "language": "python",
   "name": "python3"
  },
  "language_info": {
   "codemirror_mode": {
    "name": "ipython",
    "version": 3
   },
   "file_extension": ".py",
   "mimetype": "text/x-python",
   "name": "python",
   "nbconvert_exporter": "python",
   "pygments_lexer": "ipython3",
   "version": "3.11.1"
  }
 },
 "nbformat": 4,
 "nbformat_minor": 2
}
