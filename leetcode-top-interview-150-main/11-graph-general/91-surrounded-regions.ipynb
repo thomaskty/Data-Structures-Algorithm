{
 "cells": [
  {
   "cell_type": "markdown",
   "metadata": {},
   "source": [
    "# Question 89 - LC 130. Surrounded Regions\n",
    "\n",
    "Given an `m x n` matrix board containing `'X'` and `'O'`, capture all regions that are 4-directionally surrounded by `'X'`.\n",
    "\n",
    "A region is captured by flipping all `'O'`s into `'X'`s in that surrounded region.\n",
    "\n",
    "## Example 1:\n",
    "\n",
    "Input:\n",
    "\n",
    "```python\n",
    "board = [\n",
    "    [\"X\", \"X\", \"X\", \"X\"],\n",
    "    [\"X\", \"O\", \"O\", \"X\"],\n",
    "    [\"X\", \"X\", \"O\", \"X\"],\n",
    "    [\"X\", \"O\", \"X\", \"X\"]\n",
    "]\n",
    "```\n",
    "\n",
    "Output:\n",
    "\n",
    "```python\n",
    "board = [\n",
    "    [\"X\", \"X\", \"X\", \"X\"],\n",
    "    [\"X\", \"X\", \"X\", \"X\"],\n",
    "    [\"X\", \"X\", \"X\", \"X\"],\n",
    "    [\"X\", \"O\", \"X\", \"X\"],\n",
    "]\n",
    "```\n",
    "\n",
    "Explanation: Notice that an 'O' should not be flipped if:\n",
    "\n",
    "- It is on the border, or\n",
    "- It is adjacent to an 'O' that should not be flipped.\n",
    "  The bottom 'O' is on the border, so it is not flipped.\n",
    "  The other three 'O' form a surrounded region, so they are flipped.\n",
    "\n",
    "## Example 2:\n",
    "\n",
    "Input: board = [[\"X\"]]\n",
    "Output: [[\"X\"]]\n",
    "\n",
    "## Constraints:\n",
    "\n",
    "- `m == board.length`\n",
    "- `n == board[i].length`\n",
    "- `1 <= m, n <= 200`\n",
    "- `board[i][j]` is `'X'` or `'O'`.\n"
   ]
  },
  {
   "cell_type": "code",
   "execution_count": 3,
   "metadata": {},
   "outputs": [],
   "source": [
    "class Solution:\n",
    "    # DFS approach - Time complexity: O(m*n) - Space complexity: O(m*n)\n",
    "    def solve(self, board: list[list[str]]) -> None:\n",
    "        if not board:\n",
    "            return\n",
    "\n",
    "        rows, cols = len(board), len(board[0])\n",
    "\n",
    "        # Mark 'O's connected to boundary as '#'\n",
    "        def dfs(r, c):\n",
    "            if 0 <= r < rows and 0 <= c < cols and board[r][c] == 'O':\n",
    "                board[r][c] = '#'  # Mark as visited\n",
    "                dfs(r + 1, c)\n",
    "                dfs(r - 1, c)\n",
    "                dfs(r, c + 1)\n",
    "                dfs(r, c - 1)\n",
    "\n",
    "        # Mark from the boundary\n",
    "        for r in range(rows):\n",
    "            for c in range(cols):\n",
    "                # Check if it's a boundary 'O'\n",
    "                if (r in [0, rows - 1] or c in [0, cols - 1]) and board[r][c] == 'O':\n",
    "                    # Mark connected 'O's as '#'\n",
    "                    dfs(r, c)\n",
    "\n",
    "        # Replace surrounded 'O's with X's, restore marked 'O's by replacing '#' with 'O'\n",
    "        for r in range(rows):\n",
    "            for c in range(cols):\n",
    "                if board[r][c] == 'O':\n",
    "                    board[r][c] = 'X'\n",
    "                elif board[r][c] == '#':\n",
    "                    board[r][c] = 'O'"
   ]
  },
  {
   "cell_type": "code",
   "execution_count": 4,
   "metadata": {},
   "outputs": [
    {
     "name": "stdout",
     "output_type": "stream",
     "text": [
      "['X', 'X', 'X', 'X']\n",
      "['X', 'X', 'X', 'X']\n",
      "['X', 'X', 'X', 'X']\n",
      "['X', 'O', 'X', 'X']\n"
     ]
    }
   ],
   "source": [
    "# Test Cases\n",
    "\n",
    "board = [\n",
    "    [\"X\", \"X\", \"X\", \"X\"],\n",
    "    [\"X\", \"X\", \"X\", \"X\"],\n",
    "    [\"X\", \"X\", \"X\", \"X\"],\n",
    "    [\"X\", \"O\", \"X\", \"X\"],\n",
    "]\n",
    "\n",
    "s = Solution()\n",
    "s.solve(board)\n",
    "\n",
    "for row in board:\n",
    "    print(row)"
   ]
  }
 ],
 "metadata": {
  "kernelspec": {
   "display_name": "Python 3",
   "language": "python",
   "name": "python3"
  },
  "language_info": {
   "codemirror_mode": {
    "name": "ipython",
    "version": 3
   },
   "file_extension": ".py",
   "mimetype": "text/x-python",
   "name": "python",
   "nbconvert_exporter": "python",
   "pygments_lexer": "ipython3",
   "version": "3.12.0"
  }
 },
 "nbformat": 4,
 "nbformat_minor": 2
}
