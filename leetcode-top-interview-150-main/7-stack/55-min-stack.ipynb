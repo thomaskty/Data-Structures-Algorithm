{
 "cells": [
  {
   "cell_type": "markdown",
   "metadata": {},
   "source": [
    "# Question 53 - LC 155. Min Stack\n",
    "\n",
    "Design a stack that supports `push`, `pop`, `top`, and retrieving the `minimum element` in **constant** time.\n",
    "\n",
    "Implement the **MinStack class**:\n",
    "\n",
    "- `MinStack()` initializes the stack object.\n",
    "- `void push(int val)` pushes the element val onto the stack.\n",
    "- `void pop()` removes the element on the top of the stack.\n",
    "- `int top()` gets the top element of the stack.\n",
    "- `int getMin()` retrieves the minimum element in the stack.\n",
    "\n",
    "You must implement a solution with `O(1)` time complexity for each function.\n",
    "\n",
    "**Example 1:**\n",
    "\n",
    "    Input\n",
    "    [\"MinStack\",\"push\",\"push\",\"push\",\"getMin\",\"pop\",\"top\",\"getMin\"]\n",
    "    [[],[-2],[0],[-3],[],[],[],[]]\n",
    "\n",
    "    Output\n",
    "    [null,null,null,null,-3,null,0,-2]\n",
    "\n",
    "**Explanation**\n",
    "\n",
    "    MinStack minStack = new MinStack();\n",
    "    minStack.push(-2);\n",
    "    minStack.push(0);\n",
    "    minStack.push(-3);\n",
    "    minStack.getMin(); // return -3\n",
    "    minStack.pop();\n",
    "    minStack.top();    // return 0\n",
    "    minStack.getMin(); // return -2\n",
    "\n",
    "**Constraints:**\n",
    "\n",
    "-`2^31 <= val <= 2^31 - 1`\n",
    "\n",
    "- Methods `pop`, `top` and `getMin` operations will always be called on **non-empty stacks**.\n",
    "  = At most **3 \\* 10^4** calls will be made to `push`, `pop`, `top`, and `getMin`.\n"
   ]
  },
  {
   "cell_type": "code",
   "execution_count": 1,
   "metadata": {},
   "outputs": [
    {
     "name": "stdout",
     "output_type": "stream",
     "text": [
      "-3\n",
      "0\n",
      "-2\n"
     ]
    }
   ],
   "source": [
    "class MinStack:\n",
    "    def __init__(self):\n",
    "        # Use two stacks: one to store all values and another to store minimum values\n",
    "        self.stack = []\n",
    "        self.min_stack = []\n",
    "\n",
    "    def push(self, val):\n",
    "        # Push value onto the main stack\n",
    "        self.stack.append(val)\n",
    "        # If the min_stack is empty or the current value is less than or equal to the current minimum, push it onto the min_stack\n",
    "        if not self.min_stack or val <= self.min_stack[-1]:\n",
    "            self.min_stack.append(val)\n",
    "\n",
    "    def pop(self):\n",
    "        # Pop value from the main stack\n",
    "        val = self.stack.pop()\n",
    "        # If the popped value is the current minimum, also pop it from the min_stack\n",
    "        if val == self.min_stack[-1]:\n",
    "            self.min_stack.pop()\n",
    "\n",
    "    def top(self):\n",
    "        # Return the top element of the main stack\n",
    "        return self.stack[-1]\n",
    "\n",
    "    def getMin(self):\n",
    "        # Return the top element of the min_stack, which is the current minimum\n",
    "        return self.min_stack[-1]\n",
    "\n",
    "\n",
    "# Example usage\n",
    "minStack = MinStack()\n",
    "minStack.push(-2)\n",
    "minStack.push(0)\n",
    "minStack.push(-3)\n",
    "print(minStack.getMin())  # return -3\n",
    "minStack.pop()\n",
    "print(minStack.top())     # return 0\n",
    "print(minStack.getMin())  # return -2"
   ]
  }
 ],
 "metadata": {
  "kernelspec": {
   "display_name": "Python 3",
   "language": "python",
   "name": "python3"
  },
  "language_info": {
   "codemirror_mode": {
    "name": "ipython",
    "version": 3
   },
   "file_extension": ".py",
   "mimetype": "text/x-python",
   "name": "python",
   "nbconvert_exporter": "python",
   "pygments_lexer": "ipython3",
   "version": "3.11.8"
  }
 },
 "nbformat": 4,
 "nbformat_minor": 2
}
