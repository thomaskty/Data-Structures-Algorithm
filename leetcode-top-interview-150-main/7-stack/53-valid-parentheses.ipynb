{
 "cells": [
  {
   "cell_type": "markdown",
   "metadata": {},
   "source": [
    "# Question 51 - LC 20. Valid Parentheses\n",
    "\n",
    "Given a string `s` containing just the characters `'('`, `')'`, `'{'`, `'}'`, `'['` and `']'`, determine if the input string is valid.\n",
    "\n",
    "An input string is valid if:\n",
    "\n",
    "1. Open brackets must be closed by the same type of brackets.\n",
    "2. Open brackets must be closed in the correct order.\n",
    "3. Every close bracket has a corresponding open bracket of the same type.\n",
    "\n",
    "**Example 1:**\n",
    "\n",
    "    Input: s = \"()\"\n",
    "    Output: true\n",
    "\n",
    "**Example 2:**\n",
    "\n",
    "    Input: s = \"()[]{}\"\n",
    "    Output: true\n",
    "\n",
    "**Example 3:**\n",
    "\n",
    "    Input: s = \"(]\"\n",
    "    Output: false\n",
    "\n",
    "**Constraints:**\n",
    "\n",
    "- `1 <= s.length <= 10^4`\n",
    "- `s` consists of parentheses only `'()[]{}'`.\n"
   ]
  },
  {
   "cell_type": "code",
   "execution_count": 1,
   "metadata": {},
   "outputs": [],
   "source": [
    "class Solution:\n",
    "    # Time complexity: O(n)\n",
    "    # Space complexity: O(n)\n",
    "    def isValid(self, s: str) -> bool:\n",
    "        # create a stack\n",
    "        stack = []\n",
    "\n",
    "        # create a dictionary to store the pairs\n",
    "        pairs = {\n",
    "            ')': '(',\n",
    "            ']': '[',\n",
    "            '}': '{'\n",
    "        }\n",
    "\n",
    "        # iterate through the string\n",
    "        for char in s:\n",
    "            # if a char is the closing bracket\n",
    "            if char in pairs:\n",
    "                # pop the topmost element if stack is not empty else assign a dummy value\n",
    "                top_element = stack.pop() if stack else '#'\n",
    "                # if the top element is not the corresponding opening bracket\n",
    "                if pairs[char] != top_element:\n",
    "                    return False\n",
    "            else:\n",
    "                # if the char is an opening bracket, push it to the stack\n",
    "                stack.append(char)\n",
    "\n",
    "        # if the stack is empty, return True as all brackets are closed properly else False\n",
    "        return not stack"
   ]
  },
  {
   "cell_type": "code",
   "execution_count": 2,
   "metadata": {},
   "outputs": [
    {
     "data": {
      "text/plain": [
       "[True, True, False]"
      ]
     },
     "execution_count": 2,
     "metadata": {},
     "output_type": "execute_result"
    }
   ],
   "source": [
    "# Test cases\n",
    "\n",
    "isValid = Solution().isValid\n",
    "\n",
    "test_cases = [\"()\", \"()[]{}\", \"(]\"]\n",
    "results = [isValid(s) for s in test_cases]\n",
    "results"
   ]
  }
 ],
 "metadata": {
  "kernelspec": {
   "display_name": "Python 3",
   "language": "python",
   "name": "python3"
  },
  "language_info": {
   "codemirror_mode": {
    "name": "ipython",
    "version": 3
   },
   "file_extension": ".py",
   "mimetype": "text/x-python",
   "name": "python",
   "nbconvert_exporter": "python",
   "pygments_lexer": "ipython3",
   "version": "3.11.8"
  }
 },
 "nbformat": 4,
 "nbformat_minor": 2
}
