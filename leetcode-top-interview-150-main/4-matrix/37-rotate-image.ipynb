{
 "cells": [
  {
   "cell_type": "markdown",
   "metadata": {},
   "source": [
    "# Question 35 - LC 48. Rotate Image\n",
    "\n",
    "You are given an `n x n` 2D `matrix` representing an image, rotate the image by _90 degrees (clockwise)_.\n",
    "\n",
    "You have to rotate the image **in-place**, which means you have to modify the input 2D matrix directly. **DO NOT** allocate another 2D matrix and do the rotation.\n",
    "\n",
    "**Example 1:**\n",
    "\n",
    "Input: matrix = [[1,2,3],[4,5,6],[7,8,9]]\n",
    "Output: [[7,4,1],[8,5,2],[9,6,3]]\n",
    "\n",
    "**Example 2:**\n",
    "\n",
    "Input: matrix = [[5,1,9,11],[2,4,8,10],[13,3,6,7],[15,14,12,16]]\n",
    "Output: [[15,13,2,5],[14,3,4,1],[12,6,8,9],[16,7,10,11]]\n",
    "\n",
    "**Constraints:**\n",
    "\n",
    "- `n == matrix.length == matrix[i].length`\n",
    "- `1 <= n <= 20`\n",
    "- `-1000 <= matrix[i][j] <= 1000`\n"
   ]
  },
  {
   "cell_type": "code",
   "execution_count": 3,
   "metadata": {},
   "outputs": [],
   "source": [
    "class Solution:\n",
    "    # O(n^2) time complexity: transpose is O(n^2), reverse is O(n)\n",
    "    # O(1) space complexity: in-place\n",
    "    def rotate(self, matrix: list[list[int]]) -> None:\n",
    "        n = len(matrix)\n",
    "\n",
    "        # transpose the matrix\n",
    "        for i in range(n):\n",
    "            for j in range(i, n):\n",
    "                matrix[i][j], matrix[j][i] = matrix[j][i], matrix[i][j]\n",
    "\n",
    "        # reverse each row\n",
    "        for i in range(n):\n",
    "            matrix[i].reverse()\n",
    "\n",
    "        return matrix"
   ]
  },
  {
   "cell_type": "code",
   "execution_count": 4,
   "metadata": {},
   "outputs": [
    {
     "data": {
      "text/plain": [
       "([[7, 4, 1], [8, 5, 2], [9, 6, 3]],\n",
       " [[15, 13, 2, 5], [14, 3, 4, 1], [12, 6, 8, 9], [16, 7, 10, 11]])"
      ]
     },
     "execution_count": 4,
     "metadata": {},
     "output_type": "execute_result"
    }
   ],
   "source": [
    "# Test the function with the provided examples\n",
    "\n",
    "rotate = Solution().rotate\n",
    "\n",
    "matrix1 = [[1, 2, 3], [4, 5, 6], [7, 8, 9]]\n",
    "matrix2 = [[5, 1, 9, 11], [2, 4, 8, 10], [13, 3, 6, 7], [15, 14, 12, 16]]\n",
    "\n",
    "rotate(matrix1), rotate(matrix2)"
   ]
  }
 ],
 "metadata": {
  "kernelspec": {
   "display_name": "Python 3",
   "language": "python",
   "name": "python3"
  },
  "language_info": {
   "codemirror_mode": {
    "name": "ipython",
    "version": 3
   },
   "file_extension": ".py",
   "mimetype": "text/x-python",
   "name": "python",
   "nbconvert_exporter": "python",
   "pygments_lexer": "ipython3",
   "version": "3.11.7"
  }
 },
 "nbformat": 4,
 "nbformat_minor": 2
}
