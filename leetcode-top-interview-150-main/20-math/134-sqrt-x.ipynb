{
 "cells": [
  {
   "cell_type": "markdown",
   "metadata": {},
   "source": [
    "# Question 132 - LC 69. Sqrt(x)\n",
    "\n",
    "Given a non-negative integer `x`, return the square root of `x` rounded *down to the nearest integer*. The returned integer should be *non-negative* as well.\n",
    "\n",
    "You must not use any built-in exponent function or operator.\n",
    "\n",
    "For example, do not use `pow(x, 0.5)` in c++ or `x ** 0.5` in python.\n",
    "\n",
    "## Example 1:\n",
    "\n",
    "    Input: x = 4\n",
    "    Output: 2\n",
    "    Explanation: The square root of 4 is 2, so we return 2.\n",
    "\n",
    "## Example 2:\n",
    "\n",
    "    Input: x = 8\n",
    "    Output: 2\n",
    "    Explanation: The square root of 8 is 2.82842..., and since we round it down to the nearest integer, 2 is returned.\n",
    "\n",
    "## Constraints:\n",
    "\n",
    "`0 <= x <= 2^31 - 1`"
   ]
  },
  {
   "cell_type": "code",
   "execution_count": 1,
   "metadata": {},
   "outputs": [],
   "source": [
    "class Solution:\n",
    "    def mySqrt(self, x: int) -> int:\n",
    "        if 0 <= x < 2:\n",
    "            return x\n",
    "        \n",
    "        left, right = 1, x // 2\n",
    "        \n",
    "        while left <= right:\n",
    "            mid = (left + right) // 2\n",
    "            if mid * mid == x:\n",
    "                return mid\n",
    "            elif mid * mid < x:\n",
    "                left = mid + 1\n",
    "            else:\n",
    "                right = mid - 1\n",
    "        \n",
    "        return right"
   ]
  },
  {
   "cell_type": "code",
   "execution_count": 2,
   "metadata": {},
   "outputs": [
    {
     "name": "stdout",
     "output_type": "stream",
     "text": [
      "2\n",
      "2\n"
     ]
    }
   ],
   "source": [
    "# Example usage:\n",
    "s = Solution()\n",
    "\n",
    "print(s.mySqrt(4))  # Output: 2\n",
    "print(s.mySqrt(8))  # Output: 2"
   ]
  },
  {
   "cell_type": "markdown",
   "metadata": {},
   "source": [
    "To solve the problem of finding the square root of a non-negative integer $ x $ rounded down to the nearest integer without using any built-in exponent function or operator, we can use the binary search method. This approach is efficient and has a time complexity of $ O(\\log x) $.\n",
    "\n",
    "### Explanation\n",
    "\n",
    "1. **Initial Check**: If $ x $ is less than 2, return $ x $ because the square root of 0 is 0 and the square root of 1 is 1.\n",
    "\n",
    "2. **Binary Search Setup**: Initialize `left` to 1 and `right` to $ x // 2 $. We use $ x // 2 $ because the square root of $ x $ will always be less than or equal to $ x // 2 $ for $ x \\geq 2 $.\n",
    "\n",
    "3. **Binary Search Loop**:\n",
    "   - Calculate the middle point `mid` as $ (left + right) // 2 $.\n",
    "   - If $ mid^2 $ equals $ x $, return `mid` because we have found the exact square root.\n",
    "   - If $ mid^2 $ is less than $ x $, move the `left` boundary to `mid + 1` to search in the higher half.\n",
    "   - If $ mid^2 $ is greater than $ x $, move the `right` boundary to `mid - 1` to search in the lower half.\n",
    "\n",
    "4. **Return the Result**: When the loop ends, `right` will be the largest integer such that $ right^2 \\leq x $, which is the required floor value of the square root.\n",
    "\n",
    "This method ensures that we efficiently find the floor value of the square root without using any built-in exponentiation functions or operators.\n",
    "\n",
    "Citations:\n",
    "- [1] https://www.sololearn.com/en/Discuss/2228331/how-can-we-calculate-square-root-without-using-any-builtin-function-in-python\n",
    "- [2] https://www.geeksforgeeks.org/floor-square-root-without-using-sqrt-function-recursive/\n",
    "- [3] https://www.reddit.com/r/learnpython/comments/ljg28m/taking_the_positive_square_root_mathsqrt_mathpow/\n",
    "- [4] https://realpython.com/python-square-root-function/\n",
    "- [5] https://www.reddit.com/r/learnpython/comments/12yebxw/how_does_this_square_root_algorithm_work/\n",
    "- [6] https://discuss.python.org/t/issue-with-math-sqrt-not-working/23987\n",
    "- [7] https://www.learndatasci.com/solutions/python-square-root/\n",
    "- [8] https://discuss.python.org/t/how-would-i-find-the-closest-perfect-square-to-a-number-without-using-sqrt/47651?page=2\n",
    "- [9] https://www.reddit.com/r/learnpython/comments/zv1j71/whats_the_better_way_of_taking_the_square_root_of/\n",
    "- [10] https://www.tutorialspoint.com/How-to-perform-square-root-without-using-math-module-in-Python\n",
    "- [11] https://stackoverflow.com/questions/3047012/how-to-perform-square-root-without-using-math-module\n",
    "- [12] https://www.altcademy.com/blog/how-to-do-square-root-in-python/\n",
    "- [13] https://www.geeksforgeeks.org/square-root-of-a-number-without-using-sqrt-function/"
   ]
  }
 ],
 "metadata": {
  "kernelspec": {
   "display_name": "Python 3",
   "language": "python",
   "name": "python3"
  },
  "language_info": {
   "codemirror_mode": {
    "name": "ipython",
    "version": 3
   },
   "file_extension": ".py",
   "mimetype": "text/x-python",
   "name": "python",
   "nbconvert_exporter": "python",
   "pygments_lexer": "ipython3",
   "version": "3.9.13"
  }
 },
 "nbformat": 4,
 "nbformat_minor": 2
}
