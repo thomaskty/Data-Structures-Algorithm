{
 "cells": [
  {
   "cell_type": "markdown",
   "metadata": {},
   "source": [
    "# Question 138 - LC 322. Coin Change\n",
    "\n",
    "You are given an integer array `coins` representing coins of different denominations and an integer `amount` representing a total amount of money.\n",
    "\n",
    "Return the _fewest number of coins that you need to make up that amount_. If that amount of money cannot be made up by any combination of the coins, return `-1`.\n",
    "\n",
    "You may assume that you have an infinite number of each kind of coin.\n",
    "\n",
    "## Example 1:\n",
    "\n",
    "    Input: coins = [1,2,5], amount = 11\n",
    "    Output: 3\n",
    "    Explanation: 11 = 5 + 5 + 1\n",
    "\n",
    "## Example 2:\n",
    "\n",
    "    Input: coins = [2], amount = 3\n",
    "    Output: -1\n",
    "\n",
    "## Example 3:\n",
    "\n",
    "    Input: coins = [1], amount = 0\n",
    "    Output: 0\n",
    "\n",
    "## Constraints:\n",
    "\n",
    "- `1 <= coins.length <= 12`\n",
    "- `1 <= coins[i] <= 2^31 - 1`\n",
    "- `0 <= amount <= 10^4`\n"
   ]
  },
  {
   "cell_type": "code",
   "execution_count": 1,
   "metadata": {},
   "outputs": [],
   "source": [
    "class Solution:\n",
    "    def coinChange(self, coins: list[int], amount: int) -> int:\n",
    "        # large number to represent infinity\n",
    "        max_value = amount + 1\n",
    "\n",
    "        # create a list of size amount + 1\n",
    "        # (dp[i] represents the minimum number of coins needed to make up the amount i)\n",
    "        dp = [max_value] * (amount + 1)\n",
    "\n",
    "        # base case\n",
    "        dp[0] = 0\n",
    "\n",
    "        # fill the dp list using the coins\n",
    "        for coin in coins:\n",
    "            for i in range(coin, amount + 1):\n",
    "                dp[i] = min(dp[i], dp[i - coin] + 1)\n",
    "\n",
    "        # if dp[amount] is still the initial max_value, then it means it is impossible to make up the amount\n",
    "        return dp[amount] if dp[amount] != max_value else -1"
   ]
  },
  {
   "cell_type": "code",
   "execution_count": 2,
   "metadata": {},
   "outputs": [
    {
     "name": "stdout",
     "output_type": "stream",
     "text": [
      "3\n",
      "-1\n",
      "0\n"
     ]
    }
   ],
   "source": [
    "# Example usage:\n",
    "s = Solution()\n",
    "\n",
    "print(s.coinChange([1, 2, 5], 11))  # Output: 3\n",
    "print(s.coinChange([2], 3))         # Output: -1\n",
    "print(s.coinChange([1], 0))         # Output: 0"
   ]
  }
 ],
 "metadata": {
  "kernelspec": {
   "display_name": "Python 3",
   "language": "python",
   "name": "python3"
  },
  "language_info": {
   "codemirror_mode": {
    "name": "ipython",
    "version": 3
   },
   "file_extension": ".py",
   "mimetype": "text/x-python",
   "name": "python",
   "nbconvert_exporter": "python",
   "pygments_lexer": "ipython3",
   "version": "3.12.0"
  }
 },
 "nbformat": 4,
 "nbformat_minor": 2
}
