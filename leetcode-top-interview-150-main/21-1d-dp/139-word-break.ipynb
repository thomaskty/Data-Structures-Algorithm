{
 "cells": [
  {
   "cell_type": "markdown",
   "metadata": {},
   "source": [
    "# Question 137 - LC 139. Word Break\n",
    "\n",
    "Given a string `s` and a dictionary of strings `wordDict`, return `true` if `s` can be segmented into a space-separated sequence of one or more dictionary words.\n",
    "\n",
    "**Note** that the same word in the dictionary may be reused multiple times in the segmentation.\n",
    "\n",
    "## Example 1:\n",
    "\n",
    "    Input: s = \"leetcode\", wordDict = [\"leet\",\"code\"]\n",
    "    Output: true\n",
    "    Explanation: Return true because \"leetcode\" can be segmented as \"leet code\".\n",
    "\n",
    "## Example 2:\n",
    "\n",
    "    Input: s = \"applepenapple\", wordDict = [\"apple\",\"pen\"]\n",
    "    Output: true\n",
    "    Explanation: Return true because \"applepenapple\" can be segmented as \"apple pen apple\".\n",
    "    Note that you are allowed to reuse a dictionary word.\n",
    "\n",
    "## Example 3:\n",
    "\n",
    "    Input: s = \"catsandog\", wordDict = [\"cats\",\"dog\",\"sand\",\"and\",\"cat\"]\n",
    "    Output: false\n",
    "\n",
    "## Constraints:\n",
    "\n",
    "- `1 <= s.length <= 300`\n",
    "- `1 <= wordDict.length <= 1000`\n",
    "- `1 <= wordDict[i].length <= 20`\n",
    "- `s` and `wordDict[i]` consist of only lowercase English letters.\n",
    "- All the strings of `wordDict` are **unique**.\n"
   ]
  },
  {
   "cell_type": "code",
   "execution_count": 1,
   "metadata": {},
   "outputs": [],
   "source": [
    "class Solution:\n",
    "    def wordBreak(self, s: str, wordDict: list[str]) -> bool:\n",
    "        # convert wordDict to set for faster lookup\n",
    "        words = set(wordDict)\n",
    "\n",
    "        # initialize dp array where dp[i] is True if s[:i] can be segmented into words in words set\n",
    "        dp = [False] * (len(s) + 1)\n",
    "\n",
    "        # base case: empty string\n",
    "        dp[0] = True\n",
    "\n",
    "        # iterate through s\n",
    "        for i in range(1, len(s) + 1):\n",
    "            for j in range(i):\n",
    "                if dp[j] and s[j:i] in words:\n",
    "                    dp[i] = True\n",
    "                    # break inner loop if dp[i] is True\n",
    "                    break\n",
    "\n",
    "        # The result for the whole string s is stored in dp[len(s)]\n",
    "        return dp[-1]"
   ]
  },
  {
   "cell_type": "code",
   "execution_count": 2,
   "metadata": {},
   "outputs": [
    {
     "name": "stdout",
     "output_type": "stream",
     "text": [
      "True\n",
      "True\n",
      "False\n"
     ]
    }
   ],
   "source": [
    "# Example usage:\n",
    "s = Solution()\n",
    "\n",
    "s1 = \"leetcode\"\n",
    "wordDict1 = [\"leet\", \"code\"]\n",
    "print(s.wordBreak(s1, wordDict1))  # Output: true\n",
    "\n",
    "s2 = \"applepenapple\"\n",
    "wordDict2 = [\"apple\", \"pen\"]\n",
    "print(s.wordBreak(s2, wordDict2))  # Output: true\n",
    "\n",
    "s3 = \"catsandog\"\n",
    "wordDict3 = [\"cats\", \"dog\", \"sand\", \"and\", \"cat\"]\n",
    "print(s.wordBreak(s3, wordDict3))  # Output: false"
   ]
  }
 ],
 "metadata": {
  "kernelspec": {
   "display_name": "Python 3",
   "language": "python",
   "name": "python3"
  },
  "language_info": {
   "codemirror_mode": {
    "name": "ipython",
    "version": 3
   },
   "file_extension": ".py",
   "mimetype": "text/x-python",
   "name": "python",
   "nbconvert_exporter": "python",
   "pygments_lexer": "ipython3",
   "version": "3.12.0"
  }
 },
 "nbformat": 4,
 "nbformat_minor": 2
}
