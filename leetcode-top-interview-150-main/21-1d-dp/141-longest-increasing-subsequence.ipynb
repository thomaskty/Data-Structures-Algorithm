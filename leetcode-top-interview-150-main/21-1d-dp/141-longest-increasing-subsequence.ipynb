{
 "cells": [
  {
   "cell_type": "markdown",
   "metadata": {},
   "source": [
    "# Question 139 - LC 300. Longest Increasing Subsequence\n",
    "\n",
    "Given an integer array `nums`, return the length of the _longest strictly increasing subsequence_.\n",
    "\n",
    "## Example 1:\n",
    "\n",
    "    Input: nums = [10,9,2,5,3,7,101,18]\n",
    "    Output: 4\n",
    "    Explanation: The longest increasing subsequence is [2,3,7,101], therefore the length is 4.\n",
    "\n",
    "## Example 2:\n",
    "\n",
    "    Input: nums = [0,1,0,3,2,3]\n",
    "    Output: 4\n",
    "\n",
    "## Example 3:\n",
    "\n",
    "    Input: nums = [7,7,7,7,7,7,7]\n",
    "    Output: 1\n",
    "\n",
    "## Constraints:\n",
    "\n",
    "- `1 <= nums.length <= 2500`\n",
    "- `-10^4 <= nums[i] <= 10^4`\n",
    "\n",
    "**Follow up**: Can you come up with an algorithm that runs in `O(n log(n))` time complexity?\n"
   ]
  },
  {
   "cell_type": "code",
   "execution_count": 1,
   "metadata": {},
   "outputs": [],
   "source": [
    "class Solution:\n",
    "    def lengthOfLIS(self, nums: list[int]) -> int:\n",
    "        n = len(nums)\n",
    "\n",
    "        # if the list is empty, return 0\n",
    "        if not nums:\n",
    "            return 0\n",
    "\n",
    "        # create a list to store the length of the longest increasing subsequence\n",
    "        dp = [1] * n\n",
    "\n",
    "        # fill the dp list\n",
    "        for i in range(1, n):\n",
    "            for j in range(i):\n",
    "                if nums[i] > nums[j]:\n",
    "                    dp[i] = max(dp[i], dp[j] + 1)\n",
    "\n",
    "        # return the maximum value in the dp list\n",
    "        return max(dp)"
   ]
  },
  {
   "cell_type": "code",
   "execution_count": 2,
   "metadata": {},
   "outputs": [
    {
     "name": "stdout",
     "output_type": "stream",
     "text": [
      "4\n",
      "4\n",
      "1\n"
     ]
    }
   ],
   "source": [
    "# Example calls\n",
    "s = Solution()\n",
    "\n",
    "print(s.lengthOfLIS([10, 9, 2, 5, 3, 7, 101, 18]))  # Output: 4\n",
    "print(s.lengthOfLIS([0, 1, 0, 3, 2, 3]))            # Output: 4\n",
    "print(s.lengthOfLIS([7, 7, 7, 7, 7, 7, 7]))         # Output: 1"
   ]
  }
 ],
 "metadata": {
  "kernelspec": {
   "display_name": "Python 3",
   "language": "python",
   "name": "python3"
  },
  "language_info": {
   "codemirror_mode": {
    "name": "ipython",
    "version": 3
   },
   "file_extension": ".py",
   "mimetype": "text/x-python",
   "name": "python",
   "nbconvert_exporter": "python",
   "pygments_lexer": "ipython3",
   "version": "3.12.0"
  }
 },
 "nbformat": 4,
 "nbformat_minor": 2
}
