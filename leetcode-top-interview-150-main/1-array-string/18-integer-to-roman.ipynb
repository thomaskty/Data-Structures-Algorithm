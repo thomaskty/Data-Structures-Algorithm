{
 "cells": [
  {
   "cell_type": "markdown",
   "metadata": {},
   "source": [
    "# Question 18 - 12. Roman to Integer\n",
    "\n",
    "Roman numerals are represented by seven different symbols: `I`, `V`, `X`, `L`, `C`, `D`, and `M`.\n",
    "\n",
    "**Symbol**       **Value**  \n",
    "I             1  \n",
    "V             5  \n",
    "X             10  \n",
    "L             50  \n",
    "C             100  \n",
    "D             500  \n",
    "M             1000  \n",
    "\n",
    "For example, 2 is written as `II` in Roman numeral, just two ones added together. 12 is written as `XII`, which is simply `X` + `II`. The number 27 is written as `XXVII`, which is `XX` + `V` + `II`.\n",
    "\n",
    "Roman numerals are usually written largest to smallest from left to right. However, the numeral for four is not `IIII`. Instead, the number four is written as `IV`. Because the one is before the five we subtract it making four. The same principle applies to the number nine, which is written as `IX`. There are six instances where subtraction is used:\n",
    "\n",
    "- `I` can be placed before `V` (5) and `X` (10) to make 4 and 9. \n",
    "- `X` can be placed before `L` (50) and `C` (100) to make 40 and 90. \n",
    "- `C` can be placed before `D` (500) and `M` (1000) to make 400 and 900.\n",
    "\n",
    "Given an integer, convert it to a roman numeral.\n",
    "\n",
    "### Example 1:\n",
    "\n",
    "**Input:** s = \"III\"  \n",
    "**Output:** 3  \n",
    "**Explanation:** III = 3.\n",
    "\n",
    "### Example 2:\n",
    "\n",
    "**Input:** s = \"LVIII\"  \n",
    "**Output:** 58  \n",
    "**Explanation:** L = 50, V= 5, III = 3.\n",
    "\n",
    "### Example 3:\n",
    "\n",
    "**Input:** s = \"MCMXCIV\"  \n",
    "**Output:** 1994  \n",
    "**Explanation:** M = 1000, CM = 900, XC = 90 and IV = 4.\n",
    "\n",
    "### Constraints:\n",
    "\n",
    "1. 1 <= num <= 3999\n",
    "\n",
    "---"
   ]
  },
  {
   "cell_type": "code",
   "execution_count": 2,
   "metadata": {},
   "outputs": [
    {
     "name": "stdout",
     "output_type": "stream",
     "text": [
      "LVIII\n",
      "MCMXCIV\n"
     ]
    }
   ],
   "source": [
    "class Solution:\n",
    "    def intToRoman(self, num: int) -> str:\n",
    "        # List of tuples with Roman numerals and their corresponding values\n",
    "        roman_numerals: list[tuple[str, int]] = [\n",
    "            (\"M\", 1000),\n",
    "            (\"CM\", 900),\n",
    "            (\"D\", 500),\n",
    "            (\"CD\", 400),\n",
    "            (\"C\", 100),\n",
    "            (\"XC\", 90),\n",
    "            (\"L\", 50),\n",
    "            (\"XL\", 40),\n",
    "            (\"X\", 10),\n",
    "            (\"IX\", 9),\n",
    "            (\"V\", 5),\n",
    "            (\"IV\", 4),\n",
    "            (\"I\", 1),\n",
    "        ]\n",
    "\n",
    "        roman_str: str = \"\"\n",
    "\n",
    "        for roman, value in roman_numerals:\n",
    "            # Count how many times the Roman numeral can fit into num\n",
    "            count = num // value\n",
    "            if count != 0:\n",
    "                # Append the Roman numeral count times\n",
    "                roman_str += roman * count\n",
    "                # Reduce num\n",
    "                num -= value * count\n",
    "\n",
    "            # Break the loop if num becomes 0\n",
    "            if num == 0:\n",
    "                break\n",
    "\n",
    "        return roman_str\n",
    "\n",
    "\n",
    "# Example usage\n",
    "solution = Solution()\n",
    "print(solution.intToRoman(58))  # Output: \"LVIII\"\n",
    "print(solution.intToRoman(1994))  # Output: \"MCMXCIV\""
   ]
  },
  {
   "cell_type": "markdown",
   "metadata": {},
   "source": [
    "The complexity of the `intToRoman` method can be analyzed in terms of both time and space complexity:\n",
    "\n",
    "1. **Time Complexity**: The time complexity of the method is O(1), or constant time complexity. This might seem counterintuitive at first, but it's important to remember that the number of Roman numeral symbols is fixed (there are 13 symbols in the list used in the method). Although there's a loop over these symbols, the number of iterations does not grow with the size of the input number `num`. The largest number representable in standard Roman numerals is 3,999 (MMMCMXCIX), so the loop will never iterate more than a fixed number of times for any valid Roman numeral. Therefore, the time complexity is not dependent on the input size but rather on the fixed size of the Roman numeral system.\n",
    "\n",
    "2. **Space Complexity**: The space complexity is also O(1), or constant space complexity. The amount of memory used does not significantly increase with the size of the input number. The output string's size is proportional to the value of the input number, but since Roman numerals have a maximum value (typically 3,999), the maximum size of the output string is also fixed and does not grow arbitrarily with larger input numbers.\n",
    "\n",
    "In summary, the `intToRoman` method is highly efficient in terms of both time and space complexity, primarily due to the inherent limitations and fixed nature of the Roman numeral system."
   ]
  }
 ],
 "metadata": {
  "kernelspec": {
   "display_name": "Python 3",
   "language": "python",
   "name": "python3"
  },
  "language_info": {
   "codemirror_mode": {
    "name": "ipython",
    "version": 3
   },
   "file_extension": ".py",
   "mimetype": "text/x-python",
   "name": "python",
   "nbconvert_exporter": "python",
   "pygments_lexer": "ipython3",
   "version": "3.11.7"
  }
 },
 "nbformat": 4,
 "nbformat_minor": 2
}
