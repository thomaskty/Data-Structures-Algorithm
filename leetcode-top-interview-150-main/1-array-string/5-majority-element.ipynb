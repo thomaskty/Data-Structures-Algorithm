{
 "cells": [
  {
   "cell_type": "markdown",
   "metadata": {},
   "source": [
    "# Question 5 - 169. Majority Element\n",
    "\n",
    "## Description\n",
    "\n",
    "Given an array `nums` of size `n`, return the majority element.\n",
    "\n",
    "The majority element is the element that appears more than `⌊n / 2⌋` times. You may assume that the majority element always exists in the array.\n",
    "\n",
    "**Example 1:**\n",
    "\n",
    "    Input: nums = [3,2,3]\n",
    "    Output: 3\n",
    "\n",
    "**Example 2:**\n",
    "\n",
    "    Input: nums = [2,2,1,1,1,2,2]\n",
    "    Output: 2\n",
    "\n",
    "**Constraints:**\n",
    "\n",
    "- `n == nums.length`\n",
    "- `1 <= n <= 5 * 104`\n",
    "- `-109 <= nums[i] <= 109`\n",
    "\n",
    "**Follow-up**: Could you solve the problem in linear time and in `O(1)` space?\n"
   ]
  },
  {
   "cell_type": "code",
   "execution_count": null,
   "metadata": {},
   "outputs": [],
   "source": [
    "class Solution:\n",
    "    def majorityElement(self, nums: list[int]) -> int:\n",
    "        # Boyer-Moore Voting Algorithm\n",
    "        count = 0\n",
    "        candidate = None\n",
    "\n",
    "        for num in nums:\n",
    "            if count == 0:\n",
    "                candidate = num\n",
    "            count += 1 if num == candidate else -1\n",
    "\n",
    "        return candidate"
   ]
  },
  {
   "cell_type": "code",
   "execution_count": null,
   "metadata": {},
   "outputs": [],
   "source": [
    "# Testing the function with the provided examples\n",
    "majorityElement = Solution().majorityElement\n",
    "\n",
    "example1 = [3, 2, 3]\n",
    "example2 = [2, 2, 1, 1, 1, 2, 2]\n",
    "\n",
    "output1 = majorityElement(example1)\n",
    "output2 = majorityElement(example2)\n",
    "\n",
    "output1, output2"
   ]
  }
 ],
 "metadata": {
  "language_info": {
   "name": "python"
  }
 },
 "nbformat": 4,
 "nbformat_minor": 2
}
