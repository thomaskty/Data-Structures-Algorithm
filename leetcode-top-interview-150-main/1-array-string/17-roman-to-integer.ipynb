{
 "cells": [
  {
   "cell_type": "markdown",
   "metadata": {},
   "source": [
    "# Question 17 - 13. Roman to Integer\n",
    "\n",
    "Roman numerals are represented by seven different symbols: `I`, `V`, `X`, `L`, `C`, `D`, and `M`.\n",
    "\n",
    "**Symbol**       **Value**  \n",
    "I             1  \n",
    "V             5  \n",
    "X             10  \n",
    "L             50  \n",
    "C             100  \n",
    "D             500  \n",
    "M             1000  \n",
    "\n",
    "For example, 2 is written as `II` in Roman numeral, just two ones added together. 12 is written as `XII`, which is simply `X` + `II`. The number 27 is written as `XXVII`, which is `XX` + `V` + `II`.\n",
    "\n",
    "Roman numerals are usually written largest to smallest from left to right. However, the numeral for four is not `IIII`. Instead, the number four is written as `IV`. Because the one is before the five we subtract it making four. The same principle applies to the number nine, which is written as `IX`. There are six instances where subtraction is used:\n",
    "\n",
    "- `I` can be placed before `V` (5) and `X` (10) to make 4 and 9. \n",
    "- `X` can be placed before `L` (50) and `C` (100) to make 40 and 90. \n",
    "- `C` can be placed before `D` (500) and `M` (1000) to make 400 and 900.\n",
    "\n",
    "Given a roman numeral, convert it to an integer.\n",
    "\n",
    "### Example 1:\n",
    "\n",
    "**Input:** s = \"III\"  \n",
    "**Output:** 3  \n",
    "**Explanation:** III = 3.\n",
    "\n",
    "### Example 2:\n",
    "\n",
    "**Input:** s = \"LVIII\"  \n",
    "**Output:** 58  \n",
    "**Explanation:** L = 50, V= 5, III = 3.\n",
    "\n",
    "### Example 3:\n",
    "\n",
    "**Input:** s = \"MCMXCIV\"  \n",
    "**Output:** 1994  \n",
    "**Explanation:** M = 1000, CM = 900, XC = 90 and IV = 4.\n",
    "\n",
    "### Constraints:\n",
    "\n",
    "1. 1 <= s.length <= 15\n",
    "2. s contains only the characters ('I', 'V', 'X', 'L', 'C', 'D', 'M').\n",
    "3. It is guaranteed that s is a valid roman numeral in the range [1, 3999].\n",
    "\n",
    "---"
   ]
  },
  {
   "cell_type": "code",
   "execution_count": 1,
   "metadata": {},
   "outputs": [],
   "source": [
    "class Solution:\n",
    "    def romanToInt(self, s: str) -> int:\n",
    "        # Mapping of Roman numerals to integers\n",
    "        roman_map = {\"I\": 1, \"V\": 5, \"X\": 10, \"L\": 50, \"C\": 100, \"D\": 500, \"M\": 1000}\n",
    "\n",
    "        total = 0\n",
    "        prev_val = 0\n",
    "\n",
    "        for char in reversed(s):\n",
    "            # get the integer value of the roman numeral\n",
    "            val = roman_map[char]\n",
    "\n",
    "            # if the current value is less than the previous value, subtract it\n",
    "            # we are in a case like IV (4) or IX (9)\n",
    "            if val < prev_val:\n",
    "                total -= val\n",
    "            else:\n",
    "                total += val\n",
    "\n",
    "            # update the previous value for the next iteration\n",
    "            prev_val = val\n",
    "\n",
    "        return total"
   ]
  },
  {
   "cell_type": "code",
   "execution_count": 2,
   "metadata": {},
   "outputs": [
    {
     "name": "stdout",
     "output_type": "stream",
     "text": [
      "3\n",
      "58\n",
      "1994\n"
     ]
    }
   ],
   "source": [
    "# Test the function with the given examples\n",
    "\n",
    "romanToInt = Solution().romanToInt\n",
    "\n",
    "print(romanToInt(\"III\"))  # Output: 3\n",
    "print(romanToInt(\"LVIII\"))  # Output: 58\n",
    "print(romanToInt(\"MCMXCIV\"))  # Output: 1994"
   ]
  }
 ],
 "metadata": {
  "kernelspec": {
   "display_name": "Python 3",
   "language": "python",
   "name": "python3"
  },
  "language_info": {
   "codemirror_mode": {
    "name": "ipython",
    "version": 3
   },
   "file_extension": ".py",
   "mimetype": "text/x-python",
   "name": "python",
   "nbconvert_exporter": "python",
   "pygments_lexer": "ipython3",
   "version": "3.11.7"
  }
 },
 "nbformat": 4,
 "nbformat_minor": 2
}
