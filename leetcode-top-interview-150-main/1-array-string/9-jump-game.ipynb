{
 "cells": [
  {
   "cell_type": "markdown",
   "metadata": {},
   "source": [
    "# Question 9 - 55. Jump Game\n",
    "\n",
    "## Description\n",
    "\n",
    "You are given an integer array `nums`. You are initially positioned at the array's first index, and each element in the array represents your maximum jump length at that position.\n",
    "\n",
    "Return `true` if you can reach the last index, or `false` otherwise.\n",
    "\n",
    "**Example 1:**\n",
    "\n",
    "    Input: nums = [2,3,1,1,4]\n",
    "    Output: true\n",
    "    Explanation: Jump 1 step from index 0 to 1, then 3 steps to the last index.\n",
    "\n",
    "**Example 2:**\n",
    "\n",
    "    Input: nums = [3,2,1,0,4]\n",
    "    Output: false\n",
    "    Explanation: You will always arrive at index 3 no matter what. Its maximum jump length is 0, which makes it impossible to reach the last index.\n",
    "\n",
    "**Constraints:**\n",
    "\n",
    "- `1 <= nums.length <= 104`\n",
    "- `0 <= nums[i] <= 105`\n"
   ]
  },
  {
   "cell_type": "code",
   "execution_count": 1,
   "metadata": {},
   "outputs": [],
   "source": [
    "class Solution:\n",
    "    # Greedy Algorithm: at each step, jump as far as possible\n",
    "    # Time: O(n), Space: O(1)\n",
    "    def canJump(self, nums: list[int]) -> bool:\n",
    "        max_reach = 0\n",
    "        for i in range(len(nums)):\n",
    "            # if we can't reach this index, we are stuck\n",
    "            if i > max_reach:\n",
    "                return False\n",
    "            # update max_reach with the current max_reach and the farthest we can jump from this index (i + num[i])\n",
    "            max_reach = max(max_reach, i + nums[i])\n",
    "        # check if max_reach is at least the last index of the array\n",
    "        return max_reach >= len(nums) - 1"
   ]
  },
  {
   "cell_type": "code",
   "execution_count": 2,
   "metadata": {},
   "outputs": [
    {
     "name": "stdout",
     "output_type": "stream",
     "text": [
      "True\n",
      "False\n"
     ]
    }
   ],
   "source": [
    "# Test cases\n",
    "test_case1 = [2, 3, 1, 1, 4]\n",
    "test_case2 = [3, 2, 1, 0, 4]\n",
    "\n",
    "# Test\n",
    "canJump = Solution().canJump\n",
    "\n",
    "print(canJump(test_case1))\n",
    "print(canJump(test_case2))"
   ]
  }
 ],
 "metadata": {
  "kernelspec": {
   "display_name": "Python 3",
   "language": "python",
   "name": "python3"
  },
  "language_info": {
   "codemirror_mode": {
    "name": "ipython",
    "version": 3
   },
   "file_extension": ".py",
   "mimetype": "text/x-python",
   "name": "python",
   "nbconvert_exporter": "python",
   "pygments_lexer": "ipython3",
   "version": "3.11.7"
  }
 },
 "nbformat": 4,
 "nbformat_minor": 2
}
