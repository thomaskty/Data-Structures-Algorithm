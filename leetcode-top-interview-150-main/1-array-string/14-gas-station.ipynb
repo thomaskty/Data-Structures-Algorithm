{
 "cells": [
  {
   "cell_type": "markdown",
   "metadata": {},
   "source": [
    "# Question 14 - 134. Gas Station\n",
    "\n",
    "There are `n` gas stations along a circular route, where the amount of gas at the `i-th` station is `gas[i]`.\n",
    "\n",
    "You have a car with an unlimited gas tank and it costs `cost[i]` of gas to travel from the ith station to its next `(i + 1)-th` station. You begin the journey with an empty tank at one of the gas stations.\n",
    "\n",
    "Given two integer arrays `gas` and `cost`, return the _starting gas station's index if you can travel around the circuit once in the clockwise direction_, otherwise return `-1`. If there exists a solution, it is **guaranteed** to be **unique**\n",
    "\n",
    "**Example 1:**\n",
    "\n",
    "    Input: gas = [1,2,3,4,5], cost = [3,4,5,1,2]\n",
    "    Output: 3\n",
    "    Explanation:\n",
    "    Start at station 3 (index 3) and fill up with 4 unit of gas. Your tank = 0 + 4 = 4\n",
    "    Travel to station 4. Your tank = 4 - 1 + 5 = 8\n",
    "    Travel to station 0. Your tank = 8 - 2 + 1 = 7\n",
    "    Travel to station 1. Your tank = 7 - 3 + 2 = 6\n",
    "    Travel to station 2. Your tank = 6 - 4 + 3 = 5\n",
    "    Travel to station 3. The cost is 5. Your gas is just enough to travel back to station 3.\n",
    "    Therefore, return 3 as the starting index.\n",
    "\n",
    "**Example 2:**\n",
    "\n",
    "    Input: gas = [2,3,4], cost = [3,4,3]\n",
    "    Output: -1\n",
    "    Explanation:\n",
    "    You can't start at station 0 or 1, as there is not enough gas to travel to the next station.\n",
    "    Let's start at station 2 and fill up with 4 unit of gas. Your tank = 0 + 4 = 4\n",
    "    Travel to station 0. Your tank = 4 - 3 + 2 = 3\n",
    "    Travel to station 1. Your tank = 3 - 3 + 3 = 3\n",
    "    You cannot travel back to station 2, as it requires 4 unit of gas but you only have 3.\n",
    "    Therefore, you can't travel around the circuit once no matter where you start.\n"
   ]
  },
  {
   "cell_type": "code",
   "execution_count": 7,
   "metadata": {},
   "outputs": [],
   "source": [
    "class Solution:\n",
    "    def canCompleteCircuit(self, gas: list[int], cost: list[int]) -> int:\n",
    "        if sum(gas) < sum(cost):\n",
    "            return -1\n",
    "\n",
    "        start = 0\n",
    "        tank = 0\n",
    "\n",
    "        for i in range(len(gas)):\n",
    "            tank += gas[i] - cost[i]\n",
    "            if tank < 0:\n",
    "                start = i + 1\n",
    "                tank = 0\n",
    "\n",
    "        return start"
   ]
  },
  {
   "cell_type": "code",
   "execution_count": 8,
   "metadata": {},
   "outputs": [
    {
     "data": {
      "text/plain": [
       "(3, -1)"
      ]
     },
     "execution_count": 8,
     "metadata": {},
     "output_type": "execute_result"
    }
   ],
   "source": [
    "# Test cases\n",
    "\n",
    "can_complete_circuit = Solution().canCompleteCircuit\n",
    "\n",
    "test_case_1 = ([1, 2, 3, 4, 5], [3, 4, 5, 1, 2])  # Expected output: 3\n",
    "test_case_2 = ([2, 3, 4], [3, 4, 3])  # Expected output: -1\n",
    "\n",
    "# Run test cases\n",
    "result_1 = can_complete_circuit(*test_case_1)  # asterisk (*) is used to unpack an iterable.\n",
    "result_2 = can_complete_circuit(*test_case_2)\n",
    "\n",
    "result_1, result_2"
   ]
  },
  {
   "cell_type": "markdown",
   "metadata": {},
   "source": [
    "To analyze the complexity of the `can_complete_circuit` function, we'll look at its time and space complexity:\n",
    "\n",
    "1. **Time Complexity:**\n",
    "   - The function includes a single for loop that iterates over each element of the `gas` and `cost` arrays exactly once.\n",
    "   - The operations inside the loop (calculating `tank`, checking conditions) are constant time operations.\n",
    "   - Therefore, the time complexity is \\( O(n) \\), where \\( n \\) is the number of gas stations.\n",
    "\n",
    "2. **Space Complexity:**\n",
    "   - The function uses a fixed amount of extra space for variables like `start` and `tank`.\n",
    "   - This space requirement does not depend on the size of the input arrays.\n",
    "   - Thus, the space complexity is \\( O(1) \\), indicating constant space usage.\n",
    "\n",
    "In summary, the function is efficient in terms of both time and space, with a linear time complexity and constant space complexity."
   ]
  }
 ],
 "metadata": {
  "kernelspec": {
   "display_name": "Python 3",
   "language": "python",
   "name": "python3"
  },
  "language_info": {
   "codemirror_mode": {
    "name": "ipython",
    "version": 3
   },
   "file_extension": ".py",
   "mimetype": "text/x-python",
   "name": "python",
   "nbconvert_exporter": "python",
   "pygments_lexer": "ipython3",
   "version": "3.11.7"
  }
 },
 "nbformat": 4,
 "nbformat_minor": 2
}
