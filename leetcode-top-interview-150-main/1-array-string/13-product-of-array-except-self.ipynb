{
 "cells": [
  {
   "cell_type": "markdown",
   "metadata": {},
   "source": [
    "# Question 13 - 238. Product of Array Except Self\n",
    "\n",
    "Given an integer array `nums`, return an array `answer` such that `answer[i]` _is equal to the product of all the elements of_ `nums` _except_ `nums[i]`.\n",
    "\n",
    "The product of any prefix or suffix of `nums` is guaranteed to fit in a 32-bit integer.\n",
    "\n",
    "You must write an algorithm that runs in `O(n)` time and without using the division operation.\n",
    "\n",
    "Example 1:\n",
    "\n",
    "    Input: nums = [1,2,3,4]\n",
    "    Output: [24,12,8,6]\n",
    "\n",
    "Example 2:\n",
    "\n",
    "    Input: nums = [-1,1,0,-3,3]\n",
    "    Output: [0,0,9,0,0]\n",
    "\n",
    "**Constraints:**\n",
    "\n",
    "- 2 <= nums.length <= 105\n",
    "- -30 <= nums[i] <= 30\n",
    "- The product of any prefix or suffix of `nums` is **guaranteed** to fit in a **32-bit** integer.\n",
    "\n",
    "**Follow up:** Can you solve the problem in `O(1)` extra space complexity? (The output array does not count as extra space for space complexity analysis.)\n"
   ]
  },
  {
   "cell_type": "code",
   "execution_count": 1,
   "metadata": {},
   "outputs": [],
   "source": [
    "class Solution:\n",
    "    def productExceptSelf(self, nums: list[int]) -> list[int]:\n",
    "        # length of the input array\n",
    "        length = len(nums)\n",
    "\n",
    "        # The answer array to be returned\n",
    "        ans = [0] * length\n",
    "\n",
    "        # ans[i] contains the product of all the elements to the left\n",
    "        # Note: for the element at index '0', there are no elements to the left,\n",
    "        # so the ans[0] would be 1\n",
    "        ans[0] = 1\n",
    "\n",
    "        for i in range(1, length):\n",
    "            # ans[i - 1] already contains the product of elements to the left of 'i - 1'\n",
    "            # Simply multiplying it with nums[i - 1] would give the product of all\n",
    "            # elements to the left of index 'i'\n",
    "            ans[i] = nums[i - 1] * ans[i - 1]\n",
    "\n",
    "        # R contains the product of all the elements to the right\n",
    "        # Note: for the element at index 'length - 1', there are no elements to the right,\n",
    "        # so the R would be 1\n",
    "        r = 1\n",
    "\n",
    "        for i in reversed(range(length)):\n",
    "            # For the index 'i', R would contain the\n",
    "            # product of all elements to the right. We update R accordingly\n",
    "            ans[i] = ans[i] * r\n",
    "            r *= nums[i]\n",
    "\n",
    "        return ans"
   ]
  },
  {
   "cell_type": "code",
   "execution_count": 2,
   "metadata": {},
   "outputs": [
    {
     "data": {
      "text/plain": [
       "([24, 12, 8, 6], [0, 0, 9, 0, 0])"
      ]
     },
     "execution_count": 2,
     "metadata": {},
     "output_type": "execute_result"
    }
   ],
   "source": [
    "# Test the function with the provided examples\n",
    "\n",
    "productExceptSelf = Solution().productExceptSelf\n",
    "\n",
    "example1 = [1, 2, 3, 4]\n",
    "example2 = [-1, 1, 0, -3, 3]\n",
    "\n",
    "output1 = productExceptSelf(example1)\n",
    "output2 = productExceptSelf(example2)\n",
    "\n",
    "output1, output2"
   ]
  }
 ],
 "metadata": {
  "kernelspec": {
   "display_name": "Python 3",
   "language": "python",
   "name": "python3"
  },
  "language_info": {
   "codemirror_mode": {
    "name": "ipython",
    "version": 3
   },
   "file_extension": ".py",
   "mimetype": "text/x-python",
   "name": "python",
   "nbconvert_exporter": "python",
   "pygments_lexer": "ipython3",
   "version": "3.11.7"
  }
 },
 "nbformat": 4,
 "nbformat_minor": 2
}
