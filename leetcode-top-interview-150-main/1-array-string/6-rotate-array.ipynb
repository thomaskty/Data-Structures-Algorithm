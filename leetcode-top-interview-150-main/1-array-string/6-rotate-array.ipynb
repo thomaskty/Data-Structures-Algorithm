{
 "cells": [
  {
   "cell_type": "markdown",
   "metadata": {},
   "source": [
    "# 189. Rotate Array - Question 6\n",
    "\n",
    "## Description\n",
    "\n",
    "Given an integer array nums, rotate the array to the right by k steps, where k is non-negative.\n",
    "\n",
    "**Example 1:**\n",
    "\n",
    "    Input: nums = [1,2,3,4,5,6,7], k = 3\n",
    "    Output: [5,6,7,1,2,3,4]\n",
    "    Explanation:\n",
    "    rotate 1 steps to the right: [7,1,2,3,4,5,6]\n",
    "    rotate 2 steps to the right: [6,7,1,2,3,4,5]\n",
    "    rotate 3 steps to the right: [5,6,7,1,2,3,4]\n",
    "\n",
    "**Example 2:**\n",
    "\n",
    "    Input: nums = [-1,-100,3,99], k = 2\n",
    "    Output: [3,99,-1,-100]\n",
    "    Explanation: \n",
    "    rotate 1 steps to the right: [99,-1,-100,3]\n",
    "    rotate 2 steps to the right: [3,99,-1,-100]\n",
    " \n",
    "\n",
    "**Constraints:**\n",
    "\n",
    "- `1 <= nums.length <= 105`\n",
    "- `-231 <= nums[i] <= 231 - 1`\n",
    "- `0 <= k <= 105`\n",
    " \n",
    "\n",
    "**Follow up:**\n",
    "\n",
    "Try to come up with as many solutions as you can. There are at least three different ways to solve this problem.\n",
    "Could you do it in-place with O(1) extra space?"
   ]
  },
  {
   "cell_type": "code",
   "execution_count": 3,
   "metadata": {},
   "outputs": [],
   "source": [
    "class Solution:\n",
    "    def rotate(self, nums: list[int], k: int) -> None:\n",
    "        # time complexity: O(n), space complexity: O(n)\n",
    "        \"\"\"\n",
    "        Do not return anything, modify nums in-place instead.\n",
    "        \"\"\"\n",
    "        \"\"\"\n",
    "        Rotate the elements of the array to the right by k steps.\n",
    "\n",
    "        :param nums: List[int] - the array to rotate\n",
    "        :param k: int - number of steps to rotate the array\n",
    "        :return: List[int] - the rotated array\n",
    "        \"\"\"\n",
    "        # If k is greater than the length of the array, rotating the array k times would effectively be the same as rotating it k % len(nums)\n",
    "        k = k % len(nums)\n",
    "        # Rotate the array by reversing parts of the array; nums[-k:] get the last k elements, nums[:-k] get all the elements except the last k elements\n",
    "        nums[:] = nums[-k:] + nums[:-k]\n",
    "        return nums\n",
    "\n",
    "    def rotate_in_place(self, nums: list[int], k: int) -> None:\n",
    "        # time complexity: O(n), space complexity: O(1)\n",
    "        def reverse(sub_nums: list[int], start: int, end: int) -> None:\n",
    "            while start < end:\n",
    "                sub_nums[start], sub_nums[end] = sub_nums[end], sub_nums[start]\n",
    "                start += 1\n",
    "                end -= 1\n",
    "\n",
    "        n = len(nums)\n",
    "        k = k % n  # effective rotation\n",
    "\n",
    "        # reverse the whole array\n",
    "        reverse(nums, 0, n - 1)\n",
    "        # reverse the first k elements\n",
    "        reverse(nums, 0, k - 1)\n",
    "        # reverse the last n-k elements\n",
    "        reverse(nums, k, n - 1)\n",
    "\n",
    "        return nums"
   ]
  },
  {
   "cell_type": "code",
   "execution_count": 4,
   "metadata": {},
   "outputs": [
    {
     "name": "stdout",
     "output_type": "stream",
     "text": [
      "[5, 6, 7, 1, 2, 3, 4] [3, 99, -1, -100]\n",
      "[5, 6, 7, 1, 2, 3, 4] [3, 99, -1, -100]\n"
     ]
    }
   ],
   "source": [
    "# Test the function with the provided examples\n",
    "\n",
    "rotate = Solution().rotate\n",
    "rotate_in_place = Solution().rotate_in_place\n",
    "\n",
    "example1 = rotate([1, 2, 3, 4, 5, 6, 7], 3)\n",
    "example2 = rotate([-1, -100, 3, 99], 2)\n",
    "\n",
    "print(example1, example2)\n",
    "\n",
    "instance1 = rotate_in_place([1, 2, 3, 4, 5, 6, 7], 3)\n",
    "instance2 = rotate_in_place([-1, -100, 3, 99], 2)\n",
    "\n",
    "print(instance1, instance2)"
   ]
  }
 ],
 "metadata": {
  "kernelspec": {
   "display_name": "Python 3",
   "language": "python",
   "name": "python3"
  },
  "language_info": {
   "codemirror_mode": {
    "name": "ipython",
    "version": 3
   },
   "file_extension": ".py",
   "mimetype": "text/x-python",
   "name": "python",
   "nbconvert_exporter": "python",
   "pygments_lexer": "ipython3",
   "version": "3.11.7"
  }
 },
 "nbformat": 4,
 "nbformat_minor": 2
}
