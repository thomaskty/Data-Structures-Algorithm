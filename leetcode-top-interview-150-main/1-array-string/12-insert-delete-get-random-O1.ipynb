{
 "cells": [
  {
   "cell_type": "markdown",
   "metadata": {},
   "source": [
    "# Question 12 - 380. Insert Delete GetRandom O(1)\n",
    "\n",
    "Implement the `RandomizedSet` class:\n",
    "\n",
    "- `RandomizedSet()` Initializes the `RandomizedSet` object.\n",
    "- `bool insert(int val)` Inserts an item `val` into the set if not present. Returns `true` if the item was not present, `false` otherwise.\n",
    "- `bool remove(int val)` Removes an item `val` from the set if present. Returns `true` if the item was present, `false` otherwise.\n",
    "- `int getRandom()` Returns a random element from the current set of elements (it's guaranteed that at least one element exists when this method is called). Each element must have the **same probability** of being returned.\n",
    "\n",
    "You must implement the functions of the class such that each function works in average `O(1)` time complexity.\n",
    "\n",
    "**Example 1:**\n",
    "\n",
    "    Input\n",
    "    [\"RandomizedSet\", \"insert\", \"remove\", \"insert\", \"getRandom\", \"remove\", \"insert\", \"getRandom\"]\n",
    "    [[], [1], [2], [2], [], [1], [2], []]\n",
    "    Output\n",
    "    [null, true, false, true, 2, true, false, 2]\n",
    "\n",
    "    Explanation\n",
    "    RandomizedSet randomizedSet = new RandomizedSet();\n",
    "    randomizedSet.insert(1); // Inserts 1 to the set. Returns true as 1 was inserted successfully.\n",
    "    randomizedSet.remove(2); // Returns false as 2 does not exist in the set.\n",
    "    randomizedSet.insert(2); // Inserts 2 to the set, returns true. Set now contains [1,2].\n",
    "    randomizedSet.getRandom(); // getRandom() should return either 1 or 2 randomly.\n",
    "    randomizedSet.remove(1); // Removes 1 from the set, returns true. Set now contains [2].\n",
    "    randomizedSet.insert(2); // 2 was already in the set, so return false.\n",
    "    randomizedSet.getRandom(); // Since 2 is the only number in the set, getRandom() will always return 2.\n",
    "\n",
    "**Constraints:**\n",
    "\n",
    "- `-2^31 <= val <= 2^31 - 1`\n",
    "- At most `2 * 10^5` calls will be made to `insert`, `remove`, and `getRandom`.\n",
    "- There will be at least one element in the data structure when getRandom is called.\n"
   ]
  },
  {
   "cell_type": "code",
   "execution_count": 7,
   "metadata": {},
   "outputs": [],
   "source": [
    "from random import choice\n",
    "\n",
    "\n",
    "class RandomizedSet:\n",
    "    def __init__(self):\n",
    "        self.num_dict = {}\n",
    "        self.num_list = []\n",
    "\n",
    "    def insert(self, val: int) -> bool:\n",
    "        if val in self.num_dict:\n",
    "            return False\n",
    "\n",
    "        self.num_dict[val] = len(self.num_list)\n",
    "        self.num_list.append(val)\n",
    "        return True\n",
    "\n",
    "    def remove(self, val: int) -> bool:\n",
    "        if val not in self.num_dict:\n",
    "            return False\n",
    "\n",
    "        index = self.num_dict[val]\n",
    "        last = self.num_list[-1]\n",
    "\n",
    "        self.num_list[index] = last\n",
    "        self.num_dict[last] = index\n",
    "\n",
    "        self.num_list.pop()\n",
    "        del self.num_dict[val]\n",
    "\n",
    "        return True\n",
    "\n",
    "    def getRandom(self) -> int:\n",
    "        return choice(self.num_list)\n",
    "\n",
    "\n",
    "# Your RandomizedSet object will be instantiated and called as such:\n",
    "# obj = RandomizedSet()\n",
    "# param_1 = obj.insert(val)\n",
    "# param_2 = obj.remove(val)\n",
    "# param_3 = obj.getRandom()"
   ]
  },
  {
   "cell_type": "code",
   "execution_count": 8,
   "metadata": {},
   "outputs": [
    {
     "data": {
      "text/plain": [
       "[None, True, False, True, 2, True, False, 2]"
      ]
     },
     "execution_count": 8,
     "metadata": {},
     "output_type": "execute_result"
    }
   ],
   "source": [
    "# Test the RandomizedSet class based on the provided example\n",
    "randomizedSet = RandomizedSet()\n",
    "operations = [\n",
    "    \"RandomizedSet\",\n",
    "    \"insert\",\n",
    "    \"remove\",\n",
    "    \"insert\",\n",
    "    \"getRandom\",\n",
    "    \"remove\",\n",
    "    \"insert\",\n",
    "    \"getRandom\",\n",
    "]\n",
    "values = [[], [1], [2], [2], [], [1], [2], []]\n",
    "results = []\n",
    "\n",
    "for op, val in zip(operations, values):\n",
    "    if op == \"RandomizedSet\":\n",
    "        results.append(None)\n",
    "    elif op == \"insert\":\n",
    "        results.append(randomizedSet.insert(val[0]))\n",
    "    elif op == \"remove\":\n",
    "        results.append(randomizedSet.remove(val[0]))\n",
    "    elif op == \"getRandom\":\n",
    "        results.append(randomizedSet.getRandom())\n",
    "\n",
    "results"
   ]
  },
  {
   "cell_type": "markdown",
   "metadata": {},
   "source": [
    "The implementation of the `RandomizedSet` class successfully follows the specifications provided. Here's how it performed with the given example:\n",
    "\n",
    "1. `insert(1)`: Inserts 1 into the set. Since 1 was not previously in the set, it returns `True`.\n",
    "2. `remove(2)`: Attempts to remove 2 from the set. Since 2 is not in the set, it returns `False`.\n",
    "3. `insert(2)`: Inserts 2 into the set. Since 2 was not previously in the set, it returns `True`.\n",
    "4. `getRandom()`: Returns a random element from the set. In this case, it returned `2`.\n",
    "5. `remove(1)`: Removes 1 from the set. Since 1 was in the set, it returns `True`.\n",
    "6. `insert(2)`: Attempts to insert 2 again. Since 2 is already in the set, it returns `False`.\n",
    "7. `getRandom()`: Returns a random element from the set. Since 2 is the only element, it returns `2`.\n",
    "\n",
    "Each function operates with an average time complexity of O(1), fulfilling the requirement.\n"
   ]
  }
 ],
 "metadata": {
  "kernelspec": {
   "display_name": "Python 3",
   "language": "python",
   "name": "python3"
  },
  "language_info": {
   "codemirror_mode": {
    "name": "ipython",
    "version": 3
   },
   "file_extension": ".py",
   "mimetype": "text/x-python",
   "name": "python",
   "nbconvert_exporter": "python",
   "pygments_lexer": "ipython3",
   "version": "3.11.1"
  }
 },
 "nbformat": 4,
 "nbformat_minor": 2
}
