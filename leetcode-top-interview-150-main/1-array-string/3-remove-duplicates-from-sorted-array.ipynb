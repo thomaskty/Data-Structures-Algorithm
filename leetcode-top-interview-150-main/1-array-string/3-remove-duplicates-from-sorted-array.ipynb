{
 "cells": [
  {
   "cell_type": "markdown",
   "metadata": {},
   "source": [
    "# Question 3 - 26. Remove Duplicates from Sorted Array\n",
    "\n",
    "## Description\n",
    "\n",
    "Given an integer array `nums` sorted in non-decreasing order, remove the duplicates in-place such that each unique element appears only once. The relative order of the elements should be kept the same. Then return the number of unique elements in nums.\n",
    "\n",
    "Consider the number of unique elements of `nums` to be `k`, to get accepted, you need to do the following things:\n",
    "\n",
    "- Change the array `nums` such that the first `k` elements of `nums` contain the unique elements in the order they were present in `nums` initially. The remaining elements of `nums` are not important as well as the size of `nums`.\n",
    "- Return `k`.\n",
    "\n",
    "**Custom Judge:**\n",
    "\n",
    "    The judge will test your solution with the following code:\n",
    "\n",
    "    int[] nums = [...]; // Input array\n",
    "    int[] expectedNums = [...]; // The expected answer with correct length\n",
    "\n",
    "    int k = removeDuplicates(nums); // Calls your implementation\n",
    "\n",
    "    assert k == expectedNums.length;\n",
    "    for (int i = 0; i < k; i++) {\n",
    "        assert nums[i] == expectedNums[i];\n",
    "    }\n",
    "\n",
    "If all assertions pass, then your solution will be accepted.\n",
    "\n",
    "**Example 1:**\n",
    "\n",
    "    Input: nums = [1,1,2]\n",
    "    Output: 2, nums = [1,2,_]\n",
    "    Explanation: Your function should return k = 2, with the first two elements of nums being 1 and 2 respectively.\n",
    "    It does not matter what you leave beyond the returned k (hence they are underscores).\n",
    "\n",
    "**Example 2:**\n",
    "\n",
    "    Input: nums = [0,0,1,1,1,2,2,3,3,4]\n",
    "    Output: 5, nums = [0,1,2,3,4,_,_,_,_,_]\n",
    "    Explanation: Your function should return k = 5, with the first five elements of nums being 0, 1, 2, 3, and 4 respectively.\n",
    "    It does not matter what you leave beyond the returned k (hence they are underscores).\n",
    "\n",
    "**Constraints:**\n",
    "\n",
    "- `1 <= nums.length <= 3 * 104`\n",
    "- `-100 <= nums[i] <= 100`\n",
    "- `nums` is sorted in **non-decreasing** order.\n"
   ]
  },
  {
   "cell_type": "code",
   "execution_count": 3,
   "metadata": {},
   "outputs": [],
   "source": [
    "class Solution:\n",
    "    def removeDuplicates(self, nums: list[int]) -> int:\n",
    "        if not nums:\n",
    "            return 0\n",
    "\n",
    "        # initialize the unique element index\n",
    "        i = 0\n",
    "\n",
    "        for j in range(len(nums)):\n",
    "            # check if the current element is different from the one at the unique index\n",
    "            if nums[j] != nums[i]:\n",
    "                # move the unique index forward and update its value\n",
    "                i += 1\n",
    "                nums[i] = nums[j]\n",
    "\n",
    "        # return the number of unique elements\n",
    "        return i + 1"
   ]
  },
  {
   "cell_type": "code",
   "execution_count": 4,
   "metadata": {},
   "outputs": [
    {
     "data": {
      "text/plain": [
       "(2, [1, 2, 2], 5, [0, 1, 2, 3, 4, 2, 2, 3, 3, 4])"
      ]
     },
     "execution_count": 4,
     "metadata": {},
     "output_type": "execute_result"
    }
   ],
   "source": [
    "# Testing the function with the provided examples\n",
    "\n",
    "removeDuplicates = Solution().removeDuplicates\n",
    "\n",
    "nums1 = [1, 1, 2]\n",
    "result1 = removeDuplicates(nums1)\n",
    "\n",
    "nums2 = [0, 0, 1, 1, 1, 2, 2, 3, 3, 4]\n",
    "result2 = removeDuplicates(nums2)\n",
    "\n",
    "result1, nums1, result2, nums2"
   ]
  },
  {
   "cell_type": "markdown",
   "metadata": {},
   "source": [
    "## Complexity\n",
    "\n",
    "The complexity of the `removeDuplicates` function can be analyzed in terms of time and space complexity:\n",
    "\n",
    "1. **Time Complexity**: The function iterates through the array `nums` once. During each iteration, it performs constant time operations like comparison and assignment. Therefore, the time complexity is O(n), where n is the length of the input array. This is because the loop runs for each element of the array exactly once.\n",
    "\n",
    "2. **Space Complexity**: The function modifies the array in place and does not use any additional data structures that grow with the size of the input. The only extra space used is for a few variables (`unique_index` and the loop index `i`), which take constant space. Therefore, the space complexity is O(1), indicating constant space usage regardless of the input size.\n",
    "\n",
    "In summary, the `removeDuplicates` function is efficient in terms of both time and space, with O(n) time complexity and O(1) space complexity.\n"
   ]
  }
 ],
 "metadata": {
  "kernelspec": {
   "display_name": "Python 3",
   "language": "python",
   "name": "python3"
  },
  "language_info": {
   "codemirror_mode": {
    "name": "ipython",
    "version": 3
   },
   "file_extension": ".py",
   "mimetype": "text/x-python",
   "name": "python",
   "nbconvert_exporter": "python",
   "pygments_lexer": "ipython3",
   "version": "3.11.6"
  }
 },
 "nbformat": 4,
 "nbformat_minor": 2
}
