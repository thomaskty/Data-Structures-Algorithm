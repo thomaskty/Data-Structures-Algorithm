{
 "cells": [
  {
   "cell_type": "markdown",
   "metadata": {},
   "source": [
    "# 27. Remove Element\n",
    "\n",
    "Given an integer array `nums` and an integer `val`, remove all occurrences of `val` in `nums` in-place. The order of the elements may be changed. Then return the number of elements in nums which are not equal to val.\n",
    "\n",
    "Consider the number of elements in nums which are not equal to val be k, to get accepted, you need to do the following things:\n",
    "\n",
    "- Change the array nums such that the first k elements of nums contain the elements which are not equal to val. The remaining elements of nums are not important as well as the size of nums.\n",
    "- Return k.\n",
    "\n",
    "**Custom Judge:**\n",
    "\n",
    "The judge will test your solution with the following code:\n",
    "\n",
    "```java\n",
    "int[] nums = [...]; // Input array\n",
    "int val = ...; // Value to remove\n",
    "int[] expectedNums = [...]; // The expected answer with correct length.\n",
    "                            // It is sorted with no values equaling val.\n",
    "\n",
    "int k = removeElement(nums, val); // Calls your implementation\n",
    "\n",
    "assert k == expectedNums.length;\n",
    "sort(nums, 0, k); // Sort the first k elements of nums\n",
    "for (int i = 0; i < actualLength; i++) {\n",
    "    assert nums[i] == expectedNums[i];\n",
    "}\n",
    "```\n",
    "\n",
    "If all assertions pass, then your solution will be accepted.\n",
    "\n",
    "**Example 1:**\n",
    "\n",
    "    Input: nums = [3,2,2,3], val = 3\n",
    "    Output: 2, nums = [2,2,_,_]\n",
    "    Explanation: Your function should return k = 2, with the first two elements of nums being 2.\n",
    "    It does not matter what you leave beyond the returned k (hence they are underscores).\n",
    "\n",
    "**Example 2:**\n",
    "\n",
    "    Input: nums = [0,1,2,2,3,0,4,2], val = 2\n",
    "    Output: 5, nums = [0,1,4,0,3,_,_,_]\n",
    "    Explanation: Your function should return k = 5, with the first five elements of nums containing 0, 0, 1, 3, and 4.\n",
    "    Note that the five elements can be returned in any order.\n",
    "    It does not matter what you leave beyond the returned k (hence they are underscores).\n",
    "\n",
    "**Constraints:**\n",
    "\n",
    "- `0 <= nums.length <= 100`\n",
    "- `0 <= nums[i] <= 50`\n",
    "- `0 <= val <= 100`\n"
   ]
  },
  {
   "cell_type": "code",
   "execution_count": 1,
   "metadata": {},
   "outputs": [],
   "source": [
    "class Solution:\n",
    "    def removeElement(self, nums: list[int], val: int) -> int:\n",
    "        k = 0\n",
    "        for i in range(len(nums)):\n",
    "            if nums[i] != val:\n",
    "                nums[k] = nums[i]\n",
    "                k += 1\n",
    "        return k"
   ]
  },
  {
   "cell_type": "code",
   "execution_count": 2,
   "metadata": {},
   "outputs": [
    {
     "data": {
      "text/plain": [
       "(2, [2, 2, 2, 3], 5, [0, 1, 3, 0, 4, 0, 4, 2])"
      ]
     },
     "execution_count": 2,
     "metadata": {},
     "output_type": "execute_result"
    }
   ],
   "source": [
    "# Test the function with the provided examples\n",
    "removeElement = Solution().removeElement\n",
    "\n",
    "example1 = [3, 2, 2, 3]\n",
    "val1 = 3\n",
    "output1 = removeElement(example1, val1)\n",
    "\n",
    "example2 = [0, 1, 2, 2, 3, 0, 4, 2]\n",
    "val2 = 2\n",
    "output2 = removeElement(example2, val2)\n",
    "\n",
    "output1, example1, output2, example2"
   ]
  },
  {
   "cell_type": "markdown",
   "metadata": {},
   "source": [
    "The `removeElement` function is designed to remove all occurrences of a specific value (`val`) from an array (`nums`) and return the number of elements in the array that are not equal to this value.\n",
    "\n",
    "### Explanation\n",
    "\n",
    "1. **Initialization**: The function initializes a variable `k` to `0`, which will be used to keep track of the position in the array where non-`val` elements should be placed.\n",
    "\n",
    "2. **Iteration and Element Replacement**:\n",
    "\n",
    "   - The function iterates through each element in the array `nums`.\n",
    "   - For each element, if it is not equal to `val`, the function:\n",
    "     - Places this element at the index `k` in the array. This is effectively moving all non-`val` elements to the front of the array.\n",
    "     - Increments `k` by `1`.\n",
    "   - If the element is equal to `val`, the function simply skips it, effectively removing it from the portion of the array we care about.\n",
    "\n",
    "3. **Return Value**: After the iteration, `k` represents the number of elements that are not equal to `val`. The function then returns `k`.\n",
    "\n",
    "### Complexity Analysis\n",
    "\n",
    "- **Time Complexity**: The time complexity of this function is **O(n)**, where `n` is the length of the array `nums`. This is because the function iterates through each element of the array exactly once.\n",
    "\n",
    "- **Space Complexity**: The space complexity of this function is **O(1)**, which means it's constant. This is because the function modifies the array in place and does not use any additional space that grows with the size of the input array. The only extra memory used is for the variable `k`, which is a constant space requirement regardless of the size of the array.\n",
    "\n",
    "In summary, this function is efficient both in terms of time and space, as it performs the removal operation in a single pass through the array without requiring additional memory proportional to the size of the input.\n"
   ]
  }
 ],
 "metadata": {
  "kernelspec": {
   "display_name": "Python 3",
   "language": "python",
   "name": "python3"
  },
  "language_info": {
   "codemirror_mode": {
    "name": "ipython",
    "version": 3
   },
   "file_extension": ".py",
   "mimetype": "text/x-python",
   "name": "python",
   "nbconvert_exporter": "python",
   "pygments_lexer": "ipython3",
   "version": "3.11.6"
  }
 },
 "nbformat": 4,
 "nbformat_minor": 2
}
