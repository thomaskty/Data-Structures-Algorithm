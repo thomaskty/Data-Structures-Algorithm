{
 "cells": [
  {
   "cell_type": "markdown",
   "metadata": {},
   "source": [
    "# Question 20 - 14. Longest Common Prefix\n",
    "\n",
    "Write a function to find the longest common prefix string amongst an array of strings.\n",
    "\n",
    "If there is no common prefix, return an empty string `\"\"`.\n",
    "\n",
    "**Example 1:**\n",
    "\n",
    "    Input: strs = [\"flower\",\"flow\",\"flight\"]\n",
    "    Output: \"fl\"\n",
    "\n",
    "**Example 2:**\n",
    "\n",
    "    Input: strs = [\"dog\",\"racecar\",\"car\"]\n",
    "    Output: \"\"\n",
    "    Explanation: There is no common prefix among the input strings.\n",
    " \n",
    "**Constraints:**\n",
    "\n",
    "- `1 <= strs.length <= 200`\n",
    "- `0 <= strs[i].length <= 200`\n",
    "- `strs[i]` consists of only lowercase English letters."
   ]
  },
  {
   "cell_type": "code",
   "execution_count": 3,
   "metadata": {},
   "outputs": [],
   "source": [
    "class Solution:\n",
    "    def longestCommonPrefix(self, strs: list[str]) -> str:\n",
    "        if not strs:\n",
    "            return \"\"\n",
    "        # Find the shortest string in the list\n",
    "        shortest = min(strs, key=len)\n",
    "        # Initialize the longest common prefix as the shortest string\n",
    "        prefix = shortest\n",
    "        \n",
    "        # Loop through the list of strings\n",
    "        for s in strs:\n",
    "            # While the prefix is not empty and not a prefix of the current string\n",
    "            while prefix and not s.startswith(prefix):\n",
    "                # Remove the last character from the prefix\n",
    "                prefix = prefix[:-1]\n",
    "        # Return the longest common prefix\n",
    "        return prefix"
   ]
  },
  {
   "cell_type": "code",
   "execution_count": 4,
   "metadata": {},
   "outputs": [
    {
     "name": "stdout",
     "output_type": "stream",
     "text": [
      "fl\n",
      "\n"
     ]
    }
   ],
   "source": [
    "longestCommonPrefix = Solution().longestCommonPrefix\n",
    "\n",
    "print(longestCommonPrefix([\"flower\", \"flow\", \"flight\"]))  # Output: \"fl\"\n",
    "print(longestCommonPrefix([\"dog\", \"racecar\", \"car\"]))     # Output: \"\""
   ]
  }
 ],
 "metadata": {
  "kernelspec": {
   "display_name": "Python 3",
   "language": "python",
   "name": "python3"
  },
  "language_info": {
   "codemirror_mode": {
    "name": "ipython",
    "version": 3
   },
   "file_extension": ".py",
   "mimetype": "text/x-python",
   "name": "python",
   "nbconvert_exporter": "python",
   "pygments_lexer": "ipython3",
   "version": "3.11.7"
  }
 },
 "nbformat": 4,
 "nbformat_minor": 2
}
