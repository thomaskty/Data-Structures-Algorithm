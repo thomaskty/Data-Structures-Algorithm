{
 "cells": [
  {
   "cell_type": "markdown",
   "metadata": {},
   "source": [
    "# Question 8 - 122. Best Time to Buy and Sell Stock II\n",
    "\n",
    "You are given an integer array `prices` where `prices[i]` is the price of a given stock on the `i-th` day.\n",
    "\n",
    "On each day, you may decide to buy and/or sell the stock. You can only hold at most one share of the stock at any time. However, you can buy it then immediately sell it on the same day.\n",
    "\n",
    "Find and return the **maximum profit** you can achieve.\n",
    "\n",
    "**Example 1:**\n",
    "\n",
    "    Input: prices = [7,1,5,3,6,4]\n",
    "    Output: 7\n",
    "    Explanation: Buy on day 2 (price = 1) and sell on day 3 (price = 5), profit = 5-1 = 4.\n",
    "    Then buy on day 4 (price = 3) and sell on day 5 (price = 6), profit = 6-3 = 3.\n",
    "    Total profit is 4 + 3 = 7.\n",
    "\n",
    "**Example 2:**\n",
    "\n",
    "    Input: prices = [1,2,3,4,5]\n",
    "    Output: 4\n",
    "    Explanation: Buy on day 1 (price = 1) and sell on day 5 (price = 5), profit = 5-1 = 4.\n",
    "    Total profit is 4.\n",
    "\n",
    "**Example 3:**\n",
    "\n",
    "    Input: prices = [7,6,4,3,1]\n",
    "    Output: 0\n",
    "    Explanation: There is no way to make a positive profit, so we never buy the stock to achieve the maximum profit of 0.\n",
    "\n",
    "**Constraints:**\n",
    "\n",
    "- `1 <= prices.length <= 3 * 10^4`\n",
    "- `0 <= prices[i] <= 10^4`\n"
   ]
  },
  {
   "cell_type": "code",
   "execution_count": 3,
   "metadata": {},
   "outputs": [],
   "source": [
    "class Solution:\n",
    "    # solve with O(n) time complexity and O(1) space complexity\n",
    "    def maxProfit(self, prices: list[int]) -> int:\n",
    "        # init profit to 0\n",
    "        profit = 0\n",
    "\n",
    "        # iterate through the list of prices\n",
    "        for i in range(1, len(prices)):\n",
    "            # if the price on the current day is higher than the previous day\n",
    "            if prices[i] > prices[i - 1]:\n",
    "                # add the difference to the profit\n",
    "                profit += prices[i] - prices[i - 1]\n",
    "\n",
    "        # return the profit\n",
    "        return profit"
   ]
  },
  {
   "cell_type": "code",
   "execution_count": 4,
   "metadata": {},
   "outputs": [
    {
     "name": "stdout",
     "output_type": "stream",
     "text": [
      "7\n",
      "4\n",
      "0\n"
     ]
    }
   ],
   "source": [
    "maxProfit = Solution().maxProfit\n",
    "\n",
    "print(maxProfit([7, 1, 5, 3, 6, 4]))  # 7\n",
    "print(maxProfit([1, 2, 3, 4, 5]))  # 4\n",
    "print(maxProfit([7, 6, 4, 3, 1]))  # 0"
   ]
  }
 ],
 "metadata": {
  "kernelspec": {
   "display_name": "Python 3",
   "language": "python",
   "name": "python3"
  },
  "language_info": {
   "codemirror_mode": {
    "name": "ipython",
    "version": 3
   },
   "file_extension": ".py",
   "mimetype": "text/x-python",
   "name": "python",
   "nbconvert_exporter": "python",
   "pygments_lexer": "ipython3",
   "version": "3.11.1"
  }
 },
 "nbformat": 4,
 "nbformat_minor": 2
}
