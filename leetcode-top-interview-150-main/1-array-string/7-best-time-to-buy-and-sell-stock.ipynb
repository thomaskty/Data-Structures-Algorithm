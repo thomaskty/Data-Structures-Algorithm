{
 "cells": [
  {
   "cell_type": "markdown",
   "metadata": {},
   "source": [
    "# Question 7 - 121. Best Time to Buy and Sell Stock\n",
    "\n",
    "You are given an array `prices` where `prices[i]` is the price of a given stock on the ith day.\n",
    "\n",
    "You want to maximize your profit by choosing a single day to buy one stock and choosing a different day in the future to sell that stock.\n",
    "\n",
    "Return the maximum profit you can achieve from this transaction. If you cannot achieve any profit, return 0.\n",
    "\n",
    "**Example 1:**\n",
    "\n",
    "    Input: prices = [7,1,5,3,6,4]\n",
    "    Output: 5\n",
    "    Explanation: Buy on day 2 (price = 1) and sell on day 5 (price = 6), profit = 6-1 = 5.\n",
    "    Note that buying on day 2 and selling on day 1 is not allowed because you must buy before you sell.\n",
    "\n",
    "**Example 2:**\n",
    "\n",
    "    Input: prices = [7,6,4,3,1]\n",
    "    Output: 0\n",
    "    Explanation: In this case, no transactions are done and the max profit = 0.\n",
    "\n",
    "**Constraints:**\n",
    "\n",
    "- `1 <= prices.length <= 105`\n",
    "- `0 <= prices[i] <= 104`\n"
   ]
  },
  {
   "cell_type": "code",
   "execution_count": 1,
   "metadata": {},
   "outputs": [],
   "source": [
    "class Solution:\n",
    "    # Time: O(n), Space: O(1)\n",
    "    def maxProfit(self, prices: list[int]) -> int:\n",
    "        if not prices:\n",
    "            return 0\n",
    "        \n",
    "        min_price = prices[0]\n",
    "        max_profit = 0\n",
    "        \n",
    "        for price in prices:\n",
    "            # update min_price found so far\n",
    "            if price < min_price:\n",
    "                min_price = price\n",
    "            else:\n",
    "                # calculat profit if sold at the current price\n",
    "                profit = price - min_price\n",
    "                # update max_profit found so far\n",
    "                max_profit = max(max_profit, profit)\n",
    "        \n",
    "        return max_profit\n",
    "            "
   ]
  },
  {
   "cell_type": "code",
   "execution_count": 2,
   "metadata": {},
   "outputs": [
    {
     "data": {
      "text/plain": [
       "(5, 0)"
      ]
     },
     "execution_count": 2,
     "metadata": {},
     "output_type": "execute_result"
    }
   ],
   "source": [
    "# Testing the function with the same examples\n",
    "example1 = [7, 1, 5, 3, 6, 4]\n",
    "example2 = [7, 6, 4, 3, 1]\n",
    "\n",
    "maxProfit = Solution().maxProfit\n",
    "\n",
    "output1_simple = maxProfit(example1)\n",
    "output2_simple = maxProfit(example2)\n",
    "\n",
    "output1_simple, output2_simple"
   ]
  }
 ],
 "metadata": {
  "kernelspec": {
   "display_name": "Python 3",
   "language": "python",
   "name": "python3"
  },
  "language_info": {
   "codemirror_mode": {
    "name": "ipython",
    "version": 3
   },
   "file_extension": ".py",
   "mimetype": "text/x-python",
   "name": "python",
   "nbconvert_exporter": "python",
   "pygments_lexer": "ipython3",
   "version": "3.11.7"
  }
 },
 "nbformat": 4,
 "nbformat_minor": 2
}
