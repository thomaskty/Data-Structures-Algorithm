{
 "cells": [
  {
   "cell_type": "markdown",
   "metadata": {},
   "source": [
    "# Question 31 - LC 3. Longest Substring Without Repeating Characters\n",
    "\n",
    "Given a string `s`, find the length of the longest _substring_ without repeating characters.\n",
    "\n",
    "**Example 1:**\n",
    "\n",
    "    Input: s = \"abcabcbb\"\n",
    "    Output: 3\n",
    "    Explanation: The answer is \"abc\", with the length of 3.\n",
    "\n",
    "**Example 2:**\n",
    "\n",
    "    Input: s = \"bbbbb\"\n",
    "    Output: 1\n",
    "    Explanation: The answer is \"b\", with the length of 1.\n",
    "\n",
    "**Example 3:**\n",
    "\n",
    "    Input: s = \"pwwkew\"\n",
    "    Output: 3\n",
    "    Explanation: The answer is \"wke\", with the length of 3.\n",
    "    Notice that the answer must be a substring, \"pwke\" is a subsequence and not a substring.\n",
    "\n",
    "**Constraints:**\n",
    "\n",
    "- `0 <= s.length <= 5 * 104`\n",
    "- `s` consists of English letters, digits, symbols and spaces.\n"
   ]
  },
  {
   "cell_type": "code",
   "execution_count": 1,
   "metadata": {},
   "outputs": [],
   "source": [
    "class Solution:\n",
    "    def lengthOfLongestSubstring(self, s: str) -> int:\n",
    "        char_set = set()\n",
    "        max_length = 0\n",
    "        start = 0\n",
    "\n",
    "        for end in range(len(s)):\n",
    "            while s[end] in char_set:\n",
    "                char_set.remove(s[start])\n",
    "                start += 1\n",
    "            char_set.add(s[end])\n",
    "            max_length = max(max_length, end - start + 1)\n",
    "\n",
    "        return max_length"
   ]
  },
  {
   "cell_type": "code",
   "execution_count": 2,
   "metadata": {},
   "outputs": [
    {
     "data": {
      "text/plain": [
       "(3, 1, 3)"
      ]
     },
     "execution_count": 2,
     "metadata": {},
     "output_type": "execute_result"
    }
   ],
   "source": [
    "# Testing the function with the provided examples\n",
    "\n",
    "length_of_longest_substring = Solution().lengthOfLongestSubstring\n",
    "\n",
    "example1 = \"abcabcbb\"  # Expected output: 3\n",
    "example2 = \"bbbbb\"  # Expected output: 1\n",
    "example3 = \"pwwkew\"  # Expected output: 3\n",
    "\n",
    "length_example1 = length_of_longest_substring(example1)\n",
    "length_example2 = length_of_longest_substring(example2)\n",
    "length_example3 = length_of_longest_substring(example3)\n",
    "\n",
    "length_example1, length_example2, length_example3"
   ]
  },
  {
   "cell_type": "markdown",
   "metadata": {},
   "source": [
    "To solve the problem of finding the longest substring without repeating characters in a given string `s`, a common approach is to use the \"sliding window\" technique. This technique involves maintaining a moving window of characters that are currently being considered, and adjusting the window as you iterate through the string to ensure that no character is repeated within it.\n",
    "\n",
    "Here's a step-by-step breakdown:\n",
    "\n",
    "1. Initialize a set to store the characters in the current window and two pointers, `start` and `end`, which represent the beginning and end of the sliding window.\n",
    "2. Iterate through the string with the `end` pointer, adding new characters to the set.\n",
    "3. If a character is already in the set, it means a repeating character is found. Then, increment the `start` pointer and remove the character at the `start` position from the set. Continue this process until the repeating character is removed from the set.\n",
    "4. Update the maximum length of the substring each time a new (non-repeating) character is added to the set.\n",
    "\n",
    "The time complexity of this solution is O(n), where n is the length of the string, since each character is visited at most twice (once by each pointer).\n"
   ]
  }
 ],
 "metadata": {
  "kernelspec": {
   "display_name": "Python 3",
   "language": "python",
   "name": "python3"
  },
  "language_info": {
   "codemirror_mode": {
    "name": "ipython",
    "version": 3
   },
   "file_extension": ".py",
   "mimetype": "text/x-python",
   "name": "python",
   "nbconvert_exporter": "python",
   "pygments_lexer": "ipython3",
   "version": "3.11.1"
  }
 },
 "nbformat": 4,
 "nbformat_minor": 2
}
