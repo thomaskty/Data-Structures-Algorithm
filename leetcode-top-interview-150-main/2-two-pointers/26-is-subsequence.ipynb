{
 "cells": [
  {
   "cell_type": "markdown",
   "metadata": {},
   "source": [
    "# Question 26 - 392. Is Subsequence\n",
    "\n",
    "Given two strings `s` and `t`, return `true` if `s` is a `subsequence` of `t`, or `false` otherwise.\n",
    "\n",
    "A subsequence of a string is a new string that is formed from the original string by deleting some (can be none) of the characters without disturbing the relative positions of the remaining characters. (i.e., \"ace\" is a subsequence of \"abcde\" while \"aec\" is not).\n",
    "\n",
    "**Example 1:**\n",
    "\n",
    "    Input: s = \"abc\", t = \"ahbgdc\"\n",
    "    Output: true\n",
    "\n",
    "**Example 2:**\n",
    "\n",
    "    Input: s = \"axc\", t = \"ahbgdc\"\n",
    "    Output: false\n",
    "\n",
    "**Constraints:**\n",
    "\n",
    "- `0 <= s.length <= 100`\n",
    "- `0 <= t.length <= 104`\n",
    "- `s` and `t` consist only of lowercase English letters.\n",
    "\n",
    "Follow up: Suppose there are lots of incoming `s`, say `s1, s2, ..., sk` where` k >= 10^9`, and you want to check one by one to see if `t` has its subsequence. In this scenario, how would you change your code?\n"
   ]
  },
  {
   "cell_type": "code",
   "execution_count": 1,
   "metadata": {},
   "outputs": [],
   "source": [
    "class Solution:\n",
    "    def isSubsequence(self, s: str, t: str) -> bool:\n",
    "        if not s:\n",
    "            return True  # an empty string is a subsequence of any string\n",
    "\n",
    "        i = 0\n",
    "        j = 0\n",
    "\n",
    "        while j < len(t):\n",
    "            if t[j] == s[i]:\n",
    "                i += 1\n",
    "                if i == len(s):\n",
    "                    return True\n",
    "\n",
    "            # move j forward\n",
    "            j += 1\n",
    "\n",
    "        # end of t reached but not all of s was found\n",
    "        return False"
   ]
  },
  {
   "cell_type": "code",
   "execution_count": 2,
   "metadata": {},
   "outputs": [
    {
     "data": {
      "text/plain": [
       "(True, False)"
      ]
     },
     "execution_count": 2,
     "metadata": {},
     "output_type": "execute_result"
    }
   ],
   "source": [
    "# Test the function with the provided examples\n",
    "\n",
    "isSubsequence = Solution().isSubsequence\n",
    "\n",
    "test_case_1 = isSubsequence(\"abc\", \"ahbgdc\")\n",
    "test_case_2 = isSubsequence(\"axc\", \"ahbgdc\")\n",
    "\n",
    "test_case_1, test_case_2"
   ]
  }
 ],
 "metadata": {
  "kernelspec": {
   "display_name": "Python 3",
   "language": "python",
   "name": "python3"
  },
  "language_info": {
   "codemirror_mode": {
    "name": "ipython",
    "version": 3
   },
   "file_extension": ".py",
   "mimetype": "text/x-python",
   "name": "python",
   "nbconvert_exporter": "python",
   "pygments_lexer": "ipython3",
   "version": "3.11.7"
  }
 },
 "nbformat": 4,
 "nbformat_minor": 2
}
