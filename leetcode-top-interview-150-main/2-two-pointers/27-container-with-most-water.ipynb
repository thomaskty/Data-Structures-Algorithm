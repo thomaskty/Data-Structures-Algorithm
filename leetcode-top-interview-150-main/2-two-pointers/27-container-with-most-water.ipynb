{
 "cells": [
  {
   "cell_type": "markdown",
   "metadata": {},
   "source": [
    "# Question 27 - 11. Container With Most Water\n",
    "\n",
    "You are given an integer array height of length n. There are n vertical lines drawn such that the two endpoints of the ith line are (i, 0) and (i, height[i]).\n",
    "\n",
    "Find two lines that together with the x-axis form a container, such that the container contains the most water.\n",
    "\n",
    "Return *the maximum amount of water a container can store*.\n",
    "\n",
    "Notice that you may not slant the container.\n",
    "\n",
    "**Example 1:**\n",
    "\n",
    "    Input: height = [1,8,6,2,5,4,8,3,7]\n",
    "    Output: 49\n",
    "    Explanation: The above vertical lines are represented by array [1,8,6,2,5,4,8,3,7]. In this case, the max area of water (blue section) the container can contain is 49.\n",
    "\n",
    "**Example 2:**\n",
    "\n",
    "    Input: height = [1,1]\n",
    "    Output: 1\n",
    " \n",
    "**Constraints:**\n",
    "\n",
    "- `n == height.length`\n",
    "- `2 <= n <= 10^5`\n",
    "- `0 <= height[i] <= 10^4`"
   ]
  },
  {
   "cell_type": "code",
   "execution_count": 1,
   "metadata": {},
   "outputs": [],
   "source": [
    "class Solution:\n",
    "    def maxArea(self, height: list[int]) -> int:\n",
    "        # initialize two pointers\n",
    "        left, right = 0, len(height) - 1\n",
    "\n",
    "        # initialize max area\n",
    "        max_area = 0\n",
    "\n",
    "        # loop while left < right\n",
    "        while left < right:\n",
    "            # calculate area - [min of left and right (determined by the short one)] * [distance between them]\n",
    "            current_area = min(height[left], height[right]) * (right - left)\n",
    "\n",
    "            # update max area\n",
    "            max_area = max(max_area, current_area)\n",
    "\n",
    "            # move the pointer that is shorter\n",
    "            if height[left] < height[right]:\n",
    "                left += 1\n",
    "            else:\n",
    "                right -= 1\n",
    "\n",
    "        return max_area"
   ]
  },
  {
   "cell_type": "code",
   "execution_count": 2,
   "metadata": {},
   "outputs": [
    {
     "data": {
      "text/plain": [
       "(49, 1)"
      ]
     },
     "execution_count": 2,
     "metadata": {},
     "output_type": "execute_result"
    }
   ],
   "source": [
    "# Test the function with the provided examples\n",
    "\n",
    "max_area = Solution().maxArea\n",
    "\n",
    "example1 = [1, 8, 6, 2, 5, 4, 8, 3, 7]\n",
    "example2 = [1, 1]\n",
    "\n",
    "max_area_example1 = max_area(example1)\n",
    "max_area_example2 = max_area(example2)\n",
    "\n",
    "max_area_example1, max_area_example2"
   ]
  },
  {
   "cell_type": "markdown",
   "metadata": {},
   "source": [
    "The time and space complexity of the implemented function can be analyzed as follows:\n",
    "\n",
    "1. **Time Complexity**: The function uses a two-pointer approach where each pointer starts at opposite ends of the array and moves towards the center. In the worst case, each pointer traverses the entire array once. This results in a time complexity of \\(O(n)\\), where \\(n\\) is the length of the input array. This is because each element in the array is visited at most once by either of the two pointers.\n",
    "\n",
    "2. **Space Complexity**: The function uses a constant amount of extra space, irrespective of the size of the input array. There are no data structures that grow with the size of the input. Only a fixed number of variables (pointers and a variable to track the maximum area) are used. Therefore, the space complexity is \\(O(1)\\), which means it requires constant space."
   ]
  }
 ],
 "metadata": {
  "kernelspec": {
   "display_name": "Python 3",
   "language": "python",
   "name": "python3"
  },
  "language_info": {
   "codemirror_mode": {
    "name": "ipython",
    "version": 3
   },
   "file_extension": ".py",
   "mimetype": "text/x-python",
   "name": "python",
   "nbconvert_exporter": "python",
   "pygments_lexer": "ipython3",
   "version": "3.11.7"
  }
 },
 "nbformat": 4,
 "nbformat_minor": 2
}
