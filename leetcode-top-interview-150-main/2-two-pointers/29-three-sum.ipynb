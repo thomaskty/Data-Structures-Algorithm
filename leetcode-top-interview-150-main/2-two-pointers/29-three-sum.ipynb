{
 "cells": [
  {
   "cell_type": "markdown",
   "metadata": {},
   "source": [
    "# Question 29 - 15. 3Sum\n",
    "\n",
    "Given an integer array nums, return all the triplets `[nums[i], nums[j], nums[k]]` such that `i != j`, `i != k`, and `j != k`, and `nums[i] + nums[j] + nums[k] == 0`.\n",
    "\n",
    "Notice that the solution set must not contain duplicate triplets.\n",
    "\n",
    "**Example 1:**\n",
    "\n",
    "    Input: nums = [-1,0,1,2,-1,-4]\n",
    "    Output: [[-1,-1,2],[-1,0,1]]\n",
    "    Explanation:\n",
    "    nums[0] + nums[1] + nums[2] = (-1) + 0 + 1 = 0.\n",
    "    nums[1] + nums[2] + nums[4] = 0 + 1 + (-1) = 0.\n",
    "    nums[0] + nums[3] + nums[4] = (-1) + 2 + (-1) = 0.\n",
    "    The distinct triplets are [-1,0,1] and [-1,-1,2].\n",
    "    Notice that the order of the output and the order of the triplets does not matter.\n",
    "\n",
    "**Example 2:**\n",
    "\n",
    "    Input: nums = [0,1,1]\n",
    "    Output: []\n",
    "    Explanation: The only possible triplet does not sum up to 0.\n",
    "\n",
    "**Example 3:**\n",
    "\n",
    "    Input: nums = [0,0,0]\n",
    "    Output: [[0,0,0]]\n",
    "    Explanation: The only possible triplet sums up to 0.\n",
    "\n",
    "**Constraints:**\n",
    "\n",
    "- `3 <= nums.length <= 3000`\n",
    "- -`10^5 <= nums[i] <= 10^5`\n"
   ]
  },
  {
   "cell_type": "code",
   "execution_count": 7,
   "metadata": {},
   "outputs": [],
   "source": [
    "class Solution:\n",
    "    def threeSum(self, nums: list[int]) -> list[list[int]]:\n",
    "        # sort the list\n",
    "        nums.sort()\n",
    "        \n",
    "        # result list\n",
    "        result: list[list[int]] = []\n",
    "\n",
    "        for i in range(len(nums)):\n",
    "            # Avoid duplicates for the first number\n",
    "            if i > 0 and nums[i] == nums[i - 1]:\n",
    "                continue\n",
    "            \n",
    "            # left and right pointers - left starts at i + 1, right starts at the end of the list\n",
    "            left, right = i + 1, len(nums) - 1\n",
    "\n",
    "            while left < right:\n",
    "                # calculate the current sum\n",
    "                current_sum = nums[i] + nums[left] + nums[right]\n",
    "\n",
    "                # if current_sum is less than 0, we need a larger number, move left pointer right\n",
    "                if current_sum < 0:\n",
    "                    left += 1\n",
    "                # if current_sum is greater than 0, we need a smaller number, move right pointer left\n",
    "                elif current_sum > 0:\n",
    "                    right -= 1\n",
    "                else:\n",
    "                    # if the sum equals to 0, we found a triplet\n",
    "                    result.append([nums[i], nums[left], nums[right]])\n",
    "\n",
    "                    # Skip duplicates for the second and third numbers\n",
    "                    while left < right and nums[left] == nums[left + 1]:\n",
    "                        left += 1\n",
    "                    while left < right and nums[right] == nums[right - 1]:\n",
    "                        right -= 1\n",
    "\n",
    "                    left += 1\n",
    "                    right -= 1\n",
    "\n",
    "        return result"
   ]
  },
  {
   "cell_type": "code",
   "execution_count": 8,
   "metadata": {},
   "outputs": [
    {
     "name": "stdout",
     "output_type": "stream",
     "text": [
      "[[-1, -1, 2], [-1, 0, 1]]\n",
      "[]\n",
      "[[0, 0, 0]]\n"
     ]
    }
   ],
   "source": [
    "# Tests\n",
    "three_sums = Solution().threeSum\n",
    "\n",
    "print(three_sums([-1, 0, 1, 2, -1, -4]))\n",
    "print(three_sums([0, 1, 1]))\n",
    "print(three_sums([0, 0, 0]))"
   ]
  },
  {
   "cell_type": "markdown",
   "metadata": {},
   "source": [
    "### Reflection\n",
    "\n",
    "This approach is highly efficient because it reduces the problem from a potential O(n^3) brute-force solution (checking all possible triplets) to an O(n^2) solution.\n",
    "\n",
    "To solve the 3Sum problem, we'll use a two-pointer approach, which is efficient for this kind of problem. The steps are as follows:\n",
    "\n",
    "1. **Sort the Array**: This allows us to use two pointers effectively.\n",
    "2. **Iterate Through the Array**: For each element `nums[i]`, we find two other elements that sum up to `-nums[i]`.\n",
    "3. **Two Pointers for Finding the Pair**: For the current element `nums[i]`, set two pointers: one at `i + 1` and another at the end of the array. Move these pointers towards each other to find pairs that sum up to `-nums[i]`.\n",
    "4. **Avoid Duplicates**: Skip duplicate elements to avoid duplicate triplets in the result.\n",
    "5. **Store Valid Triplets**: Whenever a valid triplet is found, add it to the result.\n",
    "\n",
    "### Complexity Analysis\n",
    "\n",
    "- **Time Complexity**: O(n^2). The array is traversed once, and for each element, we potentially go through the rest of the array using the two pointers, which results in O(n^2) complexity.\n",
    "- **Space Complexity**: O(1) or O(n), depending on the implementation of the sorting algorithm. If the sort is in-place, the space complexity is O(1). If the sort is not in-place (like Python's Timsort), it's O(n).\n",
    "\n",
    "Note: The space complexity for storing the output is not considered in this analysis, as it depends on the number of valid triplets and is separate from the algorithm's inherent space usage.\n"
   ]
  }
 ],
 "metadata": {
  "kernelspec": {
   "display_name": "Python 3",
   "language": "python",
   "name": "python3"
  },
  "language_info": {
   "codemirror_mode": {
    "name": "ipython",
    "version": 3
   },
   "file_extension": ".py",
   "mimetype": "text/x-python",
   "name": "python",
   "nbconvert_exporter": "python",
   "pygments_lexer": "ipython3",
   "version": "3.11.7"
  }
 },
 "nbformat": 4,
 "nbformat_minor": 2
}
