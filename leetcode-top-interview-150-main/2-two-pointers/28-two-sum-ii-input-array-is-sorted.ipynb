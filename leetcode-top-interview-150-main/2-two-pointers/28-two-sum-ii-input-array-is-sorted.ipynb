{
 "cells": [
  {
   "cell_type": "markdown",
   "metadata": {},
   "source": [
    "# Question 27 - 167. Two Sum II - Input Array Is Sorted\n",
    "\n",
    "Given a **1-indexed** array of integers `numbers` that is _already sorted in non-decreasing order_, find two numbers such that they add up to a specific `target` number. Let these two numbers be `numbers[index1]` and `numbers[index2]` where `1 <= index1 < index2 <= numbers.length`.\n",
    "\n",
    "Return the _indices of the two numbers_, `index1` and `index2`, _added by one_ as an integer array [index1, index2] of length 2.\n",
    "\n",
    "The tests are generated such that there is exactly one solution. You may not use the same element twice.\n",
    "\n",
    "Your solution must use only constant extra space.\n",
    "\n",
    "**Example 1:**\n",
    "\n",
    "    Input: numbers = [2,7,11,15], target = 9\n",
    "    Output: [1,2]\n",
    "    Explanation: The sum of 2 and 7 is 9. Therefore, index1 = 1, index2 = 2. We return [1, 2].\n",
    "\n",
    "**Example 2:**\n",
    "\n",
    "    Input: numbers = [2,3,4], target = 6\n",
    "    Output: [1,3]\n",
    "    Explanation: The sum of 2 and 4 is 6. Therefore index1 = 1, index2 = 3. We return [1, 3].\n",
    "\n",
    "**Example 3:**\n",
    "\n",
    "    Input: numbers = [-1,0], target = -1\n",
    "    Output: [1,2]\n",
    "    Explanation: The sum of -1 and 0 is -1. Therefore index1 = 1, index2 = 2. We return [1, 2].\n",
    "\n",
    "**Constraints:**\n",
    "\n",
    "- `2 <= numbers.length <= 3 * 10^4`\n",
    "- `-1000 <= numbers[i] <= 1000`\n",
    "- `numbers` is sorted in non-decreasing order.\n",
    "- `-1000 <= target <= 1000`\n",
    "- The tests are generated such that there is **exactly one solution**.\n"
   ]
  },
  {
   "cell_type": "code",
   "execution_count": 1,
   "metadata": {},
   "outputs": [],
   "source": [
    "class Solution:\n",
    "    # solve the problem in O(n) time and O(1) space\n",
    "    def twoSum(self, number: list[int], target: int) -> list[int]:\n",
    "        # init two pointers\n",
    "        left = 0\n",
    "        right = len(number) - 1\n",
    "\n",
    "        # iterate while left < right\n",
    "        while left < right:\n",
    "            current_sum = number[left] + number[right]\n",
    "\n",
    "            if current_sum == target:\n",
    "                # return the indices, add 1 to each index since the indices are 1-based\n",
    "                return [left + 1, right + 1]\n",
    "\n",
    "            elif current_sum < target:\n",
    "                # if the sum is less than the target, increment the left pointer\n",
    "                left += 1\n",
    "\n",
    "            else:\n",
    "                # if the sum is greater than the target, decrement the right pointer\n",
    "                right -= 1\n",
    "\n",
    "        # if no solution is found, return [-1, -1]\n",
    "        return [-1, -1]"
   ]
  },
  {
   "cell_type": "code",
   "execution_count": 2,
   "metadata": {},
   "outputs": [
    {
     "name": "stdout",
     "output_type": "stream",
     "text": [
      "[1, 2]\n",
      "[1, 3]\n",
      "[1, 2]\n"
     ]
    }
   ],
   "source": [
    "# Testing the function with given examples\n",
    "sol = Solution()\n",
    "print(sol.twoSum([2, 7, 11, 15], 9))  # Example 1\n",
    "print(sol.twoSum([2, 3, 4], 6))  # Example 2\n",
    "print(sol.twoSum([-1, 0], -1))  # Example 3"
   ]
  }
 ],
 "metadata": {
  "kernelspec": {
   "display_name": "Python 3",
   "language": "python",
   "name": "python3"
  },
  "language_info": {
   "codemirror_mode": {
    "name": "ipython",
    "version": 3
   },
   "file_extension": ".py",
   "mimetype": "text/x-python",
   "name": "python",
   "nbconvert_exporter": "python",
   "pygments_lexer": "ipython3",
   "version": "3.11.1"
  }
 },
 "nbformat": 4,
 "nbformat_minor": 2
}
