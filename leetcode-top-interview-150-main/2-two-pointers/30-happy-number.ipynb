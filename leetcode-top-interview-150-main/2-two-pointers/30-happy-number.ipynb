{
 "cells": [
  {
   "cell_type": "markdown",
   "metadata": {},
   "source": [
    "# Question 30 - LC 202. Happy Number\n",
    "\n",
    "Write an algorithm to determine if a number `n` is happy.\n",
    "\n",
    "A **happy number** is a number defined by the following process:\n",
    "\n",
    "- Starting with any positive integer, replace the number by the sum of the squares of its digits.\n",
    "- Repeat the process until the number equals 1 (where it will stay), or it loops endlessly in a cycle which does not include 1.\n",
    "- Those numbers for which this process ends in 1 are happy.\n",
    "\n",
    "Return `true` if `n` is a _happy_ number, and `false` _if not_.\n",
    "\n",
    "**Example 1:**\n",
    "\n",
    "    Input: n = 19\n",
    "    Output: true\n",
    "\n",
    "    Explanation:\n",
    "\n",
    "    1^2 + 9^2 = 82\n",
    "    8^2 + 2^2 = 68\n",
    "    6^2 + 8^2 = 100\n",
    "    1^2 + 0^2 + 0^2 = 1\n",
    "\n",
    "**Example 2:**\n",
    "\n",
    "    Input: n = 2\n",
    "    Output: false\n",
    "\n",
    "**Constraints:**\n",
    "\n",
    "- `1 <= n <= 2^31 - 1`\n",
    "\n"
   ]
  },
  {
   "cell_type": "code",
   "execution_count": 1,
   "metadata": {},
   "outputs": [],
   "source": [
    "class Solution:\n",
    "    def isHappy(self, n: int) -> bool:\n",
    "        \"\"\"Determine if n is a happy number.\"\"\"\n",
    "        slow = fast = n\n",
    "        while True:\n",
    "            slow = self.sum_of_squares(slow)  # Move one step\n",
    "            fast = self.sum_of_squares(self.sum_of_squares(fast))  # Move two steps\n",
    "            if fast == 1:\n",
    "                return True  # Found a happy number\n",
    "            if slow == fast:\n",
    "                return False  # Detected a cycle, not a happy number\n",
    "\n",
    "\n",
    "    def sum_of_squares(self, n: int) -> int:\n",
    "        \"\"\"Return the sum of the squares of the digits of n.\"\"\"\n",
    "        total = 0\n",
    "        while n > 0:\n",
    "            digit = n % 10\n",
    "            total += digit ** 2\n",
    "            n //= 10\n",
    "        return total"
   ]
  },
  {
   "cell_type": "code",
   "execution_count": 2,
   "metadata": {},
   "outputs": [
    {
     "data": {
      "text/plain": [
       "{19: True, 2: False, 7: True, 20: False, 28: True, 100: True, 4: False}"
      ]
     },
     "execution_count": 2,
     "metadata": {},
     "output_type": "execute_result"
    }
   ],
   "source": [
    "# Test cases\n",
    "\n",
    "is_happy = Solution().isHappy\n",
    "\n",
    "test_numbers = [19, 2, 7, 20, 28, 100, 4]\n",
    "test_results = {num: is_happy(num) for num in test_numbers}\n",
    "\n",
    "test_results"
   ]
  },
  {
   "cell_type": "markdown",
   "metadata": {},
   "source": [
    "### Time Complexity\n",
    "\n",
    "- **Worst-Case Scenario**: The time complexity isn't straightforward to determine due to the nature of the problem. The process involves repeatedly calculating the sum of the squares of the digits, which can vary widely depending on the input number `n`. However, it has been observed that for any number, the sequence either reaches 1 or falls into a cycle. Research indicates that numbers either reach 1 quickly or enter a cycle whose members are less than a certain fixed point. Therefore, we can consider the time complexity to be O(log n) for calculating the sum of squares of the digits for each step since the number of digits in `n` decreases logarithmically as we keep squaring and adding the digits.\n",
    "- **Cycle Detection**: The use of the fast-slow pointer technique ensures that we detect cycles efficiently. This technique avoids the potentially unbounded growth of the set used in alternative implementations, leading to a conclusion in linear time relative to the number of steps taken to find a cycle or reach the number 1.\n",
    "\n",
    "### Space Complexity\n",
    "\n",
    "- **Constant Space**: The fast-slow pointer method significantly reduces the space complexity to O(1), as it does not require additional data structures to store visited numbers. The space used does not scale with the input size but remains constant, storing only a few variables for the current state, regardless of the input number's magnitude.\n",
    "\n",
    "### Summary\n",
    "\n",
    "- **Time Complexity**: O(log n) for the steps involved in summing the squares of the digits, though the actual number of steps to determine happiness can vary. The overall process is bounded by a pattern that either reaches 1 or enters a known cycle.\n",
    "- **Space Complexity**: O(1), since the algorithm uses a fixed amount of space for the pointers and temporary variables, independent of the input size.\n",
    "\n",
    "This analysis shows that the fast-slow pointer technique is both time-efficient and space-efficient for solving the happy number problem, making it an optimal solution for this challenge."
   ]
  }
 ],
 "metadata": {
  "kernelspec": {
   "display_name": "Python 3",
   "language": "python",
   "name": "python3"
  },
  "language_info": {
   "codemirror_mode": {
    "name": "ipython",
    "version": 3
   },
   "file_extension": ".py",
   "mimetype": "text/x-python",
   "name": "python",
   "nbconvert_exporter": "python",
   "pygments_lexer": "ipython3",
   "version": "3.11.7"
  }
 },
 "nbformat": 4,
 "nbformat_minor": 2
}
