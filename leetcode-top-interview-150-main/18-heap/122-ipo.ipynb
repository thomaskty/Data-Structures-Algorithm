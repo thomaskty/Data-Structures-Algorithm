{
 "cells": [
  {
   "cell_type": "markdown",
   "metadata": {},
   "source": [
    "# Question 120 - LC 502. IPO\n",
    "\n",
    "Suppose LeetCode will start its IPO soon. In order to sell a good price of its shares to Venture Capital, LeetCode would like to work on some projects to increase its capital before the IPO. Since it has limited resources, it can only finish at most `k` distinct projects before the IPO. Help LeetCode design the best way to maximize its total capital after finishing at most `k` distinct projects.\n",
    "\n",
    "You are given `n` projects where the `ith` project has a pure profit `profits[i]` and a minimum capital of `capital[i]` is needed to start it.\n",
    "\n",
    "Initially, you have `w` capital. When you finish a project, you will obtain its pure profit and the profit will be added to your total capital.\n",
    "\n",
    "Pick a list of at most `k` distinct projects from given projects to maximize your final capital, and return the final maximized capital.\n",
    "\n",
    "The answer is guaranteed to fit in a 32-bit signed integer.\n",
    "\n",
    "### Example 1:\n",
    "\n",
    "    Input: k = 2, w = 0, profits = [1,2,3], capital = [0,1,1]\n",
    "    Output: 4\n",
    "    Explanation: Since your initial capital is 0, you can only start the project indexed 0.\n",
    "    After finishing it you will obtain profit 1 and your capital becomes 1.\n",
    "    With capital 1, you can either start the project indexed 1 or the project indexed 2.\n",
    "    Since you can choose at most 2 projects, you need to finish the project indexed 2 to get the maximum capital.\n",
    "    Therefore, output the final maximized capital, which is 0 + 1 + 3 = 4.\n",
    "\n",
    "\n",
    "### Example 2:\n",
    "\n",
    "    Input: k = 3, w = 0, profits = [1,2,3], capital = [0,1,2]\n",
    "    Output: 6\n",
    "\n",
    "\n",
    "### Constraints:\n",
    "- `1 <= k <= 10^5`\n",
    "- `0 <= w <= 10^9`\n",
    "- `n == profits.length`\n",
    "- `n == capital.length`\n",
    "- `1 <= n <= 10^5`\n",
    "- `0 <= profits[i] <= 10^4`\n",
    "- `0 <= capital[i] <= 10^9`\n"
   ]
  },
  {
   "cell_type": "code",
   "execution_count": 1,
   "metadata": {},
   "outputs": [
    {
     "name": "stdout",
     "output_type": "stream",
     "text": [
      "4\n",
      "6\n"
     ]
    }
   ],
   "source": [
    "import heapq\n",
    "\n",
    "\n",
    "class Solution:\n",
    "    def findMaximizedCapital(self, k: int, w: int, profits: list[int], capital: list[int]) -> int:\n",
    "        # Create a min-heap for capital requirements\n",
    "        min_capital_heap = []\n",
    "        # Create a max-heap for profits\n",
    "        max_profit_heap = []\n",
    "\n",
    "        # Insert all projects into the min-heap based on capital\n",
    "        for i in range(len(profits)):\n",
    "            heapq.heappush(min_capital_heap, (capital[i], profits[i]))\n",
    "\n",
    "        # Iterate up to k times or until no projects can be done\n",
    "        for _ in range(k):\n",
    "            # Move all projects that can be started with current capital to max-heap\n",
    "            while min_capital_heap and min_capital_heap[0][0] <= w:\n",
    "                cap, prof = heapq.heappop(min_capital_heap)\n",
    "                # Use negative profits to simulate max-heap with min-heap\n",
    "                heapq.heappush(max_profit_heap, -prof)\n",
    "\n",
    "            # If no projects can be done, break the loop\n",
    "            if not max_profit_heap:\n",
    "                break\n",
    "\n",
    "            # Choose the project with the maximum profit\n",
    "            w -= heapq.heappop(max_profit_heap)\n",
    "\n",
    "        return w\n",
    "\n",
    "\n",
    "# Example usage:\n",
    "s = Solution()\n",
    "\n",
    "k = 2\n",
    "w = 0\n",
    "profits = [1, 2, 3]\n",
    "capital = [0, 1, 1]\n",
    "print(s.findMaximizedCapital(k, w, profits, capital))  # Output: 4\n",
    "\n",
    "k = 3\n",
    "w = 0\n",
    "profits = [1, 2, 3]\n",
    "capital = [0, 1, 2]\n",
    "print(s.findMaximizedCapital(k, w, profits, capital))  # Output: 6"
   ]
  }
 ],
 "metadata": {
  "kernelspec": {
   "display_name": "Python 3",
   "language": "python",
   "name": "python3"
  },
  "language_info": {
   "codemirror_mode": {
    "name": "ipython",
    "version": 3
   },
   "file_extension": ".py",
   "mimetype": "text/x-python",
   "name": "python",
   "nbconvert_exporter": "python",
   "pygments_lexer": "ipython3",
   "version": "3.9.13"
  }
 },
 "nbformat": 4,
 "nbformat_minor": 2
}
