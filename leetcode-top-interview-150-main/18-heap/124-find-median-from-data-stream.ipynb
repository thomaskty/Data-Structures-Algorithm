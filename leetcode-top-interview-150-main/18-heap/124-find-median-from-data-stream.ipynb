{
 "cells": [
  {
   "cell_type": "markdown",
   "metadata": {},
   "source": [
    "# Question 122 - LC 295. Find Median from Data Stream\n",
    "\n",
    "The **median** is the middle value in an ordered integer list. If the size of the list is even, there is no middle value, and the median is the mean of the two middle values.\n",
    "\n",
    "- For example, for `arr = [2,3,4]`, the median is `3`.\n",
    "- For example, for a`rr = [2,3]`, the median is `(2 + 3) / 2 = 2.5`.\n",
    "\n",
    "Implement the MedianFinder class:\n",
    "\n",
    "- `MedianFinder()` initializes the `MedianFinder` object.\n",
    "- `void addNum(int num)` adds the integer `num` from the data stream to the data structure.\n",
    "- `double findMedian()` returns the median of all elements so far. Answers within 10^-5 of the actual answer will be accepted.\n",
    " \n",
    "## Example 1:\n",
    "\n",
    "### Input\n",
    "\n",
    "    [\"MedianFinder\", \"addNum\", \"addNum\", \"findMedian\", \"addNum\", \"findMedian\"]\n",
    "    [[], [1], [2], [], [3], []]\n",
    "\n",
    "### Output\n",
    "\n",
    "    [null, null, null, 1.5, null, 2.0]\n",
    "\n",
    "### Explanation\n",
    "\n",
    "```java\n",
    "MedianFinder medianFinder = new MedianFinder();\n",
    "medianFinder.addNum(1);    // arr = [1]\n",
    "medianFinder.addNum(2);    // arr = [1, 2]\n",
    "medianFinder.findMedian(); // return 1.5 (i.e., (1 + 2) / 2)\n",
    "medianFinder.addNum(3);    // arr[1, 2, 3]\n",
    "medianFinder.findMedian(); // return 2.0\n",
    "```\n",
    "\n",
    "## Constraints:\n",
    "\n",
    "- `-10^5 <= num <= 10^5`\n",
    "- There will be at least one element in the data structure before calling `findMedian`.\n",
    "- At most `5 * 10^4` calls will be made to `addNum` and `findMedian`.\n",
    " \n",
    "## Follow up:\n",
    "\n",
    "- If all integer numbers from the stream are in the range `[0, 100]`, how would you optimize your solution?\n",
    "- If `99%` of all integer numbers from the stream are in the range `[0, 100]`, how would you optimize your solution?"
   ]
  },
  {
   "cell_type": "code",
   "execution_count": 11,
   "metadata": {},
   "outputs": [],
   "source": [
    "import heapq as hq\n",
    "\n",
    "\n",
    "class MedianFinder:\n",
    "\n",
    "    def __init__(self):\n",
    "        # max heap stores the smaller half of the numbers. Root of the heap is the largest number in the lower half\n",
    "        self.lower_half = []  # max heap (negated)\n",
    "        # min heap stores the larger half of the numbers. Root of the heap is the smallest number in the upper half\n",
    "        self.upper_half = []  # min heap\n",
    "\n",
    "    # Time complexity: O(log n)\n",
    "    def addNum(self, num: int) -> None:\n",
    "        hq.heappush(self.lower_half, -num)  # add to lower half\n",
    "\n",
    "        # balance the heaps\n",
    "        # the max heap can have at most 1 more element than the min heap\n",
    "        # if the total number of elements is odd, the max heap will have 1 more element than the min heap\n",
    "\n",
    "        if (\n",
    "            self.lower_half\n",
    "            and self.upper_half\n",
    "            and -self.lower_half[0] > self.upper_half[0]\n",
    "        ):\n",
    "            # if the max heap has more elements than the min heap, move the root of the max heap to the min heap\n",
    "            hq.heappush(self.upper_half, -hq.heappop(self.lower_half))\n",
    "\n",
    "        # ensure that the max heap have at most 1 more element than the min heap\n",
    "        if len(self.lower_half) > len(self.upper_half) + 1:\n",
    "            hq.heappush(self.upper_half, -hq.heappop(self.lower_half))\n",
    "\n",
    "        # ensure min heap has less elements than the max heap\n",
    "        if len(self.upper_half) > len(self.lower_half):\n",
    "            hq.heappush(self.lower_half, -hq.heappop(self.upper_half))\n",
    "\n",
    "    # Time complexity: O(1)\n",
    "    def findMedian(self) -> float:\n",
    "        if len(self.lower_half) > len(self.upper_half):\n",
    "            return float(-self.lower_half[0])\n",
    "        return float((-self.lower_half[0] + self.upper_half[0]) / 2.0)"
   ]
  },
  {
   "cell_type": "code",
   "execution_count": 12,
   "metadata": {},
   "outputs": [
    {
     "name": "stdout",
     "output_type": "stream",
     "text": [
      "1.5\n",
      "2.0\n"
     ]
    }
   ],
   "source": [
    "# Example usage\n",
    "medianFinder = MedianFinder()\n",
    "medianFinder.addNum(1)\n",
    "medianFinder.addNum(2)\n",
    "print(medianFinder.findMedian())  # Output: 1.5\n",
    "medianFinder.addNum(3)\n",
    "print(medianFinder.findMedian())  # Output: 2.0"
   ]
  },
  {
   "cell_type": "markdown",
   "metadata": {},
   "source": [
    "### Optimizations for Specific Ranges:\n",
    "\n",
    "1. **If all numbers are in the range [0, 100]**:\n",
    "   - We can use counting sort techniques with a fixed-size array to store the frequency of each number.\n",
    "   - This would allow for faster insertion and retrieval of the median, leveraging the fixed range of values.\n",
    "\n",
    "2. **If 99% of numbers are in the range [0, 100]**:\n",
    "   - Use a combination of counting sort for the common range and a balanced heap approach for outliers.\n",
    "   - Maintain a count array for numbers in [0, 100] and use heaps for numbers outside this range.\n",
    "   - Adjust median calculation accordingly, based on the distribution of numbers.\n",
    "\n",
    "This approach ensures efficient handling of the data stream and maintains the balance required to quickly compute the median."
   ]
  },
  {
   "cell_type": "code",
   "execution_count": 13,
   "metadata": {},
   "outputs": [
    {
     "name": "stdout",
     "output_type": "stream",
     "text": [
      "1.5\n",
      "2\n"
     ]
    }
   ],
   "source": [
    "class MedianFinderRange:\n",
    "    def __init__(self):\n",
    "        self.counts = [0] * 101\n",
    "        self.total_count = 0\n",
    "\n",
    "    def addNum(self, num: int) -> None:\n",
    "        self.counts[num] += 1\n",
    "        self.total_count += 1\n",
    "\n",
    "    def findMedian(self) -> float:\n",
    "        count = 0\n",
    "        median1 = None\n",
    "        median2 = None\n",
    "        for i in range(101):\n",
    "            count += self.counts[i]\n",
    "            if median1 is None and count >= (self.total_count + 1) // 2:\n",
    "                median1 = i\n",
    "            if median2 is None and count >= (self.total_count // 2) + 1:\n",
    "                median2 = i\n",
    "                break\n",
    "        if self.total_count % 2 == 0 and median1 is not None and median2 is not None:\n",
    "            return (median1 + median2) / 2.0\n",
    "        elif median2 is not None:\n",
    "            return median2\n",
    "\n",
    "        return 0.0\n",
    "\n",
    "\n",
    "# Example usage\n",
    "medianFinder = MedianFinderRange()\n",
    "medianFinder.addNum(1)\n",
    "medianFinder.addNum(2)\n",
    "print(medianFinder.findMedian())  # Output: 1.5\n",
    "medianFinder.addNum(3)\n",
    "print(medianFinder.findMedian())  # Output: 2.0"
   ]
  }
 ],
 "metadata": {
  "kernelspec": {
   "display_name": "Python 3",
   "language": "python",
   "name": "python3"
  },
  "language_info": {
   "codemirror_mode": {
    "name": "ipython",
    "version": 3
   },
   "file_extension": ".py",
   "mimetype": "text/x-python",
   "name": "python",
   "nbconvert_exporter": "python",
   "pygments_lexer": "ipython3",
   "version": "3.11.1"
  }
 },
 "nbformat": 4,
 "nbformat_minor": 2
}
