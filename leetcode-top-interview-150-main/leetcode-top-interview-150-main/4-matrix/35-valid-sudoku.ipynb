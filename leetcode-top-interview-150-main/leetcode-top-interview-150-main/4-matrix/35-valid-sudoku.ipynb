{
 "cells": [
  {
   "cell_type": "markdown",
   "metadata": {},
   "source": [
    "# Question 33 - LC 36. Valid Sudoku\n",
    "\n",
    "Determine if a `9 x 9` Sudoku board is valid. Only the filled cells need to be validated according to **the following rules**:\n",
    "\n",
    "- Each row must contain the digits 1-9 without repetition.\n",
    "- Each column must contain the digits 1-9 without repetition.\n",
    "- Each of the nine 3 x 3 sub-boxes of the grid must contain the digits 1-9 without repetition.\n",
    "\n",
    "**Note:**\n",
    "\n",
    "1. A Sudoku board (partially filled) could be valid but is not necessarily solvable.\n",
    "2. Only the filled cells need to be validated according to the mentioned rules.\n",
    "\n",
    "**Example 1:**\n",
    "\n",
    "Input:\n",
    "\n",
    "```python\n",
    "board =\n",
    "[[\"5\",\"3\",\".\",\".\",\"7\",\".\",\".\",\".\",\".\"]\n",
    ",[\"6\",\".\",\".\",\"1\",\"9\",\"5\",\".\",\".\",\".\"]\n",
    ",[\".\",\"9\",\"8\",\".\",\".\",\".\",\".\",\"6\",\".\"]\n",
    ",[\"8\",\".\",\".\",\".\",\"6\",\".\",\".\",\".\",\"3\"]\n",
    ",[\"4\",\".\",\".\",\"8\",\".\",\"3\",\".\",\".\",\"1\"]\n",
    ",[\"7\",\".\",\".\",\".\",\"2\",\".\",\".\",\".\",\"6\"]\n",
    ",[\".\",\"6\",\".\",\".\",\".\",\".\",\"2\",\"8\",\".\"]\n",
    ",[\".\",\".\",\".\",\"4\",\"1\",\"9\",\".\",\".\",\"5\"]\n",
    ",[\".\",\".\",\".\",\".\",\"8\",\".\",\".\",\"7\",\"9\"]]\n",
    "Output: true\n",
    "```\n",
    "\n",
    "**Example 2:**\n",
    "\n",
    "Input:\n",
    "\n",
    "```python\n",
    "board =\n",
    "[[\"8\",\"3\",\".\",\".\",\"7\",\".\",\".\",\".\",\".\"]\n",
    ",[\"6\",\".\",\".\",\"1\",\"9\",\"5\",\".\",\".\",\".\"]\n",
    ",[\".\",\"9\",\"8\",\".\",\".\",\".\",\".\",\"6\",\".\"]\n",
    ",[\"8\",\".\",\".\",\".\",\"6\",\".\",\".\",\".\",\"3\"]\n",
    ",[\"4\",\".\",\".\",\"8\",\".\",\"3\",\".\",\".\",\"1\"]\n",
    ",[\"7\",\".\",\".\",\".\",\"2\",\".\",\".\",\".\",\"6\"]\n",
    ",[\".\",\"6\",\".\",\".\",\".\",\".\",\"2\",\"8\",\".\"]\n",
    ",[\".\",\".\",\".\",\"4\",\"1\",\"9\",\".\",\".\",\"5\"]\n",
    ",[\".\",\".\",\".\",\".\",\"8\",\".\",\".\",\"7\",\"9\"]]\n",
    "```\n",
    "\n",
    "    Output: false\n",
    "    Explanation: Same as Example 1, except with the 5 in the top left corner being modified to 8. Since there are two 8's in the top left 3x3 sub-box, it is invalid.\n",
    "\n",
    "**Constraints:**\n",
    "\n",
    "1. `board.length == 9`\n",
    "2. `board[i].length == 9`\n",
    "3. `board[i][j]` is a digit 1-9 or '`.`'.\n"
   ]
  },
  {
   "cell_type": "code",
   "execution_count": 3,
   "metadata": {},
   "outputs": [],
   "source": [
    "class Solution:\n",
    "    # solve in O(n^2) time and O(1) extra space\n",
    "    def isValidSudoku(self, board: list[list[str]]) -> bool:\n",
    "        def is_valid_block(block: list[str]) -> bool:\n",
    "            block = [x for x in block if x != \".\"]\n",
    "            return len(set(block)) == len(block)\n",
    "\n",
    "        # check each row\n",
    "        for row in board:\n",
    "            if not is_valid_block(row):\n",
    "                return False\n",
    "\n",
    "        # check each column\n",
    "        for col in zip(*board):\n",
    "            if not is_valid_block(col):\n",
    "                return False\n",
    "\n",
    "        # check each 3x3 sub-box\n",
    "        for i in range(0, 9, 3):\n",
    "            for j in range(0, 9, 3):\n",
    "                block = [board[x][y] for x in range(i, i + 3) for y in range(j, j + 3)]\n",
    "                if not is_valid_block(block):\n",
    "                    return False\n",
    "\n",
    "        return True"
   ]
  },
  {
   "cell_type": "code",
   "execution_count": 4,
   "metadata": {},
   "outputs": [
    {
     "data": {
      "text/plain": [
       "(True, False)"
      ]
     },
     "execution_count": 4,
     "metadata": {},
     "output_type": "execute_result"
    }
   ],
   "source": [
    "isValidSudoku = Solution().isValidSudoku\n",
    "\n",
    "# Example 1\n",
    "board1 = [\n",
    "    [\"5\", \"3\", \".\", \".\", \"7\", \".\", \".\", \".\", \".\"],\n",
    "    [\"6\", \".\", \".\", \"1\", \"9\", \"5\", \".\", \".\", \".\"],\n",
    "    [\".\", \"9\", \"8\", \".\", \".\", \".\", \".\", \"6\", \".\"],\n",
    "    [\"8\", \".\", \".\", \".\", \"6\", \".\", \".\", \".\", \"3\"],\n",
    "    [\"4\", \".\", \".\", \"8\", \".\", \"3\", \".\", \".\", \"1\"],\n",
    "    [\"7\", \".\", \".\", \".\", \"2\", \".\", \".\", \".\", \"6\"],\n",
    "    [\".\", \"6\", \".\", \".\", \".\", \".\", \"2\", \"8\", \".\"],\n",
    "    [\".\", \".\", \".\", \"4\", \"1\", \"9\", \".\", \".\", \"5\"],\n",
    "    [\".\", \".\", \".\", \".\", \"8\", \".\", \".\", \"7\", \"9\"],\n",
    "]\n",
    "\n",
    "# Example 2\n",
    "board2 = [\n",
    "    [\"8\", \"3\", \".\", \".\", \"7\", \".\", \".\", \".\", \".\"],\n",
    "    [\"6\", \".\", \".\", \"1\", \"9\", \"5\", \".\", \".\", \".\"],\n",
    "    [\".\", \"9\", \"8\", \".\", \".\", \".\", \".\", \"6\", \".\"],\n",
    "    [\"8\", \".\", \".\", \".\", \"6\", \".\", \".\", \".\", \"3\"],\n",
    "    [\"4\", \".\", \".\", \"8\", \".\", \"3\", \".\", \".\", \"1\"],\n",
    "    [\"7\", \".\", \".\", \".\", \"2\", \".\", \".\", \".\", \"6\"],\n",
    "    [\".\", \"6\", \".\", \".\", \".\", \".\", \"2\", \"8\", \".\"],\n",
    "    [\".\", \".\", \".\", \"4\", \"1\", \"9\", \".\", \".\", \"5\"],\n",
    "    [\".\", \".\", \".\", \".\", \"8\", \".\", \".\", \"7\", \"9\"],\n",
    "]\n",
    "\n",
    "isValidSudoku(board1), isValidSudoku(board2)"
   ]
  }
 ],
 "metadata": {
  "kernelspec": {
   "display_name": "Python 3",
   "language": "python",
   "name": "python3"
  },
  "language_info": {
   "codemirror_mode": {
    "name": "ipython",
    "version": 3
   },
   "file_extension": ".py",
   "mimetype": "text/x-python",
   "name": "python",
   "nbconvert_exporter": "python",
   "pygments_lexer": "ipython3",
   "version": "3.11.7"
  }
 },
 "nbformat": 4,
 "nbformat_minor": 2
}
