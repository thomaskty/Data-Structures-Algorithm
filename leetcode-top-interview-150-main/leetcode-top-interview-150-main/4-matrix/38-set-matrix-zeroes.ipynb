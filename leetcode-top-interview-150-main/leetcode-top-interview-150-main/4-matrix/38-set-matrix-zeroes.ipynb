{
 "cells": [
  {
   "cell_type": "markdown",
   "metadata": {},
   "source": [
    "# Question 36 - LC 73. Set Matrix Zeroes\n",
    "\n",
    "Given an `m x n` integer `matrix` matrix, if an element is `0`, _set its entire row and column_ to `0's`.\n",
    "\n",
    "You must do it **in place**.\n",
    "\n",
    "**Example 1:**\n",
    "\n",
    "    Input: matrix = [[1,1,1],[1,0,1],[1,1,1]]\n",
    "    Output: [[1,0,1],[0,0,0],[1,0,1]]\n",
    "\n",
    "**Example 2:**\n",
    "\n",
    "    Input: matrix = [[0,1,2,0],[3,4,5,2],[1,3,1,5]]\n",
    "    Output: [[0,0,0,0],[0,4,5,0],[0,3,1,0]]\n",
    "\n",
    "**Constraints:**\n",
    "\n",
    "- `m == matrix.length`\n",
    "- `n == matrix[0].length`\n",
    "- `1 <= m, n <= 200`\n",
    "- `2^31 <= matrix[i][j] <= 2^31 - 1`\n",
    "\n",
    "**Follow up:**\n",
    "\n",
    "1. A straightforward solution using `O(mn)` space is probably a bad idea.\n",
    "2. A simple improvement uses `O(m + n)` space, but still not the best solution.\n",
    "3. Could you devise a constant space solution?\n"
   ]
  },
  {
   "cell_type": "code",
   "execution_count": 1,
   "metadata": {},
   "outputs": [],
   "source": [
    "class Solution:\n",
    "    def setZeroes(self, matrix: list[list[int]]) -> list[list[int]]:\n",
    "        m, n = len(matrix), len(matrix[0])\n",
    "\n",
    "        # check if first row and col need to be set to 0\n",
    "        first_row_zero: bool = any(matrix[0][j] == 0 for j in range(n))\n",
    "        first_col_zero: bool = any(matrix[i][0] == 0 for i in range(m))\n",
    "\n",
    "        # use first row and col to mark if a row or col needs to be set to 0\n",
    "        # If a cell matrix[i][j] is zero, set the corresponding values in the first row and first column to zero.\n",
    "        for i in range(1, m):\n",
    "            for j in range(1, n):\n",
    "                if matrix[i][j] == 0:\n",
    "                    matrix[i][0] = matrix[0][j] = 0\n",
    "\n",
    "        # set the corresponding rows and columns to zero\n",
    "        # After processing all the elements except for the first row and first column,\n",
    "        # iterate through the first row and first column to zero out the rows and columns\n",
    "        # based on the information stored in them.\n",
    "        for i in range(1, m):\n",
    "            for j in range(1, n):\n",
    "                if matrix[i][0] == 0 or matrix[0][j] == 0:\n",
    "                    matrix[i][j] = 0\n",
    "\n",
    "        # set first row and col to zero if needed\n",
    "        if first_row_zero:\n",
    "            for j in range(n):\n",
    "                matrix[0][j] = 0\n",
    "\n",
    "        if first_col_zero:\n",
    "            for i in range(m):\n",
    "                matrix[i][0] = 0"
   ]
  },
  {
   "cell_type": "code",
   "execution_count": 3,
   "metadata": {},
   "outputs": [],
   "source": [
    "# Tests\n",
    "\n",
    "setZeroes = Solution().setZeroes\n",
    "\n",
    "matrix1 = [[1, 1, 1], [1, 0, 1], [1, 1, 1]]\n",
    "setZeroes(matrix1)\n",
    "assert matrix1 == [[1, 0, 1], [0, 0, 0], [1, 0, 1]]\n",
    "\n",
    "matrix2 = [[0, 1, 2, 0], [3, 4, 5, 2], [1, 3, 1, 5]]\n",
    "setZeroes(matrix2)\n",
    "assert matrix2 == [[0, 0, 0, 0], [0, 4, 5, 0], [0, 3, 1, 0]]"
   ]
  }
 ],
 "metadata": {
  "kernelspec": {
   "display_name": "Python 3",
   "language": "python",
   "name": "python3"
  },
  "language_info": {
   "codemirror_mode": {
    "name": "ipython",
    "version": 3
   },
   "file_extension": ".py",
   "mimetype": "text/x-python",
   "name": "python",
   "nbconvert_exporter": "python",
   "pygments_lexer": "ipython3",
   "version": "3.11.7"
  }
 },
 "nbformat": 4,
 "nbformat_minor": 2
}
