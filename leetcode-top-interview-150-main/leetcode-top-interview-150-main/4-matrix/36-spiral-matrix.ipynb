{
 "cells": [
  {
   "cell_type": "markdown",
   "metadata": {},
   "source": [
    "# Question 34 - 54. Spiral Matrix\n",
    "\n",
    "Given an `m x n` `matrix`, return all elements of the `matrix` in spiral order.\n",
    "\n",
    "**Example 1:**\n",
    "\n",
    "    Input: matrix = [[1,2,3],[4,5,6],[7,8,9]]\n",
    "    Output: [1,2,3,6,9,8,7,4,5]\n",
    "\n",
    "**Example 2:**\n",
    "\n",
    "    Input: matrix = [[1,2,3,4],[5,6,7,8],[9,10,11,12]]\n",
    "    Output: [1,2,3,4,8,12,11,10,9,5,6,7]\n",
    "\n",
    "**Constraints:**\n",
    "\n",
    "1. `m == matrix.length`\n",
    "2. `n == matrix[i].length`\n",
    "3. `1 <= m, n <= 10`\n",
    "4. `-100 <= matrix[i][j] <= 100`\n"
   ]
  },
  {
   "cell_type": "code",
   "execution_count": 1,
   "metadata": {},
   "outputs": [],
   "source": [
    "class Solution:\n",
    "    # O(N) time complexity: each element is visited once; N = m * n\n",
    "    # O(1) space complexity: no additional space required\n",
    "    def spiralOrder(self, matrix: list[list[int]]) -> list[int]:\n",
    "        if not matrix or not matrix[0]:\n",
    "            return []\n",
    "\n",
    "        m, n = len(matrix), len(matrix[0])\n",
    "        res: list[int] = []\n",
    "        left, right, top, bottom = 0, n - 1, 0, m - 1\n",
    "\n",
    "        while left <= right and top <= bottom:\n",
    "            # left to right\n",
    "            for j in range(left, right + 1):\n",
    "                res.append(matrix[top][j])\n",
    "            top += 1  # reaches the rightmost column, time to move down\n",
    "\n",
    "            # top to bottom\n",
    "            for i in range(top, bottom + 1):\n",
    "                res.append(matrix[i][right])\n",
    "            right -= 1  # reaches the bottom row, time to move left\n",
    "\n",
    "            # right to left\n",
    "            if top <= bottom:\n",
    "                for j in range(right, left - 1, -1):\n",
    "                    res.append(matrix[bottom][j])\n",
    "                bottom -= 1  # reaches the leftmost column, time to move up\n",
    "\n",
    "            # bottom to top\n",
    "            if left <= right:\n",
    "                for i in range(bottom, top - 1, -1):\n",
    "                    res.append(matrix[i][left])\n",
    "                left += 1  # reaches the top row, time to move right\n",
    "\n",
    "        return res"
   ]
  },
  {
   "cell_type": "code",
   "execution_count": 2,
   "metadata": {},
   "outputs": [
    {
     "data": {
      "text/plain": [
       "([1, 2, 3, 6, 9, 8, 7, 4, 5], [1, 2, 3, 4, 8, 12, 11, 10, 9, 5, 6, 7])"
      ]
     },
     "execution_count": 2,
     "metadata": {},
     "output_type": "execute_result"
    }
   ],
   "source": [
    "# Test the function with the provided examples\n",
    "\n",
    "spiralOrder = Solution().spiralOrder\n",
    "\n",
    "example1 = [[1, 2, 3], [4, 5, 6], [7, 8, 9]]\n",
    "example2 = [[1, 2, 3, 4], [5, 6, 7, 8], [9, 10, 11, 12]]\n",
    "\n",
    "output1 = spiralOrder(example1)\n",
    "output2 = spiralOrder(example2)\n",
    "output1, output2"
   ]
  }
 ],
 "metadata": {
  "kernelspec": {
   "display_name": "Python 3",
   "language": "python",
   "name": "python3"
  },
  "language_info": {
   "codemirror_mode": {
    "name": "ipython",
    "version": 3
   },
   "file_extension": ".py",
   "mimetype": "text/x-python",
   "name": "python",
   "nbconvert_exporter": "python",
   "pygments_lexer": "ipython3",
   "version": "3.11.7"
  }
 },
 "nbformat": 4,
 "nbformat_minor": 2
}
