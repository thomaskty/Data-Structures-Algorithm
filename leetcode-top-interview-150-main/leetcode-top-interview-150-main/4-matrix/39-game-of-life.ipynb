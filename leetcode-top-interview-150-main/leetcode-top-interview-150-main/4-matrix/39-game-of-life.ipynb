{
 "cells": [
  {
   "cell_type": "markdown",
   "metadata": {},
   "source": [
    "# Question 37 - LC 289. Game of Life\n",
    "\n",
    "According to Wikipedia's article: \"The Game of Life, also known simply as Life, is a cellular automaton devised by the British mathematician John Horton Conway in 1970.\"\n",
    "\n",
    "The board is made up of an `m x n` grid of cells, where each cell has an initial state: **live** (represented by a `1`) or **dead** (represented by a `0`). Each cell interacts with its **eight neighbors** (horizontal, vertical, diagonal) using the following four rules (taken from the above Wikipedia article):\n",
    "\n",
    "1. Any live cell with fewer than two live neighbors dies as if caused by under-population.\n",
    "2. Any live cell with two or three live neighbors lives on to the next generation.\n",
    "3. Any live cell with more than three live neighbors dies, as if by over-population.\n",
    "4. Any dead cell with exactly three live neighbors becomes a live cell, as if by reproduction.\n",
    "\n",
    "The next state is created by applying the above rules simultaneously to every cell in the current state, where births and deaths occur simultaneously. Given the current state of the `m x n` grid `board`, return the next state.\n",
    "\n",
    "**Example 1:**\n",
    "\n",
    "    Input: board = [[0,1,0],[0,0,1],[1,1,1],[0,0,0]]\n",
    "    Output: [[0,0,0],[1,0,1],[0,1,1],[0,1,0]]\n",
    "\n",
    "**Example 2:**\n",
    "\n",
    "    Input: board = [[1,1],[1,0]]\n",
    "    Output: [[1,1],[1,1]]\n",
    "\n",
    "**Constraints:**\n",
    "\n",
    "1. `m == board.length`\n",
    "2. `n == board[i].length`\n",
    "3. `1 <= m, n <= 25`\n",
    "4. `board[i][j]` is `0` or `1`.\n"
   ]
  },
  {
   "cell_type": "code",
   "execution_count": 1,
   "metadata": {},
   "outputs": [],
   "source": [
    "class Solution:\n",
    "    # O(mn) time complexity, O(mn) space complexity\n",
    "    def gameOfLife(self, board: list[list[int]]) -> None:\n",
    "        \"\"\"\n",
    "        Do not return anything, modify board in-place instead.\n",
    "        \"\"\"\n",
    "        # 8 directions of neighbors\n",
    "        directions = [(0, 1), (0, -1), (1, 0), (-1, 0),\n",
    "                      (1, 1), (-1, -1), (-1, 1), (1, -1)]\n",
    "\n",
    "        # get the number of live neighbors\n",
    "        def count_live_neighbors(row, col):\n",
    "            live_neighbors = 0\n",
    "            for dr, dc in directions:\n",
    "                r = row + dr\n",
    "                c = col + dc\n",
    "                if 0 <= r < len(board) and 0 <= c < len(board[0]):\n",
    "                    live_neighbors += board[r][c] & 1\n",
    "            return live_neighbors\n",
    "\n",
    "        # copy the board ti store the next state\n",
    "        new_board = [[0] * len(board[0]) for _ in range(len(board))]\n",
    "\n",
    "        # apply rules to each cell\n",
    "        for row in range(len(board)):\n",
    "            for col in range(len(board[0])):\n",
    "                live_neighbors = count_live_neighbors(row, col)\n",
    "                # rules 1-3 for live cells\n",
    "                if board[row][col] == 1 and 2 <= live_neighbors <= 3:\n",
    "                    # live cell with 2 or 3 neighbors lives on\n",
    "                    new_board[row][col] = 1\n",
    "                # rule 4 for live cells\n",
    "                elif board[row][col] == 0 and live_neighbors == 3:\n",
    "                    # dead cell with 3 neighbors becomes alive\n",
    "                    new_board[row][col] = 1\n",
    "\n",
    "        # update the original board\n",
    "        for row in range(len(board)):\n",
    "            for col in range(len(board[0])):\n",
    "                board[row][col] = new_board[row][col]"
   ]
  },
  {
   "cell_type": "code",
   "execution_count": 2,
   "metadata": {},
   "outputs": [
    {
     "name": "stdout",
     "output_type": "stream",
     "text": [
      "[[0, 0, 0], [1, 0, 1], [0, 1, 1], [0, 1, 0]]\n",
      "[[1, 1], [1, 1]]\n"
     ]
    }
   ],
   "source": [
    "# Example usage\n",
    "\n",
    "gameOfLife = Solution().gameOfLife\n",
    "\n",
    "board = [[0, 1, 0], [0, 0, 1], [1, 1, 1], [0, 0, 0]]\n",
    "gameOfLife(board)\n",
    "print(board)\n",
    "\n",
    "board2 = [[1, 1], [1, 0]]\n",
    "gameOfLife(board2)\n",
    "print(board2)"
   ]
  }
 ],
 "metadata": {
  "kernelspec": {
   "display_name": "Python 3",
   "language": "python",
   "name": "python3"
  },
  "language_info": {
   "codemirror_mode": {
    "name": "ipython",
    "version": 3
   },
   "file_extension": ".py",
   "mimetype": "text/x-python",
   "name": "python",
   "nbconvert_exporter": "python",
   "pygments_lexer": "ipython3",
   "version": "3.11.7"
  }
 },
 "nbformat": 4,
 "nbformat_minor": 2
}
