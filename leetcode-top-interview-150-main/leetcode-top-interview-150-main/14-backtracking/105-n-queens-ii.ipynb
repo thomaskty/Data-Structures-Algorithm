{
 "cells": [
  {
   "cell_type": "markdown",
   "metadata": {},
   "source": [
    "# Question 103 - LC 52. N-Queens II\n",
    "\n",
    "The **n-queens** puzzle is the problem of placing `n` queens on an `n x n` chessboard such that no two queens attack each other.\n",
    "\n",
    "Given an integer `n`, return the number of distinct solutions to the _**n-queens puzzle**_.\n",
    "\n",
    "## Example 1:\n",
    "\n",
    "    Input: n = 4\n",
    "    Output: 2\n",
    "    Explanation: There are two distinct solutions to the 4-queens puzzle.\n",
    "\n",
    "## Example 2:\n",
    "\n",
    "    Input: n = 1\n",
    "    Output: 1\n",
    "\n",
    "## Constraints:\n",
    "\n",
    "`1 <= n <= 9`\n"
   ]
  },
  {
   "cell_type": "code",
   "execution_count": 1,
   "metadata": {},
   "outputs": [],
   "source": [
    "class Solution:\n",
    "    def totalNQueens(self, n: int) -> int:\n",
    "        def solve(row: int, cols: set[int], diags1: set[int], diags2: set[int]) -> int:\n",
    "            # base: if all queens are placed, return 1 (count towards the solution)\n",
    "            if row == n:\n",
    "                return 1\n",
    "            # count the number of solutions\n",
    "            count = 0\n",
    "            \n",
    "            for col in range(n):\n",
    "                # count the diagonals\n",
    "                d1 = row - col  # diagonal\n",
    "                d2 = row + col  # anti-diagonal\n",
    "                \n",
    "                # Check if the column or diagonals are not under attack\n",
    "                if col in cols or d1 in diags1 or d2 in diags2:\n",
    "                    # Skip the current column if under attack\n",
    "                    continue\n",
    "                \n",
    "                 # Place the queen by adding the column and diagonal indices to the sets\n",
    "                cols.add(col)\n",
    "                diags1.add(d1)\n",
    "                diags2.add(d2)\n",
    "                \n",
    "                # Recurse to place the next queen\n",
    "                count += solve(row + 1, cols, diags1, diags2)\n",
    "                \n",
    "                # Backtrack: Remove the queen and clear the attacks from sets\n",
    "                cols.remove(col)\n",
    "                diags1.remove(d1)\n",
    "                diags2.remove(d2)\n",
    "                \n",
    "            return count\n",
    "        \n",
    "        return solve(0, set(), set(), set())\n",
    "        "
   ]
  },
  {
   "cell_type": "code",
   "execution_count": 2,
   "metadata": {},
   "outputs": [
    {
     "data": {
      "text/plain": [
       "[1, 0, 0, 2, 10, 4, 40, 92, 352]"
      ]
     },
     "execution_count": 2,
     "metadata": {},
     "output_type": "execute_result"
    }
   ],
   "source": [
    "# Example usage\n",
    "solution = Solution()\n",
    "\n",
    "res: list[int] = []\n",
    "\n",
    "for i in range(1, 10):\n",
    "    res.append(solution.totalNQueens(i))\n",
    "\n",
    "res"
   ]
  }
 ],
 "metadata": {
  "kernelspec": {
   "display_name": "Python 3",
   "language": "python",
   "name": "python3"
  },
  "language_info": {
   "codemirror_mode": {
    "name": "ipython",
    "version": 3
   },
   "file_extension": ".py",
   "mimetype": "text/x-python",
   "name": "python",
   "nbconvert_exporter": "python",
   "pygments_lexer": "ipython3",
   "version": "3.12.0"
  }
 },
 "nbformat": 4,
 "nbformat_minor": 2
}
