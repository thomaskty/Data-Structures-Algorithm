{
 "cells": [
  {
   "cell_type": "markdown",
   "metadata": {},
   "source": [
    "# Question 101 - LC 46. Permutations\n",
    "\n",
    "Given an array nums of distinct integers, return all the possible permutations. You can return the answer in any order.\n",
    "\n",
    "## Example 1:\n",
    "\n",
    "    Input: nums = [1,2,3]\n",
    "    Output: [[1,2,3],[1,3,2],[2,1,3],[2,3,1],[3,1,2],[3,2,1]]\n",
    "\n",
    "## Example 2:\n",
    "\n",
    "    Input: nums = [0,1]\n",
    "    Output: [[0,1],[1,0]]\n",
    "\n",
    "## Example 3:\n",
    "\n",
    "    Input: nums = [1]\n",
    "    Output: [[1]]\n",
    "\n",
    "## Constraints:\n",
    "\n",
    "- `1 <= nums.length <= 6`\n",
    "- `-10 <= nums[i] <= 10`\n",
    "- All the integers of `nums` are unique.\n"
   ]
  },
  {
   "cell_type": "code",
   "execution_count": 1,
   "metadata": {
    "metadata": {}
   },
   "outputs": [],
   "source": [
    "class Solution:\n",
    "    def permute(self, nums: list[int]) -> list[list[int]]:\n",
    "        res: list[list[int]] = []\n",
    "\n",
    "        def backtrack(start: int, end: int):\n",
    "            if start == end:\n",
    "                res.append(nums[:])\n",
    "                return\n",
    "            for i in range(start, end):\n",
    "                # swap to generate a new permutation\n",
    "                nums[start], nums[i] = nums[i], nums[start]\n",
    "                # recursively generate the rest of the permutation\n",
    "                backtrack(start + 1, end)\n",
    "                # swap back to the original list\n",
    "                nums[start], nums[i] = nums[i], nums[start]\n",
    "\n",
    "        res = []\n",
    "        backtrack(0, len(nums))\n",
    "        return res"
   ]
  },
  {
   "cell_type": "code",
   "execution_count": 2,
   "metadata": {
    "metadata": {}
   },
   "outputs": [
    {
     "name": "stdout",
     "output_type": "stream",
     "text": [
      "[[1, 2, 3], [1, 3, 2], [2, 1, 3], [2, 3, 1], [3, 2, 1], [3, 1, 2]]\n",
      "[[0, 1], [1, 0]]\n",
      "[[1]]\n"
     ]
    }
   ],
   "source": [
    "s = Solution()\n",
    "\n",
    "# Example usages:\n",
    "nums1 = [1, 2, 3]\n",
    "print(s.permute(nums1))\n",
    "\n",
    "nums2 = [0, 1]\n",
    "print(s.permute(nums2))\n",
    "\n",
    "nums3 = [1]\n",
    "print(s.permute(nums3))"
   ]
  }
 ],
 "metadata": {
  "kernelspec": {
   "display_name": "Python 3",
   "language": "python",
   "name": "python3"
  },
  "language_info": {
   "codemirror_mode": {
    "name": "ipython",
    "version": 3
   },
   "file_extension": ".py",
   "mimetype": "text/x-python",
   "name": "python",
   "nbconvert_exporter": "python",
   "pygments_lexer": "ipython3",
   "version": "3.12.0"
  }
 },
 "nbformat": 4,
 "nbformat_minor": 2
}
