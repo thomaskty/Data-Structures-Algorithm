{
 "cells": [
  {
   "cell_type": "markdown",
   "metadata": {},
   "source": [
    "# Question 100 - LC 77. Combinations\n",
    "\n",
    "Given two integers `n` and `k`, return all possible combinations of `k` numbers chosen from the range `[1, n]`.\n",
    "\n",
    "You may return the answer in **any order**.\n",
    "\n",
    "## Example 1:\n",
    "\n",
    "    Input: n = 4, k = 2\n",
    "    Output: [[1,2],[1,3],[1,4],[2,3],[2,4],[3,4]]\n",
    "    Explanation: There are 4 choose 2 = 6 total combinations.\n",
    "    Note that combinations are unordered, i.e., [1,2] and [2,1] are considered to be the same combination.\n",
    "\n",
    "## Example 2:\n",
    "\n",
    "    Input: n = 1, k = 1\n",
    "    Output: [[1]]\n",
    "    Explanation: There is 1 choose 1 = 1 total combination.\n",
    "\n",
    "## Constraints:\n",
    "\n",
    "- `1 <= n <= 20`\n",
    "- `1 <= k <= n`\n"
   ]
  },
  {
   "cell_type": "code",
   "execution_count": 1,
   "metadata": {
    "metadata": {}
   },
   "outputs": [],
   "source": [
    "class Solution:\n",
    "    def combine(self, n: int, k: int) -> list[list[int]]:\n",
    "        res: list[list[int]] = []\n",
    "\n",
    "        def backtrack(start: int, curr_combo: list[int]):\n",
    "            if len(curr_combo) == k:\n",
    "                res.append(curr_combo[:])\n",
    "                return\n",
    "            for i in range(start, n + 1):\n",
    "                curr_combo.append(i)\n",
    "                backtrack(i + 1, curr_combo)\n",
    "                curr_combo.pop()\n",
    "\n",
    "        backtrack(1, [])\n",
    "        return res"
   ]
  },
  {
   "cell_type": "code",
   "execution_count": 2,
   "metadata": {
    "metadata": {}
   },
   "outputs": [
    {
     "data": {
      "text/plain": [
       "[[[1, 2], [1, 3], [1, 4], [2, 3], [2, 4], [3, 4]],\n",
       " [[1]],\n",
       " [[1, 2, 3],\n",
       "  [1, 2, 4],\n",
       "  [1, 2, 5],\n",
       "  [1, 3, 4],\n",
       "  [1, 3, 5],\n",
       "  [1, 4, 5],\n",
       "  [2, 3, 4],\n",
       "  [2, 3, 5],\n",
       "  [2, 4, 5],\n",
       "  [3, 4, 5]],\n",
       " [[1, 2, 3]],\n",
       " [[]]]"
      ]
     },
     "execution_count": 2,
     "metadata": {},
     "output_type": "execute_result"
    }
   ],
   "source": [
    "s = Solution()\n",
    "\n",
    "test_cases = [\n",
    "    (4, 2),  # Example 1 from the problem statement\n",
    "    (1, 1),  # Example 2 from the problem statement\n",
    "    (5, 3),  # Larger n and moderate k\n",
    "    (3, 3),  # n equals k\n",
    "    (5, 0)   # k is zero, should return empty combination\n",
    "]\n",
    "\n",
    "# Run test cases\n",
    "results = [s.combine(n, k) for n, k in test_cases]\n",
    "results"
   ]
  },
  {
   "cell_type": "markdown",
   "metadata": {},
   "source": [
    "### Complexity Analysis\n",
    "\n",
    "1. **Time Complexity**: The main factor in the time complexity is how many combinations can be formed. The total number of possible combinations \\( C(n, k) \\) is given by the binomial coefficient \\( \\frac{n!}{k!(n-k)!} \\). Each valid combination requires \\( O(k) \\) time to copy into the output list. Therefore, the worst-case time complexity is \\( O(C(n, k) \\times k) \\).\n",
    "\n",
    "2. **Space Complexity**: The space complexity is mainly determined by the output space needed to store all combinations and the space for the recursive call stack. The maximum depth of the recursion is \\( k \\), and since each recursive call requires a new level on the call stack, the space complexity due to the recursion is \\( O(k) \\). Additionally, the output itself takes \\( O(C(n, k) \\times k) \\) space.\n",
    "\n",
    "This backtracking approach is efficient in terms of finding all combinations, but the time and space complexity grow significantly with larger \\( n \\) and \\( k \\) due to the exponential number of combinations.\n"
   ]
  }
 ],
 "metadata": {
  "kernelspec": {
   "display_name": "Python 3",
   "language": "python",
   "name": "python3"
  },
  "language_info": {
   "codemirror_mode": {
    "name": "ipython",
    "version": 3
   },
   "file_extension": ".py",
   "mimetype": "text/x-python",
   "name": "python",
   "nbconvert_exporter": "python",
   "pygments_lexer": "ipython3",
   "version": "3.12.0"
  }
 },
 "nbformat": 4,
 "nbformat_minor": 2
}
