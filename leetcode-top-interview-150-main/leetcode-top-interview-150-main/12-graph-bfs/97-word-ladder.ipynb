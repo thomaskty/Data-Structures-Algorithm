{
 "cells": [
  {
   "cell_type": "markdown",
   "metadata": {},
   "source": [
    "# Question 95 - LC 127. Word Ladder\n",
    "\n",
    "Hard\n",
    "Topics\n",
    "Companies\n",
    "\n",
    "**A transformation sequence** from word `beginWord` to word `endWord` using a dictionary wordList is a sequence of words beginWord -> s1 -> s2 -> ... -> sk such that:\n",
    "\n",
    "- Every adjacent pair of words differs by a single letter.\n",
    "- Every `si` for `1 <= i <= k` is in `wordList`. Note that `beginWord` does not need to be in `wordList`.\n",
    "- `sk == endWord`\n",
    "\n",
    "Given two words, `beginWord` and `endWord`, and a dictionary `wordList`, return the number of words in the _shortest transformation sequence_ from `beginWord` to `endWord`, or 0 if no such sequence exists.\n",
    "\n",
    "**Example 1:**\n",
    "\n",
    "    Input: beginWord = \"hit\", endWord = \"cog\", wordList = `[\"hot\",\"dot\",\"dog\",\"lot\",\"log\",\"cog\"]`\n",
    "    Output: 5\n",
    "    Explanation: One shortest transformation sequence is \"hit\" -> \"hot\" -> \"dot\" -> \"dog\" -> cog\", which is 5 words long.\n",
    "\n",
    "**Example 2:**\n",
    "\n",
    "    Input: beginWord = \"hit\", endWord = \"cog\", wordList = [\"hot\",\"dot\",\"dog\",\"lot\",\"log\"]\n",
    "    Output: 0\n",
    "    Explanation: The endWord \"cog\" is not in wordList, therefore there is no valid transformation sequence.\n",
    "\n",
    "**Constraints:**\n",
    "\n",
    "- `1 <= beginWord.length <= 10`\n",
    "- `endWord.length == beginWord.length`\n",
    "- `1 <= wordList.length <= 5000`\n",
    "- `wordList[i].length == beginWord.length`\n",
    "- `beginWord`, `endWord`, and `wordList[i]` consist of lowercase English letters.\n",
    "- `beginWord != endWord`\n",
    "- All the words in `wordList` are unique.\n"
   ]
  },
  {
   "cell_type": "code",
   "execution_count": 5,
   "metadata": {},
   "outputs": [],
   "source": [
    "from collections import deque\n",
    "\n",
    "\n",
    "class Solution:\n",
    "    def ladderLength(self, beginWord: str, endWord: str, wordList: list[str]) -> int:\n",
    "        if endWord not in wordList:\n",
    "            return 0\n",
    "\n",
    "        L = len(beginWord)\n",
    "        all_combo_dict = {}\n",
    "\n",
    "        # Preprocessing to build the all_combo_dict dictionary.\n",
    "        for word in wordList:\n",
    "            for i in range(L):\n",
    "                generic_word = word[:i] + \"*\" + word[i + 1:]\n",
    "                if generic_word in all_combo_dict:\n",
    "                    all_combo_dict[generic_word].append(word)\n",
    "                else:\n",
    "                    all_combo_dict[generic_word] = [word]\n",
    "\n",
    "        # BFS initialization\n",
    "        queue: deque[tuple[str, int]] = deque([(beginWord, 1)])\n",
    "        visited: set[str] = {beginWord}\n",
    "\n",
    "        # BFS loop\n",
    "        while queue:\n",
    "            current_word, level = queue.popleft()\n",
    "            for i in range(L):\n",
    "                # Intermediate words for current_word\n",
    "                generic_word = current_word[:i] + \"*\" + current_word[i + 1:]\n",
    "                for word in all_combo_dict.get(generic_word, []):\n",
    "                    if word == endWord:\n",
    "                        return level + 1\n",
    "                    if word not in visited:\n",
    "                        visited.add(word)\n",
    "                        queue.append((word, level + 1))\n",
    "                # clear the list to prevent reprocessing\n",
    "                all_combo_dict[generic_word] = []\n",
    "\n",
    "        return 0"
   ]
  },
  {
   "cell_type": "code",
   "execution_count": 6,
   "metadata": {},
   "outputs": [
    {
     "data": {
      "text/plain": [
       "[5, 0, 4, 0, 0]"
      ]
     },
     "execution_count": 6,
     "metadata": {},
     "output_type": "execute_result"
    }
   ],
   "source": [
    "# Test cases\n",
    "\n",
    "s = Solution()\n",
    "\n",
    "test_cases = [\n",
    "    (\"hit\", \"cog\", [\"hot\", \"dot\", \"dog\", \"lot\", \"log\", \"cog\"]),  # Expected: 5\n",
    "    (\"hit\", \"cog\", [\"hot\", \"dot\", \"dog\", \"lot\", \"log\"]),  # Expected: 0\n",
    "    (\"cat\", \"dog\", [\"cot\", \"cog\", \"dog\"]),  # Expected: 4\n",
    "    # Expected: 0, as there is no connection to 'def'\n",
    "    (\"abc\", \"def\", [\"abd\", \"aec\", \"afc\", \"bfc\"]),\n",
    "    (\n",
    "        \"game\",\n",
    "        \"thus\",\n",
    "        [\"gape\", \"gare\", \"gase\", \"gate\", \"hate\", \"have\", \"hose\", \"huse\", \"thus\"],\n",
    "    ),  # Expected to find a short path\n",
    "]\n",
    "\n",
    "# Execute test cases\n",
    "results = []\n",
    "for begin, end, word_list in test_cases:\n",
    "    result = s.ladderLength(begin, end, word_list)\n",
    "    results.append(result)\n",
    "\n",
    "results"
   ]
  }
 ],
 "metadata": {
  "kernelspec": {
   "display_name": "Python 3",
   "language": "python",
   "name": "python3"
  },
  "language_info": {
   "codemirror_mode": {
    "name": "ipython",
    "version": 3
   },
   "file_extension": ".py",
   "mimetype": "text/x-python",
   "name": "python",
   "nbconvert_exporter": "python",
   "pygments_lexer": "ipython3",
   "version": "3.11.1"
  }
 },
 "nbformat": 4,
 "nbformat_minor": 2
}
