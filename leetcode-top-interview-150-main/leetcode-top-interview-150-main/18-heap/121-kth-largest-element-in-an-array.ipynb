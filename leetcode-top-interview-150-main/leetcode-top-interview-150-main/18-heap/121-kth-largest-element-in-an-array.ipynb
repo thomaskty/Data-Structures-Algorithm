{
 "cells": [
  {
   "cell_type": "markdown",
   "metadata": {},
   "source": [
    "# Question 119 - LC 215. Kth Largest Element in an Array\n",
    "\n",
    "Given an integer array `nums` and an integer `k`, return the `kth` _largest element in the array_.\n",
    "\n",
    "Note that it is the `kth` largest element in the sorted order, not the `kth` distinct element.\n",
    "\n",
    "Can you solve it without sorting?\n",
    "\n",
    "## Example 1:\n",
    "\n",
    "    Input: nums = [3,2,1,5,6,4], k = 2\n",
    "    Output: 5\n",
    "\n",
    "## Example 2:\n",
    "\n",
    "    Input: nums = [3,2,3,1,2,4,5,5,6], k = 4\n",
    "    Output: 4\n",
    "\n",
    "## Constraints:\n",
    "\n",
    "- `1 <= k <= nums.length <= 10^5`\n",
    "- `-10^4 <= nums[i] <= 10^4`\n"
   ]
  },
  {
   "cell_type": "code",
   "execution_count": 1,
   "metadata": {},
   "outputs": [],
   "source": [
    "from heapq import heappush, heapreplace\n",
    "\n",
    "\n",
    "class Solution:\n",
    "    def findKthLargest(self, nums: list[int], k: int) -> int:\n",
    "        # create an empty min-heap\n",
    "        min_heap = []\n",
    "\n",
    "        # iterate through the list of numbers\n",
    "        for num in nums:\n",
    "            if len(min_heap) < k:\n",
    "                heappush(min_heap, num)\n",
    "            else:\n",
    "                # only push the number if it is greater than the smallest number in the heap\n",
    "                if num > min_heap[0]:\n",
    "                    heapreplace(min_heap, num)\n",
    "\n",
    "        # the kth largest number is the smallest number in the heap (root)\n",
    "        return min_heap[0]"
   ]
  },
  {
   "cell_type": "code",
   "execution_count": 2,
   "metadata": {},
   "outputs": [
    {
     "name": "stdout",
     "output_type": "stream",
     "text": [
      "5\n",
      "4\n"
     ]
    }
   ],
   "source": [
    "# Example usage:\n",
    "\n",
    "s = Solution()\n",
    "\n",
    "nums1 = [3, 2, 1, 5, 6, 4]\n",
    "k1 = 2\n",
    "print(s.findKthLargest(nums1, k1))  # Output: 5\n",
    "\n",
    "nums2 = [3, 2, 3, 1, 2, 4, 5, 5, 6]\n",
    "k2 = 4\n",
    "print(s.findKthLargest(nums2, k2))  # Output: 4"
   ]
  }
 ],
 "metadata": {
  "kernelspec": {
   "display_name": "Python 3",
   "language": "python",
   "name": "python3"
  },
  "language_info": {
   "codemirror_mode": {
    "name": "ipython",
    "version": 3
   },
   "file_extension": ".py",
   "mimetype": "text/x-python",
   "name": "python",
   "nbconvert_exporter": "python",
   "pygments_lexer": "ipython3",
   "version": "3.9.13"
  }
 },
 "nbformat": 4,
 "nbformat_minor": 2
}
