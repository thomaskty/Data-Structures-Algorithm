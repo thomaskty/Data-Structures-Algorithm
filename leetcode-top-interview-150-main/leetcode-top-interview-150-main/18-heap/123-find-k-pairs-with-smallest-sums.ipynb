{
 "cells": [
  {
   "cell_type": "markdown",
   "metadata": {},
   "source": [
    "# Question 121 - LC 373. Find K Pairs with Smallest Sums\n",
    "\n",
    "You are given two integer arrays `nums1` and `nums2` sorted in non-decreasing order and an integer `k`.\n",
    "\n",
    "Define a pair `(u, v)` which consists of one element from the first array and one element from the second array.\n",
    "\n",
    "Return the `k` pairs `(u1, v1), (u2, v2), ..., (uk, vk)` _with the smallest sums_.\n",
    "\n",
    "## Example 1:\n",
    "\n",
    "    Input: nums1 = [1,7,11], nums2 = [2,4,6], k = 3\n",
    "    Output: [[1,2],[1,4],[1,6]]\n",
    "    Explanation: The first 3 pairs are returned from the sequence: [1,2],[1,4],[1,6],[7,2],[7,4],[11,2],[7,6],[11,4],[11,6]\n",
    "\n",
    "## Example 2:\n",
    "\n",
    "    Input: nums1 = [1,1,2], nums2 = [1,2,3], k = 2\n",
    "    Output: [[1,1],[1,1]]\n",
    "    Explanation: The first 2 pairs are returned from the sequence: [1,1],[1,1],[1,2],[2,1],[1,2],[2,2],[1,3],[1,3],[2,3]\n",
    "\n",
    "## Constraints:\n",
    "\n",
    "- `1 <= nums1.length, nums2.length <= 10^5`\n",
    "- `-10^9 <= nums1[i], nums2[i] <= 10^9`\n",
    "- `nums1` and `nums2` both are sorted in _non-decreasing order_.\n",
    "- `1 <= k <= 10^4`\n",
    "- `k <= nums1.length * nums2.length`\n"
   ]
  },
  {
   "cell_type": "code",
   "execution_count": 1,
   "metadata": {},
   "outputs": [],
   "source": [
    "import heapq as hq\n",
    "\n",
    "\n",
    "class Solution:\n",
    "    def kSmallestPairs(self, nums1: list[int], nums2: list[int], k: int) -> list[list[int]]:\n",
    "        if not nums1 or not nums2:\n",
    "            return []\n",
    "\n",
    "        # Create a min-heap to store the pairs along with their sum\n",
    "        # (sum, index in nums1, index in nums2)\n",
    "        min_heap = []\n",
    "\n",
    "        # Start by pairing the all element in nums1 with smallest elements in nums2\n",
    "        for i in range(min(k, len(nums1))):\n",
    "            hq.heappush(min_heap, (nums1[i] + nums2[0], i, 0))\n",
    "\n",
    "        result = []\n",
    "\n",
    "        # Keep popping the smallest pair from the heap and add it to the result\n",
    "        # Then add the next pair from nums2 to the heap\n",
    "        while min_heap and len(result) < k:\n",
    "            _, i, j = hq.heappop(min_heap)\n",
    "            result.append([nums1[i], nums2[j]])\n",
    "            if j + 1 < len(nums2):\n",
    "                hq.heappush(min_heap, (nums1[i] + nums2[j + 1], i, j + 1))\n",
    "\n",
    "        return result"
   ]
  },
  {
   "cell_type": "code",
   "execution_count": 2,
   "metadata": {},
   "outputs": [
    {
     "name": "stdout",
     "output_type": "stream",
     "text": [
      "[[1, 2], [1, 4], [1, 6]]\n",
      "[[1, 1], [1, 1]]\n"
     ]
    }
   ],
   "source": [
    "# Test cases\n",
    "\n",
    "s = Solution()\n",
    "\n",
    "# Test 1\n",
    "nums1 = [1, 7, 11]\n",
    "nums2 = [2, 4, 6]\n",
    "k = 3\n",
    "# Expected: [[1, 2], [1, 4], [1, 6]]\n",
    "print(s.kSmallestPairs(nums1, nums2, k))\n",
    "\n",
    "# Test 2\n",
    "nums1 = [1, 1, 2]\n",
    "nums2 = [1, 2, 3]\n",
    "k = 2\n",
    "# Expected: [[1, 1], [1, 1]]\n",
    "print(s.kSmallestPairs(nums1, nums2, k))"
   ]
  }
 ],
 "metadata": {
  "kernelspec": {
   "display_name": "Python 3",
   "language": "python",
   "name": "python3"
  },
  "language_info": {
   "codemirror_mode": {
    "name": "ipython",
    "version": 3
   },
   "file_extension": ".py",
   "mimetype": "text/x-python",
   "name": "python",
   "nbconvert_exporter": "python",
   "pygments_lexer": "ipython3",
   "version": "3.11.1"
  }
 },
 "nbformat": 4,
 "nbformat_minor": 2
}
