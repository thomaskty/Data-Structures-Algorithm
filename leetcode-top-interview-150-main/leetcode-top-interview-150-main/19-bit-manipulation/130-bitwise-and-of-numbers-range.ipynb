{
 "cells": [
  {
   "cell_type": "markdown",
   "metadata": {},
   "source": [
    "# Question 128 - LC 201. Bitwise AND of Numbers Range\n",
    "\n",
    "Given two integers left and right that represent the range `[left, right]`, return the bitwise AND of all numbers in this range, inclusive.\n",
    "\n",
    "## Example 1:\n",
    "\n",
    "    Input: left = 5, right = 7\n",
    "    Output: 4\n",
    "\n",
    "## Example 2:\n",
    "\n",
    "    Input: left = 0, right = 0\n",
    "    Output: 0\n",
    "\n",
    "## Example 3:\n",
    "\n",
    "    Input: left = 1, right = 2147483647\n",
    "    Output: 0\n",
    "\n",
    "## Constraints:\n",
    "\n",
    "- `0 <= left <= right <= 2^31 - 1`\n"
   ]
  },
  {
   "cell_type": "code",
   "execution_count": 1,
   "metadata": {},
   "outputs": [],
   "source": [
    "class Solution:\n",
    "    def rangeBitwiseAnd(self, left: int, right: int) -> int:\n",
    "        # loop until left is equal to right\n",
    "        while left < right:\n",
    "            # remove the last bit (leastd significant bit) from right\n",
    "            right &= right - 1\n",
    "        return right"
   ]
  },
  {
   "cell_type": "code",
   "execution_count": 2,
   "metadata": {},
   "outputs": [
    {
     "name": "stdout",
     "output_type": "stream",
     "text": [
      "4\n"
     ]
    }
   ],
   "source": [
    "# test cases\n",
    "s = Solution()\n",
    "\n",
    "left = 5\n",
    "right = 7\n",
    "print(s.rangeBitwiseAnd(left, right)) # 4"
   ]
  },
  {
   "cell_type": "markdown",
   "metadata": {},
   "source": [
    "### Example Walkthrough\n",
    "\n",
    "For the input `left = 5` and `right = 7`:\n",
    "- Binary representations: `5 = 101`, `6 = 110`, `7 = 111`.\n",
    "- Iterative reduction:\n",
    "  - `right = 7 & 6 = 6`\n",
    "  - `right = 6 & 5 = 4`\n",
    "  - Now `left` is not less than `right`, so the result is `4`.\n",
    "\n",
    "For the input `left = 1` and `right = 2147483647`:\n",
    "\n",
    "- The common prefix method will shift both numbers right until they are equal, which will result in `0` because the range is too large and all bits will eventually be zeroed out.\n",
    "\n",
    "These methods ensure an efficient solution with a time complexity of $O(\\log n)$, where $n$ is the value of `right`, and a space complexity of $O(1)$.\n"
   ]
  }
 ],
 "metadata": {
  "kernelspec": {
   "display_name": "Python 3",
   "language": "python",
   "name": "python3"
  },
  "language_info": {
   "codemirror_mode": {
    "name": "ipython",
    "version": 3
   },
   "file_extension": ".py",
   "mimetype": "text/x-python",
   "name": "python",
   "nbconvert_exporter": "python",
   "pygments_lexer": "ipython3",
   "version": "3.9.13"
  }
 },
 "nbformat": 4,
 "nbformat_minor": 2
}
