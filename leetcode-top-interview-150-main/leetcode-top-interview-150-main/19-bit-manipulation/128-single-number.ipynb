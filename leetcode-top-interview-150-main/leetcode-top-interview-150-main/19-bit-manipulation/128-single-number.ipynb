{
 "cells": [
  {
   "cell_type": "markdown",
   "metadata": {},
   "source": [
    "# Question 126 - LC 136. Single Number\n",
    "\n",
    "Given a **non-empty** array of integers `nums`, every element appears twice except for one. Find that single one.\n",
    "\n",
    "You must implement a solution with a linear runtime complexity and use only constant extra space.\n",
    "\n",
    "## Example 1:\n",
    "\n",
    "    Input: nums = [2,2,1]\n",
    "    Output: 1\n",
    "\n",
    "## Example 2:\n",
    "\n",
    "    Input: nums = [4,1,2,1,2]\n",
    "    Output: 4\n",
    "\n",
    "## Example 3:\n",
    "\n",
    "    Input: nums = [1]\n",
    "    Output: 1\n",
    "\n",
    "## Constraints:\n",
    "\n",
    "- `1 <= nums.length <= 3 * 10^4`\n",
    "- `-3 * 10^4 <= nums[i] <= 3 * 10^4`\n",
    "- Each element in the array appears twice except for one element which appears only once.\n"
   ]
  },
  {
   "cell_type": "code",
   "execution_count": 1,
   "metadata": {},
   "outputs": [],
   "source": [
    "class Solution:\n",
    "    def singleNumber(self, nums: list[int]) -> int:\n",
    "        result = 0\n",
    "        for num in nums:\n",
    "            result ^= num\n",
    "        return result"
   ]
  },
  {
   "cell_type": "code",
   "execution_count": 2,
   "metadata": {},
   "outputs": [
    {
     "name": "stdout",
     "output_type": "stream",
     "text": [
      "1\n",
      "4\n",
      "1\n"
     ]
    }
   ],
   "source": [
    "# Example usage:\n",
    "s = Solution()\n",
    "\n",
    "print(s.singleNumber([2, 2, 1]))  # Output: 1\n",
    "print(s.singleNumber([4, 1, 2, 1, 2]))  # Output: 4\n",
    "print(s.singleNumber([1]))  # Output: 1"
   ]
  },
  {
   "cell_type": "markdown",
   "metadata": {},
   "source": [
    "Here's the key insight for using XOR:\n",
    "\n",
    "- XOR of two identical numbers is 0 (i.e., 𝑥 ⊕ 𝑥 = 0).\n",
    "- XOR of a number with 0 is the number itself (i.e., 𝑥 ⊕ 0 = 𝑥)\n",
    "- XOR is commutative and associative, which means the order in which you XOR the numbers does not matter."
   ]
  }
 ],
 "metadata": {
  "kernelspec": {
   "display_name": "Python 3",
   "language": "python",
   "name": "python3"
  },
  "language_info": {
   "codemirror_mode": {
    "name": "ipython",
    "version": 3
   },
   "file_extension": ".py",
   "mimetype": "text/x-python",
   "name": "python",
   "nbconvert_exporter": "python",
   "pygments_lexer": "ipython3",
   "version": "3.9.13"
  }
 },
 "nbformat": 4,
 "nbformat_minor": 2
}
