{
 "cells": [
  {
   "cell_type": "markdown",
   "metadata": {},
   "source": [
    "# Question 124 - LC 190. Reverse Bits\n",
    "\n",
    "Reverse bits of a given 32 bits unsigned integer.\n",
    "\n",
    "_Note_:\n",
    "\n",
    "- Note that in some languages, such as Java, there is no unsigned integer type. In this case, both input and output will be given as a signed integer type. They should not affect your implementation, as the integer's internal binary representation is the same, whether it is signed or unsigned.\n",
    "\n",
    "- In Java, the compiler represents the signed integers using **2's complement notation**. Therefore, in Example 2 above, the input represents the signed integer -3 and the output represents the signed integer -1073741825.\n",
    "\n",
    "## Example 1:\n",
    "\n",
    "    Input: n = 00000010100101000001111010011100\n",
    "    Output:    964176192 (00111001011110000010100101000000)\n",
    "    Explanation: The input binary string 00000010100101000001111010011100 represents the unsigned integer 43261596, so return 964176192 which its binary representation is 00111001011110000010100101000000.\n",
    "\n",
    "## Example 2:\n",
    "\n",
    "    Input: n = 11111111111111111111111111111101\n",
    "    Output:   3221225471 (10111111111111111111111111111111)\n",
    "    Explanation: The input binary string 11111111111111111111111111111101 represents the unsigned integer 4294967293, so return 3221225471 which its binary representation is 10111111111111111111111111111111.\n",
    "\n",
    "## Constraints:\n",
    "\n",
    "The input must be a binary string of length `32`\n",
    "\n",
    "**Follow up**: If this function is called many times, how would you optimize it?\n"
   ]
  },
  {
   "cell_type": "code",
   "execution_count": 3,
   "metadata": {},
   "outputs": [],
   "source": [
    "class Solution:\n",
    "    def reverseBits(self, n: int) -> int:\n",
    "        # Initialize result as 0\n",
    "        result = 0\n",
    "        \n",
    "        # Iterate through all 32 bits of the integer\n",
    "        for _ in range(32):\n",
    "            # Shift result to the left to make room for the next bit\n",
    "            result <<= 1\n",
    "            \n",
    "            # Add the least significant bit of n to result\n",
    "            result |= n & 1\n",
    "            \n",
    "            # Shift n to the right to process the next bit\n",
    "            n >>= 1\n",
    "        \n",
    "        return result"
   ]
  },
  {
   "cell_type": "code",
   "execution_count": 4,
   "metadata": {},
   "outputs": [
    {
     "name": "stdout",
     "output_type": "stream",
     "text": [
      "Reversed bits: 964176192 (0b111001011110000010100101000000)\n",
      "Reversed bits: 3221225471 (0b10111111111111111111111111111111)\n"
     ]
    }
   ],
   "source": [
    "# Example usage:\n",
    "s = Solution()\n",
    "\n",
    "input1 = 0b00000010100101000001111010011100\n",
    "output1 = s.reverseBits(input1)\n",
    "print(f\"Reversed bits: {output1} ({bin(output1)})\")\n",
    "\n",
    "input2 = 0b11111111111111111111111111111101\n",
    "output2 = s.reverseBits(input2)\n",
    "print(f\"Reversed bits: {output2} ({bin(output2)})\")"
   ]
  },
  {
   "cell_type": "markdown",
   "metadata": {},
   "source": [
    "### Explanation:\n",
    "\n",
    "1. **Initialization**: We start with `result` set to 0, which will store the reversed bits.\n",
    "2. **Bitwise Manipulation**:\n",
    "   - **Shift `result` Left**: Each iteration shifts `result` one bit to the left to make room for the next bit.\n",
    "   - **Add Bit**: The expression `n & 1` extracts the least significant bit (LSB) of `n`. This bit is added (ORed) to `result`.\n",
    "   - **Shift `n` Right**: The input number `n` is right-shifted by one bit to bring the next bit into the LSB position for the next iteration.\n",
    "3. **Repeat**: This process repeats for each of the 32 bits.\n"
   ]
  },
  {
   "cell_type": "markdown",
   "metadata": {},
   "source": [
    "### Follow-up Optimization:\n",
    "\n",
    "If this function is called frequently with the same values, we could optimize by caching the results of previous computations using memoization. Here's how you might do it with a simple cache mechanism:\n",
    "\n",
    "Using `lru_cache` from Python's `functools` module, the results of previous function calls are stored, and if the function is called again with the same input, the stored result is returned immediately, reducing computation time.\n"
   ]
  },
  {
   "cell_type": "code",
   "execution_count": 5,
   "metadata": {},
   "outputs": [],
   "source": [
    "from functools import lru_cache\n",
    "\n",
    "@lru_cache(None)\n",
    "def reverse_bits(n):\n",
    "    result = 0\n",
    "    for _ in range(32):\n",
    "        result = (result << 1) | (n & 1)\n",
    "        n >>= 1\n",
    "    return result"
   ]
  }
 ],
 "metadata": {
  "kernelspec": {
   "display_name": "Python 3",
   "language": "python",
   "name": "python3"
  },
  "language_info": {
   "codemirror_mode": {
    "name": "ipython",
    "version": 3
   },
   "file_extension": ".py",
   "mimetype": "text/x-python",
   "name": "python",
   "nbconvert_exporter": "python",
   "pygments_lexer": "ipython3",
   "version": "3.9.13"
  }
 },
 "nbformat": 4,
 "nbformat_minor": 2
}
