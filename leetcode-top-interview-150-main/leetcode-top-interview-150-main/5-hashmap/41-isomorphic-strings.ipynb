{
 "cells": [
  {
   "cell_type": "markdown",
   "metadata": {},
   "source": [
    "# Question 39 - LC 205. Isomorphic Strings\n",
    "\n",
    "Given two strings `s` and `t`, _determine if they are isomorphic_.\n",
    "\n",
    "Two strings `s` and `t` are isomorphic if the characters in `s` can be replaced to get `t`.\n",
    "\n",
    "All occurrences of a character must be replaced with another character while preserving the order of characters. No two characters may map to the same character, but a character may map to itself.\n",
    "\n",
    "**Example 1:**\n",
    "\n",
    "    Input: s = \"egg\", t = \"add\"\n",
    "    Output: true\n",
    "\n",
    "**Example 2:**\n",
    "\n",
    "    Input: s = \"foo\", t = \"bar\"\n",
    "    Output: false\n",
    "\n",
    "**Example 3:**\n",
    "\n",
    "    Input: s = \"paper\", t = \"title\"\n",
    "    Output: true\n",
    "\n",
    "**Constraints:**\n",
    "\n",
    "- `1 <= s.length <= 5 * 10^4`\n",
    "- `t.length == s.length`\n",
    "- `s` and `t` consist of any valid ascii character.\n"
   ]
  },
  {
   "cell_type": "code",
   "execution_count": 1,
   "metadata": {},
   "outputs": [],
   "source": [
    "class Solution:\n",
    "    # O(n) time complexity: iterate over both strings once\n",
    "    # O(m) space complexity: m = number of unique characters in s - Given that there are only 256 ASCII characters, m is constant and can be considered O(1)\n",
    "    def isIsomorphic(self, s: str, t: str) -> bool:\n",
    "        # First, check if s and t are of equal length. If not, they cannot be isomorphic.\n",
    "        if len(s) != len(t):\n",
    "            return False\n",
    "\n",
    "        # char_map will store the mapping of characters from s to t.\n",
    "        char_map = {}\n",
    "        # mapped_chars will keep track of characters in t that are already mapped to characters in s.\n",
    "        mapped_chars = set()\n",
    "\n",
    "        # Iterate over characters of both s and t simultaneously.\n",
    "        for char_s, char_t in zip(s, t):\n",
    "            # If char_s is not already mapped, map it to char_t.\n",
    "            if char_s not in char_map:\n",
    "                # If char_t is already mapped to some other character in s, then s and t are not isomorphic.\n",
    "                if char_t in mapped_chars:\n",
    "                    return False\n",
    "                # Map char_s to char_t and add char_t to the set of mapped characters.\n",
    "                char_map[char_s] = char_t\n",
    "                mapped_chars.add(char_t)\n",
    "            # If char_s is already mapped, check for consistency in mapping. If inconsistent, return False.\n",
    "            elif char_map[char_s] != char_t:\n",
    "                return False\n",
    "\n",
    "        # If all checks pass, s and t are isomorphic.\n",
    "        return True"
   ]
  },
  {
   "cell_type": "code",
   "execution_count": 2,
   "metadata": {},
   "outputs": [
    {
     "data": {
      "text/plain": [
       "[True, False, True]"
      ]
     },
     "execution_count": 2,
     "metadata": {},
     "output_type": "execute_result"
    }
   ],
   "source": [
    "is_isomorphic = Solution().isIsomorphic\n",
    "\n",
    "test_cases = [(\"egg\", \"add\"), (\"foo\", \"bar\"), (\"paper\", \"title\")]\n",
    "results = [is_isomorphic(s, t) for s, t in test_cases]\n",
    "results"
   ]
  }
 ],
 "metadata": {
  "kernelspec": {
   "display_name": "Python 3",
   "language": "python",
   "name": "python3"
  },
  "language_info": {
   "codemirror_mode": {
    "name": "ipython",
    "version": 3
   },
   "file_extension": ".py",
   "mimetype": "text/x-python",
   "name": "python",
   "nbconvert_exporter": "python",
   "pygments_lexer": "ipython3",
   "version": "3.11.7"
  }
 },
 "nbformat": 4,
 "nbformat_minor": 2
}
