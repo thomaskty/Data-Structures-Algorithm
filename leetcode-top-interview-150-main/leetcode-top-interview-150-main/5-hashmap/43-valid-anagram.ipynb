{
 "cells": [
  {
   "cell_type": "markdown",
   "metadata": {},
   "source": [
    "# Question 41 - LC 242. Valid Anagram\n",
    "\n",
    "Given two strings `s` and `t`, return `true` if `t` is _an anagram of s_, and `false` _otherwise_.\n",
    "\n",
    "An **Anagram** is a word or phrase formed by rearranging the letters of a different word or phrase, typically using all the original letters exactly once.\n",
    "\n",
    "**Example 1:**\n",
    "\n",
    "    Input: s = \"anagram\", t = \"nagaram\"\n",
    "    Output: true\n",
    "\n",
    "**Example 2:**\n",
    "\n",
    "    Input: s = \"rat\", t = \"car\"\n",
    "    Output: false\n",
    "\n",
    "**Constraints:**\n",
    "\n",
    "- `1 <= s.length, t.length <= 5 * 10^4`\n",
    "- `s` and `t` consist of lowercase English letters.\n",
    "\n",
    "**Follow up:** What if the inputs contain Unicode characters? How would you adapt your solution to such a case?\n"
   ]
  },
  {
   "cell_type": "code",
   "execution_count": 4,
   "metadata": {},
   "outputs": [],
   "source": [
    "class Solution:\n",
    "    def isAnagram(self, s: str, t: str) -> bool:\n",
    "        if len(s) != len(t):\n",
    "            return False\n",
    "\n",
    "        count_s, count_t = {}, {}\n",
    "\n",
    "        for char in s:\n",
    "            count_s[char] = count_s.get(char, 0) + 1\n",
    "\n",
    "        for char in t:\n",
    "            count_t[char] = count_t.get(char, 0) + 1\n",
    "\n",
    "        return count_s == count_t"
   ]
  },
  {
   "cell_type": "code",
   "execution_count": 5,
   "metadata": {},
   "outputs": [
    {
     "name": "stdout",
     "output_type": "stream",
     "text": [
      "Example 1 passed\n",
      "Example 2 passed\n"
     ]
    }
   ],
   "source": [
    "# Test Cases\n",
    "\n",
    "solution = Solution()\n",
    "\n",
    "# Example 1\n",
    "assert solution.isAnagram(\"anagram\", \"nagaram\") == True\n",
    "print(\"Example 1 passed\")\n",
    "assert solution.isAnagram(\"rat\", \"car\") == False\n",
    "print(\"Example 2 passed\")"
   ]
  },
  {
   "cell_type": "markdown",
   "metadata": {},
   "source": [
    "The complexity analysis of the `isAnagram` function involves evaluating both its time and space complexity.\n",
    "\n",
    "### Time Complexity\n",
    "\n",
    "1. **Counting Characters in `s` and `t`**: The function iterates over each character in both strings `s` and `t`. If `n` is the length of the strings (since the strings are of equal length as checked at the beginning), this iteration happens in `O(n)` time.\n",
    "\n",
    "2. **Comparing the Two Dictionaries**: The comparison `countS == countT` compares two dictionaries. In the worst case, where all characters in the strings are distinct, the size of each dictionary would be `O(n)`. Comparing two dictionaries of size `n` takes `O(n)` time in the worst case.\n",
    "\n",
    "Therefore, the overall time complexity is `O(n) + O(n)`, which simplifies to `O(n)`.\n",
    "\n",
    "### Space Complexity\n",
    "\n",
    "1. **Space for Counting Characters**: Two dictionaries are used to store the character counts for `s` and `t`. In the worst-case scenario where all characters are unique, the space required for these dictionaries would be proportional to the number of distinct characters, which is `O(n)`.\n",
    "\n",
    "Therefore, the overall space complexity is `O(n)`.\n",
    "\n",
    "### Consideration for Unicode Characters\n",
    "\n",
    "The complexity analysis remains the same for Unicode characters. However, it's worth noting that if the range of characters is significantly large (which can be the case with Unicode), the space complexity might seem higher due to the potentially larger size of the dictionaries. But since the strings `s` and `t` are composed of the same characters, the space complexity in terms of the input size (length of the strings) remains `O(n)`.\n"
   ]
  }
 ],
 "metadata": {
  "kernelspec": {
   "display_name": "Python 3",
   "language": "python",
   "name": "python3"
  },
  "language_info": {
   "codemirror_mode": {
    "name": "ipython",
    "version": 3
   },
   "file_extension": ".py",
   "mimetype": "text/x-python",
   "name": "python",
   "nbconvert_exporter": "python",
   "pygments_lexer": "ipython3",
   "version": "3.11.1"
  }
 },
 "nbformat": 4,
 "nbformat_minor": 2
}
