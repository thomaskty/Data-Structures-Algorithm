{
 "cells": [
  {
   "cell_type": "code",
   "execution_count": null,
   "metadata": {},
   "outputs": [],
   "source": []
  },
  {
   "cell_type": "markdown",
   "metadata": {},
   "source": [
    "# Question 43 - LC 1. Two Sum\n",
    "\n",
    "Given an array of integers `nums` and an integer `target`, return _indices of the two numbers such that they add up to target_.\n",
    "\n",
    "You may assume that each input would have exactly **one** solution, and you may not use the same element twice.\n",
    "\n",
    "You can return the answer in any order.\n",
    "\n",
    "**Example 1:**\n",
    "\n",
    "    Input: nums = [2,7,11,15], target = 9\n",
    "    Output: [0,1]\n",
    "    Explanation: Because nums[0] + nums[1] == 9, we return [0, 1].\n",
    "\n",
    "**Example 2:**\n",
    "\n",
    "    Input: nums = [3,2,4], target = 6\n",
    "    Output: [1,2]\n",
    "\n",
    "**Example 3:**\n",
    "\n",
    "    Input: nums = [3,3], target = 6\n",
    "    Output: [0,1]\n",
    "\n",
    "**Constraints:**\n",
    "\n",
    "- `2 <= nums.length <= 10^4`\n",
    "- `-10^9 <= nums[i] <= 10^9`\n",
    "- `-10^9 <= target <= 10^9`\n",
    "- Only **one** valid answer exists.\n",
    "\n",
    "**Follow-up**: Can you come up with an algorithm that is less than O(n^2) time complexity?\n"
   ]
  },
  {
   "cell_type": "code",
   "execution_count": 1,
   "metadata": {},
   "outputs": [],
   "source": [
    "class Solution:\n",
    "    # Solve with O(n) time complexity, O(n) space complexity\n",
    "    def twoSum(self, nums: list[int], target: int) -> list[int]:\n",
    "        # Create a dictionary to store the index of each number\n",
    "        num_to_index = {}\n",
    "\n",
    "        # Iterate through the list of numbers\n",
    "        for i, num in enumerate(nums):\n",
    "            # Calculate the number needed to reach the target\n",
    "            complement = target - num\n",
    "\n",
    "            # If the needed number is in the dictionary, return the indices\n",
    "            if complement in num_to_index:\n",
    "                return [num_to_index[complement], i]\n",
    "\n",
    "            # Add the current number to the dictionary\n",
    "            num_to_index[num] = i"
   ]
  },
  {
   "cell_type": "code",
   "execution_count": 2,
   "metadata": {},
   "outputs": [
    {
     "name": "stdout",
     "output_type": "stream",
     "text": [
      "[0, 1]\n",
      "[1, 2]\n",
      "[0, 1]\n"
     ]
    }
   ],
   "source": [
    "# Test\n",
    "two_sum = Solution().twoSum\n",
    "\n",
    "# Example 1\n",
    "print(two_sum([2, 7, 11, 15], 9))\n",
    "\n",
    "# Example 2\n",
    "print(two_sum([3, 2, 4], 6))\n",
    "\n",
    "# Example 3\n",
    "print(two_sum([3, 3], 6))"
   ]
  }
 ],
 "metadata": {
  "kernelspec": {
   "display_name": "Python 3",
   "language": "python",
   "name": "python3"
  },
  "language_info": {
   "codemirror_mode": {
    "name": "ipython",
    "version": 3
   },
   "file_extension": ".py",
   "mimetype": "text/x-python",
   "name": "python",
   "nbconvert_exporter": "python",
   "pygments_lexer": "ipython3",
   "version": "3.11.7"
  }
 },
 "nbformat": 4,
 "nbformat_minor": 2
}
