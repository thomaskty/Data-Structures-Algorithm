{
 "cells": [
  {
   "cell_type": "markdown",
   "metadata": {},
   "source": [
    "# Question 54 - LC 150. Evaluate Reverse Polish Notation\n",
    "\n",
    "You are given an array of strings `tokens` that represents an arithmetic expression in a **Reverse Polish Notation**.\n",
    "\n",
    "Evaluate the expression. Return an _integer that represents the value of the expression_.\n",
    "\n",
    "Note that:\n",
    "\n",
    "- The valid operators are `'+'`, `'-'`, `'*'`, and `'/'`.\n",
    "- Each operand may be an integer or another expression.\n",
    "- The division between two integers always **truncates toward zero**.\n",
    "- There will not be any division by zero.\n",
    "- The input represents a valid arithmetic expression in a reverse polish notation.\n",
    "- The answer and all the intermediate calculations can be represented in a **32-bit** integer.\n",
    "\n",
    "**Example 1:**\n",
    "\n",
    "    Input: tokens = [\"2\",\"1\",\"+\",\"3\",\"*\"]\n",
    "    Output: 9\n",
    "    Explanation: ((2 + 1) * 3) = 9\n",
    "\n",
    "**Example 2:**\n",
    "\n",
    "    Input: tokens = [\"4\",\"13\",\"5\",\"/\",\"+\"]\n",
    "    Output: 6\n",
    "    Explanation: (4 + (13 / 5)) = 6\n",
    "\n",
    "**Example 3:**\n",
    "\n",
    "    Input: tokens = [\"10\",\"6\",\"9\",\"3\",\"+\",\"-11\",\"*\",\"/\",\"*\",\"17\",\"+\",\"5\",\"+\"]\n",
    "    Output: 22\n",
    "    Explanation: ((10 * (6 / ((9 + 3) * -11))) + 17) + 5\n",
    "    = ((10 * (6 / (12 * -11))) + 17) + 5\n",
    "    = ((10 * (6 / -132)) + 17) + 5\n",
    "    = ((10 * 0) + 17) + 5\n",
    "    = (0 + 17) + 5\n",
    "    = 17 + 5\n",
    "    = 22\n",
    "\n",
    "**Constraints:**\n",
    "\n",
    "- `1 <= tokens.length <= 10^4`\n",
    "- `tokens[i]` is either an operator: `\"+\"`, `\"-\"`, `\"*\"`, or `\"/\"`, or an integer in the range `[-200, 200]`.\n"
   ]
  },
  {
   "cell_type": "code",
   "execution_count": 1,
   "metadata": {},
   "outputs": [],
   "source": [
    "class Solution:\n",
    "    def evalRPN(self, tokens: list[str]) -> int:\n",
    "        stack = []\n",
    "\n",
    "        for token in tokens:\n",
    "            if token in \"+-*/\":\n",
    "                b, a = stack.pop(), stack.pop()\n",
    "                if token == '+':\n",
    "                    stack.append(a + b)\n",
    "                elif token == '-':\n",
    "                    stack.append(a - b)\n",
    "                elif token == '*':\n",
    "                    stack.append(a * b)\n",
    "                elif token == '/':\n",
    "                    # Use int() for truncating division towards zero\n",
    "                    stack.append(int(a / b))\n",
    "            else:\n",
    "                stack.append(int(token))\n",
    "\n",
    "        return stack[0]"
   ]
  },
  {
   "cell_type": "code",
   "execution_count": 2,
   "metadata": {},
   "outputs": [
    {
     "data": {
      "text/plain": [
       "[9, 6, 22]"
      ]
     },
     "execution_count": 2,
     "metadata": {},
     "output_type": "execute_result"
    }
   ],
   "source": [
    "# Test the examples\n",
    "\n",
    "evalRPN = Solution().evalRPN\n",
    "\n",
    "examples = [\n",
    "    [\"2\", \"1\", \"+\", \"3\", \"*\"],\n",
    "    [\"4\", \"13\", \"5\", \"/\", \"+\"],\n",
    "    [\"10\", \"6\", \"9\", \"3\", \"+\", \"-11\", \"*\", \"/\", \"*\", \"17\", \"+\", \"5\", \"+\"]\n",
    "]\n",
    "\n",
    "results = [evalRPN(e) for e in examples]\n",
    "results"
   ]
  }
 ],
 "metadata": {
  "kernelspec": {
   "display_name": "Python 3",
   "language": "python",
   "name": "python3"
  },
  "language_info": {
   "codemirror_mode": {
    "name": "ipython",
    "version": 3
   },
   "file_extension": ".py",
   "mimetype": "text/x-python",
   "name": "python",
   "nbconvert_exporter": "python",
   "pygments_lexer": "ipython3",
   "version": "3.11.8"
  }
 },
 "nbformat": 4,
 "nbformat_minor": 2
}
