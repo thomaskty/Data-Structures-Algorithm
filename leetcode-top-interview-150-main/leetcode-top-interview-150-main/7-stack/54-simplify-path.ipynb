{
 "cells": [
  {
   "cell_type": "markdown",
   "metadata": {},
   "source": [
    "# Question 52 - LC 71. Simplify Path\n",
    "\n",
    "Given a string `path`, which is an **absolute path** (starting with a slash `'/'`) to a file or directory in a Unix-style file system, convert it to the simplified canonical path.\n",
    "\n",
    "In a Unix-style file system, a period `'.'` refers to the **current directory**, a double period `'..'` refers to **the directory up a level**, and any multiple consecutive slashes (i.e. '//') are treated as a single slash '/'. For this problem, any other format of periods such as `'...'` are treated as file/directory names.\n",
    "\n",
    "The `canonical path` should have the following format:\n",
    "\n",
    "1. The path starts with a single slash `'/'`.\n",
    "2. Any two directories are separated by a single slash `'/'`.\n",
    "3. The path does not end with a trailing `'/'`.\n",
    "4. The path only contains the directories on the path from the root directory to the target file or directory (i.e., no period `'.'` or double period `'..'`)\n",
    "\n",
    "Return the simplified canonical path.\n",
    "\n",
    "**Example 1:**\n",
    "\n",
    "    Input: path = \"/home/\"\n",
    "    Output: \"/home\"\n",
    "    Explanation: Note that there is no trailing slash after the last directory name.\n",
    "\n",
    "**Example 2:**\n",
    "\n",
    "    Input: path = \"/../\"\n",
    "    Output: \"/\"\n",
    "    Explanation: Going one level up from the root directory is a no-op, as the root level is the highest level you can go.\n",
    "\n",
    "Example 3:\n",
    "\n",
    "    Input: path = \"/home//foo/\"\n",
    "    Output: \"/home/foo\"\n",
    "    Explanation: In the canonical path, multiple consecutive slashes are replaced by a single one.\n",
    "\n",
    "**Constraints:**\n",
    "\n",
    "1. `1 <= path.length <= 3000`\n",
    "2. `path` consists of English letters, digits, period `'.'`, slash `'/'` or `'_'`.\n",
    "3. `path` is a valid absolute Unix path.\n"
   ]
  },
  {
   "cell_type": "code",
   "execution_count": 1,
   "metadata": {},
   "outputs": [],
   "source": [
    "class Solution:\n",
    "    def simplifyPath(self, path: str) -> str:\n",
    "        # split the path by '/\n",
    "        path = path.split('/')\n",
    "\n",
    "        # create a stack to store the path\n",
    "        stack = []\n",
    "\n",
    "        # iterate through the path\n",
    "        for p in path:\n",
    "            # if the path is not empty\n",
    "            if p:\n",
    "                # if the path is '..'\n",
    "                if p == '..':\n",
    "                    # pop the last element (go back to the previous directory)\n",
    "                    if stack:\n",
    "                        stack.pop()\n",
    "                # if the path is not '.' (not the current directory)\n",
    "                elif p != '.':\n",
    "                    # append the path to the stack\n",
    "                    stack.append(p)\n",
    "\n",
    "        # returnd the simplified path\n",
    "        return '/' + '/'.join(stack)"
   ]
  },
  {
   "cell_type": "code",
   "execution_count": 2,
   "metadata": {},
   "outputs": [
    {
     "name": "stdout",
     "output_type": "stream",
     "text": [
      "/home\n",
      "/\n",
      "/home/foo\n"
     ]
    }
   ],
   "source": [
    "# Test cases\n",
    "\n",
    "simplifyPath = Solution().simplifyPath\n",
    "\n",
    "print(simplifyPath(\"/home/\"))  # Output: \"/home\"\n",
    "print(simplifyPath(\"/../\"))  # Output: \"/\"\n",
    "print(simplifyPath(\"/home//foo/\"))  # Output: \"/home/foo\""
   ]
  }
 ],
 "metadata": {
  "kernelspec": {
   "display_name": "Python 3",
   "language": "python",
   "name": "python3"
  },
  "language_info": {
   "codemirror_mode": {
    "name": "ipython",
    "version": 3
   },
   "file_extension": ".py",
   "mimetype": "text/x-python",
   "name": "python",
   "nbconvert_exporter": "python",
   "pygments_lexer": "ipython3",
   "version": "3.11.8"
  }
 },
 "nbformat": 4,
 "nbformat_minor": 2
}
