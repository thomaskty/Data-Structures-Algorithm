{
 "cells": [
  {
   "cell_type": "markdown",
   "metadata": {},
   "source": [
    "# Question 55 - LC 224. Basic Calculator\n",
    "\n",
    "Given a string `s` representing a valid expression, implement a basic calculator to evaluate it, and return _the result of the evaluation_.\n",
    "\n",
    "**Note**: You are **not** allowed to use any built-in function which evaluates strings as mathematical expressions, such as `eval()`.\n",
    "\n",
    "**Example 1:**\n",
    "\n",
    "    Input: s = \"1 + 1\"\n",
    "    Output: 2\n",
    "\n",
    "**Example 2:**\n",
    "\n",
    "    Input: s = \" 2-1 + 2 \"\n",
    "    Output: 3\n",
    "\n",
    "**Example 3:**\n",
    "\n",
    "    Input: s = \"(1+(4+5+2)-3)+(6+8)\"\n",
    "    Output: 23\n",
    "\n",
    "**Constraints:**\n",
    "\n",
    "- `1 <= s.length <= 3 * 10^5`\n",
    "- `s` consists of digits, `'+'`, `'-'`, `'('`, `')'`, and `' '`.\n",
    "- `s represents a valid expression.\n",
    "- `'+'` is not used as a unary operation (i.e., `\"+1\"` and `\"+(2 + 3)\"` is invalid).\n",
    "- `'-'` could be used as a unary operation (i.e., `\"-1\"` and `\"-(2 + 3)\"` is valid).\n",
    "- There will be no two consecutive operators in the input.\n",
    "- Every number and running calculation will fit in a signed 32-bit integer.\n"
   ]
  },
  {
   "cell_type": "code",
   "execution_count": 1,
   "metadata": {},
   "outputs": [],
   "source": [
    "class Solution:\n",
    "    def calculate(self, s: str) -> int:\n",
    "        stack = []  # Stack to keep track of numbers and the result of parentheses evaluations\n",
    "        num = 0\n",
    "        sign = 1  # 1 for positive numbers, -1 for negative numbers\n",
    "        result = 0  # Current result\n",
    "\n",
    "        for char in s:\n",
    "            if char.isdigit():\n",
    "                num = num * 10 + int(char)\n",
    "            elif char in \"+-\":\n",
    "                result += sign * num\n",
    "                num = 0\n",
    "                sign = 1 if char == '+' else -1\n",
    "            elif char == '(':\n",
    "                # Push the current result and the sign onto the stack, then reset them\n",
    "                stack.append(result)\n",
    "                stack.append(sign)\n",
    "                sign = 1\n",
    "                result = 0\n",
    "            elif char == ')':\n",
    "                result += sign * num\n",
    "                num = 0\n",
    "                result *= stack.pop()  # Last sign before '('\n",
    "                result += stack.pop()  # Result calculated before '('\n",
    "\n",
    "        result += sign * num  # Add the last number\n",
    "        return result"
   ]
  },
  {
   "cell_type": "code",
   "execution_count": 2,
   "metadata": {},
   "outputs": [
    {
     "data": {
      "text/plain": [
       "[2, 3, 23]"
      ]
     },
     "execution_count": 2,
     "metadata": {},
     "output_type": "execute_result"
    }
   ],
   "source": [
    "calculate = Solution().calculate\n",
    "\n",
    "test_cases = [\"1 + 1\", \" 2-1 + 2 \", \"(1+(4+5+2)-3)+(6+8)\"]\n",
    "results_readable = [calculate(s) for s in test_cases]\n",
    "results_readable"
   ]
  },
  {
   "cell_type": "markdown",
   "metadata": {},
   "source": [
    "To analyze the complexity of the corrected implementation for the basic calculator, let's consider both the time complexity and space complexity.\n",
    "\n",
    "### Time Complexity\n",
    "\n",
    "1. **Traversal:** The algorithm traverses through each character of the input string exactly once to evaluate the expression.\n",
    "2. **Operations:** For each character, the operations performed are constant time operations, such as arithmetic operations, stack operations (push and pop), and comparisons.\n",
    "\n",
    "Given that the length of the input string is \\(n\\), the time complexity is \\(O(n)\\) because every character in the input string is visited once, and operations on each character are performed in constant time.\n",
    "\n",
    "### Space Complexity\n",
    "\n",
    "1. **Stack:** The algorithm uses a stack to keep track of numbers and the result of evaluations within parentheses. The size of the stack grows with the number of open parentheses encountered before reaching a corresponding close parenthesis. In the worst case, if the expression is fully nested, the stack size could grow proportional to the length of the input string.\n",
    "2. **Variables:** The use of a few auxiliary variables (such as `num`, `sign`, `result`) is constant and does not depend on the input size.\n",
    "\n",
    "Therefore, the space complexity is \\(O(n)\\) in the worst case, where \\(n\\) is the length of the input string. This worst-case scenario occurs when the expression is fully nested with parentheses, requiring the stack to store information for each level of nested expressions.\n",
    "\n",
    "In summary:\n",
    "- **Time Complexity:** \\(O(n)\\)\n",
    "- **Space Complexity:** \\(O(n)\\) in the worst case, due to the stack usage."
   ]
  }
 ],
 "metadata": {
  "kernelspec": {
   "display_name": "Python 3",
   "language": "python",
   "name": "python3"
  },
  "language_info": {
   "codemirror_mode": {
    "name": "ipython",
    "version": 3
   },
   "file_extension": ".py",
   "mimetype": "text/x-python",
   "name": "python",
   "nbconvert_exporter": "python",
   "pygments_lexer": "ipython3",
   "version": "3.11.8"
  }
 },
 "nbformat": 4,
 "nbformat_minor": 2
}
