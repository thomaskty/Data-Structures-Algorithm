{
 "cells": [
  {
   "cell_type": "markdown",
   "metadata": {},
   "source": [
    "# Question 82 - LC 637. Average of Levels in Binary Tree\n",
    "\n",
    "Given the `root` of a binary tree, return _the average value of the nodes on each level in the form of an array_. Answers within `10^-5` of the actual answer will be accepted.\n",
    "\n",
    "**Example 1:**\n",
    "\n",
    "    Input: root = [3,9,20,null,null,15,7]\n",
    "    Output: [3.00000,14.50000,11.00000]\n",
    "    Explanation: The average value of nodes on level 0 is 3, on level 1 is 14.5, and on level 2 is 11.\n",
    "    Hence return [3, 14.5, 11].\n",
    "\n",
    "**Example 2:**\n",
    "\n",
    "    Input: root = [3,9,20,15,7]\n",
    "    Output: [3.00000,14.50000,11.00000]\n",
    "\n",
    "**Constraints:**\n",
    "\n",
    "The number of nodes in the tree is in the range `[1, 10^4]`.\n",
    "`-2^31 <= Node.val <= 2^31 - 1`\n"
   ]
  },
  {
   "cell_type": "code",
   "execution_count": 1,
   "metadata": {},
   "outputs": [],
   "source": [
    "from __future__ import annotations\n",
    "from typing import Optional\n",
    "from collections import deque"
   ]
  },
  {
   "cell_type": "code",
   "execution_count": 2,
   "metadata": {},
   "outputs": [],
   "source": [
    "class TreeNode:\n",
    "    def __init__(\n",
    "        self,\n",
    "        val: Optional[int] = 0,\n",
    "        left: Optional[\"TreeNode\"] = None,\n",
    "        right: Optional[\"TreeNode\"] = None,\n",
    "    ):\n",
    "        self.val = val\n",
    "        self.left = left\n",
    "        self.right = right\n",
    "\n",
    "    @staticmethod\n",
    "    def from_list(values: list[Optional[int]]) -> Optional[\"TreeNode\"]:\n",
    "        if not values:\n",
    "            return None\n",
    "\n",
    "        root = TreeNode(val=values[0])\n",
    "        queue: deque[TreeNode] = deque([root])\n",
    "        i = 1\n",
    "\n",
    "        while queue and i < len(values):\n",
    "            current_node = queue.popleft()\n",
    "\n",
    "            if values[i] is not None:\n",
    "                current_node.left = TreeNode(val=values[i])\n",
    "                queue.append(current_node.left)\n",
    "            i += 1\n",
    "\n",
    "            if i < len(values) and values[i] is not None:\n",
    "                current_node.right = TreeNode(val=values[i])\n",
    "                queue.append(current_node.right)\n",
    "            i += 1\n",
    "\n",
    "        return root\n",
    "\n",
    "    def print_level_order(self) -> list[list[Optional[int]]]:\n",
    "        queue: deque[tuple[TreeNode, int]] = deque([(self, 0)])\n",
    "        result = []\n",
    "        current_level = []\n",
    "        level_number = 0\n",
    "\n",
    "        while queue:\n",
    "            current_node, node_level = queue.popleft()\n",
    "\n",
    "            if node_level > level_number:\n",
    "                result.append(current_level)\n",
    "                current_level = []\n",
    "                level_number = node_level\n",
    "\n",
    "            current_level.append(current_node.val)\n",
    "            if current_node.left is not None:\n",
    "                queue.append((current_node.left, node_level + 1))\n",
    "            if current_node.right is not None:\n",
    "                queue.append((current_node.right, node_level + 1))\n",
    "\n",
    "        if current_level:\n",
    "            result.append(current_level)\n",
    "\n",
    "        return result"
   ]
  },
  {
   "cell_type": "code",
   "execution_count": 3,
   "metadata": {},
   "outputs": [],
   "source": [
    "class Solution:\n",
    "    def averageOfLevels(self, root: Optional[TreeNode]) -> list[float]:\n",
    "        if not root:\n",
    "            return []\n",
    "\n",
    "        queue: deque[tuple[TreeNode, int]] = deque([(root, 0)])\n",
    "        result = []\n",
    "\n",
    "        while queue:\n",
    "            current_sum: int = 0\n",
    "            current_count = 0\n",
    "            current_level = queue[0][1]\n",
    "\n",
    "            while queue and queue[0][1] == current_level:\n",
    "                current_node, node_level = queue.popleft()\n",
    "                if current_node.val is not None:\n",
    "                    current_sum += current_node.val\n",
    "                    current_count += 1\n",
    "\n",
    "                if current_node.left:\n",
    "                    queue.append((current_node.left, node_level + 1))\n",
    "                if current_node.right:\n",
    "                    queue.append((current_node.right, node_level + 1))\n",
    "\n",
    "            result.append(current_sum / current_count)\n",
    "\n",
    "        return result"
   ]
  },
  {
   "cell_type": "code",
   "execution_count": 4,
   "metadata": {},
   "outputs": [
    {
     "name": "stdout",
     "output_type": "stream",
     "text": [
      "[3.0, 14.5, 11.0]\n",
      "[3.0, 14.5, 11.0]\n"
     ]
    }
   ],
   "source": [
    "# Test\n",
    "s = Solution()\n",
    "\n",
    "root = TreeNode.from_list([3, 9, 20, None, None, 15, 7])\n",
    "print(s.averageOfLevels(root))  # [3.0, 14.5, 11.0]\n",
    "\n",
    "root = TreeNode.from_list([3, 9, 20, 15, 7])\n",
    "print(s.averageOfLevels(root))  # [3.0, 14.5, 11.0]"
   ]
  }
 ],
 "metadata": {
  "kernelspec": {
   "display_name": "Python 3",
   "language": "python",
   "name": "python3"
  },
  "language_info": {
   "codemirror_mode": {
    "name": "ipython",
    "version": 3
   },
   "file_extension": ".py",
   "mimetype": "text/x-python",
   "name": "python",
   "nbconvert_exporter": "python",
   "pygments_lexer": "ipython3",
   "version": "3.11.1"
  }
 },
 "nbformat": 4,
 "nbformat_minor": 2
}
