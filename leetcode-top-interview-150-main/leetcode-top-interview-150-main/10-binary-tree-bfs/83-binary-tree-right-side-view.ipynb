{
 "cells": [
  {
   "cell_type": "markdown",
   "metadata": {},
   "source": [
    "# Question 81 - LC 199. Binary Tree Right Side View\n",
    "\n",
    "Given the `root` of a binary tree, imagine yourself standing on the **right side** of it, return _the values of the nodes you can see ordered from top to bottom_.\n",
    "\n",
    "**Example 1:**\n",
    "\n",
    "    Input: root = [1,2,3,null,5,null,4]\n",
    "    Output: [1,3,4]\n",
    "\n",
    "**Example 2:**\n",
    "\n",
    "    Input: root = [1,null,3]\n",
    "    Output: [1,3]\n",
    "\n",
    "**Example 3:**\n",
    "\n",
    "    Input: root = []\n",
    "    Output: []\n",
    "\n",
    "**Constraints:**\n",
    "\n",
    "- The number of nodes in the tree is in the range `[0, 100]`.\n",
    "- `-100 <= Node.val <= 100`\n"
   ]
  },
  {
   "cell_type": "code",
   "execution_count": 9,
   "metadata": {},
   "outputs": [],
   "source": [
    "from __future__ import annotations\n",
    "from typing import Optional\n",
    "from collections import deque"
   ]
  },
  {
   "cell_type": "code",
   "execution_count": 10,
   "metadata": {},
   "outputs": [],
   "source": [
    "class TreeNode:\n",
    "    def __init__(\n",
    "        self,\n",
    "        val: Optional[int] = 0,\n",
    "        left: Optional[\"TreeNode\"] = None,\n",
    "        right: Optional[\"TreeNode\"] = None,\n",
    "    ):\n",
    "        self.val = val\n",
    "        self.left = left\n",
    "        self.right = right\n",
    "\n",
    "    @staticmethod\n",
    "    def from_list(values: list[Optional[int]]) -> Optional[\"TreeNode\"]:\n",
    "        if not values:\n",
    "            return None\n",
    "\n",
    "        root = TreeNode(val=values[0])\n",
    "        queue: deque[TreeNode] = deque([root])\n",
    "        i = 1\n",
    "\n",
    "        while queue and i < len(values):\n",
    "            current_node = queue.popleft()\n",
    "\n",
    "            if values[i] is not None:\n",
    "                current_node.left = TreeNode(val=values[i])\n",
    "                queue.append(current_node.left)\n",
    "            i += 1\n",
    "\n",
    "            if i < len(values) and values[i] is not None:\n",
    "                current_node.right = TreeNode(val=values[i])\n",
    "                queue.append(current_node.right)\n",
    "            i += 1\n",
    "\n",
    "        return root\n",
    "\n",
    "    def print_level_order(self) -> list[list[Optional[int]]]:\n",
    "        queue: deque[tuple[TreeNode, int]] = deque([(self, 0)])\n",
    "        result = []\n",
    "        current_level = []\n",
    "        level_number = 0\n",
    "\n",
    "        while queue:\n",
    "            current_node, node_level = queue.popleft()\n",
    "\n",
    "            if node_level > level_number:\n",
    "                result.append(current_level)\n",
    "                current_level = []\n",
    "                level_number = node_level\n",
    "\n",
    "            current_level.append(current_node.val)\n",
    "            if current_node.left is not None:\n",
    "                queue.append((current_node.left, node_level + 1))\n",
    "            if current_node.right is not None:\n",
    "                queue.append((current_node.right, node_level + 1))\n",
    "\n",
    "        if current_level:\n",
    "            result.append(current_level)\n",
    "\n",
    "        return result"
   ]
  },
  {
   "cell_type": "code",
   "execution_count": 11,
   "metadata": {},
   "outputs": [],
   "source": [
    "class Solution:\n",
    "    # Time Complexity: O(n) - Space Complexity: O(n)\n",
    "    def rightSideView(self, root: Optional[TreeNode]) -> list[int]:\n",
    "        if not root:\n",
    "            return []\n",
    "\n",
    "        q = deque([root])\n",
    "        right_side_view: list[int] = []\n",
    "\n",
    "        while q:\n",
    "            level_length = len(q)\n",
    "\n",
    "            for i in range(level_length):\n",
    "                # Dequeue the current node\n",
    "                node = q.popleft()\n",
    "\n",
    "                if i == level_length - 1 and node.val is not None:\n",
    "                    # Add the last node of each level to the result\n",
    "                    right_side_view.append(node.val)\n",
    "\n",
    "                # Enqueue children\n",
    "                if node.left:\n",
    "                    q.append(node.left)\n",
    "                if node.right:\n",
    "                    q.append(node.right)\n",
    "\n",
    "        return right_side_view"
   ]
  },
  {
   "cell_type": "code",
   "execution_count": 12,
   "metadata": {},
   "outputs": [
    {
     "data": {
      "text/plain": [
       "([1, 3, 4], [1, 3], [], [0, 2, 4, 9, 10])"
      ]
     },
     "execution_count": 12,
     "metadata": {},
     "output_type": "execute_result"
    }
   ],
   "source": [
    "# Test Cases\n",
    "s = Solution()\n",
    "\n",
    "root1 = TreeNode.from_list([1, 2, 3, None, 5, None, 4])\n",
    "root2 = TreeNode.from_list([1, None, 3])\n",
    "root3 = TreeNode.from_list([])\n",
    "root4 = TreeNode.from_list(\n",
    "    [0, 1, 2, None, 3, 4, None, None, 5, 9, None, None, 6, 10, None]\n",
    ")\n",
    "\n",
    "example1 = s.rightSideView(root1)\n",
    "example2 = s.rightSideView(root2)\n",
    "example3 = s.rightSideView(root3)\n",
    "example4 = s.rightSideView(root4)\n",
    "\n",
    "example1, example2, example3, example4"
   ]
  }
 ],
 "metadata": {
  "kernelspec": {
   "display_name": "Python 3",
   "language": "python",
   "name": "python3"
  },
  "language_info": {
   "codemirror_mode": {
    "name": "ipython",
    "version": 3
   },
   "file_extension": ".py",
   "mimetype": "text/x-python",
   "name": "python",
   "nbconvert_exporter": "python",
   "pygments_lexer": "ipython3",
   "version": "3.11.1"
  }
 },
 "nbformat": 4,
 "nbformat_minor": 2
}
