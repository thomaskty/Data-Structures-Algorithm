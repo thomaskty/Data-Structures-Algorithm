{
 "cells": [
  {
   "cell_type": "markdown",
   "metadata": {},
   "source": [
    "# Question 111 - LC 918. Maximum Sum Circular Subarray\n",
    "\n",
    "Given **a circular integer array** `nums` of length `n`, return _the maximum possible sum of a non-empty subarray of `nums`_.\n",
    "\n",
    "A _circular array_ means the end of the array connects to the beginning of the array. Formally, the next element of `nums[i]` is nums`[(i + 1) % n]` and the previous element of `nums[i]` is `nums[(i - 1 + n) % n]`.\n",
    "\n",
    "A _subarray_ may only include each element of the fixed buffer `nums` at most once. Formally, for a subarray` nums[i], nums[i + 1], ..., nums[j]`, there does not exist `i <= k1, k2 <= j` with `k1 % n == k2 % n`.\n",
    "\n",
    "## Example 1:\n",
    "\n",
    "    Input: nums = [1,-2,3,-2]\n",
    "    Output: 3\n",
    "    Explanation: Subarray [3] has maximum sum 3.\n",
    "\n",
    "## Example 2:\n",
    "\n",
    "    Input: nums = [5,-3,5]\n",
    "    Output: 10\n",
    "    Explanation: Subarray [5,5] has maximum sum 5 + 5 = 10.\n",
    "\n",
    "## Example 3:\n",
    "\n",
    "    Input: nums = [-3,-2,-3]\n",
    "    Output: -2\n",
    "    Explanation: Subarray [-2] has maximum sum -2.\n",
    "\n",
    "## Constraints:\n",
    "\n",
    "- `n == nums.length`\n",
    "- `1 <= n <= 3 * 104`\n",
    "- `-3 * 10^4 <= nums[i] <= 3 * 10^4`\n"
   ]
  },
  {
   "cell_type": "code",
   "execution_count": null,
   "metadata": {},
   "outputs": [],
   "source": [
    "class Solution:\n",
    "    def maxSubarraySumCircular(self, nums: list[int]) -> int:\n",
    "        def kadane(nums: list[int]) -> int:\n",
    "            max_sum = float('-inf')\n",
    "            current_sum = 0\n",
    "            for num in nums:\n",
    "                current_sum = max(num, current_sum + num)\n",
    "                max_sum = max(max_sum, current_sum)\n",
    "            return max_sum\n",
    "        \n",
    "        # step 1: find the max sum of non-circular subarray\n",
    "        max_kadane = kadane(nums)\n",
    "        \n",
    "        # step 2: find the total sum of the array and the min sum of non-circular subarray\n",
    "        total_sum = sum(nums)\n",
    "        \n",
    "        # invert the sign of each element in the array\n",
    "        nums_inverted = [-num for num in nums]\n",
    "        max_kadane_inverted = kadane(nums_inverted)\n",
    "        min_subarray_sum = -max_kadane_inverted\n",
    "        \n",
    "        # step 3: find the max sum of circular subarray\n",
    "        max_circular = total_sum - min_subarray_sum\n",
    "        \n",
    "        # step 4: handle the edge case\n",
    "        if max_circular == 0:\n",
    "            return max_kadane\n",
    "        \n",
    "        return max(max_kadane, max_circular)"
   ]
  },
  {
   "cell_type": "code",
   "execution_count": null,
   "metadata": {},
   "outputs": [],
   "source": [
    "s = Solution()\n",
    "\n",
    "print(s.maxSubarraySumCircular([1, -2, 3, -2]))  # Output: 3\n",
    "print(s.maxSubarraySumCircular([5, -3, 5]))      # Output: 10\n",
    "print(s.maxSubarraySumCircular([-3, -2, -3]))    # Output: -2"
   ]
  }
 ],
 "metadata": {
  "language_info": {
   "name": "python"
  }
 },
 "nbformat": 4,
 "nbformat_minor": 2
}
