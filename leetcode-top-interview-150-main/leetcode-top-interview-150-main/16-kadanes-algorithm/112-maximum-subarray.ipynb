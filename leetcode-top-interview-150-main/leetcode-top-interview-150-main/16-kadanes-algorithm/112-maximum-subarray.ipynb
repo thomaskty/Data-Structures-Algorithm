{
 "cells": [
  {
   "cell_type": "markdown",
   "metadata": {},
   "source": [
    "# Question 110 - LC 53. Maximum Subarray\n",
    "\n",
    "Given an integer array nums, find the subarray with the largest sum, and return its sum.\n",
    "\n",
    "## Example 1:\n",
    "\n",
    "    Input: nums = [-2,1,-3,4,-1,2,1,-5,4]\n",
    "    Output: 6\n",
    "    Explanation: The subarray [4,-1,2,1] has the largest sum 6.\n",
    "\n",
    "## Example 2:\n",
    "\n",
    "    Input: nums = [1]\n",
    "    Output: 1\n",
    "    Explanation: The subarray [1] has the largest sum 1.\n",
    "\n",
    "## Example 3:\n",
    "\n",
    "    Input: nums = [5,4,-1,7,8]\n",
    "    Output: 23\n",
    "    Explanation: The subarray [5,4,-1,7,8] has the largest sum 23.\n",
    "\n",
    "## Constraints:\n",
    "\n",
    "- `1 <= nums.length <= 10^5`\n",
    "- `-10^4 <= nums[i] <= 10^4`\n",
    "\n",
    "Follow up: If you have figured out the `O(n)` solution, try coding another solution using the _divide and conquer_ approach, which is more subtle.\n"
   ]
  },
  {
   "cell_type": "code",
   "execution_count": 1,
   "metadata": {},
   "outputs": [],
   "source": [
    "class Solution:\n",
    "    def maxSubArray(self, nums: list[int]) -> int:\n",
    "        local_max = 0\n",
    "        global_max = -float(\"inf\")\n",
    "\n",
    "        for num in nums:\n",
    "            local_max = max(num, num + local_max)\n",
    "            global_max = max(local_max, global_max)\n",
    "\n",
    "        return global_max"
   ]
  },
  {
   "cell_type": "code",
   "execution_count": 2,
   "metadata": {},
   "outputs": [
    {
     "name": "stdout",
     "output_type": "stream",
     "text": [
      "6\n"
     ]
    }
   ],
   "source": [
    "# Test case\n",
    "s = Solution()\n",
    "nums = [-2, 1, -3, 4, -1, 2, 1, -5, 4]\n",
    "print(s.maxSubArray(nums))  # Output: 6"
   ]
  },
  {
   "cell_type": "code",
   "execution_count": 3,
   "metadata": {},
   "outputs": [
    {
     "name": "stdout",
     "output_type": "stream",
     "text": [
      "6\n"
     ]
    }
   ],
   "source": [
    "def maxSubArray(nums):\n",
    "    def maxCrossingSum(nums, left, mid, right):\n",
    "        # Include at least one element from left half\n",
    "        sum_left = float('-inf')\n",
    "        current_sum = 0\n",
    "        for i in range(mid, left - 1, -1):\n",
    "            current_sum += nums[i]\n",
    "            if current_sum > sum_left:\n",
    "                sum_left = current_sum\n",
    "\n",
    "        # Include at least one element from right half\n",
    "        sum_right = float('-inf')\n",
    "        current_sum = 0\n",
    "        for i in range(mid + 1, right + 1):\n",
    "            current_sum += nums[i]\n",
    "            if current_sum > sum_right:\n",
    "                sum_right = current_sum\n",
    "\n",
    "        # Return sum of elements on left and right of mid\n",
    "        # as it's the maximum sum of subarray crossing mid\n",
    "        return sum_left + sum_right\n",
    "\n",
    "    def maxSubArrayRec(nums, left, right):\n",
    "        if left == right:  # Base case: only one element\n",
    "            return nums[left]\n",
    "\n",
    "        mid = (left + right) // 2\n",
    "        left_max = maxSubArrayRec(nums, left, mid)\n",
    "        right_max = maxSubArrayRec(nums, mid + 1, right)\n",
    "        cross_max = maxCrossingSum(nums, left, mid, right)\n",
    "\n",
    "        return max(left_max, right_max, cross_max)\n",
    "\n",
    "    return maxSubArrayRec(nums, 0, len(nums) - 1)\n",
    "\n",
    "\n",
    "# Example usage:\n",
    "nums = [-2, 1, -3, 4, -1, 2, 1, -5, 4]\n",
    "print(maxSubArray(nums))  # Output: 6"
   ]
  }
 ],
 "metadata": {
  "kernelspec": {
   "display_name": "Python 3",
   "language": "python",
   "name": "python3"
  },
  "language_info": {
   "codemirror_mode": {
    "name": "ipython",
    "version": 3
   },
   "file_extension": ".py",
   "mimetype": "text/x-python",
   "name": "python",
   "nbconvert_exporter": "python",
   "pygments_lexer": "ipython3",
   "version": "3.9.13"
  }
 },
 "nbformat": 4,
 "nbformat_minor": 2
}
