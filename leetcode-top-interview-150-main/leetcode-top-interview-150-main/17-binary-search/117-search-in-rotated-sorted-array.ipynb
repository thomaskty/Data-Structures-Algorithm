{
 "cells": [
  {
   "cell_type": "markdown",
   "metadata": {},
   "source": [
    "# Question 115 - LC 33. Search in Rotated Sorted Array\n",
    "\n",
    "There is an integer array `nums` sorted in ascending order (with **distinct** values).\n",
    "\n",
    "Prior to being passed to your function, `nums` is possibly rotated at an unknown pivot index `k` (`1 <= k < nums.length`) such that the resulting array is `[nums[k], nums[k+1], ..., nums[n-1], nums[0], nums[1], ..., nums[k-1]]` (**0-indexed**). For example, `[0,1,2,4,5,6,7]` might be rotated at pivot index 3 and become `[4,5,6,7,0,1,2]`.\n",
    "\n",
    "Given the array `nums` **after** the possible rotation and an integer `target`, return _the index of `target` if it is in `nums`, or `-1` if it is not in `nums`_.\n",
    "\n",
    "You must write an algorithm with `O(log n)` runtime complexity.\n",
    "\n",
    "## Example 1:\n",
    "\n",
    "    Input: nums = [4,5,6,7,0,1,2], target = 0\n",
    "    Output: 4\n",
    "\n",
    "## Example 2:\n",
    "\n",
    "    Input: nums = [4,5,6,7,0,1,2], target = 3\n",
    "    Output: -1\n",
    "\n",
    "## Example 3:\n",
    "\n",
    "    Input: nums = [1], target = 0\n",
    "    Output: -1\n",
    "\n",
    "## Constraints:\n",
    "\n",
    "- `1 <= nums.length <= 5000`\n",
    "- `-10^4 <= nums[i] <= 10^4`\n",
    "- All values of `nums` are **unique**.\n",
    "- `nums` is an ascending array that is possibly rotated.\n",
    "- `-10^4 <= target <= 10^4`\n"
   ]
  },
  {
   "cell_type": "code",
   "execution_count": 1,
   "metadata": {},
   "outputs": [],
   "source": [
    "class Solution:\n",
    "    def search(self, nums: list[int], target: int) -> int:\n",
    "        left, right = 0, len(nums) - 1\n",
    "\n",
    "        while left <= right:\n",
    "            mid = (left + right) // 2\n",
    "\n",
    "            if nums[mid] == target:\n",
    "                return mid\n",
    "\n",
    "            # decide which part is sorted\n",
    "            if nums[left] <= nums[mid]:\n",
    "                # left part is sorted\n",
    "                if nums[left] <= target <= nums[mid]:\n",
    "                    right = mid - 1\n",
    "                else:\n",
    "                    left = mid + 1\n",
    "            else:\n",
    "                # right part is sorted\n",
    "                if nums[mid] <= target <= nums[right]:\n",
    "                    left = mid + 1\n",
    "                else:\n",
    "                    right = mid - 1\n",
    "\n",
    "        return -1"
   ]
  },
  {
   "cell_type": "code",
   "execution_count": 2,
   "metadata": {},
   "outputs": [
    {
     "name": "stdout",
     "output_type": "stream",
     "text": [
      "4\n",
      "-1\n",
      "-1\n"
     ]
    }
   ],
   "source": [
    "# Test cases\n",
    "\n",
    "s = Solution()\n",
    "\n",
    "print(s.search([4, 5, 6, 7, 0, 1, 2], 0))  # Output: 4\n",
    "print(s.search([4, 5, 6, 7, 0, 1, 2], 3))  # Output: -1\n",
    "print(s.search([1], 0))                    # Output: -1"
   ]
  }
 ],
 "metadata": {
  "kernelspec": {
   "display_name": "Python 3",
   "language": "python",
   "name": "python3"
  },
  "language_info": {
   "codemirror_mode": {
    "name": "ipython",
    "version": 3
   },
   "file_extension": ".py",
   "mimetype": "text/x-python",
   "name": "python",
   "nbconvert_exporter": "python",
   "pygments_lexer": "ipython3",
   "version": "3.9.13"
  }
 },
 "nbformat": 4,
 "nbformat_minor": 2
}
