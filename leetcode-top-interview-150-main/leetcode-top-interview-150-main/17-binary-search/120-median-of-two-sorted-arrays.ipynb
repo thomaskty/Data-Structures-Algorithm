{
 "cells": [
  {
   "cell_type": "markdown",
   "metadata": {},
   "source": [
    "# Question 118 - LC 4. Median of Two Sorted Arrays\n",
    "\n",
    "Given two sorted arrays `nums1` and `nums2` of size `m` and `n` respectively, return **the median** of the two sorted arrays.\n",
    "\n",
    "The overall run time complexity should be `O(log (m+n))`.\n",
    "\n",
    "## Example 1:\n",
    "\n",
    "    Input: nums1 = [1,3], nums2 = [2]\n",
    "    Output: 2.00000\n",
    "    Explanation: merged array = [1,2,3] and median is 2.\n",
    "\n",
    "## Example 2:\n",
    "\n",
    "    Input: nums1 = [1,2], nums2 = [3,4]\n",
    "    Output: 2.50000\n",
    "    Explanation: merged array = [1,2,3,4] and median is (2 + 3) / 2 = 2.5.\n",
    "\n",
    "## Constraints:\n",
    "\n",
    "- `nums1.length == m`\n",
    "- `nums2.length == n`\n",
    "- `0 <= m <= 1000`\n",
    "- `0 <= n <= 1000`\n",
    "- `1 <= m + n <= 2000`\n",
    "- `-10^6 <= nums1[i], nums2[i] <= 10^6`\n"
   ]
  },
  {
   "cell_type": "markdown",
   "metadata": {},
   "source": [
    "To solve the problem of finding the median of two sorted arrays with an optimal runtime complexity of \\(O(\\log (m+n))\\), we can use a binary search approach. The key idea here is not to merge the arrays, which would take \\(O(m+n)\\) time, but to find the partition between the arrays such that the elements on the left side are part of the median calculation and the elements on the right are not.\n",
    "\n",
    "Here’s how you can approach this problem:\n",
    "\n",
    "1. **Initialize Pointers**: Start by initializing pointers for both arrays (`i` for `nums1` and `j` for `nums2`). These pointers will help in partitioning the arrays.\n",
    "\n",
    "2. **Binary Search Setup**: Use a binary search on the smaller array. This will ensure that the search space is minimized, making the binary search more efficient.\n",
    "\n",
    "3. **Partitioning Logic**:\n",
    "\n",
    "   - Calculate partitions `i` and `j` such that:\n",
    "\n",
    "     ```\n",
    "     i + j = (m + n + 1) / 2\n",
    "     ```\n",
    "\n",
    "     Here, `i` is the middle of `nums1`, and `j` is derived from the above formula to balance the total elements on each side of the partition.\n",
    "\n",
    "   - Ensure that the partitioning is correct, i.e., the max element on the left side of `nums1` (`left_max1`) and `nums2` (`left_max2`) should be less than or equal to the min element on the right side of `nums1` (`right_min1`) and `nums2` (`right_min2`):\n",
    "\n",
    "     ```\n",
    "     max(left_max1, left_max2) <= min(right_min1, right_min2)\n",
    "     ```\n",
    "\n",
    "4. **Calculate Median**:\n",
    "\n",
    "   - If the combined length of `nums1` and `nums2` is odd, the median is the maximum of `left_max1` and `left_max2`.\n",
    "   - If even, the median is the average of the maximum of `left_max1` and `left_max2` and the minimum of `right_min1` and `right_min2`.\n",
    "\n",
    "5. **Adjust Partitions**: Based on the comparison between `left_max` and `right_min`, adjust the binary search range:\n",
    "   - If `left_max1` > `right_min2`, move the partition in `nums1` to the left.\n",
    "   - If `left_max2` > `right_min1`, move the partition in `nums1` to the right (which inherently adjusts `nums2` because `j` is dependent on `i`).\n",
    "\n",
    "This method avoids the need to merge the arrays and directly finds the median by partitioning, which is much more efficient for larger datasets.\n"
   ]
  },
  {
   "cell_type": "code",
   "execution_count": 4,
   "metadata": {},
   "outputs": [],
   "source": [
    "class Solution:\n",
    "    def findMedianSortedArrays(self, nums1: list[int], nums2: list[int]) -> float:\n",
    "        # ensure nums1 is the shorter list to minimize binaray search range\n",
    "        if len(nums1) > len(nums2):\n",
    "            nums1, nums2 = nums2, nums1\n",
    "            \n",
    "        # get the length of two lists\n",
    "        m, n = len(nums1), len(nums2)\n",
    "        total = m + n\n",
    "        half = (total + 1) // 2\n",
    "        \n",
    "        # set the range of binary search\n",
    "        left, right = 0, m\n",
    "        \n",
    "        # binary search\n",
    "        while left <= right:\n",
    "            i = (left + right) // 2\n",
    "            j = half - i\n",
    "            \n",
    "            # handle the boundary conditions of i and j\n",
    "            left_max1 = float('-inf') if i == 0 else nums1[i - 1]\n",
    "            right_min1 = float('inf') if i == m else nums1[i]\n",
    "            left_max2 = float('-inf') if j == 0 else nums2[j - 1]\n",
    "            right_min2 = float('inf') if j == n else nums2[j]\n",
    "            \n",
    "            # binary search adjustment\n",
    "            if left_max1 > right_min2:\n",
    "                right = i - 1\n",
    "            elif left_max2 > right_min1:\n",
    "                left = i + 1\n",
    "            else:\n",
    "                # found the correct partition\n",
    "                if total % 2 == 0:\n",
    "                    return float((max(left_max1, left_max2) + min(right_min1, right_min2)) / 2)\n",
    "                else:\n",
    "                    return float(max(left_max1, left_max2))\n",
    "                \n",
    "        return -1.0"
   ]
  },
  {
   "cell_type": "code",
   "execution_count": 5,
   "metadata": {},
   "outputs": [
    {
     "name": "stdout",
     "output_type": "stream",
     "text": [
      "Median: 2.0\n",
      "Median: 2.5\n"
     ]
    }
   ],
   "source": [
    "# Example usage:\n",
    "s = Solution()\n",
    "\n",
    "nums1 = [1, 3]\n",
    "nums2 = [2]\n",
    "print(\"Median:\", s.findMedianSortedArrays(nums1, nums2))  # Output: 2.0\n",
    "\n",
    "nums1 = [1, 2]\n",
    "nums2 = [3, 4]\n",
    "print(\"Median:\", s.findMedianSortedArrays(nums1, nums2))  # Output: 2.5"
   ]
  }
 ],
 "metadata": {
  "kernelspec": {
   "display_name": "Python 3",
   "language": "python",
   "name": "python3"
  },
  "language_info": {
   "codemirror_mode": {
    "name": "ipython",
    "version": 3
   },
   "file_extension": ".py",
   "mimetype": "text/x-python",
   "name": "python",
   "nbconvert_exporter": "python",
   "pygments_lexer": "ipython3",
   "version": "3.9.13"
  }
 },
 "nbformat": 4,
 "nbformat_minor": 2
}
