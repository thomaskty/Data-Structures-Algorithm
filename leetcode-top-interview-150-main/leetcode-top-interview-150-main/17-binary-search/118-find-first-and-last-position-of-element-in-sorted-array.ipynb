{
 "cells": [
  {
   "cell_type": "markdown",
   "metadata": {},
   "source": [
    "# Question 116 - LC 34. Find First and Last Position of Element in Sorted Array\n",
    "\n",
    "Given an array of integers `nums` sorted in non-decreasing order, find the starting and ending position of a given `target` value.\n",
    "\n",
    "If `target` is not found in the array, return `[-1, -1]`.\n",
    "\n",
    "You must write an algorithm with `O(log n)` runtime complexity.\n",
    "\n",
    "## Example 1:\n",
    "\n",
    "    Input: nums = [5,7,7,8,8,10], target = 8\n",
    "    Output: [3,4]\n",
    "\n",
    "## Example 2:\n",
    "\n",
    "    Input: nums = [5,7,7,8,8,10], target = 6\n",
    "    Output: [-1,-1]\n",
    "\n",
    "## Example 3:\n",
    "\n",
    "    Input: nums = [], target = 0\n",
    "    Output: [-1,-1]\n",
    "\n",
    "## Constraints:\n",
    "\n",
    "- `0 <= nums.length <= 10^5`\n",
    "- `-10^9 <= nums[i] <= 10^9`\n",
    "- `nums` is a non-decreasing array.\n",
    "- `-10^9 <= target <= 10^9`\n"
   ]
  },
  {
   "cell_type": "code",
   "execution_count": 1,
   "metadata": {},
   "outputs": [],
   "source": [
    "class Solution:\n",
    "    def searchRange(self, nums: list[int], target: int) -> list[int]:\n",
    "        def find_left_most(nums: list[int], target: int) -> int:\n",
    "            left, right = 0, len(nums) - 1\n",
    "            while left <= right:\n",
    "                mid = left + (right - left) // 2\n",
    "                if nums[mid] < target:\n",
    "                    left = mid + 1\n",
    "                else:\n",
    "                    right = mid - 1\n",
    "            return left\n",
    "        \n",
    "        def find_right_most(nums: list[int], target: int) -> int:\n",
    "            left, right = 0, len(nums) - 1\n",
    "            while left <= right:\n",
    "                mid = left + (right - left) // 2\n",
    "                # the condition ensures even if nums[mid] == target, \n",
    "                # we still move right to find the last occurrence\n",
    "                if nums[mid] <= target:\n",
    "                    left = mid + 1\n",
    "                else:\n",
    "                    right = mid - 1\n",
    "            return right\n",
    "        \n",
    "        left_most = find_left_most(nums, target)\n",
    "        right_most = find_right_most(nums, target)\n",
    "        \n",
    "        # Check if the target is actually in the array\n",
    "        if left_most <= right_most and 0 <= left_most < len(nums) and nums[left_most] == target:\n",
    "            return [left_most, right_most]\n",
    "        else:\n",
    "            return [-1, -1]"
   ]
  },
  {
   "cell_type": "code",
   "execution_count": 2,
   "metadata": {},
   "outputs": [
    {
     "name": "stdout",
     "output_type": "stream",
     "text": [
      "[3, 4]\n",
      "[-1, -1]\n",
      "[-1, -1]\n"
     ]
    }
   ],
   "source": [
    "# Test cases\n",
    "s = Solution()\n",
    "\n",
    "print(s.searchRange([5, 7, 7, 8, 8, 10], 8))  # Output: [3, 4]\n",
    "print(s.searchRange([5, 7, 7, 8, 8, 10], 6))  # Output: [-1, -1]\n",
    "print(s.searchRange([], 0))  # Output: [-1, -1]"
   ]
  }
 ],
 "metadata": {
  "kernelspec": {
   "display_name": "Python 3",
   "language": "python",
   "name": "python3"
  },
  "language_info": {
   "codemirror_mode": {
    "name": "ipython",
    "version": 3
   },
   "file_extension": ".py",
   "mimetype": "text/x-python",
   "name": "python",
   "nbconvert_exporter": "python",
   "pygments_lexer": "ipython3",
   "version": "3.9.13"
  }
 },
 "nbformat": 4,
 "nbformat_minor": 2
}
