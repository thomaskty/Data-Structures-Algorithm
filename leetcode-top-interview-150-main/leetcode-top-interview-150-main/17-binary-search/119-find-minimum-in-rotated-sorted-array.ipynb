{
 "cells": [
  {
   "cell_type": "markdown",
   "metadata": {},
   "source": [
    "# Question 117 - LC 153. Find Minimum in Rotated Sorted Array\n",
    "\n",
    "Suppose an array of length n sorted in ascending order is rotated between `1` and `n` times. For example, the array `nums = [0,1,2,4,5,6,7]` might become:\n",
    "\n",
    "- [4,5,6,7,0,1,2] if it was rotated 4 times.\n",
    "- [0,1,2,4,5,6,7] if it was rotated 7 times.\n",
    "\n",
    "Notice that **rotating** an array `[a[0], a[1], a[2], ..., a[n-1]]` 1 time results in the array `[a[n-1], a[0], a[1], a[2], ..., a[n-2]]`.\n",
    "\n",
    "Given the sorted rotated array `nums` of **unique** elements, return _the minimum element of this array_.\n",
    "\n",
    "You must write an algorithm that runs in `O(log n)` time.\n",
    "\n",
    "## Example 1:\n",
    "\n",
    "    Input: nums = [3,4,5,1,2]\n",
    "    Output: 1\n",
    "    Explanation: The original array was [1,2,3,4,5] rotated 3 times.\n",
    "\n",
    "## Example 2:\n",
    "\n",
    "    Input: nums = [4,5,6,7,0,1,2]\n",
    "    Output: 0\n",
    "    Explanation: The original array was [0,1,2,4,5,6,7] and it was rotated 4 times.\n",
    "\n",
    "## Example 3:\n",
    "\n",
    "    Input: nums = [11,13,15,17]\n",
    "    Output: 11\n",
    "    Explanation: The original array was [11,13,15,17] and it was rotated 4 times.\n",
    "\n",
    "## Constraints:\n",
    "\n",
    "- `n == nums.length`\n",
    "- `1 <= n <= 5000`\n",
    "- -`5000 <= nums[i] <= 5000`\n",
    "- All the integers of `nums` are unique.\n",
    "- `nums` is sorted and rotated between `1` and `n` times.\n"
   ]
  },
  {
   "cell_type": "code",
   "execution_count": 1,
   "metadata": {},
   "outputs": [],
   "source": [
    "class Solution:\n",
    "    def findMin(self, nums: list[int]) -> int:\n",
    "        left, right = 0, len(nums) - 1\n",
    "\n",
    "        while left < right:\n",
    "            mid = (left + right) // 2\n",
    "\n",
    "            # if mid element is greater than right element, then the minimum element is in the right half\n",
    "            if nums[mid] > nums[right]:\n",
    "                left = mid + 1\n",
    "            # else the minimum element is in the left half\n",
    "            else:\n",
    "                right = mid\n",
    "\n",
    "        # when the loop ends, left == right, so return the element at that index\n",
    "        return nums[left]"
   ]
  },
  {
   "cell_type": "code",
   "execution_count": 2,
   "metadata": {},
   "outputs": [
    {
     "name": "stdout",
     "output_type": "stream",
     "text": [
      "1\n",
      "0\n",
      "11\n"
     ]
    }
   ],
   "source": [
    "# Examples\n",
    "s = Solution()\n",
    "\n",
    "print(s.findMin([3, 4, 5, 1, 2]))  # Output: 1\n",
    "print(s.findMin([4, 5, 6, 7, 0, 1, 2]))  # Output: 0\n",
    "print(s.findMin([11, 13, 15, 17]))  # Output: 11"
   ]
  }
 ],
 "metadata": {
  "kernelspec": {
   "display_name": "Python 3",
   "language": "python",
   "name": "python3"
  },
  "language_info": {
   "codemirror_mode": {
    "name": "ipython",
    "version": 3
   },
   "file_extension": ".py",
   "mimetype": "text/x-python",
   "name": "python",
   "nbconvert_exporter": "python",
   "pygments_lexer": "ipython3",
   "version": "3.9.13"
  }
 },
 "nbformat": 4,
 "nbformat_minor": 2
}
