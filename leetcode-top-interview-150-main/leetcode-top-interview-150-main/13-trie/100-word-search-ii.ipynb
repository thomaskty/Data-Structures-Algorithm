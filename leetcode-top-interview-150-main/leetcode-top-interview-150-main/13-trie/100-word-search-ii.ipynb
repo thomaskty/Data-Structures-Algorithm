{
 "cells": [
  {
   "cell_type": "markdown",
   "metadata": {},
   "source": [
    "# Question 98 - LC 212. Word Search II\n",
    "\n",
    "Given an `m x n` `board` of characters and a list of strings `words`, return _all words on the board_.\n",
    "\n",
    "Each word must be constructed from letters of sequentially adjacent cells, where adjacent cells are horizontally or vertically neighboring. The same letter cell may not be used more than once in a word.\n",
    "\n",
    "**Example 1:**\n",
    "\n",
    "    Input: board = [[\"o\",\"a\",\"a\",\"n\"],[\"e\",\"t\",\"a\",\"e\"],[\"i\",\"h\",\"k\",\"r\"],[\"i\",\"f\",\"l\",\"v\"]], words = [\"oath\",\"pea\",\"eat\",\"rain\"]\n",
    "    Output: [\"eat\",\"oath\"]\n",
    "\n",
    "**Example 2:**\n",
    "\n",
    "    Input: board = [[\"a\",\"b\"],[\"c\",\"d\"]], words = [\"abcb\"]\n",
    "    Output: []\n",
    "\n",
    "## Constraints:\n",
    "\n",
    "- `m == board.length`\n",
    "- `n == board[i].length`\n",
    "- `1 <= m, n <= 12`\n",
    "- `board[i][j]` is a lowercase English letter.\n",
    "- `1 <= words.length <= 3 * 10^4`\n",
    "- `1 <= words[i].length <= 10`\n",
    "- `words[i]` consists of lowercase English letters.\n",
    "- All the strings of `words` are unique.\n"
   ]
  },
  {
   "cell_type": "code",
   "execution_count": 1,
   "metadata": {
    "metadata": {}
   },
   "outputs": [],
   "source": [
    "from typing import Any\n",
    "\n",
    "\n",
    "class Solution:\n",
    "    def findWords(self, board: list[list[str]], words: list[str]) -> list[str]:\n",
    "        WORD_KEY = \"$\"\n",
    "\n",
    "        # Construct the trie from the input words\n",
    "        trie = {}\n",
    "        for word in words:\n",
    "            node = trie\n",
    "            for letter in word:\n",
    "                # Retrieve the node or create a child node if it does not exist\n",
    "                node = node.setdefault(letter, {})\n",
    "            # Mark the end of a word in the trie\n",
    "            node[WORD_KEY] = word\n",
    "\n",
    "        row_num = len(board)\n",
    "        col_num = len(board[0])\n",
    "        matched_words = set()\n",
    "\n",
    "        def backtracking(row, col, parent_node: dict[str, dict[str, dict[str, Any]]]):\n",
    "            letter = board[row][col]\n",
    "            curr_node = parent_node[letter]\n",
    "\n",
    "            # check if we found a word in the trie\n",
    "            word_match = curr_node.pop(WORD_KEY, False)\n",
    "            if word_match:\n",
    "                matched_words.add(word_match)\n",
    "\n",
    "            # mark the current letter before the EXPLORATION\n",
    "            board[row][col] = \"#\"\n",
    "\n",
    "            # Explore the neighbors in 4 directions\n",
    "            for row_offset, col_offset in [(-1, 0), (0, 1), (1, 0), (0, -1)]:\n",
    "                new_row, new_col = row + row_offset, col + col_offset\n",
    "                if (\n",
    "                    0 <= new_row < row_num\n",
    "                    and 0 <= new_col < col_num\n",
    "                    and board[new_row][new_col] in curr_node\n",
    "                ):\n",
    "                    backtracking(new_row, new_col, curr_node)\n",
    "\n",
    "            # End of EXPLORATION, restore the original letter in the board\n",
    "            board[row][col] = letter\n",
    "\n",
    "            # Optimization: incrementally remove the matched leaf node in Trie\n",
    "            if not curr_node:\n",
    "                parent_node.pop(letter)\n",
    "\n",
    "        for row in range(row_num):\n",
    "            for col in range(col_num):\n",
    "                # start the dfs from each cell if the letter is in the trie\n",
    "                if board[row][col] in trie:\n",
    "                    backtracking(row, col, trie)\n",
    "\n",
    "        return list(matched_words)"
   ]
  },
  {
   "cell_type": "code",
   "execution_count": 2,
   "metadata": {
    "metadata": {}
   },
   "outputs": [
    {
     "name": "stdout",
     "output_type": "stream",
     "text": [
      "['eat', 'oath']\n"
     ]
    }
   ],
   "source": [
    "board = [\n",
    "    [\"o\", \"a\", \"a\", \"n\"],\n",
    "    [\"e\", \"t\", \"a\", \"e\"],\n",
    "    [\"i\", \"h\", \"k\", \"r\"],\n",
    "    [\"i\", \"f\", \"l\", \"v\"],\n",
    "]\n",
    "words = [\"oath\", \"pea\", \"eat\", \"rain\"]\n",
    "s = Solution()\n",
    "print(s.findWords(board, words))  # Output: [\"eat\", \"oath\"]"
   ]
  }
 ],
 "metadata": {
  "kernelspec": {
   "display_name": "Python 3",
   "language": "python",
   "name": "python3"
  },
  "language_info": {
   "codemirror_mode": {
    "name": "ipython",
    "version": 3
   },
   "file_extension": ".py",
   "mimetype": "text/x-python",
   "name": "python",
   "nbconvert_exporter": "python",
   "pygments_lexer": "ipython3",
   "version": "3.12.0"
  }
 },
 "nbformat": 4,
 "nbformat_minor": 2
}
