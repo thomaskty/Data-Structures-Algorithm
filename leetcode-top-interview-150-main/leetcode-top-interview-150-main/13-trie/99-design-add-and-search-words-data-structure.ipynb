{
 "cells": [
  {
   "cell_type": "markdown",
   "metadata": {},
   "source": [
    "# Question 97 - LC 211. Design Add and Search Words Data Structure\n",
    "\n",
    "Design a data structure that supports adding new words and finding if a string matches any previously added string.\n",
    "\n",
    "Implement the `WordDictionary` class:\n",
    "\n",
    "- `WordDictionary()` Initializes the object.\n",
    "- `void addWord(word)` Adds `word` to the data structure, it can be matched later.\n",
    "- `bool search(word)` Returns `true` if there is any string in the data structure that matches `word` or `false` otherwise. `word` may contain dots `'.'` where dots can be matched with any letter.\n",
    "\n",
    "## Example:\n",
    "\n",
    "### Input\n",
    "\n",
    "```java\n",
    "[\"WordDictionary\",\"addWord\",\"addWord\",\"addWord\",\"search\",\"search\",\"search\",\"search\"]\n",
    "[[],[\"bad\"],[\"dad\"],[\"mad\"],[\"pad\"],[\"bad\"],[\".ad\"],[\"b..\"]]\n",
    "```\n",
    "\n",
    "### Output\n",
    "\n",
    "```java\n",
    "[null,null,null,null,false,true,true,true]\n",
    "```\n",
    "\n",
    "### Explanation\n",
    "\n",
    "```java\n",
    "WordDictionary wordDictionary = new WordDictionary();\n",
    "wordDictionary.addWord(\"bad\");\n",
    "wordDictionary.addWord(\"dad\");\n",
    "wordDictionary.addWord(\"mad\");\n",
    "wordDictionary.search(\"pad\"); // return False\n",
    "wordDictionary.search(\"bad\"); // return True\n",
    "wordDictionary.search(\".ad\"); // return True\n",
    "wordDictionary.search(\"b..\"); // return True\n",
    "```\n",
    "\n",
    "## Constraints:\n",
    "\n",
    "- `1 <= word.length <= 25`\n",
    "- `word` in `addWord` consists of lowercase English letters.\n",
    "- `word` in `search` consist of `'.'` or lowercase English letters.\n",
    "- There will be at most `2` dots in `word` for `search` queries.\n",
    "- At most `10^4` calls will be made to `addWord` and `search`.\n"
   ]
  },
  {
   "cell_type": "code",
   "execution_count": 5,
   "metadata": {
    "metadata": {}
   },
   "outputs": [],
   "source": [
    "class TrieNode:\n",
    "    def __init__(self):\n",
    "        self.children = {}\n",
    "        self.is_end_of_word = False\n",
    "\n",
    "\n",
    "class WordDictionary:\n",
    "\n",
    "    def __init__(self):\n",
    "        self.root = TrieNode()\n",
    "\n",
    "    def addWord(self, word: str) -> None:\n",
    "        node = self.root\n",
    "        for char in word:\n",
    "            if char not in node.children:\n",
    "                node.children[char] = TrieNode()\n",
    "            node = node.children[char]\n",
    "        node.is_end_of_word = True\n",
    "\n",
    "    def search(self, word: str) -> bool:\n",
    "        def search_in_node(word, node):\n",
    "            for i, char in enumerate(word):\n",
    "                if char == '.':\n",
    "                    # if the current character is '.', check all possible nodes at this level\n",
    "                    return any(search_in_node(word[i + 1:], child) for child in node.children.values())\n",
    "                else:\n",
    "                    if char not in node.children:\n",
    "                        # if the current character is not '.' and it's not in the children, then the word doesn't exist\n",
    "                        return False\n",
    "                    node = node.children[char]\n",
    "            return node.is_end_of_word\n",
    "\n",
    "        return search_in_node(word, self.root)"
   ]
  },
  {
   "cell_type": "code",
   "execution_count": 6,
   "metadata": {
    "metadata": {}
   },
   "outputs": [
    {
     "name": "stdout",
     "output_type": "stream",
     "text": [
      "All tests passed!\n"
     ]
    }
   ],
   "source": [
    "def run_tests():\n",
    "    # Create a new WordDictionary instance\n",
    "    word_dictionary = WordDictionary()\n",
    "\n",
    "    # Add words to the dictionary\n",
    "    word_dictionary.addWord(\"bad\")\n",
    "    word_dictionary.addWord(\"dad\")\n",
    "    word_dictionary.addWord(\"mad\")\n",
    "    \n",
    "    # Test cases for exact matches and wildcard searches\n",
    "    assert not word_dictionary.search(\"pad\"), \"Expected False, 'pad' does not exist\"\n",
    "    assert word_dictionary.search(\"bad\"), \"Expected True, 'bad' exists\"\n",
    "    assert word_dictionary.search(\".ad\"), \"Expected True, '.ad' matches 'bad', 'dad', and 'mad'\"\n",
    "    assert word_dictionary.search(\"b..\"), \"Expected True, 'b..' matches 'bad'\"\n",
    "    assert word_dictionary.search(\"m..\"), \"Expected True, 'm..' matches 'mad'\"\n",
    "    assert word_dictionary.search(\"d.d\"), \"Expected True, 'd.d' matches 'dad'\"\n",
    "    assert not word_dictionary.search(\"da\"), \"Expected False, 'da' is incomplete\"\n",
    "\n",
    "    print(\"All tests passed!\")\n",
    "\n",
    "# Run the test cases\n",
    "run_tests()\n"
   ]
  }
 ],
 "metadata": {
  "kernelspec": {
   "display_name": "Python 3",
   "language": "python",
   "name": "python3"
  },
  "language_info": {
   "codemirror_mode": {
    "name": "ipython",
    "version": 3
   },
   "file_extension": ".py",
   "mimetype": "text/x-python",
   "name": "python",
   "nbconvert_exporter": "python",
   "pygments_lexer": "ipython3",
   "version": "3.12.0"
  }
 },
 "nbformat": 4,
 "nbformat_minor": 2
}
