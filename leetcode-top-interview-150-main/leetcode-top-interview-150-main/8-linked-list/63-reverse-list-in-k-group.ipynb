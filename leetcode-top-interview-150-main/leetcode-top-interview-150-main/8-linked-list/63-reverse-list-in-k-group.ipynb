{
 "cells": [
  {
   "cell_type": "markdown",
   "metadata": {},
   "source": [
    "### Question 61 - LC 25. Reverse Nodes in k-Group\n",
    "\n",
    "**Difficulty**: Hard\n",
    "\n",
    "**Topics**: Linked List\n",
    "\n",
    "**Companies**: Various\n",
    "\n",
    "Given the head of a linked list, reverse the nodes of the list k at a time, and return the modified list.\n",
    "\n",
    "`k` is a positive integer and is less than or equal to the length of the linked list. If the number of nodes is not a multiple of `k` then left-out nodes, in the end, should remain as it is.\n",
    "\n",
    "You may not alter the values in the list's nodes, only nodes themselves may be changed.\n",
    "\n",
    "#### Example 1:\n",
    "\n",
    "- **Input**: head = [1,2,3,4,5], k = 2\n",
    "- **Output**: [2,1,4,3,5]\n",
    "\n",
    "#### Example 2:\n",
    "\n",
    "- **Input**: head = [1,2,3,4,5], k = 3\n",
    "- **Output**: [3,2,1,4,5]\n",
    "\n",
    "#### Constraints:\n",
    "\n",
    "- The number of nodes in the list is `n`.\n",
    "- `1 <= k <= n <= 5000`\n",
    "- `0 <= Node.val <= 1000`\n",
    "\n",
    "#### Follow-up: Can you solve the problem in O(1) extra memory space?\n"
   ]
  },
  {
   "cell_type": "code",
   "execution_count": 13,
   "metadata": {},
   "outputs": [],
   "source": [
    "from __future__ import annotations\n",
    "from typing import Optional"
   ]
  },
  {
   "cell_type": "code",
   "execution_count": 14,
   "metadata": {},
   "outputs": [],
   "source": [
    "# Definition for singly-linked list.\n",
    "class ListNode:\n",
    "    def __init__(self, val: int = 0, next: Optional[ListNode] = None):\n",
    "        self.val = val\n",
    "        self.next = next\n",
    "\n",
    "    @staticmethod\n",
    "    def from_list(l: list[int]) -> ListNode | None:\n",
    "        if not l:  # Check if the list is empty\n",
    "            return None  # Return None if the list is empty\n",
    "        head = ListNode(l[0])\n",
    "        current = head\n",
    "        for i in l[1:]:\n",
    "            current.next = ListNode(i)\n",
    "            current = current.next\n",
    "        return head\n",
    "\n",
    "    def to_list(self) -> list[int]:\n",
    "        l = [self.val]\n",
    "        current = self\n",
    "        while current.next:\n",
    "            current = current.next\n",
    "            l.append(current.val)\n",
    "        return l\n",
    "\n",
    "    def print(self) -> None:\n",
    "        print(self.to_list())"
   ]
  },
  {
   "cell_type": "code",
   "execution_count": 15,
   "metadata": {},
   "outputs": [],
   "source": [
    "class Solution:\n",
    "    def reverseKGroup(self, head: Optional[ListNode], k: int) -> Optional[ListNode]:\n",
    "        if head is None or k == 1:\n",
    "            return head\n",
    "\n",
    "        # Dummy node to act as the starting point\n",
    "        dummy = ListNode(-1)\n",
    "        dummy.next = head\n",
    "\n",
    "        # Initialize pointers\n",
    "        prev = dummy\n",
    "        curr = dummy\n",
    "        next = dummy\n",
    "\n",
    "        # Count the number of nodes in the list\n",
    "        count = 0\n",
    "        while curr.next is not None:\n",
    "            curr = curr.next\n",
    "            count += 1\n",
    "\n",
    "        # Traverse the list and reverse every k nodes\n",
    "        while count >= k:\n",
    "            curr = prev.next  # The current node at the start of the k group\n",
    "            next = curr.next  # The next node to be processed\n",
    "            for i in range(1, k):  # Note: we already have the first node, so start from 1\n",
    "                curr.next = next.next\n",
    "                next.next = prev.next\n",
    "                prev.next = next\n",
    "                next = curr.next\n",
    "            prev = curr\n",
    "            count -= k\n",
    "\n",
    "        return dummy.next"
   ]
  },
  {
   "cell_type": "code",
   "execution_count": 16,
   "metadata": {},
   "outputs": [
    {
     "data": {
      "text/plain": [
       "[([1, 2, 3, 4, 5], 2, [2, 1, 4, 3, 5]),\n",
       " ([1, 2, 3, 4, 5], 3, [3, 2, 1, 4, 5]),\n",
       " ([1, 2, 3, 4, 5, 6], 3, [3, 2, 1, 6, 5, 4]),\n",
       " ([], 1, []),\n",
       " ([1], 1, [1])]"
      ]
     },
     "execution_count": 16,
     "metadata": {},
     "output_type": "execute_result"
    }
   ],
   "source": [
    "# Test cases\n",
    "solution = Solution()\n",
    "\n",
    "test_cases = [\n",
    "    ([1, 2, 3, 4, 5], 2),  # Example 1\n",
    "    ([1, 2, 3, 4, 5], 3),  # Example 2\n",
    "    ([1, 2, 3, 4, 5, 6], 3),\n",
    "    ([], 1),\n",
    "    ([1], 1)\n",
    "]\n",
    "\n",
    "results = []\n",
    "\n",
    "for inputs, k in test_cases:\n",
    "    head = ListNode.from_list(inputs)\n",
    "    result_head = solution.reverseKGroup(head, k)\n",
    "    result_list = result_head.to_list() if result_head else []\n",
    "    results.append((inputs, k, result_list))\n",
    "\n",
    "results"
   ]
  }
 ],
 "metadata": {
  "kernelspec": {
   "display_name": "Python 3",
   "language": "python",
   "name": "python3"
  },
  "language_info": {
   "codemirror_mode": {
    "name": "ipython",
    "version": 3
   },
   "file_extension": ".py",
   "mimetype": "text/x-python",
   "name": "python",
   "nbconvert_exporter": "python",
   "pygments_lexer": "ipython3",
   "version": "3.11.8"
  }
 },
 "nbformat": 4,
 "nbformat_minor": 2
}
