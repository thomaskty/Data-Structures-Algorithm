{
 "cells": [
  {
   "cell_type": "markdown",
   "metadata": {},
   "source": [
    "# Question 63 - LC 82. Remove Duplicates from Sorted List II\n",
    "\n",
    "Given the **head** of a sorted linked list, delete all nodes that have duplicate numbers, _leaving only distinct numbers from the original list._ Return the linked list sorted as well.\n",
    "\n",
    "**Example 1:**\n",
    "\n",
    "    Input: head = [1,2,3,3,4,4,5]\n",
    "    Output: [1,2,5]\n",
    "\n",
    "**Example 2:**\n",
    "\n",
    "    Input: head = [1,1,1,2,3]\n",
    "    Output: [2,3]\n",
    "\n",
    "**Constraints:**\n",
    "\n",
    "- The number of nodes in the list is in the range `[0, 300]`.\n",
    "- `-100 <= Node.val <= 100`\n",
    "- The list is guaranteed to be **sorted** in ascending order.\n"
   ]
  },
  {
   "cell_type": "code",
   "execution_count": 1,
   "metadata": {},
   "outputs": [],
   "source": [
    "from __future__ import annotations\n",
    "from typing import Optional"
   ]
  },
  {
   "cell_type": "code",
   "execution_count": 2,
   "metadata": {},
   "outputs": [],
   "source": [
    "# Definition for singly-linked list.\n",
    "class ListNode:\n",
    "    def __init__(self, val: int = 0, next: Optional[ListNode] = None):\n",
    "        self.val = val\n",
    "        self.next = next\n",
    "\n",
    "    @staticmethod\n",
    "    def from_list(l: list[int]) -> ListNode | None:\n",
    "        if not l:  # Check if the list is empty\n",
    "            return None  # Return None if the list is empty\n",
    "        head = ListNode(l[0])\n",
    "        current = head\n",
    "        for i in l[1:]:\n",
    "            current.next = ListNode(i)\n",
    "            current = current.next\n",
    "        return head\n",
    "\n",
    "    def to_list(self) -> list[int]:\n",
    "        l = [self.val]\n",
    "        current = self\n",
    "        while current.next:\n",
    "            current = current.next\n",
    "            l.append(current.val)\n",
    "        return l\n",
    "\n",
    "    def print(self) -> None:\n",
    "        print(self.to_list())"
   ]
  },
  {
   "cell_type": "code",
   "execution_count": 3,
   "metadata": {},
   "outputs": [],
   "source": [
    "class Solution:\n",
    "    def deleteDuplicates(self, head: Optional[ListNode]) -> Optional[ListNode]:\n",
    "        dummy = ListNode(-1, head)\n",
    "\n",
    "        # `prev` is a lagging pointer to easily remove nodes with the same value\n",
    "        prev = dummy\n",
    "\n",
    "        while head:\n",
    "            # if we find a sequence of nodes with the same value\n",
    "            if head.next and head.val == head.next.val:\n",
    "                # skip the nodes with the same value\n",
    "                while head.next and head.val == head.next.val:\n",
    "                    head = head.next\n",
    "                # remove the nodes with the same value bt linking 'prev.next' to the node\n",
    "                # right after the last node with the same value\n",
    "                if prev:  # Ensure prev is not None\n",
    "                    prev.next = head.next\n",
    "            else:\n",
    "                # no duplicates found, move 'prev' to the next node\n",
    "                if prev:  # Ensure prev is not None\n",
    "                    prev = prev.next\n",
    "\n",
    "            # move 'head' to the next node\n",
    "            head = head.next\n",
    "\n",
    "        # return the modified list without the dummy node\n",
    "        return dummy.next"
   ]
  },
  {
   "cell_type": "code",
   "execution_count": 4,
   "metadata": {},
   "outputs": [
    {
     "name": "stdout",
     "output_type": "stream",
     "text": [
      "[1, 2, 5]\n",
      "[2, 3]\n"
     ]
    }
   ],
   "source": [
    "s = Solution()\n",
    "\n",
    "head = ListNode.from_list([1, 2, 3, 3, 4, 4, 5])\n",
    "result = s.deleteDuplicates(head)\n",
    "if result:\n",
    "    result.print()\n",
    "\n",
    "head = ListNode.from_list([1, 1, 1, 2, 3])\n",
    "result = s.deleteDuplicates(head)\n",
    "if result:\n",
    "    result.print()"
   ]
  }
 ],
 "metadata": {
  "kernelspec": {
   "display_name": "Python 3",
   "language": "python",
   "name": "python3"
  },
  "language_info": {
   "codemirror_mode": {
    "name": "ipython",
    "version": 3
   },
   "file_extension": ".py",
   "mimetype": "text/x-python",
   "name": "python",
   "nbconvert_exporter": "python",
   "pygments_lexer": "ipython3",
   "version": "3.12.0"
  }
 },
 "nbformat": 4,
 "nbformat_minor": 2
}
