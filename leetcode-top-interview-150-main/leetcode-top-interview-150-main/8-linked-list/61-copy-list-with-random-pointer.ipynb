{
 "cells": [
  {
   "cell_type": "markdown",
   "metadata": {},
   "source": [
    "# Question 59 - LC 138. Copy List with Random Pointer\n",
    "\n",
    "A linked list of length `n` is given such that each node contains an additional random pointer, which could point to any node in the list, or `null`.\n",
    "\n",
    "Construct a **deep copy** of the list. The deep copy should consist of exactly n brand new nodes, where each new node has its value set to the value of its corresponding original node. Both the next and random pointer of the new nodes should point to new nodes in the copied list such that the pointers in the original list and copied list represent the same list state. None of the pointers in the new list should point to nodes in the original list.\n",
    "\n",
    "For example, if there are two nodes X and Y in the original list, where X.random --> Y, then for the corresponding two nodes x and y in the copied list, x.random --> y.\n",
    "\n",
    "Return *the head of the copied linked list*.\n",
    "\n",
    "The linked list is represented in the input/output as a list of n nodes. Each node is represented as a pair of [val, random_index] where:\n",
    "\n",
    "- `val`: an integer representing Node.val\n",
    "- `random_index`: the index of the node (range from `0` to `n-1`) that the `random` pointer points to, or `null` if it does not point to any node.\n",
    "\n",
    "Your code will **only** be given the `head` of the original linked list.\n",
    "\n",
    "**Example 1:**\n",
    "\n",
    "    Input: head = [[7,null],[13,0],[11,4],[10,2],[1,0]]\n",
    "    Output: [[7,null],[13,0],[11,4],[10,2],[1,0]]\n",
    "\n",
    "**Example 2:**\n",
    "\n",
    "    Input: head = [[1,1],[2,1]]\n",
    "    Output: [[1,1],[2,1]]\n",
    "\n",
    "**Example 3:**\n",
    "\n",
    "    Input: head = [[3,null],[3,0],[3,null]]\n",
    "    Output: [[3,null],[3,0],[3,null]]\n",
    "\n",
    "**Constraints:**\n",
    "\n",
    "- `0 <= n <= 1000`\n",
    "- `-10^4 <= Node.val <= 10^4`\n",
    "- `Node.random` is `null` or is pointing to some node in the linked list.\n"
   ]
  },
  {
   "cell_type": "code",
   "execution_count": 7,
   "metadata": {},
   "outputs": [],
   "source": [
    "from __future__ import annotations\n",
    "from typing import Optional\n",
    "\n",
    "\n",
    "\n",
    "\"\"\"\n",
    "# Definition for a Node.\n",
    "\"\"\"\n",
    "class Node:\n",
    "    def __init__(self, x: int, next: Node = None, random: Node = None):\n",
    "        self.val = int(x)\n",
    "        self.next = next\n",
    "        self.random = random\n",
    "\n",
    "\n",
    "class Solution:\n",
    "    def copyRandomList(self, head: Optional[Node]) -> Optional[Node]:\n",
    "        if not head:\n",
    "            return None\n",
    "\n",
    "        # Step 1: Create a copy of each node and place it next to the original node\n",
    "        current = head\n",
    "        while current:\n",
    "            new_node = Node(current.val, current.next, current.random)\n",
    "            current.next = new_node\n",
    "            current = new_node.next\n",
    "\n",
    "        # Step 2: Set the random pointers for the copied nodes\n",
    "        current = head\n",
    "        while current:\n",
    "            if current.random:\n",
    "                current.next.random = current.random.next\n",
    "            current = current.next.next\n",
    "\n",
    "        # Step 3: Restore the original list and extract the copied list\n",
    "        current = head\n",
    "        copy_head = head.next\n",
    "        while current:\n",
    "            temp = current.next\n",
    "            current.next = temp.next\n",
    "            if temp.next:\n",
    "                temp.next = temp.next.next\n",
    "            current = current.next\n",
    "\n",
    "        return copy_head"
   ]
  },
  {
   "cell_type": "code",
   "execution_count": 8,
   "metadata": {},
   "outputs": [],
   "source": [
    "# Helper function to print the list to verify the solution\n",
    "def printList(head):\n",
    "    result = []\n",
    "    while head:\n",
    "        random_val = head.random.val if head.random else 'null'\n",
    "        result.append([head.val, random_val])\n",
    "        head = head.next\n",
    "    return result"
   ]
  },
  {
   "cell_type": "code",
   "execution_count": 9,
   "metadata": {},
   "outputs": [
    {
     "data": {
      "text/plain": [
       "[[7, 'null'], [13, 7], [11, 1], [10, 11], [1, 7]]"
      ]
     },
     "execution_count": 9,
     "metadata": {},
     "output_type": "execute_result"
    }
   ],
   "source": [
    "# Example 1\n",
    "copyRandomList = Solution().copyRandomList\n",
    "\n",
    "node1 = Node(7)\n",
    "node2 = Node(13)\n",
    "node3 = Node(11)\n",
    "node4 = Node(10)\n",
    "node5 = Node(1)\n",
    "\n",
    "node1.next = node2\n",
    "node2.next = node3\n",
    "node3.next = node4\n",
    "node4.next = node5\n",
    "\n",
    "node2.random = node1\n",
    "node3.random = node5\n",
    "node4.random = node3\n",
    "node5.random = node1\n",
    "\n",
    "copied_head = copyRandomList(node1)\n",
    "printList(copied_head)"
   ]
  }
 ],
 "metadata": {
  "kernelspec": {
   "display_name": "Python 3",
   "language": "python",
   "name": "python3"
  },
  "language_info": {
   "codemirror_mode": {
    "name": "ipython",
    "version": 3
   },
   "file_extension": ".py",
   "mimetype": "text/x-python",
   "name": "python",
   "nbconvert_exporter": "python",
   "pygments_lexer": "ipython3",
   "version": "3.11.8"
  }
 },
 "nbformat": 4,
 "nbformat_minor": 2
}
