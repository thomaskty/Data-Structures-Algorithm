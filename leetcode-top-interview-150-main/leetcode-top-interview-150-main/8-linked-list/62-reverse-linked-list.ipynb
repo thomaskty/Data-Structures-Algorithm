{
 "cells": [
  {
   "cell_type": "markdown",
   "metadata": {},
   "source": [
    "# Question 60 - LC 92. Reverse Linked List II\n",
    "\n",
    "Given the head of a singly linked list and two integers `left` and `right` where `left <= right`, reverse the nodes of the list from position `left` to position `right`, and return the **reversed list**.\n",
    "\n",
    "**Example 1:**\n",
    "\n",
    "    Input: head = [1,2,3,4,5], left = 2, right = 4\n",
    "    Output: [1,4,3,2,5]\n",
    "\n",
    "**Example 2:**\n",
    "\n",
    "    Input: head = [5], left = 1, right = 1\n",
    "    Output: [5]\n",
    "\n",
    "**Constraints:**\n",
    "\n",
    "- The number of nodes in the list is `n`.\n",
    "- `1 <= n <= 500`\n",
    "- `-500 <= Node.val <= 500`\n",
    "- `1 <= left <= right <= n`\n",
    "\n",
    "**Follow up**: Could you do it in one pass?\n"
   ]
  },
  {
   "cell_type": "code",
   "execution_count": 8,
   "metadata": {},
   "outputs": [],
   "source": [
    "from __future__ import annotations\n",
    "from typing import Optional"
   ]
  },
  {
   "cell_type": "code",
   "execution_count": 9,
   "metadata": {},
   "outputs": [],
   "source": [
    "# Definition for singly-linked list.\n",
    "class ListNode:\n",
    "    def __init__(self, val: int = 0, next: Optional[ListNode] = None):\n",
    "        self.val = val\n",
    "        self.next = next\n",
    "        \n",
    "    @staticmethod\n",
    "    def from_list(l: list[int]) -> ListNode | None:\n",
    "        if not l:  # Check if the list is empty\n",
    "            return None  # Return None if the list is empty\n",
    "        head = ListNode(l[0])\n",
    "        current = head\n",
    "        for i in l[1:]:\n",
    "            current.next = ListNode(i)\n",
    "            current = current.next\n",
    "        return head\n",
    "\n",
    "    def to_list(self) -> list[int]:\n",
    "        l = [self.val]\n",
    "        current = self\n",
    "        while current.next:\n",
    "            current = current.next\n",
    "            l.append(current.val)\n",
    "        return l\n",
    "\n",
    "    def print(self) -> None:\n",
    "        print(self.to_list())"
   ]
  },
  {
   "cell_type": "code",
   "execution_count": 10,
   "metadata": {},
   "outputs": [],
   "source": [
    "class Solution:\n",
    "    def reverseBetween(self, head: Optional[ListNode], left: int, right: int) -> Optional[ListNode]:\n",
    "        if not head or left == right:\n",
    "            return head\n",
    "\n",
    "        dummy = ListNode(0)\n",
    "        dummy.next = head\n",
    "        prev = dummy\n",
    "\n",
    "        # Move `prev` to the element just before the start of the sub-list to be reversed\n",
    "        for _ in range(left - 1):\n",
    "            prev = prev.next\n",
    "\n",
    "        # Start reversing the sub-list\n",
    "        reverse = None\n",
    "        current = prev.next\n",
    "        for _ in range(right - left + 1):\n",
    "            next_temp = current.next\n",
    "            current.next = reverse\n",
    "            reverse = current\n",
    "            current = next_temp\n",
    "\n",
    "        # Connect the start of the sub-list to the part after the reversed sub-list\n",
    "        prev.next.next = current\n",
    "        # Connect `prev` to the start of the reversed sub-list\n",
    "        prev.next = reverse\n",
    "\n",
    "        return dummy.next\n",
    "    "
   ]
  },
  {
   "cell_type": "code",
   "execution_count": 11,
   "metadata": {},
   "outputs": [
    {
     "name": "stdout",
     "output_type": "stream",
     "text": [
      "[1, 4, 3, 2, 5]\n",
      "[5]\n"
     ]
    }
   ],
   "source": [
    "solution = Solution()\n",
    "\n",
    "# Example 1\n",
    "head = ListNode.from_list([1, 2, 3, 4, 5])\n",
    "result_head: ListNode = solution.reverseBetween(head, 2, 4)\n",
    "result_head.print()  # Expected output: [1, 4, 3, 2, 5]\n",
    "\n",
    "# Example 2\n",
    "head = ListNode.from_list([5])\n",
    "result_head = solution.reverseBetween(head, 1, 1)\n",
    "result_head.print()  # Expected output: [5]"
   ]
  }
 ],
 "metadata": {
  "kernelspec": {
   "display_name": "Python 3",
   "language": "python",
   "name": "python3"
  },
  "language_info": {
   "codemirror_mode": {
    "name": "ipython",
    "version": 3
   },
   "file_extension": ".py",
   "mimetype": "text/x-python",
   "name": "python",
   "nbconvert_exporter": "python",
   "pygments_lexer": "ipython3",
   "version": "3.11.8"
  }
 },
 "nbformat": 4,
 "nbformat_minor": 2
}
