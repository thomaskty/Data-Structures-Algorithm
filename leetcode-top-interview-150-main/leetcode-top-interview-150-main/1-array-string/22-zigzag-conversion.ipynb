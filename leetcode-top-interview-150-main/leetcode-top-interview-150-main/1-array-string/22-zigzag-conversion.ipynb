{
 "cells": [
  {
   "cell_type": "markdown",
   "metadata": {},
   "source": [
    "# Question 22 - 6. Zigzag Conversion\n",
    "\n",
    "### Difficulty: Medium\n",
    "\n",
    "#### Topics\n",
    "\n",
    "The string `\"PAYPALISHIRING\"` is written in a zigzag pattern on a given number of rows like this: (you may want to display this pattern in a fixed font for better legibility)\n",
    "\n",
    "```text\n",
    "    P   A   H   N\n",
    "    A P L S I I G\n",
    "    Y   I   R\n",
    "```\n",
    "\n",
    "And then read line by line: `\"PAHNAPLSIIGYIR\"`\n",
    "\n",
    "Write the code that will take a string and make this conversion given a number of rows:\n",
    "\n",
    "```cpp\n",
    "string convert(string s, int numRows);\n",
    "```\n",
    "\n",
    "**Example 1:**\n",
    "\n",
    "    Input: s = \"PAYPALISHIRING\", numRows = 3\n",
    "    Output: \"PAHNAPLSIIGYIR\"\n",
    "\n",
    "**Example 2:**\n",
    "\n",
    "    Input: s = \"PAYPALISHIRING\", numRows = 4\n",
    "    Output: \"PINALSIGYAHRPI\"\n",
    "\n",
    "    Explanation:\n",
    "    P     I    N\n",
    "    A   L S  I G\n",
    "    Y A   H R\n",
    "    P     I\n",
    "\n",
    "**Example 3:**\n",
    "\n",
    "    Input: s = \"A\", numRows = 1\n",
    "    Output: \"A\"\n",
    "\n",
    "**Constraints:**\n",
    "\n",
    "- `1 <= s.length <= 1000`\n",
    "- s consists of English letters (lower-case and upper-case), ',' and '.'.\n",
    "- `1 <= numRows <= 1000`\n"
   ]
  },
  {
   "cell_type": "code",
   "execution_count": 3,
   "metadata": {},
   "outputs": [],
   "source": [
    "class Solution:\n",
    "    def convert(self, s: str, numRows: int) -> str:\n",
    "        # edge cases - if there is only one row or the string is shorter than the number of rows\n",
    "        if numRows == 1 or numRows >= len(s):\n",
    "            return s\n",
    "\n",
    "        # create a list of strings for each row\n",
    "        rows = [\"\"] * numRows\n",
    "\n",
    "        # keep track of which row we are on\n",
    "        current_row = 0\n",
    "\n",
    "        # keep track of which direction we are going\n",
    "        going_down = False\n",
    "\n",
    "        # iterate through the string\n",
    "        for c in s:\n",
    "            # add the character to the current row\n",
    "            rows[current_row] += c  # rows[0] = rows[0] + c - string concatenation\n",
    "\n",
    "            # if we are on the first or last row, change direction\n",
    "            if current_row == 0 or current_row == numRows - 1:\n",
    "                going_down = not going_down\n",
    "\n",
    "            # increment or decrement the current row\n",
    "            current_row += 1 if going_down else -1\n",
    "\n",
    "        # return the joined rows\n",
    "        return \"\".join(rows)"
   ]
  },
  {
   "cell_type": "code",
   "execution_count": 4,
   "metadata": {},
   "outputs": [
    {
     "data": {
      "text/plain": [
       "('PAHNAPLSIIGYIR', 'PINALSIGYAHRPI', 'A')"
      ]
     },
     "execution_count": 4,
     "metadata": {},
     "output_type": "execute_result"
    }
   ],
   "source": [
    "# Test the solution with the provided examples\n",
    "sol = Solution()\n",
    "\n",
    "# Example 1\n",
    "s1 = \"PAYPALISHIRING\"\n",
    "numRows1 = 3\n",
    "output1 = sol.convert(s1, numRows1)\n",
    "\n",
    "# Example 2\n",
    "s2 = \"PAYPALISHIRING\"\n",
    "numRows2 = 4\n",
    "output2 = sol.convert(s2, numRows2)\n",
    "\n",
    "# Example 3\n",
    "s3 = \"A\"\n",
    "numRows3 = 1\n",
    "output3 = sol.convert(s3, numRows3)\n",
    "\n",
    "output1, output2, output3"
   ]
  },
  {
   "cell_type": "markdown",
   "metadata": {},
   "source": [
    "To analyze the complexity of the provided Zigzag Conversion algorithm, we'll consider both time complexity and space complexity:\n",
    "\n",
    "### Time Complexity\n",
    "\n",
    "1. **Iterating Over the String**: The algorithm iterates through each character of the string `s` exactly once. If the length of the string is `n`, this results in `O(n)` time complexity.\n",
    "\n",
    "2. **Appending Characters to Rows**: For each character in the string, the algorithm appends it to one of the `numRows` strings. The appending operation is generally `O(1)` for strings in Python, as Python strings are dynamic arrays at a low level. However, when the underlying array needs resizing, it can momentarily cause a higher cost, but this is still amortized `O(1)`.\n",
    "\n",
    "3. **Combining Rows into a Single String**: After processing the characters, the algorithm combines `numRows` strings into one. The total number of characters across all rows is `n`, so this operation is `O(n)`.\n",
    "\n",
    "Given these considerations, the overall time complexity is **O(n)**, where `n` is the length of the input string `s`.\n",
    "\n",
    "### Space Complexity\n",
    "\n",
    "1. **Rows Storage**: The algorithm uses a list of strings to store the characters in each row. The total space used by all these rows combined is equal to the length of the input string `s`, which is `O(n)`.\n",
    "\n",
    "2. **Auxiliary Space**: The variables used for iteration and control flow (`current_row`, `going_down`) use constant space, `O(1)`.\n",
    "\n",
    "Thus, the overall space complexity of the algorithm is **O(n)**, where `n` is the length of the input string `s`. \n",
    "\n",
    "In summary, the Zigzag Conversion algorithm is efficient in terms of time, with a linear time complexity relative to the input size, and uses linear space to store the intermediate representations of the zigzag pattern."
   ]
  }
 ],
 "metadata": {
  "kernelspec": {
   "display_name": "Python 3",
   "language": "python",
   "name": "python3"
  },
  "language_info": {
   "codemirror_mode": {
    "name": "ipython",
    "version": 3
   },
   "file_extension": ".py",
   "mimetype": "text/x-python",
   "name": "python",
   "nbconvert_exporter": "python",
   "pygments_lexer": "ipython3",
   "version": "3.11.7"
  }
 },
 "nbformat": 4,
 "nbformat_minor": 2
}
