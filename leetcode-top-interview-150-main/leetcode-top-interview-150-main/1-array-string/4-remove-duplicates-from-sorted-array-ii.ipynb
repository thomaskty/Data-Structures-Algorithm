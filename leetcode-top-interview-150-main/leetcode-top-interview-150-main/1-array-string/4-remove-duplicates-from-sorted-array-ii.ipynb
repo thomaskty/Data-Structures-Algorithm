{
 "cells": [
  {
   "cell_type": "markdown",
   "metadata": {},
   "source": [
    "# Question 4 - 80. Remove Duplicates from Sorted Array II\n",
    "\n",
    "## Description\n",
    "\n",
    "Given an integer array `nums` sorted in non-decreasing order, remove some duplicates **in-place** such that each unique element appears at most twice. The **relative order** of the elements should be kept the same.\n",
    "\n",
    "Since it is impossible to change the length of the array in some languages, you must instead have the result be placed in the first part of the array `nums`. More formally, if there are `k` elements after removing the duplicates, then the first k elements of `nums` should hold the final result. It does not matter what you leave beyond the first `k` elements.\n",
    "\n",
    "Return `k` *after placing the final result in the first `k` slots of `nums`*.\n",
    "\n",
    "Do not allocate extra space for another array. You must do this by **modifying the input array** in-place with O(1) extra memory.\n",
    "\n",
    "**Custom Judge:**\n",
    "\n",
    "The judge will test your solution with the following code:\n",
    "\n",
    "    int[] nums = [...]; // Input array\n",
    "    int[] expectedNums = [...]; // The expected answer with correct length\n",
    "\n",
    "    int k = removeDuplicates(nums); // Calls your implementation\n",
    "\n",
    "    assert k == expectedNums.length;\n",
    "    for (int i = 0; i < k; i++) {\n",
    "        assert nums[i] == expectedNums[i];\n",
    "    }\n",
    "\n",
    "If all assertions pass, then your solution will be accepted.\n",
    "\n",
    "**Example 1:**\n",
    "\n",
    "    Input: nums = [1,1,1,2,2,3]\n",
    "    Output: 5, nums = [1,1,2,2,3,_]\n",
    "    Explanation: Your function should return k = 5, with the first five elements of nums being 1, 1, 2, 2 and 3 respectively.\n",
    "    It does not matter what you leave beyond the returned k (hence they are underscores).\n",
    "\n",
    "**Example 2:**\n",
    "\n",
    "    Input: nums = [0,0,1,1,1,1,2,3,3]\n",
    "    Output: 7, nums = [0,0,1,1,2,3,3,_,_]\n",
    "    Explanation: Your function should return k = 7, with the first seven elements of nums being 0, 0, 1, 1, 2, 3 and 3 respectively.\n",
    "    It does not matter what you leave beyond the returned k (hence they are underscores).\n",
    " \n",
    "\n",
    "**Constraints:**\n",
    "\n",
    "- `1 <= nums.length <= 3 * 104`\n",
    "- `-104 <= nums[i] <= 104`\n",
    "- `nums is sorted in non-decreasing order.`"
   ]
  },
  {
   "cell_type": "code",
   "execution_count": 1,
   "metadata": {},
   "outputs": [],
   "source": [
    "class Solution:\n",
    "    # O(n) time complexity: one pass through nums\n",
    "    # O(1) space complexity: only two pointers used\n",
    "    def removeDuplicates(self, nums: list[int]) -> int:\n",
    "        # init two pointers. i is the slow-runner, j is the fast-runner\n",
    "        i = 0\n",
    "\n",
    "        for j in range(len(nums)):\n",
    "            # check if the current value is equal to the value at i - 2 (to allow max 2 duplicates)\n",
    "            if i < 2 or nums[j] != nums[i - 2]:\n",
    "                nums[i] = nums[j]\n",
    "                i += 1\n",
    "\n",
    "        return i"
   ]
  },
  {
   "cell_type": "code",
   "execution_count": 2,
   "metadata": {},
   "outputs": [
    {
     "data": {
      "text/plain": [
       "((5, [1, 1, 2, 2, 3]), (7, [0, 0, 1, 1, 2, 3, 3]))"
      ]
     },
     "execution_count": 2,
     "metadata": {},
     "output_type": "execute_result"
    }
   ],
   "source": [
    "# Test the function with the provided examples\n",
    "\n",
    "removeDuplicates = Solution().removeDuplicates\n",
    "\n",
    "test1 = [1, 1, 1, 2, 2, 3]\n",
    "test2 = [0, 0, 1, 1, 1, 1, 2, 3, 3]\n",
    "\n",
    "k1 = removeDuplicates(test1)\n",
    "k2 = removeDuplicates(test2)\n",
    "\n",
    "(k1, test1[:k1]), (k2, test2[:k2])"
   ]
  }
 ],
 "metadata": {
  "kernelspec": {
   "display_name": "Python 3",
   "language": "python",
   "name": "python3"
  },
  "language_info": {
   "codemirror_mode": {
    "name": "ipython",
    "version": 3
   },
   "file_extension": ".py",
   "mimetype": "text/x-python",
   "name": "python",
   "nbconvert_exporter": "python",
   "pygments_lexer": "ipython3",
   "version": "3.11.6"
  }
 },
 "nbformat": 4,
 "nbformat_minor": 2
}
