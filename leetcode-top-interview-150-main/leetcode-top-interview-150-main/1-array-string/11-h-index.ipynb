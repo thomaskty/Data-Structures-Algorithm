{
 "cells": [
  {
   "cell_type": "markdown",
   "metadata": {},
   "source": [
    "# Question 11 - 274. H-Index\n",
    "\n",
    "Given an array of integers `citations` where `citations[i]` is the number of citations a researcher received for their `i-th` paper, return the researcher's h-index.\n",
    "\n",
    "According to the definition of h-index on Wikipedia: The h-index is defined as the maximum value of `h` such that the given researcher has published at least `h` papers that have each been cited at least `h` times.\n",
    "\n",
    "**Example 1:**\n",
    "\n",
    "    Input: citations = [3,0,6,1,5]\n",
    "    Output: 3\n",
    "    Explanation: [3,0,6,1,5] means the researcher has 5 papers in total and each of them had received 3, 0, 6, 1, 5 citations respectively.\n",
    "    Since the researcher has 3 papers with at least 3 citations each and the remaining two with no more than 3 citations each, their h-index is 3.\n",
    "\n",
    "**Example 2:**\n",
    "\n",
    "    Input: citations = [1,3,1]\n",
    "    Output: 1\n",
    "\n",
    "**Constraints:**\n",
    "\n",
    "- `n == citations.length`\n",
    "- `1 <= n <= 5000`\n",
    "- `0 <= citations[i] <= 1000`\n"
   ]
  },
  {
   "cell_type": "code",
   "execution_count": 1,
   "metadata": {},
   "outputs": [],
   "source": [
    "class Solution:\n",
    "    # O(n logn) time complexity: sorting\n",
    "    # O(1) space complexity: in-place sorting\n",
    "    def hIndex(self, citations: list[int]) -> int:\n",
    "        # sort the citations in descending order\n",
    "        citations.sort(reverse=True)\n",
    "\n",
    "        # initialize the h-index to 0\n",
    "        h_index = 0\n",
    "\n",
    "        # iterate through the citations\n",
    "        for i in range(len(citations)):\n",
    "            # if the citation is greater than or equal to the h-index\n",
    "            if citations[i] >= h_index + 1:\n",
    "                # increment the h-index\n",
    "                h_index += 1\n",
    "            # otherwise\n",
    "            else:\n",
    "                # break out of the loop to avoid unnecessary iterations\n",
    "                break\n",
    "\n",
    "        # return the h-index\n",
    "        return h_index"
   ]
  },
  {
   "cell_type": "code",
   "execution_count": 2,
   "metadata": {},
   "outputs": [
    {
     "data": {
      "text/plain": [
       "(3, 1)"
      ]
     },
     "execution_count": 2,
     "metadata": {},
     "output_type": "execute_result"
    }
   ],
   "source": [
    "# Test cases\n",
    "\n",
    "h_index = Solution().hIndex\n",
    "\n",
    "test_case_1 = [3, 0, 6, 1, 5]\n",
    "test_case_2 = [1, 3, 1]\n",
    "\n",
    "output_1 = h_index(test_case_1)\n",
    "output_2 = h_index(test_case_2)\n",
    "\n",
    "output_1, output_2"
   ]
  }
 ],
 "metadata": {
  "kernelspec": {
   "display_name": "Python 3",
   "language": "python",
   "name": "python3"
  },
  "language_info": {
   "codemirror_mode": {
    "name": "ipython",
    "version": 3
   },
   "file_extension": ".py",
   "mimetype": "text/x-python",
   "name": "python",
   "nbconvert_exporter": "python",
   "pygments_lexer": "ipython3",
   "version": "3.11.7"
  }
 },
 "nbformat": 4,
 "nbformat_minor": 2
}
