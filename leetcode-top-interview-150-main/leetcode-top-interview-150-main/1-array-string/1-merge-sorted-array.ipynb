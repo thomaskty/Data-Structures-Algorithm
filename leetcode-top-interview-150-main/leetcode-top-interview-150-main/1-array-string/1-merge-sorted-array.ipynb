{
 "cells": [
  {
   "cell_type": "markdown",
   "metadata": {},
   "source": [
    "# Question 1 - 88. Merge Sorted Array\n",
    "\n",
    "## Description\n",
    "\n",
    "You are given two integer arrays `nums1` and `nums2`, sorted in non-decreasing order, and two integers `m` and `n`, representing the number of elements in `nums1` and `nums2` respectively.\n",
    "\n",
    "Merge `nums1` and `nums2` into a single array sorted in non-decreasing order.\n",
    "\n",
    "The final sorted array should not be returned by the function, but instead be stored inside the array `nums1`. To accommodate this, `nums1` has a length of `m + n`, where the first `m` elements denote the elements that should be merged, and the last `n` elements are set to 0 and should be ignored. `nums2` has a length of `n`.\n",
    "\n",
    "### Example 1:\n",
    "\n",
    "- **Input:** `nums1 = [1,2,3,0,0,0]`, `m = 3`, `nums2 = [2,5,6]`, `n = 3`\n",
    "- **Output:** `[1,2,2,3,5,6]`\n",
    "- **Explanation:** The arrays we are merging are `[1,2,3]` and `[2,5,6]`.\n",
    "  The result of the merge is `[1,2,2,3,5,6]` with the underlined elements coming from `nums1`.\n",
    "\n",
    "### Example 2:\n",
    "\n",
    "- **Input:** `nums1 = [1]`, `m = 1`, `nums2 = []`, `n = 0`\n",
    "- **Output:** `[1]`\n",
    "- **Explanation:** The arrays we are merging are `[1]` and `[]`.\n",
    "  The result of the merge is `[1]`.\n",
    "\n",
    "### Example 3:\n",
    "\n",
    "- **Input:** `nums1 = [0]`, `m = 0`, `nums2 = [1]`, `n = 1`\n",
    "- **Output:** `[1]`\n",
    "- **Explanation:** The arrays we are merging are `[]` and `[1]`.\n",
    "  The result of the merge is `[1]`.\n",
    "  Note that because `m = 0`, there are no elements in `nums1`. The 0 is only there to ensure the merge result can fit in `nums1`.\n",
    "\n",
    "### Constraints:\n",
    "\n",
    "- `nums1.length == m + n`\n",
    "- `nums2.length == n`\n",
    "- `0 <= m, n <= 200`\n",
    "- `1 <= m + n <= 200`\n",
    "- `-10^9 <= nums1[i], nums2[j] <= 10^9`\n",
    "\n",
    "### Follow up:\n",
    "\n",
    "Can you come up with an algorithm that runs in O(m + n) time?\n"
   ]
  },
  {
   "cell_type": "code",
   "execution_count": 1,
   "metadata": {},
   "outputs": [],
   "source": [
    "class Solution:\n",
    "    def merge(self, nums1: list[int], m: int, nums2: list[int], n: int) -> None:\n",
    "        \"\"\"\n",
    "        Do not return anything, modify nums1 in-place instead.\n",
    "        \"\"\"\n",
    "        # Time: O(m + n) - Space O(1)\n",
    "        # starting indices for nums1, nums2, and the end of merged array\n",
    "        i, j, k = m - 1, n - 1, m + n - 1\n",
    "\n",
    "        while i >= 0 and j >= 0:\n",
    "            if nums1[i] > nums2[j]:\n",
    "                # place the larger element (now nums1[i]) at the end of nums1\n",
    "                nums1[k] = nums1[i]\n",
    "                i -= 1\n",
    "            else:\n",
    "                # place the larger element (now nums2[j]) at the end of nums1\n",
    "                nums1[k] = nums2[j]\n",
    "                j -= 1\n",
    "            k -= 1\n",
    "\n",
    "        while j >= 0:\n",
    "            # place the remaining elements of nums2 from nums2 to nums1\n",
    "            nums1[k] = nums2[j]\n",
    "            j -= 1\n",
    "            k -= 1"
   ]
  },
  {
   "cell_type": "code",
   "execution_count": 2,
   "metadata": {},
   "outputs": [
    {
     "name": "stdout",
     "output_type": "stream",
     "text": [
      "[1, 2, 2, 3, 5, 6]\n"
     ]
    }
   ],
   "source": [
    "# Example usage\n",
    "nums1 = [1, 2, 3, 0, 0, 0]\n",
    "m = 3\n",
    "nums2 = [2, 5, 6]\n",
    "n = 3\n",
    "\n",
    "merge = Solution().merge\n",
    "\n",
    "merge(nums1, m, nums2, n)\n",
    "print(nums1)  # Output should be [1,2,2,3,5,6]"
   ]
  }
 ],
 "metadata": {
  "kernelspec": {
   "display_name": "Python 3",
   "language": "python",
   "name": "python3"
  },
  "language_info": {
   "codemirror_mode": {
    "name": "ipython",
    "version": 3
   },
   "file_extension": ".py",
   "mimetype": "text/x-python",
   "name": "python",
   "nbconvert_exporter": "python",
   "pygments_lexer": "ipython3",
   "version": "3.11.6"
  }
 },
 "nbformat": 4,
 "nbformat_minor": 2
}
