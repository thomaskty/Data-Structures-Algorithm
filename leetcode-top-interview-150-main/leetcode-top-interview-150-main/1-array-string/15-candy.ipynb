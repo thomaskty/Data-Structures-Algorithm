{
 "cells": [
  {
   "cell_type": "markdown",
   "metadata": {},
   "source": [
    "# Question 15 - 135. Candy\n",
    "\n",
    "There are n children standing in a line. Each child is assigned a rating value given in the integer array ratings.\n",
    "\n",
    "You are giving candies to these children subjected to the following requirements:\n",
    "\n",
    "- Each child must have at least one candy.\n",
    "- Children with a higher rating get more candies than their neighbors.\n",
    "\n",
    "Return the **minimum** number of candies you need to have to distribute the candies to the children.\n",
    "\n",
    "**Example 1:**\n",
    "\n",
    "    Input: ratings = [1,0,2]\n",
    "    Output: 5\n",
    "    Explanation: You can allocate to the first, second and third child with 2, 1, 2 candies respectively.\n",
    "\n",
    "**Example 2:**\n",
    "\n",
    "    Input: ratings = [1,2,2]\n",
    "    Output: 4\n",
    "    Explanation: You can allocate to the first, second and third child with 1, 2, 1 candies respectively.\n",
    "    The third child gets 1 candy because it satisfies the above two conditions.\n",
    "\n",
    "**Constraints:**\n",
    "\n",
    "- `n == ratings.length`\n",
    "- `1 <= n <= 2 * 10^4`\n",
    "- `0 <= ratings[i] <= 2 * 10^4`\n"
   ]
  },
  {
   "cell_type": "code",
   "execution_count": 1,
   "metadata": {},
   "outputs": [],
   "source": [
    "class Solution:\n",
    "    def candy(self, ratings: list[int]) -> int:\n",
    "        n = len(ratings)\n",
    "\n",
    "        # each child must have at least one candy\n",
    "        candies = [1] * n\n",
    "\n",
    "        # left pass\n",
    "        # for each child (starting from the second one), compare with the previous child\n",
    "        for i in range(1, n):\n",
    "            # if current child has higher rating than the previous one, give one more candy to the current child\n",
    "            if ratings[i] > ratings[i - 1]:\n",
    "                candies[i] = candies[i - 1] + 1\n",
    "\n",
    "        # right pass\n",
    "        # for each child (starting from the second-to-last one), compare with the next child\n",
    "        for i in range(n - 2, -1, -1):\n",
    "            # if current child has higher rating than the next one\n",
    "            if ratings[i] > ratings[i + 1]:\n",
    "                # If the current child's rating is higher than the next child's, update the candies array for the current child.\n",
    "                # The new value should be the maximum of its current value and one more than the candies of the next child.\n",
    "                # This step ensures that children get more candies than those with a lower rating on their right.\n",
    "                candies[i] = max(candies[i], candies[i + 1] + 1)\n",
    "\n",
    "        return sum(candies)"
   ]
  },
  {
   "cell_type": "code",
   "execution_count": 2,
   "metadata": {},
   "outputs": [
    {
     "data": {
      "text/plain": [
       "(5, 4)"
      ]
     },
     "execution_count": 2,
     "metadata": {},
     "output_type": "execute_result"
    }
   ],
   "source": [
    "# Test the function with the provided examples\n",
    "\n",
    "candy = Solution().candy\n",
    "\n",
    "ratings1 = [1, 0, 2]\n",
    "ratings2 = [1, 2, 2]\n",
    "\n",
    "output1 = candy(ratings1)\n",
    "output2 = candy(ratings2)\n",
    "\n",
    "output1, output2"
   ]
  }
 ],
 "metadata": {
  "kernelspec": {
   "display_name": "Python 3",
   "language": "python",
   "name": "python3"
  },
  "language_info": {
   "codemirror_mode": {
    "name": "ipython",
    "version": 3
   },
   "file_extension": ".py",
   "mimetype": "text/x-python",
   "name": "python",
   "nbconvert_exporter": "python",
   "pygments_lexer": "ipython3",
   "version": "3.11.7"
  }
 },
 "nbformat": 4,
 "nbformat_minor": 2
}
