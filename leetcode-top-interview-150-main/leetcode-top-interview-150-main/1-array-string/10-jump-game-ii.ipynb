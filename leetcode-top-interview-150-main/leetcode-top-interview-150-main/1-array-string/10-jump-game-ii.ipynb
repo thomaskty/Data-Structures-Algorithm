{
 "cells": [
  {
   "cell_type": "markdown",
   "metadata": {},
   "source": [
    "# Question 10 - 45. Jump Game II\n",
    "\n",
    "## Description\n",
    "\n",
    "You are given a **0-indexed** array of integers `nums` of length `n`. You are initially positioned at `nums[0]`.\n",
    "\n",
    "Each element `nums[i]` represents the maximum length of a forward jump from index i. In other words, if you are at nums[i], you can jump to any nums[i + j] where:\n",
    "\n",
    "- 0 <= j <= nums[i] and\n",
    "- i + j < n\n",
    "\n",
    "Return the minimum number of jumps to reach `nums[n - 1]`. The test cases are generated such that you can reach `nums[n - 1]`.\n",
    "\n",
    "**Example 1:**\n",
    "\n",
    "    Input: nums = [2,3,1,1,4]\n",
    "    Output: 2\n",
    "    Explanation: The minimum number of jumps to reach the last index is 2. Jump 1 step from index 0 to 1, then 3 steps to the last index.\n",
    "\n",
    "**Example 2:**\n",
    "\n",
    "    Input: nums = [2,3,0,1,4]\n",
    "    Output: 2\n"
   ]
  },
  {
   "cell_type": "code",
   "execution_count": 1,
   "metadata": {},
   "outputs": [],
   "source": [
    "class Solution:\n",
    "    def jump(self, nums: list[int]) -> int:\n",
    "        n = len(nums)\n",
    "        if n <= 1:\n",
    "            return 0\n",
    "\n",
    "        # keep count of number of jumps\n",
    "        jumps = 0\n",
    "\n",
    "        # keep track of the end of the current jump\n",
    "        current_jump_end = 0\n",
    "\n",
    "        # keep track of the farthest point we can reach\n",
    "        farthest = 0\n",
    "\n",
    "        # iterate through the array except the last element as we don't need to jump from the last element\n",
    "        for i in range(n - 1):\n",
    "            # update farthest point we can reach\n",
    "            farthest = max(farthest, i + nums[i])\n",
    "\n",
    "            # if we have reached the end of the current jump, so we have to make a jump\n",
    "            if i == current_jump_end:\n",
    "                jumps += 1\n",
    "                current_jump_end = farthest\n",
    "\n",
    "                # if we have reached the end of the array, we don't need to jump anymore\n",
    "                if current_jump_end >= n - 1:\n",
    "                    break\n",
    "\n",
    "        return jumps"
   ]
  },
  {
   "cell_type": "code",
   "execution_count": 2,
   "metadata": {},
   "outputs": [
    {
     "data": {
      "text/plain": [
       "(2, 2)"
      ]
     },
     "execution_count": 2,
     "metadata": {},
     "output_type": "execute_result"
    }
   ],
   "source": [
    "# Test the function with the provided examples\n",
    "\n",
    "jump = Solution().jump\n",
    "\n",
    "example1 = [2, 3, 1, 1, 4]\n",
    "example2 = [2, 3, 0, 1, 4]\n",
    "\n",
    "output1 = jump(example1)\n",
    "output2 = jump(example2)\n",
    "\n",
    "output1, output2"
   ]
  }
 ],
 "metadata": {
  "kernelspec": {
   "display_name": "Python 3",
   "language": "python",
   "name": "python3"
  },
  "language_info": {
   "codemirror_mode": {
    "name": "ipython",
    "version": 3
   },
   "file_extension": ".py",
   "mimetype": "text/x-python",
   "name": "python",
   "nbconvert_exporter": "python",
   "pygments_lexer": "ipython3",
   "version": "3.11.7"
  }
 },
 "nbformat": 4,
 "nbformat_minor": 2
}
