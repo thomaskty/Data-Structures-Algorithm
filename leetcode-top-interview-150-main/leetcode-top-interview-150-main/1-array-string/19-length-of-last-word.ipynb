{
 "cells": [
  {
   "cell_type": "markdown",
   "metadata": {},
   "source": [
    "# Question 19 - 58. Length of Last Word\n",
    "\n",
    "Given a string `s` consisting of words and spaces, return the length of the last word in the string.\n",
    "\n",
    "A word is a maximal substring consisting of non-space characters only.\n",
    "\n",
    "**Example 1:**\n",
    "\n",
    "    Input: s = \"Hello World\"\n",
    "    Output: 5\n",
    "    Explanation: The last word is \"World\" with length 5.\n",
    "\n",
    "**Example 2:**\n",
    "\n",
    "    Input: s = \"   fly me   to   the moon  \"\n",
    "    Output: 4\n",
    "    Explanation: The last word is \"moon\" with length 4.\n",
    "\n",
    "**Example 3:**\n",
    "\n",
    "    Input: s = \"luffy is still joyboy\"\n",
    "    Output: 6\n",
    "    Explanation: The last word is \"joyboy\" with length 6.\n",
    "\n",
    "**Constraints:**\n",
    "\n",
    "- `1 <= s.length <= 104`\n",
    "- `s` consists of only English letters and spaces `' '`.\n",
    "- There will be at least one word in `s`.\n"
   ]
  },
  {
   "cell_type": "code",
   "execution_count": 1,
   "metadata": {},
   "outputs": [
    {
     "data": {
      "text/plain": [
       "[5, 4, 6]"
      ]
     },
     "execution_count": 1,
     "metadata": {},
     "output_type": "execute_result"
    }
   ],
   "source": [
    "class Solution:\n",
    "    def lengthOfLastWord(self, s: str) -> int:\n",
    "        # Splitting the string into words\n",
    "        words = s.split()\n",
    "\n",
    "        # Returning the length of the last word\n",
    "        return len(words[-1])\n",
    "\n",
    "\n",
    "# Test cases from the examples\n",
    "test_cases = [\"Hello World\", \"   fly me   to   the moon  \", \"luffy is still joyboy\"]\n",
    "\n",
    "# Defining the function\n",
    "lengthOfLastWord = Solution().lengthOfLastWord\n",
    "\n",
    "# Applying the function to each test case\n",
    "results = [lengthOfLastWord(tc) for tc in test_cases]\n",
    "results"
   ]
  },
  {
   "cell_type": "markdown",
   "metadata": {},
   "source": [
    "The complexity of the function `lengthOfLastWord` can be analyzed in terms of both time and space complexity:\n",
    "\n",
    "1. **Time Complexity**: The primary operation in this function is the `split()` method, which splits the string `s` into words. This operation has a time complexity of O(n), where n is the length of the string. This is because the method needs to iterate through the entire string to identify the spaces and split the string into words. After splitting, accessing the last word and finding its length are operations with constant time complexity, O(1). Therefore, the overall time complexity of the function is O(n).\n",
    "\n",
    "2. **Space Complexity**: The space complexity is also O(n), primarily due to the storage required for the list of words created by the `split()` method. This list contains a number of elements proportional to the number of words in the string, and each word can be up to n characters long in the worst case (if the entire string is a single word without spaces). Therefore, the space complexity is O(n).\n",
    "\n",
    "In summary, the function `length_of_last_word` has a time complexity of O(n) and a space complexity of O(n), where n is the length of the input string."
   ]
  }
 ],
 "metadata": {
  "kernelspec": {
   "display_name": "Python 3",
   "language": "python",
   "name": "python3"
  },
  "language_info": {
   "codemirror_mode": {
    "name": "ipython",
    "version": 3
   },
   "file_extension": ".py",
   "mimetype": "text/x-python",
   "name": "python",
   "nbconvert_exporter": "python",
   "pygments_lexer": "ipython3",
   "version": "3.11.7"
  }
 },
 "nbformat": 4,
 "nbformat_minor": 2
}
