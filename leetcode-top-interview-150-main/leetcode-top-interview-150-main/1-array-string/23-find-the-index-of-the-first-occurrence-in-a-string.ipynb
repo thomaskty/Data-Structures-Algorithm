{
 "cells": [
  {
   "cell_type": "markdown",
   "metadata": {},
   "source": [
    "# Question 23 - 28. Find the Index of the First Occurrence in a String\n",
    "\n",
    "Given two strings `needle` and `haystack`, return the index of the first occurrence of `needle` in `haystack`, or `-1` if `needle` is not part of haystack.\n",
    "\n",
    "**Example 1:**\n",
    "\n",
    "    Input: haystack = \"sadbutsad\", needle = \"sad\"\n",
    "    Output: 0\n",
    "    Explanation: \"sad\" occurs at index 0 and 6.\n",
    "    The first occurrence is at index 0, so we return 0.\n",
    "\n",
    "**Example 2:**\n",
    "\n",
    "    Input: haystack = \"leetcode\", needle = \"leeto\"\n",
    "    Output: -1\n",
    "    Explanation: \"leeto\" did not occur in \"leetcode\", so we return -1.\n",
    "\n",
    "**Constraints:**\n",
    "\n",
    "- `1 <= haystack.length, needle.length <= 104`\n",
    "- `haystack` and `needle` consist of only lowercase English characters.\n"
   ]
  },
  {
   "cell_type": "code",
   "execution_count": null,
   "metadata": {},
   "outputs": [],
   "source": [
    "class Solution:\n",
    "    def strStr(self, haystack: str, needle: str) -> int:\n",
    "        # Return 0 if needle is an empty string\n",
    "        if not needle:\n",
    "            return 0\n",
    "\n",
    "        # Check each possible starting position in haystack\n",
    "        for i in range(len(haystack) - len(needle) + 1):\n",
    "            # If the substring from the current position matches needle, return the position\n",
    "            if haystack[i : i + len(needle)] == needle:\n",
    "                return i\n",
    "\n",
    "        # If needle is not found, return -1\n",
    "        return -1"
   ]
  },
  {
   "cell_type": "code",
   "execution_count": null,
   "metadata": {},
   "outputs": [],
   "source": [
    "# Test cases from the examples\n",
    "strStr = Solution().strStr\n",
    "\n",
    "test_case_1 = strStr(\"sadbutsad\", \"sad\")\n",
    "test_case_2 = strStr(\"leetcode\", \"leeto\")\n",
    "\n",
    "test_case_1, test_case_2"
   ]
  }
 ],
 "metadata": {
  "language_info": {
   "name": "python"
  }
 },
 "nbformat": 4,
 "nbformat_minor": 2
}
