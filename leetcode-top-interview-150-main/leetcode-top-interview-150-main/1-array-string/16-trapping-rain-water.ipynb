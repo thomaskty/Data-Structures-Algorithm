{
 "cells": [
  {
   "cell_type": "markdown",
   "metadata": {},
   "source": [
    "# Question 16 - 42. Trapping Rain Water\n",
    "\n",
    "Given `n` non-negative integers representing an elevation map where the width of each bar is `1`, compute how much water it can trap after raining.\n",
    "\n",
    "**Example 1:**\n",
    "\n",
    "    Input: height = [0,1,0,2,1,0,1,3,2,1,2,1]\n",
    "    Output: 6\n",
    "    Explanation: The above elevation map (black section) is represented by array [0,1,0,2,1,0,1,3,2,1,2,1]. In this case, 6 units of rain water (blue section) are being trapped.\n",
    "\n",
    "**Example 2:**\n",
    "\n",
    "    Input: height = [4,2,0,3,2,5]\n",
    "    Output: 9\n",
    "\n",
    "**Constraints:**\n",
    "\n",
    "- `n == height.length`\n",
    "- `1 <= n <= 2 * 10^4`\n",
    "- `0 <= height[i] <= 10^5`\n"
   ]
  },
  {
   "cell_type": "code",
   "execution_count": 11,
   "metadata": {},
   "outputs": [],
   "source": [
    "class Solution:\n",
    "    def trap(self, height: list[int]) -> int:\n",
    "        if not height:\n",
    "            return 0\n",
    "\n",
    "        # init two pointers (left and right)\n",
    "        left = 0\n",
    "        right = len(height) - 1\n",
    "\n",
    "        # init left_max and right_max to keep track of the max height on the left and right side of the current pointer\n",
    "        left_max, right_max = height[left], height[right]\n",
    "\n",
    "        # total water trapped\n",
    "        total = 0\n",
    "\n",
    "        # while left and right pointers haven't crossed each other\n",
    "        while left < right:\n",
    "            # if left height is less than right height, then the water trapped at left is\n",
    "            # determined by left_max (since the right wall is higher than left wall)\n",
    "            if height[left] < height[right]:\n",
    "                left += 1\n",
    "                left_max = max(left_max, height[left])\n",
    "                total += left_max - height[left]\n",
    "            # else the water trapped at right is determined by right_max (since the left wall is higher than right wall)\n",
    "            else:\n",
    "                right -= 1\n",
    "                right_max = max(right_max, height[right])\n",
    "                total += right_max - height[right]\n",
    "\n",
    "        return total"
   ]
  },
  {
   "cell_type": "code",
   "execution_count": 12,
   "metadata": {},
   "outputs": [
    {
     "data": {
      "text/plain": [
       "(6, 9)"
      ]
     },
     "execution_count": 12,
     "metadata": {},
     "output_type": "execute_result"
    }
   ],
   "source": [
    "# O(n) time and O(1) space\n",
    "\n",
    "trap = Solution().trap\n",
    "\n",
    "example1 = [0, 1, 0, 2, 1, 0, 1, 3, 2, 1, 2, 1]\n",
    "example2 = [4, 2, 0, 3, 2, 5]\n",
    "\n",
    "result1 = trap(example1)\n",
    "result2 = trap(example2)\n",
    "\n",
    "result1, result2"
   ]
  }
 ],
 "metadata": {
  "kernelspec": {
   "display_name": "Python 3",
   "language": "python",
   "name": "python3"
  },
  "language_info": {
   "codemirror_mode": {
    "name": "ipython",
    "version": 3
   },
   "file_extension": ".py",
   "mimetype": "text/x-python",
   "name": "python",
   "nbconvert_exporter": "python",
   "pygments_lexer": "ipython3",
   "version": "3.11.7"
  }
 },
 "nbformat": 4,
 "nbformat_minor": 2
}
