{
 "cells": [
  {
   "cell_type": "markdown",
   "metadata": {},
   "source": [
    "# Question 136 - LC 198. House Robber\n",
    "\n",
    "You are a professional robber planning to rob houses along a street. Each house has a certain amount of money stashed, the only constraint stopping you from robbing each of them is that **adjacent houses have security systems connected and it will automatically contact the police if two adjacent houses were broken into on the same night.**\n",
    "\n",
    "Given an integer array nums representing the amount of money of each house, return the **maximum amount of money you can rob tonight without alerting the police**.\n",
    "\n",
    "## Example 1:\n",
    "\n",
    "    Input: nums = [1,2,3,1]\n",
    "    Output: 4\n",
    "    Explanation: Rob house 1 (money = 1) and then rob house 3 (money = 3).\n",
    "    Total amount you can rob = 1 + 3 = 4.\n",
    "\n",
    "## Example 2:\n",
    "\n",
    "    Input: nums = [2,7,9,3,1]\n",
    "    Output: 12\n",
    "    Explanation: Rob house 1 (money = 2), rob house 3 (money = 9) and rob house 5 (money = 1).\n",
    "    Total amount you can rob = 2 + 9 + 1 = 12.\n",
    "\n",
    "## Constraints:\n",
    "\n",
    "- `1 <= nums.length <= 100`\n",
    "- `0 <= nums[i] <= 400`\n"
   ]
  },
  {
   "cell_type": "code",
   "execution_count": 1,
   "metadata": {},
   "outputs": [],
   "source": [
    "class Solution:\n",
    "    def rob(self, nums: list[int]) -> int:\n",
    "        if not nums:\n",
    "            return 0\n",
    "        if len(nums) == 1:\n",
    "            return nums[0]\n",
    "        if len(nums) == 2:\n",
    "            return max(nums)\n",
    "\n",
    "        dp = [0] * len(nums)\n",
    "        dp[0] = nums[0]\n",
    "        dp[1] = max(nums[0], nums[1])\n",
    "\n",
    "        for i in range(2, len(nums)):\n",
    "            dp[i] = max(dp[i - 1], dp[i - 2] + nums[i])\n",
    "\n",
    "        return dp[-1]"
   ]
  },
  {
   "cell_type": "code",
   "execution_count": 2,
   "metadata": {},
   "outputs": [
    {
     "name": "stdout",
     "output_type": "stream",
     "text": [
      "4\n"
     ]
    }
   ],
   "source": [
    "# Testing\n",
    "s = Solution()\n",
    "\n",
    "nums = [2, 3, 2]\n",
    "print(s.rob(nums))  # Expected 4"
   ]
  },
  {
   "cell_type": "markdown",
   "metadata": {},
   "source": [
    "To solve the \"House Robber\" problem, you can use dynamic programming. The idea is to construct an array where each element at index `i` represents the maximum amount of money that can be robbed up to the i-th house without alerting the police. Here's how you can implement this solution:\n",
    "\n",
    "1. **Initialization**: Start with an array `dp` of the same size as `nums` where each element is initially zero. `dp[i]` will hold the maximum amount of money that can be robbed up to the i-th house.\n",
    "\n",
    "2. **Base Cases**:\n",
    "\n",
    "   - `dp[0]` should be `nums[0]` because if there's only one house, you rob that house.\n",
    "   - For two houses, rob the one with the maximum stashed money: `dp[1]` is the maximum of `nums[0]` and `nums[1]`.\n",
    "\n",
    "3. **Recursive Formula**:\n",
    "\n",
    "   - For each house from the second house onward, decide whether to rob it or skip it.\n",
    "   - If you rob house `i`, you cannot rob house `i-1`, so the total money robbed will be the money in house `i` plus the maximum money that could have been robbed from all houses up to `i-2`.\n",
    "   - If you skip house `i`, then the total money is the same as the maximum robbed from houses up to `i-1`.\n",
    "   - Therefore, the formula is: `dp[i] = max(dp[i-1], nums[i] + (dp[i-2] if i > 1 else 0))`.\n",
    "\n",
    "4. **Result**:\n",
    "   - The answer will be the last element in the `dp` array, `dp[n-1]`, where `n` is the number of houses.\n",
    "\n",
    "This function will compute the maximum amount of money that can be robbed by iterating through each house only once, making it efficient with a time complexity of O(n), where n is the number of houses.\n"
   ]
  }
 ],
 "metadata": {
  "kernelspec": {
   "display_name": "Python 3",
   "language": "python",
   "name": "python3"
  },
  "language_info": {
   "codemirror_mode": {
    "name": "ipython",
    "version": 3
   },
   "file_extension": ".py",
   "mimetype": "text/x-python",
   "name": "python",
   "nbconvert_exporter": "python",
   "pygments_lexer": "ipython3",
   "version": "3.12.0"
  }
 },
 "nbformat": 4,
 "nbformat_minor": 2
}
