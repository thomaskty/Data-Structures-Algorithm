{
 "cells": [
  {
   "cell_type": "markdown",
   "metadata": {},
   "source": [
    "# Question 135 - LC 70. Climbing Stairs\n",
    "\n",
    "You are climbing a staircase. It takes `n` steps to reach the top.\n",
    "\n",
    "Each time you can either climb `1` or `2` steps. In how many distinct ways can you climb to the top?\n",
    "\n",
    "## Example 1:\n",
    "\n",
    "    Input: n = 2\n",
    "    Output: 2\n",
    "    Explanation: There are two ways to climb to the top.\n",
    "    1. 1 step + 1 step\n",
    "    2. 2 steps\n",
    "\n",
    "## Example 2:\n",
    "\n",
    "    Input: n = 3\n",
    "    Output: 3\n",
    "    Explanation: There are three ways to climb to the top.\n",
    "    1. 1 step + 1 step + 1 step\n",
    "    2. 1 step + 2 steps\n",
    "    3. 2 steps + 1 step\n",
    "\n",
    "## Constraints:\n",
    "\n",
    "- `1 <= n <= 45`\n"
   ]
  },
  {
   "cell_type": "code",
   "execution_count": 3,
   "metadata": {},
   "outputs": [],
   "source": [
    "class Solution:\n",
    "    # Time complexity: O(n)\n",
    "    # Space complexity: O(n)\n",
    "    def climbStairs(self, n: int) -> int:\n",
    "        if n == 1:\n",
    "            return 1\n",
    "        if n == 2:\n",
    "            return 2\n",
    "\n",
    "        # initialize dp array\n",
    "        dp = [0] * (n + 1)\n",
    "        dp[1] = 1\n",
    "        dp[2] = 2\n",
    "\n",
    "        # fill dp array\n",
    "        for i in range(3, n + 1):\n",
    "            dp[i] = dp[i - 1] + dp[i - 2]\n",
    "\n",
    "        return dp[n]\n",
    "    \n",
    "    # Time complexity: O(n)\n",
    "    # Space complexity: O(1)\n",
    "    def climb_stairs_optimized(self, n: int) -> int:\n",
    "        if n == 1:\n",
    "            return 1\n",
    "        if n == 2:\n",
    "            return 2\n",
    "\n",
    "        # Only keep track of the last two values\n",
    "        a = 1\n",
    "        b = 2\n",
    "        for _ in range(3, n + 1):\n",
    "            c = a + b\n",
    "            a = b\n",
    "            b = c\n",
    "        \n",
    "        return b"
   ]
  },
  {
   "cell_type": "code",
   "execution_count": 4,
   "metadata": {},
   "outputs": [
    {
     "name": "stdout",
     "output_type": "stream",
     "text": [
      "2\n",
      "3\n",
      "2\n",
      "3\n"
     ]
    }
   ],
   "source": [
    "# Example usage:\n",
    "s = Solution()\n",
    "\n",
    "print(s.climbStairs(2))  # Output: 2\n",
    "print(s.climbStairs(3))  # Output: 3\n",
    "\n",
    "print(s.climb_stairs_optimized(2))  # Output: 2\n",
    "print(s.climb_stairs_optimized(3))  # Output: 3"
   ]
  }
 ],
 "metadata": {
  "kernelspec": {
   "display_name": "Python 3",
   "language": "python",
   "name": "python3"
  },
  "language_info": {
   "codemirror_mode": {
    "name": "ipython",
    "version": 3
   },
   "file_extension": ".py",
   "mimetype": "text/x-python",
   "name": "python",
   "nbconvert_exporter": "python",
   "pygments_lexer": "ipython3",
   "version": "3.12.0"
  }
 },
 "nbformat": 4,
 "nbformat_minor": 2
}
