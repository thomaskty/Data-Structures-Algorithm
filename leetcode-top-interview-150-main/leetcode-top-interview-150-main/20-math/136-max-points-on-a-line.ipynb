{
 "cells": [
  {
   "cell_type": "markdown",
   "metadata": {},
   "source": [
    "# Question 134 - LC 149. Max Points on a Line\n",
    "\n",
    "Given an array of points where `points[i] = [xi, yi]` represents a point on the `X-Y` plane, return the maximum number of points that lie on the same straight line.\n",
    "\n",
    "## Example 1:\n",
    "\n",
    "    Input: points = [[1,1],[2,2],[3,3]]\n",
    "    Output: 3\n",
    "\n",
    "## Example 2:\n",
    "\n",
    "    Input: points = [[1,1],[3,2],[5,3],[4,1],[2,3],[1,4]]\n",
    "    Output: 4\n",
    "\n",
    "## Constraints:\n",
    "\n",
    "- `1 <= points.length <= 300`\n",
    "- `points[i].length == 2`\n",
    "- `-10^4 <= xi, yi <= 10^4`\n",
    "- All the `points` are **unique**.\n"
   ]
  },
  {
   "cell_type": "code",
   "execution_count": 12,
   "metadata": {},
   "outputs": [],
   "source": [
    "from collections import defaultdict\n",
    "from math import gcd\n",
    "\n",
    "\n",
    "class Solution:\n",
    "    def maxPoints(self, points: list[list[int]]) -> int:\n",
    "        if len(points) <= 2:\n",
    "            return len(points)\n",
    "\n",
    "        result = 0\n",
    "        for i in range(len(points)):\n",
    "            slopes = defaultdict(int)\n",
    "            same_point_count = 1  # Count the current point itself\n",
    "            local_max = 0\n",
    "            for j in range(len(points)):\n",
    "                if i != j:\n",
    "                    if points[i] == points[j]:\n",
    "                        same_point_count += 1\n",
    "                    else:\n",
    "                        s = self.slope(points[i], points[j])\n",
    "                        slopes[s] += 1\n",
    "                        local_max = max(local_max, slopes[s])\n",
    "            \n",
    "            result = max(result, local_max + same_point_count)\n",
    "        \n",
    "        return result\n",
    "    \n",
    "    def slope(self, p1: list[int], p2: list[int]) -> tuple:\n",
    "        # Calculate the delta values\n",
    "        dx = p1[0] - p2[0]\n",
    "        dy = p1[1] - p2[1]\n",
    "        if dx == 0:  # vertical line\n",
    "            return ('inf', p1[0])  # Use a tuple ('inf', x-coordinate) to handle vertical lines uniquely by x-coordinate\n",
    "        g = gcd(dx, dy)\n",
    "        return (dy // g, dx // g)  # Normalize the slope by gcd to handle precision and reduce overflow"
   ]
  },
  {
   "cell_type": "code",
   "execution_count": 13,
   "metadata": {},
   "outputs": [
    {
     "name": "stdout",
     "output_type": "stream",
     "text": [
      "The maximum number of points on the same line in [[1, 1], [2, 2], [3, 3]] -> 3\n",
      "The maximum number of points on the same line in [[1, 1], [3, 2], [5, 3], [4, 1], [2, 3], [1, 4]] -> 4\n",
      "The maximum number of points on the same line in [[0, 0], [1, 1], [0, 0]] -> 3\n",
      "The maximum number of points on the same line in [[0, 0], [1, 1], [0, 0], [1, 1], [1, 1], [1, 1]] -> 6\n",
      "The maximum number of points on the same line in [[0, 0], [1, 1], [0, 0], [1, 1], [1, 1], [1, 1], [1, 1]] -> 7\n",
      "The maximum number of points on the same line in [[0, 0], [1, 1], [0, 0], [1, 1], [1, 1], [1, 1], [1, 1], [1, 1]] -> 8\n",
      "The maximum number of points on the same line in [[0, 0], [1, 1], [0, 0], [1, 1], [1, 1], [1, 1], [1, 1], [1, 1], [1, 1]] -> 9\n",
      "The maximum number of points on the same line in [[0, 0], [1, 1], [0, 0], [1, 1], [1, 1], [1, 1], [1, 1], [1, 1], [1, 1], [1, 1]] -> 10\n",
      "The maximum number of points on the same line in [[0, 0], [1, 1], [0, 0], [1, 1], [1, 1], [1, 1], [1, 1], [1, 1], [1, 1], [1, 1], [1, 1]] -> 11\n"
     ]
    }
   ],
   "source": [
    "# TESTS\n",
    "for points, expected in [\n",
    "    ([[1,1],[2,2],[3,3]], 3),\n",
    "    ([[1,1],[3,2],[5,3],[4,1],[2,3],[1,4]], 4),\n",
    "    ([[0,0],[1,1],[0,0]], 3),\n",
    "    ([[0,0],[1,1],[0,0],[1,1],[1,1],[1,1]], 6),\n",
    "    ([[0,0],[1,1],[0,0],[1,1],[1,1],[1,1],[1,1]], 7),\n",
    "    ([[0,0],[1,1],[0,0],[1,1],[1,1],[1,1],[1,1],[1,1]], 8),\n",
    "    ([[0,0],[1,1],[0,0],[1,1],[1,1],[1,1],[1,1],[1,1],[1,1]], 9),\n",
    "    ([[0,0],[1,1],[0,0],[1,1],[1,1],[1,1],[1,1],[1,1],[1,1],[1,1]], 10),\n",
    "    ([[0,0],[1,1],[0,0],[1,1],[1,1],[1,1],[1,1],[1,1],[1,1],[1,1],[1,1]], 11),\n",
    "]:\n",
    "    sol = Solution()\n",
    "    actual = sol.maxPoints(points)\n",
    "    print(\"The maximum number of points on the same line in\", points, \"->\", actual)\n",
    "    assert actual == expected"
   ]
  }
 ],
 "metadata": {
  "kernelspec": {
   "display_name": "Python 3",
   "language": "python",
   "name": "python3"
  },
  "language_info": {
   "codemirror_mode": {
    "name": "ipython",
    "version": 3
   },
   "file_extension": ".py",
   "mimetype": "text/x-python",
   "name": "python",
   "nbconvert_exporter": "python",
   "pygments_lexer": "ipython3",
   "version": "3.12.0"
  }
 },
 "nbformat": 4,
 "nbformat_minor": 2
}
