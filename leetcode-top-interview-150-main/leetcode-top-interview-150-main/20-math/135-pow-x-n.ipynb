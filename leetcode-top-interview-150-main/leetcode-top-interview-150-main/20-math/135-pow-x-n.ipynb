{
 "cells": [
  {
   "cell_type": "markdown",
   "metadata": {},
   "source": [
    "# Question 133 - LC 50. Pow(x, n)\n",
    "\n",
    "Implement `pow(x, n)`, which calculates x raised to the power `n` (i.e., xn).\n",
    "\n",
    "## Example 1:\n",
    "\n",
    "    Input: x = 2.00000, n = 10\n",
    "    Output: 1024.00000\n",
    "\n",
    "## Example 2:\n",
    "\n",
    "    Input: x = 2.10000, n = 3\n",
    "    Output: 9.26100\n",
    "\n",
    "## Example 3:\n",
    "\n",
    "    Input: x = 2.00000, n = -2\n",
    "    Output: 0.25000\n",
    "    Explanation: 2-2 = 1/22 = 1/4 = 0.25\n",
    "\n",
    "## Constraints:\n",
    "\n",
    "- `-100.0 < x < 100.0`\n",
    "- `-2^31 <= n <= 2^31-1`\n",
    "- `n` is an integer.\n",
    "- Either `x` is not zero or `n > 0`.\n",
    "- `-10^4 <= xn <= 10^4`\n"
   ]
  },
  {
   "cell_type": "code",
   "execution_count": 5,
   "metadata": {},
   "outputs": [],
   "source": [
    "class Solution:\n",
    "    def myPow(self, x: float, n: int) -> float:\n",
    "        if n == 0:\n",
    "            return 1\n",
    "        if n == 1:\n",
    "            return x\n",
    "        \n",
    "        ans = 1\n",
    "        nn = abs(n)\n",
    "        while nn:\n",
    "            if nn % 2:\n",
    "                ans *= x\n",
    "                nn -= 1\n",
    "            else:\n",
    "                x *= x\n",
    "                nn //= 2\n",
    "        \n",
    "        if n < 0:\n",
    "            ans = 1 / ans\n",
    "        \n",
    "        return ans"
   ]
  },
  {
   "cell_type": "code",
   "execution_count": 6,
   "metadata": {},
   "outputs": [
    {
     "name": "stdout",
     "output_type": "stream",
     "text": [
      "All test cases passed!\n"
     ]
    }
   ],
   "source": [
    "# Positive exponent\n",
    "s = Solution()\n",
    "\n",
    "assert abs(s.myPow(2.00000, 10) - 1024.00000) < 1e-5\n",
    "assert abs(s.myPow(2.10000, 3) - 9.26100) < 1e-5\n",
    "\n",
    "# Zero exponent\n",
    "assert s.myPow(2.00000, 0) == 1\n",
    "\n",
    "print(\"All test cases passed!\")"
   ]
  },
  {
   "cell_type": "markdown",
   "metadata": {},
   "source": [
    "If $n$ is even, $x^n = (x^{n/2})^2$\n",
    "\n",
    "If $n$ is odd, $x^n = x \\cdot (x^{(n-1)/2})^2$\n"
   ]
  }
 ],
 "metadata": {
  "kernelspec": {
   "display_name": "Python 3",
   "language": "python",
   "name": "python3"
  },
  "language_info": {
   "codemirror_mode": {
    "name": "ipython",
    "version": 3
   },
   "file_extension": ".py",
   "mimetype": "text/x-python",
   "name": "python",
   "nbconvert_exporter": "python",
   "pygments_lexer": "ipython3",
   "version": "3.12.0"
  }
 },
 "nbformat": 4,
 "nbformat_minor": 2
}
