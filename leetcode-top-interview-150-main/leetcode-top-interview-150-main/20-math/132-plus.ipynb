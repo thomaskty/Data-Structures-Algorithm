{
 "cells": [
  {
   "cell_type": "markdown",
   "metadata": {},
   "source": [
    "# Question 130 - LC 66. Plus One\n",
    "\n",
    "You are given **a large integer** represented as an integer array `digits`, where each `digits[i]` is the `i-th` digit of the integer. The digits are ordered from most significant to least significant in left-to-right order. The large integer does not contain any leading `0`'s.\n",
    "\n",
    "Increment the large integer by one and return the _resulting array of digits_.\n",
    "\n",
    "## Example 1:\n",
    "\n",
    "    Input: digits = [1,2,3]\n",
    "    Output: [1,2,4]\n",
    "    Explanation: The array represents the integer 123.\n",
    "    Incrementing by one gives 123 + 1 = 124.\n",
    "    Thus, the result should be [1,2,4].\n",
    "\n",
    "## Example 2:\n",
    "\n",
    "    Input: digits = [4,3,2,1]\n",
    "    Output: [4,3,2,2]\n",
    "    Explanation: The array represents the integer 4321.\n",
    "    Incrementing by one gives 4321 + 1 = 4322.\n",
    "    Thus, the result should be [4,3,2,2].\n",
    "\n",
    "## Example 3:\n",
    "\n",
    "    Input: digits = [9]\n",
    "    Output: [1,0]\n",
    "    Explanation: The array represents the integer 9.\n",
    "    Incrementing by one gives 9 + 1 = 10.\n",
    "    Thus, the result should be [1,0].\n",
    "\n",
    "## Constraints:\n",
    "\n",
    "- `1 <= digits.length <= 100`\n",
    "- `0 <= digits[i] <= 9`\n",
    "- `digits` does not contain any leading `0`'s.\n"
   ]
  },
  {
   "cell_type": "code",
   "execution_count": 1,
   "metadata": {},
   "outputs": [],
   "source": [
    "class Solution:\n",
    "    # O(n) time complexity: only one pass through the array\n",
    "    # O(1) space complexity: no extra space used\n",
    "    def plusOne(self, digits: list[int]) -> list[int]:\n",
    "        n = len(digits)\n",
    "\n",
    "        # Traverse the array from the end\n",
    "        for i in range(n - 1, -1, -1):\n",
    "            if digits[i] < 9:\n",
    "                digits[i] += 1\n",
    "                return digits\n",
    "            digits[i] = 0\n",
    "\n",
    "        # If all digits are 9, we need an extra digit at the beginning\n",
    "        return [1] + digits"
   ]
  },
  {
   "cell_type": "code",
   "execution_count": 2,
   "metadata": {},
   "outputs": [
    {
     "name": "stdout",
     "output_type": "stream",
     "text": [
      "[1, 2, 4]\n",
      "[4, 3, 2, 2]\n",
      "[1, 0]\n"
     ]
    }
   ],
   "source": [
    "# examples\n",
    "s = Solution()\n",
    "\n",
    "print(s.plusOne([1, 2, 3]))  # [1, 2, 4]\n",
    "print(s.plusOne([4, 3, 2, 1]))  # [4, 3, 2, 2]\n",
    "print(s.plusOne([9]))  # [1, 0]"
   ]
  }
 ],
 "metadata": {
  "kernelspec": {
   "display_name": "Python 3",
   "language": "python",
   "name": "python3"
  },
  "language_info": {
   "codemirror_mode": {
    "name": "ipython",
    "version": 3
   },
   "file_extension": ".py",
   "mimetype": "text/x-python",
   "name": "python",
   "nbconvert_exporter": "python",
   "pygments_lexer": "ipython3",
   "version": "3.9.13"
  }
 },
 "nbformat": 4,
 "nbformat_minor": 2
}
