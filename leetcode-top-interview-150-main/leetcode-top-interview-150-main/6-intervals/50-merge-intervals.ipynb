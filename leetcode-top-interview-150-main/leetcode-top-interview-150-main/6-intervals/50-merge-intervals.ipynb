{
 "cells": [
  {
   "cell_type": "markdown",
   "metadata": {},
   "source": [
    "# Question 48 - LC 56. Merge Intervals\n",
    "\n",
    "Given an array of `intervals` where `intervals[i] = [starti, endi]`, merge all overlapping intervals, and return an array of the _non-overlapping intervals that cover all the intervals in the input_.\n",
    "\n",
    "**Example 1:**\n",
    "\n",
    "    Input: intervals = [[1,3],[2,6],[8,10],[15,18]]\n",
    "    Output: [[1,6],[8,10],[15,18]]\n",
    "    Explanation: Since intervals [1,3] and [2,6] overlap, merge them into [1,6].\n",
    "\n",
    "**Example 2:**\n",
    "\n",
    "    Input: intervals = [[1,4],[4,5]]\n",
    "    Output: [[1,5]]\n",
    "    Explanation: Intervals [1,4] and [4,5] are considered overlapping.\n",
    "\n",
    "**Constraints:**\n",
    "\n",
    "- `1 <= intervals.length <= 10^4`\n",
    "- `intervals[i].length == 2`\n",
    "- `0 <= starti <= endi <= 10^4`\n"
   ]
  },
  {
   "cell_type": "code",
   "execution_count": 1,
   "metadata": {},
   "outputs": [],
   "source": [
    "class Solution:\n",
    "    def merge(self, intervals: list[list[int]]) -> list[list[int]]:\n",
    "        # sort the intervals by the start value\n",
    "        intervals.sort(key=lambda x: x[0])\n",
    "\n",
    "        merged = []\n",
    "        for interval in intervals:\n",
    "            # if the list of merged intervals is empty or if the current interval does not overlap with the previous, simply append it.\n",
    "            if not merged or merged[-1][1] < interval[0]:\n",
    "                merged.append(interval)\n",
    "            else:\n",
    "                # otherwise, there is overlap, so we merge the current and previous intervals.\n",
    "                merged[-1][1] = max(merged[-1][1], interval[1])\n",
    "\n",
    "        return merged"
   ]
  },
  {
   "cell_type": "code",
   "execution_count": 2,
   "metadata": {},
   "outputs": [
    {
     "data": {
      "text/plain": [
       "([[1, 6], [8, 10], [15, 18]], [[1, 5]])"
      ]
     },
     "execution_count": 2,
     "metadata": {},
     "output_type": "execute_result"
    }
   ],
   "source": [
    "# Test cases\n",
    "\n",
    "merge = Solution().merge\n",
    "\n",
    "test_case1 = [[1, 3], [2, 6], [8, 10], [15, 18]]\n",
    "test_case2 = [[1, 4], [4, 5]]\n",
    "\n",
    "output1 = merge(test_case1)\n",
    "output2 = merge(test_case2)\n",
    "\n",
    "output1, output2"
   ]
  },
  {
   "cell_type": "markdown",
   "metadata": {},
   "source": [
    "To explain the merge intervals algorithm with an axis, let's visualize how intervals are laid out on a number line and how the algorithm processes these intervals. The key steps involve sorting the intervals based on their start points and then merging overlapping intervals.\n",
    "\n",
    "### Visualization of Steps\n",
    "\n",
    "1. **Initial Intervals on an Axis**:\n",
    "   - Imagine a horizontal number line.\n",
    "   - Place each interval on this number line according to its start and end points.\n",
    "\n",
    "2. **Sorting Intervals**:\n",
    "   - The intervals are sorted by their start points. On the number line, this would visually organize the intervals from left to right based on where they begin.\n",
    "\n",
    "3. **Merging Overlapping Intervals**:\n",
    "   - Starting from the leftmost interval on this sorted axis, compare each interval with the next one to see if they overlap.\n",
    "   - Overlapping is determined by checking if the end point of the current interval is greater than or equal to the start point of the next interval.\n",
    "   - If they overlap, merge them into a single interval that spans from the start point of the first interval to the maximum end point of both intervals.\n",
    "\n",
    "### Example Walkthrough\n",
    "\n",
    "Let's use the example `[[1,3],[2,6],[8,10],[15,18]]` for a step-by-step walkthrough:\n",
    "\n",
    "1. **Sort Intervals**: After sorting, the intervals remain `[[1,3],[2,6],[8,10],[15,18]]` since they are already sorted by their start points.\n",
    "\n",
    "2. **Merge Intervals**:\n",
    "   - Start with the first interval `[1,3]`.\n",
    "   - Compare it to the next interval `[2,6]`. Since `3` (end of the first interval) overlaps with `2` (start of the second interval), merge these into `[1,6]`.\n",
    "   - Move to the next interval `[8,10]`, which does not overlap with `[1,6]`, so it remains separate.\n",
    "   - Finally, `[15,18]` is also separate as it does not overlap with the previous interval.\n",
    "\n",
    "Visualizing this on an axis:\n",
    "\n",
    "```\n",
    "1---3\n",
    "  2-----6\n",
    "         8--10\n",
    "                  15---18\n",
    "```\n",
    "\n",
    "After merging:\n",
    "\n",
    "```\n",
    "1--------6\n",
    "          8--10\n",
    "                   15---18\n",
    "```\n",
    "\n",
    "Here, the merged intervals are represented as continuous ranges on the axis, showing how overlapping intervals are combined to cover the same span with fewer intervals. This visualization helps in understanding how the algorithm efficiently combines overlapping ranges by examining their start and end points relative to each other on a linear scale."
   ]
  },
  {
   "cell_type": "markdown",
   "metadata": {},
   "source": [
    "To analyze the complexity of the merge intervals algorithm, let's consider two main aspects: time complexity and space complexity.\n",
    "\n",
    "### Time Complexity\n",
    "\n",
    "1. **Sorting Intervals**: The first step of the algorithm involves sorting the intervals based on their start times. Assuming there are `n` intervals, the time complexity of sorting is \\(O(n \\log n)\\) in the average and worst case, which is the dominating factor in the algorithm's time complexity.\n",
    "\n",
    "2. **Merging Intervals**: After sorting, the algorithm iterates through the list of intervals once to merge overlapping intervals. This iteration is \\(O(n)\\), where `n` is the number of intervals, because each interval is considered exactly once.\n",
    "\n",
    "Thus, the overall time complexity of the algorithm is \\(O(n \\log n) + O(n) = O(n \\log n)\\), dominated by the sorting step.\n",
    "\n",
    "### Space Complexity\n",
    "\n",
    "1. **Output List**: The space complexity is primarily determined by the space needed to store the output list of merged intervals. In the worst case, if no intervals overlap, the output list will contain all the original intervals, requiring \\(O(n)\\) space.\n",
    "\n",
    "2. **Temporary Variables**: The algorithm uses only a few temporary variables (for iteration and comparison), which take \\(O(1)\\) space.\n",
    "\n",
    "Therefore, the overall space complexity of the algorithm is \\(O(n)\\) for the output list plus \\(O(1)\\) for temporary variables, simplifying to \\(O(n)\\).\n",
    "\n",
    "### Conclusion\n",
    "\n",
    "- **Time Complexity**: \\(O(n \\log n)\\), dominated by the sorting of intervals.\n",
    "- **Space Complexity**: \\(O(n)\\), primarily for storing the merged intervals in the worst case.\n"
   ]
  }
 ],
 "metadata": {
  "kernelspec": {
   "display_name": "Python 3",
   "language": "python",
   "name": "python3"
  },
  "language_info": {
   "codemirror_mode": {
    "name": "ipython",
    "version": 3
   },
   "file_extension": ".py",
   "mimetype": "text/x-python",
   "name": "python",
   "nbconvert_exporter": "python",
   "pygments_lexer": "ipython3",
   "version": "3.11.7"
  }
 },
 "nbformat": 4,
 "nbformat_minor": 2
}
