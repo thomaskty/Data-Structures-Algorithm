{
 "cells": [
  {
   "cell_type": "markdown",
   "metadata": {},
   "source": [
    "# Question 67 - LC 104. Maximum Depth of Binary Tree\n",
    "\n",
    "Given the `root` of a binary tree, return its **maximum depth**.\n",
    "\n",
    "A binary tree's **maximum depth** is the number of nodes along the longest path from the root node down to the farthest leaf node.\n",
    "\n",
    "**Example 1:**\n",
    "\n",
    "    Input: root = [3,9,20,null,null,15,7]\n",
    "    Output: 3\n",
    "\n",
    "**Example 2:**\n",
    "\n",
    "    Input: root = [1,null,2]\n",
    "    Output: 2\n",
    "\n",
    "**Constraints:**\n",
    "\n",
    "- The number of nodes in the tree is in the range `[0, 10^4]`.\n",
    "- `-100 <= Node.val <= 100`\n"
   ]
  },
  {
   "cell_type": "code",
   "execution_count": 30,
   "metadata": {},
   "outputs": [],
   "source": [
    "from __future__ import annotations\n",
    "from typing import Optional\n",
    "from collections import deque"
   ]
  },
  {
   "cell_type": "code",
   "execution_count": 31,
   "metadata": {},
   "outputs": [],
   "source": [
    "# Definition for a binary tree node.\n",
    "class TreeNode:\n",
    "    def __init__(self, val=0, left=None, right=None):\n",
    "        self.val = val\n",
    "        self.left = left\n",
    "        self.right = right\n",
    "\n",
    "    @staticmethod\n",
    "    def from_list(values: list[Optional[int]]) -> Optional[TreeNode]:\n",
    "        \"\"\"\n",
    "        Constructs a binary tree from a list of values using level-order traversal (BFS).\n",
    "\n",
    "        Parameters:\n",
    "        - values (list): The list of values to construct the binary tree from.\n",
    "\n",
    "        Returns:\n",
    "        TreeNode: The root of the constructed binary tree.\n",
    "        \"\"\"\n",
    "        if not values:\n",
    "            return None\n",
    "\n",
    "        root = TreeNode(val=values[0])\n",
    "        queue = deque([root])\n",
    "        i = 1\n",
    "\n",
    "        while queue and i < len(values):\n",
    "            current_node = queue.popleft()\n",
    "\n",
    "            if values[i] is not None:\n",
    "                current_node.left = TreeNode(val=values[i])\n",
    "                queue.append(current_node.left)\n",
    "            i += 1\n",
    "\n",
    "            if i < len(values) and values[i] is not None:\n",
    "                current_node.right = TreeNode(val=values[i])\n",
    "                queue.append(current_node.right)\n",
    "            i += 1\n",
    "\n",
    "        return root\n",
    "\n",
    "    def print_level_order(self):\n",
    "        \"\"\"\n",
    "        Prints the level order traversal of the tree (BFS).\n",
    "\n",
    "        Returns:\n",
    "        list: A list of lists, where each sublist contains the values of the tree nodes\n",
    "              at that depth.\n",
    "        \"\"\"\n",
    "        queue = deque([(self, 0)])\n",
    "        result = []\n",
    "        current_level = []\n",
    "        level_number = 0\n",
    "\n",
    "        while queue:\n",
    "            current_node, node_level = queue.popleft()\n",
    "\n",
    "            if node_level > level_number:\n",
    "                result.append(current_level)\n",
    "                current_level = []\n",
    "                level_number = node_level\n",
    "\n",
    "            if current_node:\n",
    "                current_level.append(current_node.val)\n",
    "                queue.append((current_node.left, node_level + 1))\n",
    "                queue.append((current_node.right, node_level + 1))\n",
    "            else:\n",
    "                current_level.append(\"None\")\n",
    "\n",
    "        if current_level:\n",
    "            result.append(current_level)\n",
    "        \n",
    "        # Remove trailing \"None\" values\n",
    "        result = [level for level in result if any(elem != \"None\" for elem in level)]\n",
    "\n",
    "        return result"
   ]
  },
  {
   "cell_type": "code",
   "execution_count": 32,
   "metadata": {},
   "outputs": [],
   "source": [
    "class Solution:\n",
    "    def maxDepth(self, root: Optional[TreeNode]) -> int:\n",
    "        \"\"\"\n",
    "        Calculates the maximum depth of a binary tree (DFS).\n",
    "\n",
    "        Parameters:\n",
    "        - root (TreeNode): The root of the binary tree.\n",
    "\n",
    "        Returns:\n",
    "        int: The maximum depth of the tree.\n",
    "        \"\"\"\n",
    "        if not root:\n",
    "            return 0\n",
    "\n",
    "        else:\n",
    "            left_depth = self.maxDepth(root.left)\n",
    "            right_depth = self.maxDepth(root.right)\n",
    "            return max(left_depth, right_depth) + 1"
   ]
  },
  {
   "cell_type": "code",
   "execution_count": 33,
   "metadata": {},
   "outputs": [
    {
     "name": "stdout",
     "output_type": "stream",
     "text": [
      "Level Order: [[3], [9, 20], ['None', 'None', 15, 7]]\n",
      "Max Depth: 3\n"
     ]
    }
   ],
   "source": [
    "s = Solution()\n",
    "\n",
    "values = [3, 9, 20, None, None, 15, 7]\n",
    "root = TreeNode.from_list(values)\n",
    "print(\"Level Order:\", root.print_level_order())\n",
    "print(\"Max Depth:\", s.maxDepth(root))"
   ]
  }
 ],
 "metadata": {
  "kernelspec": {
   "display_name": "Python 3",
   "language": "python",
   "name": "python3"
  },
  "language_info": {
   "codemirror_mode": {
    "name": "ipython",
    "version": 3
   },
   "file_extension": ".py",
   "mimetype": "text/x-python",
   "name": "python",
   "nbconvert_exporter": "python",
   "pygments_lexer": "ipython3",
   "version": "3.12.0"
  }
 },
 "nbformat": 4,
 "nbformat_minor": 2
}
