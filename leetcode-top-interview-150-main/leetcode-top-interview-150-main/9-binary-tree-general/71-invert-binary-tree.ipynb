{
 "cells": [
  {
   "cell_type": "markdown",
   "metadata": {},
   "source": [
    "# Question 69 - LC 226. Invert Binary Tree\n",
    "\n",
    "Given the `root` of a binary tree, invert the tree, and return its root.\n",
    "\n",
    "**Example 1:**\n",
    "\n",
    "    Input: root = [4,2,7,1,3,6,9]\n",
    "    Output: [4,7,2,9,6,3,1]\n",
    "\n",
    "**Example 2:**\n",
    "\n",
    "    Input: root = [2,1,3]\n",
    "    Output: [2,3,1]\n",
    "\n",
    "**Example 3:**\n",
    "\n",
    "    Input: root = []\n",
    "    Output: []\n",
    "\n",
    "**Constraints:**\n",
    "\n",
    "- The number of nodes in the tree is in the range `[0, 100]`.\n",
    "- `-100 <= Node.val <= 100`\n"
   ]
  },
  {
   "cell_type": "code",
   "execution_count": 5,
   "metadata": {},
   "outputs": [],
   "source": [
    "from __future__ import annotations\n",
    "from typing import Optional\n",
    "from collections import deque"
   ]
  },
  {
   "cell_type": "code",
   "execution_count": 6,
   "metadata": {},
   "outputs": [],
   "source": [
    "# Definition for a binary tree node.\n",
    "class TreeNode:\n",
    "    def __init__(self, val=0, left=None, right=None):\n",
    "        self.val = val\n",
    "        self.left = left\n",
    "        self.right = right\n",
    "\n",
    "    @staticmethod\n",
    "    def from_list(values: list[Optional[int]]) -> Optional[TreeNode]:\n",
    "        \"\"\"\n",
    "        Constructs a binary tree from a list of values using level-order traversal (BFS).\n",
    "\n",
    "        Parameters:\n",
    "        - values (list): The list of values to construct the binary tree from.\n",
    "\n",
    "        Returns:\n",
    "        TreeNode: The root of the constructed binary tree.\n",
    "        \"\"\"\n",
    "        if not values:\n",
    "            return None\n",
    "\n",
    "        root = TreeNode(val=values[0])\n",
    "        queue = deque([root])\n",
    "        i = 1\n",
    "\n",
    "        while queue and i < len(values):\n",
    "            current_node = queue.popleft()\n",
    "\n",
    "            if values[i] is not None:\n",
    "                current_node.left = TreeNode(val=values[i])\n",
    "                queue.append(current_node.left)\n",
    "            i += 1\n",
    "\n",
    "            if i < len(values) and values[i] is not None:\n",
    "                current_node.right = TreeNode(val=values[i])\n",
    "                queue.append(current_node.right)\n",
    "            i += 1\n",
    "\n",
    "        return root\n",
    "\n",
    "    def print_level_order(self):\n",
    "        \"\"\"\n",
    "        Prints the level order traversal of the tree (BFS).\n",
    "\n",
    "        Returns:\n",
    "        list: A list of lists, where each sublist contains the values of the tree nodes\n",
    "              at that depth.\n",
    "        \"\"\"\n",
    "        queue = deque([(self, 0)])\n",
    "        result = []\n",
    "        current_level = []\n",
    "        level_number = 0\n",
    "\n",
    "        while queue:\n",
    "            current_node, node_level = queue.popleft()\n",
    "\n",
    "            if node_level > level_number:\n",
    "                result.append(current_level)\n",
    "                current_level = []\n",
    "                level_number = node_level\n",
    "\n",
    "            if current_node:\n",
    "                current_level.append(current_node.val)\n",
    "                queue.append((current_node.left, node_level + 1))\n",
    "                queue.append((current_node.right, node_level + 1))\n",
    "            else:\n",
    "                current_level.append(\"None\")\n",
    "\n",
    "        if current_level:\n",
    "            result.append(current_level)\n",
    "        \n",
    "        # Remove trailing \"None\" values\n",
    "        result = [level for level in result if any(elem != \"None\" for elem in level)]\n",
    "\n",
    "        return result"
   ]
  },
  {
   "cell_type": "code",
   "execution_count": 7,
   "metadata": {},
   "outputs": [],
   "source": [
    "class Solution:\n",
    "    def invertTree(self, root: Optional[TreeNode]) -> Optional[TreeNode]:\n",
    "        if not root:\n",
    "                return None\n",
    "        \n",
    "        # Swap the left and right children\n",
    "        root.left, root.right = root.right, root.left\n",
    "    \n",
    "        # Recursively invert the left and right subtrees\n",
    "        self.invertTree(root.left)\n",
    "        self.invertTree(root.right)\n",
    "    \n",
    "        return root"
   ]
  },
  {
   "cell_type": "code",
   "execution_count": 8,
   "metadata": {},
   "outputs": [
    {
     "data": {
      "text/plain": [
       "[[[4], [7, 2], [9, 6, 3, 1]], [[2], [3, 1]], [], [[1]], [[1], ['None', 2]]]"
      ]
     },
     "execution_count": 8,
     "metadata": {},
     "output_type": "execute_result"
    }
   ],
   "source": [
    "s = Solution()\n",
    "\n",
    "# Test cases\n",
    "test_cases = [\n",
    "    [4, 2, 7, 1, 3, 6, 9],\n",
    "    [2, 1, 3],\n",
    "    [],\n",
    "    [1],\n",
    "    [1, 2]\n",
    "]\n",
    "\n",
    "# Execute test cases\n",
    "results = []\n",
    "for case in test_cases:\n",
    "    root = TreeNode.from_list(case)\n",
    "    inverted_root = s.invertTree(root)\n",
    "    results.append((inverted_root).print_level_order() if inverted_root else [])\n",
    "\n",
    "results"
   ]
  }
 ],
 "metadata": {
  "kernelspec": {
   "display_name": "Python 3",
   "language": "python",
   "name": "python3"
  },
  "language_info": {
   "codemirror_mode": {
    "name": "ipython",
    "version": 3
   },
   "file_extension": ".py",
   "mimetype": "text/x-python",
   "name": "python",
   "nbconvert_exporter": "python",
   "pygments_lexer": "ipython3",
   "version": "3.12.0"
  }
 },
 "nbformat": 4,
 "nbformat_minor": 2
}
