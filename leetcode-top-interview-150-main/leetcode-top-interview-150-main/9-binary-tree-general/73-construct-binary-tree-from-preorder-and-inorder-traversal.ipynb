{
 "cells": [
  {
   "cell_type": "markdown",
   "metadata": {},
   "source": [
    "## Question 71 - LC 105. Construct Binary Tree from Preorder and Inorder Traversal\n",
    "\n",
    "**Difficulty:** Medium\n",
    "\n",
    "**Topics:** Tree, Depth-first Search, Array, Binary Tree\n",
    "\n",
    "**Companies:** Often asked in interviews at major tech companies.\n",
    "\n",
    "Given two integer arrays `preorder` and `inorder` where `preorder` is the preorder traversal of a binary tree and `inorder` is the inorder traversal of the same tree, construct and return the binary tree.\n",
    "\n",
    "### Example 1:\n",
    "\n",
    "**Input:** preorder = [3,9,20,15,7], inorder = [9,3,15,20,7]  \n",
    "**Output:** [3,9,20,null,null,15,7]\n",
    "\n",
    "### Example 2:\n",
    "\n",
    "**Input:** preorder = [-1], inorder = [-1]  \n",
    "**Output:** [-1]\n",
    "\n",
    "### Constraints:\n",
    "\n",
    "- 1 <= preorder.length <= 3000\n",
    "- inorder.length == preorder.length\n",
    "- -3000 <= preorder[i], inorder[i] <= 3000\n",
    "- preorder and inorder consist of unique values.\n",
    "- Each value of inorder also appears in preorder.\n",
    "- preorder is guaranteed to be the preorder traversal of the tree.\n",
    "- inorder is guaranteed to be the inorder traversal of the tree.\n"
   ]
  },
  {
   "cell_type": "code",
   "execution_count": 1,
   "metadata": {},
   "outputs": [],
   "source": [
    "from __future__ import annotations\n",
    "from typing import Optional\n",
    "from collections import deque"
   ]
  },
  {
   "cell_type": "code",
   "execution_count": 2,
   "metadata": {},
   "outputs": [],
   "source": [
    "# Definition for a binary tree node.\n",
    "class TreeNode:\n",
    "    def __init__(self, val=0, left=None, right=None):\n",
    "        self.val = val\n",
    "        self.left = left\n",
    "        self.right = right\n",
    "\n",
    "    @staticmethod\n",
    "    def from_list(values: list[Optional[int]]) -> Optional[TreeNode]:\n",
    "        \"\"\"\n",
    "        Constructs a binary tree from a list of values using level-order traversal (BFS).\n",
    "\n",
    "        Parameters:\n",
    "        - values (list): The list of values to construct the binary tree from.\n",
    "\n",
    "        Returns:\n",
    "        TreeNode: The root of the constructed binary tree.\n",
    "        \"\"\"\n",
    "        if not values:\n",
    "            return None\n",
    "\n",
    "        root = TreeNode(val=values[0])\n",
    "        queue = deque([root])\n",
    "        i = 1\n",
    "\n",
    "        while queue and i < len(values):\n",
    "            current_node = queue.popleft()\n",
    "\n",
    "            if values[i] is not None:\n",
    "                current_node.left = TreeNode(val=values[i])\n",
    "                queue.append(current_node.left)\n",
    "            i += 1\n",
    "\n",
    "            if i < len(values) and values[i] is not None:\n",
    "                current_node.right = TreeNode(val=values[i])\n",
    "                queue.append(current_node.right)\n",
    "            i += 1\n",
    "\n",
    "        return root\n",
    "\n",
    "    def print_level_order(self):\n",
    "        \"\"\"\n",
    "        Prints the level order traversal of the tree (BFS).\n",
    "\n",
    "        Returns:\n",
    "        list: A list of lists, where each sublist contains the values of the tree nodes\n",
    "              at that depth.\n",
    "        \"\"\"\n",
    "        queue = deque([(self, 0)])\n",
    "        result = []\n",
    "        current_level = []\n",
    "        level_number = 0\n",
    "\n",
    "        while queue:\n",
    "            current_node, node_level = queue.popleft()\n",
    "\n",
    "            if node_level > level_number:\n",
    "                result.append(current_level)\n",
    "                current_level = []\n",
    "                level_number = node_level\n",
    "\n",
    "            if current_node:\n",
    "                current_level.append(current_node.val)\n",
    "                queue.append((current_node.left, node_level + 1))\n",
    "                queue.append((current_node.right, node_level + 1))\n",
    "            else:\n",
    "                current_level.append(\"None\")\n",
    "\n",
    "        if current_level:\n",
    "            result.append(current_level)\n",
    "        \n",
    "        # Remove trailing \"None\" values\n",
    "        result = [level for level in result if any(elem != \"None\" for elem in level)]\n",
    "\n",
    "        return result"
   ]
  },
  {
   "cell_type": "code",
   "execution_count": 3,
   "metadata": {},
   "outputs": [],
   "source": [
    "class Solution:\n",
    "    # divide and conquer - find root in preorder list, then split inorder list into left and right subtrees\n",
    "    def buildTree(self, preorder: list[int], inorder: list[int]) -> Optional[TreeNode]:\n",
    "        if not preorder or not inorder:\n",
    "            return None\n",
    "\n",
    "        # root is the first element in the preorder list\n",
    "        root_val = preorder.pop(0)\n",
    "        root = TreeNode(val=root_val)\n",
    "\n",
    "        # find the index of the root value in the inorder list to split into left and right subtrees\n",
    "        root_index = inorder.index(root_val)\n",
    "\n",
    "        # recursively build the left and right subtrees\n",
    "        root.left = self.buildTree(preorder, inorder[:root_index])\n",
    "        root.right = self.buildTree(preorder, inorder[root_index + 1:])\n",
    "\n",
    "        return root"
   ]
  },
  {
   "cell_type": "code",
   "execution_count": 4,
   "metadata": {},
   "outputs": [
    {
     "data": {
      "text/plain": [
       "[[3], [9, 20], ['None', 'None', 15, 7]]"
      ]
     },
     "execution_count": 4,
     "metadata": {},
     "output_type": "execute_result"
    }
   ],
   "source": [
    "# Test case\n",
    "\n",
    "s = Solution()\n",
    "\n",
    "preorder = [3,9,20,15,7]\n",
    "inorder = [9,3,15,20,7]\n",
    "tree = s.buildTree(preorder, inorder)\n",
    "\n",
    "tree.print_level_order()"
   ]
  }
 ],
 "metadata": {
  "kernelspec": {
   "display_name": "Python 3",
   "language": "python",
   "name": "python3"
  },
  "language_info": {
   "codemirror_mode": {
    "name": "ipython",
    "version": 3
   },
   "file_extension": ".py",
   "mimetype": "text/x-python",
   "name": "python",
   "nbconvert_exporter": "python",
   "pygments_lexer": "ipython3",
   "version": "3.12.0"
  }
 },
 "nbformat": 4,
 "nbformat_minor": 2
}
