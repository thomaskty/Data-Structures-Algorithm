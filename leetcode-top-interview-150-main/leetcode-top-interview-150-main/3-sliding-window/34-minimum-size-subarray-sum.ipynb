{
 "cells": [
  {
   "cell_type": "markdown",
   "metadata": {},
   "source": [
    "# Question 30 - LC 209. Minimum Size Subarray Sum\n",
    "\n",
    "Given an array of positive integers nums and a positive integer target, return the minimal length of a subarray whose sum is greater than or equal to target. If there is no such subarray, return 0 instead.\n",
    "\n",
    "**Example 1:**\n",
    "\n",
    "    Input: target = 7, nums = [2,3,1,2,4,3]\n",
    "    Output: 2\n",
    "    Explanation: The subarray [4,3] has the minimal length under the problem constraint.\n",
    "\n",
    "**Example 2:**\n",
    "\n",
    "    Input: target = 4, nums = [1,4,4]\n",
    "    Output: 1\n",
    "\n",
    "**Example 3:**\n",
    "\n",
    "    Input: target = 11, nums = [1,1,1,1,1,1,1,1]\n",
    "    Output: 0\n",
    "\n",
    "**Constraints:**\n",
    "\n",
    "- `1 <= target <= 10^9`\n",
    "- `1 <= nums.length <= 10^5`\n",
    "- `1 <= nums[i] <= 10^4`\n"
   ]
  },
  {
   "cell_type": "code",
   "execution_count": 3,
   "metadata": {},
   "outputs": [
    {
     "name": "stdout",
     "output_type": "stream",
     "text": [
      "2\n"
     ]
    }
   ],
   "source": [
    "# Approach 1: Sliding Window (O(n) Time Complexity)\n",
    "class Solution1:\n",
    "    def minSubArrayLen(self, target: int, nums: list[int]) -> int:\n",
    "        # Length of the input array\n",
    "        n = len(nums)\n",
    "        # Initialize the minimum length to infinity (to represent a very large number)\n",
    "        min_length = float(\"inf\")\n",
    "        # Initialize the left pointer of the window to 0\n",
    "        left = 0\n",
    "        # Initialize the current sum of the window to 0\n",
    "        current_sum = 0\n",
    "\n",
    "        # Iterate over the array with the right pointer\n",
    "        for right in range(n):\n",
    "            # Add the current right element to the window's sum\n",
    "            current_sum += nums[right]\n",
    "\n",
    "            # Once the current sum is greater or equal to the target, try to shrink the window\n",
    "            while current_sum >= target:\n",
    "                # Update the minimum length if the current window is smaller\n",
    "                min_length = min(min_length, right - left + 1)\n",
    "                # Subtract the leftmost element from the sum as we are about to move the left pointer to the right\n",
    "                current_sum -= nums[left]\n",
    "                # Move the left pointer to the right, effectively shrinking the window\n",
    "                left += 1\n",
    "\n",
    "        # If min_length is still infinity, it means no valid subarray was found. Return 0 in this case.\n",
    "        # Otherwise, return the minimum length found.\n",
    "        return min_length if min_length != float(\"inf\") else 0\n",
    "\n",
    "\n",
    "# Example usage\n",
    "solution1 = Solution1()\n",
    "print(solution1.minSubArrayLen(7, [2, 3, 1, 2, 4, 3]))  # Output: 2"
   ]
  }
 ],
 "metadata": {
  "kernelspec": {
   "display_name": "Python 3",
   "language": "python",
   "name": "python3"
  },
  "language_info": {
   "codemirror_mode": {
    "name": "ipython",
    "version": 3
   },
   "file_extension": ".py",
   "mimetype": "text/x-python",
   "name": "python",
   "nbconvert_exporter": "python",
   "pygments_lexer": "ipython3",
   "version": "3.11.7"
  }
 },
 "nbformat": 4,
 "nbformat_minor": 2
}
