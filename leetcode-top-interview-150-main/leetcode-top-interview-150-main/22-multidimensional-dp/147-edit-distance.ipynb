{
 "cells": [
  {
   "cell_type": "markdown",
   "metadata": {},
   "source": [
    "# Question 145 - LC 72. Edit Distance\n",
    "\n",
    "Given two strings `word1` and `word2`, return the **minimum number of operations** required to convert `word1` to `word2`.\n",
    "\n",
    "You have the following three operations permitted on a word:\n",
    "\n",
    "- Insert a character\n",
    "- Delete a character\n",
    "- Replace a character\n",
    "\n",
    "## Example 1:\n",
    "\n",
    "    Input: word1 = \"horse\", word2 = \"ros\"\n",
    "    Output: 3\n",
    "    Explanation:\n",
    "    horse -> rorse (replace 'h' with 'r')\n",
    "    rorse -> rose (remove 'r')\n",
    "    rose -> ros (remove 'e')\n",
    "\n",
    "## Example 2:\n",
    "\n",
    "    Input: word1 = \"intention\", word2 = \"execution\"\n",
    "    Output: 5\n",
    "    Explanation:\n",
    "    intention -> inention (remove 't')\n",
    "    inention -> enention (replace 'i' with 'e')\n",
    "    enention -> exention (replace 'n' with 'x')\n",
    "    exention -> exection (replace 'n' with 'c')\n",
    "    exection -> execution (insert 'u')\n",
    "\n",
    "## Constraints:\n",
    "\n",
    "- `0 <= word1.length, word2.length <= 500`\n",
    "- `word1` and `word2` consist of lowercase English letters.\n"
   ]
  },
  {
   "cell_type": "code",
   "execution_count": 1,
   "metadata": {},
   "outputs": [],
   "source": [
    "class Solution:\n",
    "    # complexity: O(m * n) time, O(m * n) space\n",
    "    def minDistance(self, word1: str, word2: str) -> int:\n",
    "        m, n = len(word1), len(word2)\n",
    "\n",
    "        # dp[i][j] is the minimum number of ops to convert word1[:i] to word2[:j]\n",
    "        dp = [[0] * (n + 1) for _ in range(m + 1)]\n",
    "\n",
    "        # base case\n",
    "        for i in range(1, m + 1):\n",
    "            dp[i][0] = i  # cost to delete i characters from word1\n",
    "        for j in range(1, n + 1):\n",
    "            dp[0][j] = j  # cost to delete j characters from word2\n",
    "\n",
    "        # fill the dp table\n",
    "        for i in range(1, m + 1):\n",
    "            for j in range(1, n + 1):\n",
    "                # if the characters are the same, no op needed\n",
    "                if word1[i - 1] == word2[j - 1]:\n",
    "                    # no op needed, inherit the cost\n",
    "                    dp[i][j] = dp[i - 1][j - 1]\n",
    "                else:\n",
    "                    dp[i][j] = min(\n",
    "                        dp[i - 1][j] + 1,  # delete\n",
    "                        dp[i][j - 1] + 1,  # insert\n",
    "                        dp[i - 1][j - 1] + 1  # replace\n",
    "                    )\n",
    "\n",
    "        return dp[m][n]"
   ]
  },
  {
   "cell_type": "code",
   "execution_count": 2,
   "metadata": {},
   "outputs": [
    {
     "name": "stdout",
     "output_type": "stream",
     "text": [
      "3\n",
      "5\n"
     ]
    }
   ],
   "source": [
    "# Example usage\n",
    "s = Solution()\n",
    "\n",
    "print(s.minDistance(\"horse\", \"ros\"))  # Output: 3\n",
    "print(s.minDistance(\"intention\", \"execution\"))  # Output: 5"
   ]
  }
 ],
 "metadata": {
  "kernelspec": {
   "display_name": "Python 3",
   "language": "python",
   "name": "python3"
  },
  "language_info": {
   "codemirror_mode": {
    "name": "ipython",
    "version": 3
   },
   "file_extension": ".py",
   "mimetype": "text/x-python",
   "name": "python",
   "nbconvert_exporter": "python",
   "pygments_lexer": "ipython3",
   "version": "3.9.13"
  }
 },
 "nbformat": 4,
 "nbformat_minor": 2
}
