{
 "cells": [
  {
   "cell_type": "markdown",
   "metadata": {},
   "source": [
    "# Question 142 - LC 63. Unique Paths II\n",
    "\n",
    "You are given an `m x n` integer array `grid`. There is a robot initially located at the **top-left corner** (i.e., grid[0][0]). The robot tries to move to the **bottom-right corner** (i.e., grid[m - 1][n - 1]). The robot can only move either down or right at any point in time.\n",
    "\n",
    "An obstacle and space are marked as `1` or `0` respectively in `grid`. A path that the robot takes cannot include any square that is an obstacle.\n",
    "\n",
    "Return _the number of possible unique paths that the robot can take to reach the bottom-right corner_.\n",
    "\n",
    "The testcases are generated so that the answer will be less than or equal to `2 * 10^9`.\n",
    "\n",
    "## Example 1:\n",
    "\n",
    "    Input: obstacleGrid = [[0,0,0],[0,1,0],[0,0,0]]\n",
    "    Output: 2\n",
    "    Explanation: There is one obstacle in the middle of the 3x3 grid above.\n",
    "    There are two ways to reach the bottom-right corner:\n",
    "    1. Right -> Right -> Down -> Down\n",
    "    2. Down -> Down -> Right -> Right\n",
    "\n",
    "## Example 2:\n",
    "\n",
    "    Input: obstacleGrid = [[0,1],[0,0]]\n",
    "    Output: 1\n",
    "\n",
    "## Constraints:\n",
    "\n",
    "- `m == obstacleGrid.length`\n",
    "- `n == obstacleGrid[i].length`\n",
    "- `1 <= m, n <= 100`\n",
    "- `obstacleGrid[i][j]` is 0 or 1.\n"
   ]
  },
  {
   "cell_type": "code",
   "execution_count": 1,
   "metadata": {},
   "outputs": [],
   "source": [
    "class Solution:\n",
    "    # O(m * n) time complexity, O(m * n) space complexity\n",
    "    def uniquePathsWithObstacles(self, obstacleGrid: list[list[int]]) -> int:\n",
    "        if not obstacleGrid or obstacleGrid[0][0] == 1:\n",
    "            return 0\n",
    "\n",
    "        m, n = len(obstacleGrid), len(obstacleGrid[0])\n",
    "\n",
    "        dp = [[0] * n for _ in range(m)]\n",
    "        dp[0][0] = 1\n",
    "\n",
    "        # first row\n",
    "        for i in range(1, m):\n",
    "            # if a cell is not an obstacle and the previous cell in dp is reachable, \n",
    "            # then the current cell in dp is also reachable\n",
    "            if obstacleGrid[i][0] == 0 and dp[i - 1][0] == 1:\n",
    "                dp[i][0] = 1\n",
    "\n",
    "        # first column\n",
    "        for j in range(1, n):\n",
    "            if obstacleGrid[0][j] == 0 and dp[0][j - 1] == 1:\n",
    "                dp[0][j] = 1\n",
    "\n",
    "        for i in range(1, m):\n",
    "            for j in range(1, n):\n",
    "                if obstacleGrid[i][j] == 0:\n",
    "                    dp[i][j] = dp[i - 1][j] + dp[i][j - 1]\n",
    "\n",
    "        return dp[-1][-1]"
   ]
  },
  {
   "cell_type": "code",
   "execution_count": 2,
   "metadata": {},
   "outputs": [
    {
     "name": "stdout",
     "output_type": "stream",
     "text": [
      "2\n",
      "1\n"
     ]
    }
   ],
   "source": [
    "# test cases\n",
    "s = Solution()\n",
    "obstacleGrid = [[0, 0, 0], [0, 1, 0], [0, 0, 0]]\n",
    "print(s.uniquePathsWithObstacles(obstacleGrid))  # 2\n",
    "\n",
    "obstacleGrid = [[0, 1], [0, 0]]\n",
    "print(s.uniquePathsWithObstacles(obstacleGrid))  # 1"
   ]
  }
 ],
 "metadata": {
  "kernelspec": {
   "display_name": "Python 3",
   "language": "python",
   "name": "python3"
  },
  "language_info": {
   "codemirror_mode": {
    "name": "ipython",
    "version": 3
   },
   "file_extension": ".py",
   "mimetype": "text/x-python",
   "name": "python",
   "nbconvert_exporter": "python",
   "pygments_lexer": "ipython3",
   "version": "3.9.13"
  }
 },
 "nbformat": 4,
 "nbformat_minor": 2
}
