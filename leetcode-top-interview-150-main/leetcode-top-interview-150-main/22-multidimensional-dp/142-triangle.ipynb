{
 "cells": [
  {
   "cell_type": "markdown",
   "metadata": {},
   "source": [
    "# Question 140 - LC 120. Triangle\n",
    "\n",
    "Given a `triangle` array, return _the minimum path sum from top to bottom_.\n",
    "\n",
    "For each step, you may move to an adjacent number of the row below. More formally, if you are on index `i` on the current row, you may move to either index `i` or index `i + 1` on the next row.\n",
    "\n",
    "## Example 1:\n",
    "\n",
    "    Input: triangle = [[2],[3,4],[6,5,7],[4,1,8,3]]\n",
    "    Output: 11\n",
    "    Explanation: The triangle looks like:\n",
    "    2\n",
    "    3 4\n",
    "    6 5 7\n",
    "    4 1 8 3\n",
    "    The minimum path sum from top to bottom is 2 + 3 + 5 + 1 = 11 (underlined above).\n",
    "\n",
    "## Example 2:\n",
    "\n",
    "    Input: triangle = [[-10]]\n",
    "    Output: -10\n",
    "\n",
    "## Constraints:\n",
    "\n",
    "`1 <= triangle.length <= 200`\n",
    "`triangle[0].length == 1`\n",
    "`triangle[i].length == triangle[i - 1].length + 1`\n",
    "`-10^4 <= triangle[i][j] <= 10^4`\n",
    "\n",
    "**Follow up**: Could you do this using only `O(n)` extra space, where `n` is the total number of rows in the triangle?\n"
   ]
  },
  {
   "cell_type": "code",
   "execution_count": 1,
   "metadata": {},
   "outputs": [],
   "source": [
    "class Solution:\n",
    "    # Solve with dynamic programming\n",
    "    # Time complexity: O(n^2) where n is the number of rows in the triangle\n",
    "    # Space complexity: O(1) since we are modifying the input list in place\n",
    "    def minimumTotal(self, triangle: list[list[int]]) -> int:\n",
    "        # start from the second to last row and work our way up\n",
    "        for i in range(len(triangle) - 2, -1, -1):\n",
    "            for j in range(len(triangle[i])):\n",
    "                # get the minimum of the two adjacent numbers in the row below\n",
    "                triangle[i][j] += min(triangle[i + 1][j],\n",
    "                                      triangle[i + 1][j + 1])\n",
    "\n",
    "        return triangle[0][0]"
   ]
  },
  {
   "cell_type": "code",
   "execution_count": 2,
   "metadata": {},
   "outputs": [
    {
     "name": "stdout",
     "output_type": "stream",
     "text": [
      "11\n",
      "-10\n"
     ]
    }
   ],
   "source": [
    "# Example usage\n",
    "s = Solution()\n",
    "\n",
    "triangle1 = [[2], [3, 4], [6, 5, 7], [4, 1, 8, 3]]\n",
    "triangle2 = [[-10]]\n",
    "print(s.minimumTotal(triangle1))  # Output: 11\n",
    "print(s.minimumTotal(triangle2))  # Output: -10"
   ]
  },
  {
   "cell_type": "markdown",
   "metadata": {},
   "source": [
    "## Step by step using the given triangle\n",
    "\n",
    "```\n",
    "   2\n",
    "  3 4\n",
    " 6 5 7\n",
    "4 1 8 3\n",
    "```\n",
    "\n",
    "### Step 1: Initialization\n",
    "\n",
    "We start from the second to last row of the triangle. In this case, that's the row with `6, 5, 7`.\n",
    "\n",
    "### Step 2: Processing from Bottom Up\n",
    "\n",
    "We'll update each value in this row by adding the minimum of the two values directly below it from the next row. Here’s how it works:\n",
    "\n",
    "#### Row `6, 5, 7` (one above the bottom row):\n",
    "\n",
    "- For `6`: The values directly below are `4` and `1`. The minimum is `1`. Update `6` to `6 + 1 = 7`.\n",
    "- For `5`: The values directly below are `1` and `8`. The minimum is `1`. Update `5` to `5 + 1 = 6`.\n",
    "- For `7`: The values directly below are `8` and `3`. The minimum is `3`. Update `7` to `7 + 3 = 10`.\n",
    "\n",
    "After updating, the triangle looks like this:\n",
    "\n",
    "```\n",
    "   2\n",
    "  3 4\n",
    " 7 6 10\n",
    "4 1 8 3\n",
    "```\n",
    "\n",
    "#### Row `3, 4`:\n",
    "\n",
    "- For `3`: The values directly below are `7` and `6`. The minimum is `6`. Update `3` to `3 + 6 = 9`.\n",
    "- For `4`: The values directly below are `6` and `10`. The minimum is `6`. Update `4` to `4 + 6 = 10`.\n",
    "\n",
    "Now, the triangle is:\n",
    "\n",
    "```\n",
    "   2\n",
    "  9 10\n",
    " 7 6 10\n",
    "4 1 8 3\n",
    "```\n",
    "\n",
    "#### Top Row `2`:\n",
    "\n",
    "- For `2`: The values directly below are `9` and `10`. The minimum is `9`. Update `2` to `2 + 9 = 11`.\n",
    "\n",
    "The final triangle now looks like:\n",
    "\n",
    "```\n",
    "  11\n",
    "  9 10\n",
    " 7 6 10\n",
    "4 1 8 3\n",
    "```\n",
    "\n",
    "### Step 3: Result\n",
    "\n",
    "The top element of the triangle now holds the minimum path sum from top to bottom. The value is `11`. This path corresponds to moving from `2` to `3`, then to `5`, and finally adding `1` at the bottom.\n",
    "\n",
    "This process ensures that each value at each row is updated by considering the best possible minimum path sum coming from the row below, and by the time we reach the top of the triangle, it contains the minimum path sum of all possible paths from the top to the bottom.\n"
   ]
  }
 ],
 "metadata": {
  "kernelspec": {
   "display_name": "Python 3",
   "language": "python",
   "name": "python3"
  },
  "language_info": {
   "codemirror_mode": {
    "name": "ipython",
    "version": 3
   },
   "file_extension": ".py",
   "mimetype": "text/x-python",
   "name": "python",
   "nbconvert_exporter": "python",
   "pygments_lexer": "ipython3",
   "version": "3.9.13"
  }
 },
 "nbformat": 4,
 "nbformat_minor": 2
}
