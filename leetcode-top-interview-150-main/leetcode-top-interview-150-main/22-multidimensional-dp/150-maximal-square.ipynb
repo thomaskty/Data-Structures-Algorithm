{
 "cells": [
  {
   "cell_type": "markdown",
   "metadata": {},
   "source": [
    "# Question - LC 221. Maximal Square\n",
    "\n",
    "Given an `m x n` binary matrix filled with `0`'s and `1`'s, find the largest square containing only `1`'s and **return its area**.\n",
    "\n",
    "## Example 1:\n",
    "\n",
    "    Input: matrix = [[\"1\",\"0\",\"1\",\"0\",\"0\"],[\"1\",\"0\",\"1\",\"1\",\"1\"],[\"1\",\"1\",\"1\",\"1\",\"1\"],[\"1\",\"0\",\"0\",\"1\",\"0\"]]\n",
    "    Output: 4\n",
    "\n",
    "## Example 2:\n",
    "\n",
    "    Input: matrix = [[\"0\",\"1\"],[\"1\",\"0\"]]\n",
    "    Output: 1\n",
    "\n",
    "## Example 3:\n",
    "\n",
    "    Input: matrix = [[\"0\"]]\n",
    "    Output: 0\n",
    "\n",
    "## Constraints:\n",
    "\n",
    "- `m == matrix.length`\n",
    "- `n == matrix[i].length`\n",
    "- `1 <= m, n <= 300`\n",
    "- `matrix[i][j]` is '0' or '1'.\n"
   ]
  },
  {
   "cell_type": "code",
   "execution_count": 1,
   "metadata": {},
   "outputs": [],
   "source": [
    "class Solution:\n",
    "    # O(m*n) time complexity: iterate through all cells\n",
    "    # O(m*n) space complexity: store the side length of the largest square for each cell\n",
    "    def maximalSquare(self, matrix: list[list[str]]) -> int:\n",
    "        if not matrix:\n",
    "            return 0\n",
    "\n",
    "        m, n = len(matrix), len(matrix[0])\n",
    "\n",
    "        # dp[i][j] represents the side length of the maximum square that\n",
    "        # can be formed with the cell matrix[i][j] as the bottom-right cell\n",
    "        dp = [[0] * n for _ in range(m)]\n",
    "        max_side = 0\n",
    "\n",
    "        for i in range(m):\n",
    "            for j in range(n):\n",
    "                if matrix[i][j] == '1':\n",
    "                    # if any cell in the first row or first column is '1',\n",
    "                    # the side of the square is at least 1 because the square is formed by the cell itself\n",
    "                    if i == 0 or j == 0:\n",
    "                        dp[i][j] = 1\n",
    "                    else:\n",
    "                        dp[i][j] = min(dp[i - 1][j],\n",
    "                                       dp[i][j - 1], dp[i - 1][j - 1]) + 1\n",
    "                    max_side = max(max_side, dp[i][j])\n",
    "\n",
    "        return max_side * max_side"
   ]
  },
  {
   "cell_type": "code",
   "execution_count": 2,
   "metadata": {},
   "outputs": [
    {
     "name": "stdout",
     "output_type": "stream",
     "text": [
      "4\n",
      "1\n",
      "0\n"
     ]
    }
   ],
   "source": [
    "s = Solution()\n",
    "\n",
    "# Example 1\n",
    "matrix = [[\"1\", \"0\", \"1\", \"0\", \"0\"], [\"1\", \"0\", \"1\", \"1\", \"1\"],\n",
    "          [\"1\", \"1\", \"1\", \"1\", \"1\"], [\"1\", \"0\", \"0\", \"1\", \"0\"]]\n",
    "print(s.maximalSquare(matrix))  # Output: 4\n",
    "\n",
    "# Example 2\n",
    "matrix = [[\"0\", \"1\"], [\"1\", \"0\"]]\n",
    "print(s.maximalSquare(matrix))  # Output: 1\n",
    "\n",
    "# Example 3\n",
    "matrix = [[\"0\"]]\n",
    "print(s.maximalSquare(matrix))  # Output: 0"
   ]
  }
 ],
 "metadata": {
  "kernelspec": {
   "display_name": "Python 3",
   "language": "python",
   "name": "python3"
  },
  "language_info": {
   "codemirror_mode": {
    "name": "ipython",
    "version": 3
   },
   "file_extension": ".py",
   "mimetype": "text/x-python",
   "name": "python",
   "nbconvert_exporter": "python",
   "pygments_lexer": "ipython3",
   "version": "3.9.13"
  }
 },
 "nbformat": 4,
 "nbformat_minor": 2
}
