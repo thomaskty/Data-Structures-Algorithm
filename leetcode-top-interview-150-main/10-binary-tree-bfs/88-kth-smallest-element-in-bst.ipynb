{
 "cells": [
  {
   "cell_type": "markdown",
   "metadata": {},
   "source": [
    "# Question 86 - LC 230. Kth Smallest Element in a BST\n",
    "\n",
    "Given the `root` of a binary search tree, and an integer `k`, return the `kth` smallest value `(1-indexed)` of all the values of the nodes in the tree.\n",
    "\n",
    "## Example 1:\n",
    "\n",
    "Input: root = [3,1,4,null,2], k = 1\n",
    "Output: 1\n",
    "\n",
    "## Example 2:\n",
    "\n",
    "Input: root = [5,3,6,2,4,null,null,1], k = 3\n",
    "Output: 3\n",
    "\n",
    "## Constraints:\n",
    "\n",
    "- The number of nodes in the tree is `n`.\n",
    "- `1 <= k <= n <= 10^4`\n",
    "- `0 <= Node.val <= 10^4`\n",
    "\n",
    "**Follow up:** If the BST is modified often (i.e., we can do insert and delete operations) and you need to find the kth smallest frequently, how would you optimize?\n"
   ]
  },
  {
   "cell_type": "code",
   "execution_count": 1,
   "metadata": {},
   "outputs": [],
   "source": [
    "from __future__ import annotations\n",
    "from typing import Optional\n",
    "from collections import deque"
   ]
  },
  {
   "cell_type": "code",
   "execution_count": 2,
   "metadata": {},
   "outputs": [],
   "source": [
    "class TreeNode:\n",
    "    def __init__(\n",
    "        self,\n",
    "        val: Optional[int] = 0,\n",
    "        left: Optional[\"TreeNode\"] = None,\n",
    "        right: Optional[\"TreeNode\"] = None,\n",
    "    ):\n",
    "        self.val = val\n",
    "        self.left = left\n",
    "        self.right = right\n",
    "\n",
    "    @staticmethod\n",
    "    def from_list(values: list[Optional[int]]) -> Optional[\"TreeNode\"]:\n",
    "        if not values:\n",
    "            return None\n",
    "\n",
    "        root = TreeNode(val=values[0])\n",
    "        queue: deque[TreeNode] = deque([root])\n",
    "        i = 1\n",
    "\n",
    "        while queue and i < len(values):\n",
    "            current_node = queue.popleft()\n",
    "\n",
    "            if values[i] is not None:\n",
    "                current_node.left = TreeNode(val=values[i])\n",
    "                queue.append(current_node.left)\n",
    "            i += 1\n",
    "\n",
    "            if i < len(values) and values[i] is not None:\n",
    "                current_node.right = TreeNode(val=values[i])\n",
    "                queue.append(current_node.right)\n",
    "            i += 1\n",
    "\n",
    "        return root\n",
    "\n",
    "    def print_level_order(self) -> list[list[Optional[int]]]:\n",
    "        queue: deque[tuple[TreeNode, int]] = deque([(self, 0)])\n",
    "        result = []\n",
    "        current_level = []\n",
    "        level_number = 0\n",
    "\n",
    "        while queue:\n",
    "            current_node, node_level = queue.popleft()\n",
    "\n",
    "            if node_level > level_number:\n",
    "                result.append(current_level)\n",
    "                current_level = []\n",
    "                level_number = node_level\n",
    "\n",
    "            current_level.append(current_node.val)\n",
    "            if current_node.left is not None:\n",
    "                queue.append((current_node.left, node_level + 1))\n",
    "            if current_node.right is not None:\n",
    "                queue.append((current_node.right, node_level + 1))\n",
    "\n",
    "        if current_level:\n",
    "            result.append(current_level)\n",
    "\n",
    "        return result"
   ]
  },
  {
   "cell_type": "code",
   "execution_count": 3,
   "metadata": {},
   "outputs": [],
   "source": [
    "class Solution:\n",
    "    def kthSmallest(self, root: Optional[TreeNode], k: int):\n",
    "        def inorder_traversal(node: Optional[TreeNode]):\n",
    "            if node is not None:\n",
    "                yield from inorder_traversal(node.left)\n",
    "                yield node.val\n",
    "                yield from inorder_traversal(node.right)\n",
    "\n",
    "        # generate inorder sequence and get the kth element\n",
    "        inorder = inorder_traversal(root)\n",
    "\n",
    "        for _ in range(k):\n",
    "            result = next(inorder)\n",
    "\n",
    "        return result"
   ]
  },
  {
   "cell_type": "code",
   "execution_count": 4,
   "metadata": {},
   "outputs": [
    {
     "name": "stdout",
     "output_type": "stream",
     "text": [
      "1\n",
      "3\n"
     ]
    }
   ],
   "source": [
    "# Test\n",
    "\n",
    "s = Solution()\n",
    "root = TreeNode.from_list([3, 1, 4, None, 2])\n",
    "print(s.kthSmallest(root, 1))  # 1\n",
    "\n",
    "root = TreeNode.from_list([5, 3, 6, 2, 4, None, None, 1])\n",
    "print(s.kthSmallest(root, 3))  # 3"
   ]
  }
 ],
 "metadata": {
  "kernelspec": {
   "display_name": "Python 3",
   "language": "python",
   "name": "python3"
  },
  "language_info": {
   "codemirror_mode": {
    "name": "ipython",
    "version": 3
   },
   "file_extension": ".py",
   "mimetype": "text/x-python",
   "name": "python",
   "nbconvert_exporter": "python",
   "pygments_lexer": "ipython3",
   "version": "3.11.1"
  }
 },
 "nbformat": 4,
 "nbformat_minor": 2
}
