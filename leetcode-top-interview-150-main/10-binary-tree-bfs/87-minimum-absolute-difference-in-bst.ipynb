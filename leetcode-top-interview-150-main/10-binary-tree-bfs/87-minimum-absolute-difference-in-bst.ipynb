{
 "cells": [
  {
   "cell_type": "markdown",
   "metadata": {},
   "source": [
    "# Question 85 - LC 530. Minimum Absolute Difference in BST\n",
    "\n",
    "Given the `root` of a Binary Search Tree (BST), return _the minimum absolute difference between the values of any two different nodes in the tree_.\n",
    "\n",
    "## Example 1:\n",
    "\n",
    "Input: root = [4,2,6,1,3]\n",
    "Output: 1\n",
    "\n",
    "## Example 2:\n",
    "\n",
    "Input: root = [1,0,48,null,null,12,49]\n",
    "Output: 1\n",
    "\n",
    "## Constraints:\n",
    "\n",
    "- The number of nodes in the tree is in the range `[2, 10^4]`.\n",
    "- `0 <= Node.val <= 10^5`\n",
    "\n",
    "**Note:** This question is the same as 783: https://leetcode.com/problems/minimum-distance-between-bst-nodes/\n"
   ]
  },
  {
   "cell_type": "code",
   "execution_count": 9,
   "metadata": {},
   "outputs": [],
   "source": [
    "from __future__ import annotations\n",
    "from typing import Optional\n",
    "from collections import deque"
   ]
  },
  {
   "cell_type": "code",
   "execution_count": 10,
   "metadata": {},
   "outputs": [],
   "source": [
    "class TreeNode:\n",
    "    def __init__(\n",
    "        self,\n",
    "        val: Optional[int] = 0,\n",
    "        left: Optional[\"TreeNode\"] = None,\n",
    "        right: Optional[\"TreeNode\"] = None,\n",
    "    ):\n",
    "        self.val = val\n",
    "        self.left = left\n",
    "        self.right = right\n",
    "\n",
    "    @staticmethod\n",
    "    def from_list(values: list[Optional[int]]) -> Optional[\"TreeNode\"]:\n",
    "        if not values:\n",
    "            return None\n",
    "\n",
    "        root = TreeNode(val=values[0])\n",
    "        queue: deque[TreeNode] = deque([root])\n",
    "        i = 1\n",
    "\n",
    "        while queue and i < len(values):\n",
    "            current_node = queue.popleft()\n",
    "\n",
    "            if values[i] is not None:\n",
    "                current_node.left = TreeNode(val=values[i])\n",
    "                queue.append(current_node.left)\n",
    "            i += 1\n",
    "\n",
    "            if i < len(values) and values[i] is not None:\n",
    "                current_node.right = TreeNode(val=values[i])\n",
    "                queue.append(current_node.right)\n",
    "            i += 1\n",
    "\n",
    "        return root\n",
    "\n",
    "    def print_level_order(self) -> list[list[Optional[int]]]:\n",
    "        queue: deque[tuple[TreeNode, int]] = deque([(self, 0)])\n",
    "        result = []\n",
    "        current_level = []\n",
    "        level_number = 0\n",
    "\n",
    "        while queue:\n",
    "            current_node, node_level = queue.popleft()\n",
    "\n",
    "            if node_level > level_number:\n",
    "                result.append(current_level)\n",
    "                current_level = []\n",
    "                level_number = node_level\n",
    "\n",
    "            current_level.append(current_node.val)\n",
    "            if current_node.left is not None:\n",
    "                queue.append((current_node.left, node_level + 1))\n",
    "            if current_node.right is not None:\n",
    "                queue.append((current_node.right, node_level + 1))\n",
    "\n",
    "        if current_level:\n",
    "            result.append(current_level)\n",
    "\n",
    "        return result"
   ]
  },
  {
   "cell_type": "code",
   "execution_count": 11,
   "metadata": {},
   "outputs": [],
   "source": [
    "class Solution:\n",
    "    def getMinimumDifference(self, root: Optional[TreeNode]) -> int:\n",
    "        self.min_diff = float(\"inf\")\n",
    "        self.prev: Optional[TreeNode] = None\n",
    "\n",
    "        def inorder(node: Optional[TreeNode]) -> None:\n",
    "            if node is None:\n",
    "                return\n",
    "\n",
    "            # traverse left\n",
    "            inorder(node.left)\n",
    "\n",
    "            # process current node\n",
    "            if (\n",
    "                self.prev is not None\n",
    "                and node.val is not None\n",
    "                and self.prev.val is not None\n",
    "            ):\n",
    "                self.min_diff = min(self.min_diff, node.val - self.prev.val)\n",
    "            self.prev = node\n",
    "\n",
    "            # traverse right\n",
    "            inorder(node.right)\n",
    "\n",
    "        inorder(root)\n",
    "        return int(self.min_diff)"
   ]
  },
  {
   "cell_type": "code",
   "execution_count": 12,
   "metadata": {},
   "outputs": [
    {
     "name": "stdout",
     "output_type": "stream",
     "text": [
      "1\n",
      "1\n"
     ]
    }
   ],
   "source": [
    "# Test\n",
    "\n",
    "s = Solution()\n",
    "\n",
    "root = TreeNode.from_list([4, 2, 6, 1, 3])\n",
    "print(s.getMinimumDifference(root))  # 1\n",
    "\n",
    "root = TreeNode.from_list([1, 0, 48, None, None, 12, 49])\n",
    "print(s.getMinimumDifference(root))  # 1"
   ]
  }
 ],
 "metadata": {
  "kernelspec": {
   "display_name": "Python 3",
   "language": "python",
   "name": "python3"
  },
  "language_info": {
   "codemirror_mode": {
    "name": "ipython",
    "version": 3
   },
   "file_extension": ".py",
   "mimetype": "text/x-python",
   "name": "python",
   "nbconvert_exporter": "python",
   "pygments_lexer": "ipython3",
   "version": "3.11.1"
  }
 },
 "nbformat": 4,
 "nbformat_minor": 2
}
